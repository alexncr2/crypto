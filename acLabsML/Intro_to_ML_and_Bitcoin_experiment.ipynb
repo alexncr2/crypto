{
 "cells": [
  {
   "cell_type": "markdown",
   "metadata": {},
   "source": [
    "#  <p style=\"text-align: center;\">    Intro to Machine Learning and a way of forecasting Bitcoin prices </p>"
   ]
  },
  {
   "cell_type": "markdown",
   "metadata": {},
   "source": [
    "# What is machine learning, and how does it work?\n"
   ]
  },
  {
   "cell_type": "markdown",
   "metadata": {},
   "source": [
    "## Agenda\n",
    "\n",
    "- What is machine learning?\n",
    "- What are the two main categories of machine learning?\n",
    "- What are some examples of machine learning?\n",
    "- How does machine learning \"work\"?"
   ]
  },
  {
   "cell_type": "markdown",
   "metadata": {},
   "source": [
    "## What is machine learning?\n",
    "\n",
    "One definition: \"Machine learning is the semi-automated extraction of knowledge from data\"\n",
    "\n",
    "- **Knowledge from data**: Starts with a question that might be answerable using data\n",
    "- **Automated extraction**: A computer provides the insight\n",
    "- **Semi-automated**: Requires many smart decisions by a human"
   ]
  },
  {
   "cell_type": "markdown",
   "metadata": {},
   "source": [
    "## What are the two main categories of machine learning?\n",
    "\n",
    "**Supervised learning**: Making predictions using data\n",
    "    \n",
    "- Example: Is a given email \"spam\" or \"ham\"?\n",
    "- There is an outcome we are trying to predict"
   ]
  },
  {
   "cell_type": "markdown",
   "metadata": {},
   "source": [
    "**Unsupervised learning**: Extracting structure from data\n",
    "\n",
    "- Example: Segment grocery store shoppers into clusters that exhibit similar behaviors\n",
    "- There is no \"right answer\""
   ]
  },
  {
   "cell_type": "markdown",
   "metadata": {},
   "source": [
    "## How does machine learning \"work\"?\n",
    "\n",
    "High-level steps of supervised learning:\n",
    "\n",
    "1. First, train a **machine learning model** using **labeled data**\n",
    "\n",
    "    - \"Labeled data\" has been labeled with the outcome\n",
    "    - \"Machine learning model\" learns the relationship between the attributes of the data and its outcome\n",
    "\n",
    "2. Then, make **predictions** on **new data** for which the label is unknown"
   ]
  },
  {
   "cell_type": "markdown",
   "metadata": {},
   "source": [
    "The primary goal of supervised learning is to build a model that \"generalizes\": It accurately predicts the **future** rather than the **past**!"
   ]
  },
  {
   "cell_type": "markdown",
   "metadata": {},
   "source": [
    "## Questions about machine learning\n",
    "\n",
    "- How do I choose **which attributes** of my data to include in the model?\n",
    "- How do I choose **which model** to use?\n",
    "- How do I **optimize** this model for best performance?\n",
    "- How do I ensure that I'm building a model that will **generalize** to unseen data?\n",
    "- Can I **estimate** how well my model is likely to perform on unseen data?"
   ]
  },
  {
   "cell_type": "markdown",
   "metadata": {},
   "source": [
    "# About ..."
   ]
  },
  {
   "cell_type": "markdown",
   "metadata": {},
   "source": [
    "## ... the dataset"
   ]
  },
  {
   "cell_type": "markdown",
   "metadata": {},
   "source": [
    "CSV files for select bitcoin exchanges for the time period of Apr 2013 to Feb 2018 for the first one and Feb 2010 to Feb 2018, with day to day updates of OHLCVM (Open, High, Low, Close, Volume, Market Cap) for the first one and day to day updates of (*Prepare yourself.It's a long one*):\n",
    "\n",
    "*btc_market_price, btc_total_bitcoins, btc_market_cap,btc_trade_volume, btc_blocks_size, btc_avg_block_size, btc_n_orphaned_blocks, btc_n_transactions_per_block, btc_median_confirmation_time, btc_hash_rate, btc_difficulty, btc_miners_revenue, btc_transaction_fees, btc_cost_per_transaction_percent, btc_cost_per_transaction, btc_n_unique_addresses, btc_n_transactions, btc_n_transactions, btc_n_transactions_excluding_popular, btc_n_transactions_excluding_chains_longer_than_100, btc_output_volume, btc_estimated_transaction_volume, btc_estimated_transaction_volume_usd.*\n",
    "\n",
    "Timestamps are in Unix time. All effort has been made to deduplicate entries and verify the contents are correct and complete to the best of my ability, but obviously trust at your own risk."
   ]
  },
  {
   "cell_type": "markdown",
   "metadata": {},
   "source": [
    "## ...the setup and virtual environments"
   ]
  },
  {
   "cell_type": "code",
   "execution_count": 1,
   "metadata": {},
   "outputs": [
    {
     "ename": "SyntaxError",
     "evalue": "invalid syntax (<ipython-input-1-c1448270ecfd>, line 4)",
     "output_type": "error",
     "traceback": [
      "\u001b[0;36m  File \u001b[0;32m\"<ipython-input-1-c1448270ecfd>\"\u001b[0;36m, line \u001b[0;32m4\u001b[0m\n\u001b[0;31m    set -o xtrace\u001b[0m\n\u001b[0m                ^\u001b[0m\n\u001b[0;31mSyntaxError\u001b[0m\u001b[0;31m:\u001b[0m invalid syntax\n"
     ]
    }
   ],
   "source": [
    "#!/usr/bin/env bash\n",
    "\n",
    "set -e\n",
    "set -o xtrace\n",
    "DEBIAN_FRONTEND=noninteractive\n",
    "sudo apt-get autoclean \n",
    "sudo apt-get clean\n",
    "sudo apt-get update\n",
    "sudo apt install unzip -y\n",
    "sudo apt -y autoremove\n",
    "sudo ufw allow 8888:8898/tcp\n",
    "wget https://repo.continuum.io/archive/Anaconda3-5.1.0-Linux-x86_64.sh\n",
    "bash Anaconda3-5.1.0-Linux-x86_64.sh -b -u\n",
    "\n",
    "cd\n",
    "echo 'export PATH=~/anaconda3/bin:$PATH' >> ~/.bashrc\n",
    "export PATH=~/anaconda3/bin:$PATH\n",
    "source ~/.bashrc\n",
    "DIR=\"$( cd \"$( dirname \"${BASH_SOURCE[0]}\" )\" && pwd )\"\n",
    "conda env create -f ${DIR%%/}/acLabs/environment.yml\n",
    "echo 'source activate aclabsEnv' >> ~/.bashrc\n",
    "source activate acLabsEnv\n",
    "source ~/.bashrc\n",
    "jupyter notebook --generate-config\n",
    "echo \"c.NotebookApp.ip = '*'\" >> ~/.jupyter/jupyter_notebook_config.py\n",
    "echo \"c.NotebookApp.open_browser = False\" >> ~/.jupyter/jupyter_notebook_config.py\n",
    "pip install ipywidgets\n",
    "jupyter nbextension enable --py widgetsnbextension --sys-prefix\n",
    "pip install seaborn python-dateutil dask pytagcloud pyyaml \n",
    "pip install opencv-python numpy scipy scikit-learn\n",
    "conda install h5py\n",
    "echo\n",
    "echo ---\n",
    "echo - YOU NEED TO REBOOT YOUR COMPUTER NOW\n",
    "echo ---"
   ]
  },
  {
   "cell_type": "markdown",
   "metadata": {},
   "source": [
    "## ...pandas"
   ]
  },
  {
   "cell_type": "markdown",
   "metadata": {},
   "source": [
    "Python is a great language for doing data analysis, primarily because of the fantastic ecosystem of data-centric Python packages. Pandas is one of those packages, and makes importing and analyzing data much easier. Pandas builds on packages like NumPy and matplotlib to give you a single, convenient, place to do most of your data analysis and visualization work.\n",
    "\n",
    "Pandas is capable of many tasks including:\n",
    "* Reading/writing many different data formats\n",
    "* Selecting subsets of data\n",
    "* Calculating across rows and down columns\n",
    "* Finding and filling missing data\n",
    "* Applying operations to independent groups within the data\n",
    "* Reshaping data into different forms\n",
    "* Combing multiple datasets together\n",
    "* Advanced time-series functionality\n",
    "* Visualization through matplotlib and seaborn"
   ]
  },
  {
   "cell_type": "markdown",
   "metadata": {},
   "source": [
    "###  <p style=\"text-align: center;\">   Data Science pipeline </p>"
   ]
  },
  {
   "cell_type": "markdown",
   "metadata": {},
   "source": [
    "![Data Science pipeline](data_science_pipeline.png)"
   ]
  },
  {
   "cell_type": "markdown",
   "metadata": {},
   "source": [
    "## ...Scikit-Learn"
   ]
  },
  {
   "cell_type": "markdown",
   "metadata": {
    "slideshow": {
     "slide_type": "subslide"
    }
   },
   "source": [
    "### Outline\n",
    "\n",
    "* Scikit-Learn and the scientific ecosystem in Python\n",
    "* Classification\n",
    "* Model evaluation and selection\n",
    "* Transformers, pipelines and feature unions\n",
    "* Beyond building classifiers\n",
    "* Summary"
   ]
  },
  {
   "cell_type": "markdown",
   "metadata": {
    "slideshow": {
     "slide_type": "subslide"
    }
   },
   "source": [
    "### Overview\n",
    "\n",
    "* Machine learning library written in __Python__\n",
    "* __Simple and efficient__, for both experts and non-experts\n",
    "* Classical, __well-established machine learning algorithms__\n",
    "* Shipped with <a href=\"http://scikit-learn.org/dev/documentation.html\">documentation</a> and <a href=\"http://scikit-learn.org/dev/auto_examples/index.html\">examples</a>\n",
    "* __BSD 3 license__"
   ]
  },
  {
   "cell_type": "markdown",
   "metadata": {
    "slideshow": {
     "slide_type": "subslide"
    }
   },
   "source": [
    "### Community driven development\n",
    "\n",
    "- 20~ core developers (mostly researchers)\n",
    "- 500-1000 occasional contributors\n",
    "- __All working publicly together__ on [GitHub](https://github.com/scikit-learn/scikit-learn)\n",
    "- Emphasis on __keeping the project maintainable__\n",
    "    - Style consistency\n",
    "    - Unit-test coverage\n",
    "    - Documentation and examples\n",
    "    - Code review\n",
    "- Mature and stable"
   ]
  },
  {
   "cell_type": "code",
   "execution_count": 3,
   "metadata": {},
   "outputs": [],
   "source": [
    "# Machine Learning regression\n",
    "from sklearn.linear_model import LinearRegression\n",
    "from sklearn import metrics\n",
    "\n",
    "# For data manipulation\n",
    "import pandas as pd\n",
    "import numpy as np\n",
    "\n",
    "# To plot\n",
    "import matplotlib.pyplot as plt\n",
    "# By including this line you won't need to call plt.show() every time\n",
    "%matplotlib inline\n",
    "import seaborn as sns\n",
    "from bokeh.plotting import figure, output_file, output_notebook, show"
   ]
  },
  {
   "cell_type": "markdown",
   "metadata": {},
   "source": [
    "## Data quality check"
   ]
  },
  {
   "cell_type": "markdown",
   "metadata": {},
   "source": [
    "Before going to the point where we train Machine Learning algorithms, we need to have a very good understanding of the dataset we're using and see if we can find interesting attributes that we can use when training an ML algorithm.\n",
    "\n",
    "We should ask ourselfs questions like:\n",
    "* What does our data look like?\n",
    "* Do we have clean up issues ?\n",
    "* Is our dataset big enough ?"
   ]
  },
  {
   "cell_type": "markdown",
   "metadata": {},
   "source": [
    "## Loading the dataset"
   ]
  },
  {
   "cell_type": "markdown",
   "metadata": {},
   "source": [
    "To start exploring your data, you’ll need to start by actually loading in your data and one posibility to do that is by using the Pandas library mentioned before."
   ]
  },
  {
   "cell_type": "markdown",
   "metadata": {},
   "source": [
    "There are a bunch arguments that you can specify to ensure that your data is read in correctly: you can specify the delimiter to use with the **sep** or **delimiter** arguments, the column names to use with **names** or the column to use as the row labels for the resulting DataFrame with **index_col**.\n",
    "\n",
    "But these are not nearly all the arguments that you can add to the read_csv() function. Read up on this function and its arguments in the [Pandas documentation](http://pandas.pydata.org/pandas-docs/version/0.23/index.html)."
   ]
  },
  {
   "cell_type": "markdown",
   "metadata": {},
   "source": [
    "### Pandas Series"
   ]
  },
  {
   "cell_type": "markdown",
   "metadata": {},
   "source": [
    "Series is a one-dimensional labeled array capable of holding any data type (integers, strings, floating point numbers, Python objects, etc.). The axis labels are collectively referred to as the index. The basic method to create a Series is to call:"
   ]
  },
  {
   "cell_type": "code",
   "execution_count": 10,
   "metadata": {},
   "outputs": [
    {
     "data": {
      "text/plain": [
       "a   -0.614179\n",
       "b    0.061170\n",
       "c   -0.353353\n",
       "dtype: float64"
      ]
     },
     "execution_count": 10,
     "metadata": {},
     "output_type": "execute_result"
    }
   ],
   "source": [
    "s = pd.Series(np.random.randn(3), index=['a','b','c'])\n",
    "s"
   ]
  },
  {
   "cell_type": "markdown",
   "metadata": {},
   "source": [
    "### Pandas DataFrames"
   ]
  },
  {
   "cell_type": "markdown",
   "metadata": {},
   "source": [
    "DataFrame is a 2-dimensional labeled data structure with columns of potentially different types. You can think of it like a spreadsheet or SQL table, or a dict of Series objects. It is generally the most commonly used pandas object. Like Series, DataFrame accepts many different kinds of input:\n",
    "\n",
    "* Dict of 1D ndarrays, lists, dicts, or Series\n",
    "* 2-D numpy.ndarray\n",
    "* Structured or record ndarray\n",
    "* A Series\n",
    "* Another DataFrame"
   ]
  },
  {
   "cell_type": "markdown",
   "metadata": {},
   "source": [
    "Along with the data, you can optionally pass index (row labels) and columns (column labels) arguments. If you pass an index and / or columns, you are guaranteeing the index and / or columns of the resulting DataFrame. Thus, a dict of Series plus a specific index will discard all data not matching up to the passed index"
   ]
  },
  {
   "cell_type": "code",
   "execution_count": 13,
   "metadata": {},
   "outputs": [
    {
     "data": {
      "text/html": [
       "<div>\n",
       "<style scoped>\n",
       "    .dataframe tbody tr th:only-of-type {\n",
       "        vertical-align: middle;\n",
       "    }\n",
       "\n",
       "    .dataframe tbody tr th {\n",
       "        vertical-align: top;\n",
       "    }\n",
       "\n",
       "    .dataframe thead th {\n",
       "        text-align: right;\n",
       "    }\n",
       "</style>\n",
       "<table border=\"1\" class=\"dataframe\">\n",
       "  <thead>\n",
       "    <tr style=\"text-align: right;\">\n",
       "      <th></th>\n",
       "      <th>0</th>\n",
       "    </tr>\n",
       "  </thead>\n",
       "  <tbody>\n",
       "    <tr>\n",
       "      <th>1.013493</th>\n",
       "      <td>NaN</td>\n",
       "    </tr>\n",
       "    <tr>\n",
       "      <th>-0.637999</th>\n",
       "      <td>NaN</td>\n",
       "    </tr>\n",
       "    <tr>\n",
       "      <th>1.208778</th>\n",
       "      <td>NaN</td>\n",
       "    </tr>\n",
       "  </tbody>\n",
       "</table>\n",
       "</div>"
      ],
      "text/plain": [
       "            0\n",
       " 1.013493 NaN\n",
       "-0.637999 NaN\n",
       " 1.208778 NaN"
      ]
     },
     "execution_count": 13,
     "metadata": {},
     "output_type": "execute_result"
    }
   ],
   "source": [
    "df = pd.DataFrame(pd.Series(np.random.randn(3), index=['a','b','c']), pd.Series(np.random.randn(3), index=['a','b','c']))\n",
    "df"
   ]
  },
  {
   "cell_type": "markdown",
   "metadata": {},
   "source": [
    "### Back to the dataset"
   ]
  },
  {
   "cell_type": "code",
   "execution_count": 14,
   "metadata": {},
   "outputs": [],
   "source": [
    "# Read in data for \"bitcoin_price\" dataset\n",
    "bitcoin_price = pd.read_csv('bitcoin_price.csv',parse_dates=['Date'])"
   ]
  },
  {
   "cell_type": "markdown",
   "metadata": {},
   "source": [
    "The **head** function returns the first n rows, where you can specify the number of rows to show (by default, n=5). "
   ]
  },
  {
   "cell_type": "code",
   "execution_count": 20,
   "metadata": {},
   "outputs": [
    {
     "data": {
      "text/html": [
       "<div>\n",
       "<style scoped>\n",
       "    .dataframe tbody tr th:only-of-type {\n",
       "        vertical-align: middle;\n",
       "    }\n",
       "\n",
       "    .dataframe tbody tr th {\n",
       "        vertical-align: top;\n",
       "    }\n",
       "\n",
       "    .dataframe thead th {\n",
       "        text-align: right;\n",
       "    }\n",
       "</style>\n",
       "<table border=\"1\" class=\"dataframe\">\n",
       "  <thead>\n",
       "    <tr style=\"text-align: right;\">\n",
       "      <th></th>\n",
       "      <th>Date</th>\n",
       "      <th>Open</th>\n",
       "      <th>High</th>\n",
       "      <th>Low</th>\n",
       "      <th>Close</th>\n",
       "      <th>Volume</th>\n",
       "      <th>Market Cap</th>\n",
       "    </tr>\n",
       "  </thead>\n",
       "  <tbody>\n",
       "    <tr>\n",
       "      <th>1754</th>\n",
       "      <td>2013-05-03</td>\n",
       "      <td>106.25</td>\n",
       "      <td>108.13</td>\n",
       "      <td>79.10</td>\n",
       "      <td>97.75</td>\n",
       "      <td>-</td>\n",
       "      <td>1,180,070,000</td>\n",
       "    </tr>\n",
       "    <tr>\n",
       "      <th>1755</th>\n",
       "      <td>2013-05-02</td>\n",
       "      <td>116.38</td>\n",
       "      <td>125.60</td>\n",
       "      <td>92.28</td>\n",
       "      <td>105.21</td>\n",
       "      <td>-</td>\n",
       "      <td>1,292,190,000</td>\n",
       "    </tr>\n",
       "    <tr>\n",
       "      <th>1756</th>\n",
       "      <td>2013-05-01</td>\n",
       "      <td>139.00</td>\n",
       "      <td>139.89</td>\n",
       "      <td>107.72</td>\n",
       "      <td>116.99</td>\n",
       "      <td>-</td>\n",
       "      <td>1,542,820,000</td>\n",
       "    </tr>\n",
       "    <tr>\n",
       "      <th>1757</th>\n",
       "      <td>2013-04-30</td>\n",
       "      <td>144.00</td>\n",
       "      <td>146.93</td>\n",
       "      <td>134.05</td>\n",
       "      <td>139.00</td>\n",
       "      <td>-</td>\n",
       "      <td>1,597,780,000</td>\n",
       "    </tr>\n",
       "    <tr>\n",
       "      <th>1758</th>\n",
       "      <td>2013-04-29</td>\n",
       "      <td>134.44</td>\n",
       "      <td>147.49</td>\n",
       "      <td>134.00</td>\n",
       "      <td>144.54</td>\n",
       "      <td>-</td>\n",
       "      <td>1,491,160,000</td>\n",
       "    </tr>\n",
       "    <tr>\n",
       "      <th>1759</th>\n",
       "      <td>2013-04-28</td>\n",
       "      <td>135.30</td>\n",
       "      <td>135.98</td>\n",
       "      <td>132.10</td>\n",
       "      <td>134.21</td>\n",
       "      <td>-</td>\n",
       "      <td>1,500,520,000</td>\n",
       "    </tr>\n",
       "  </tbody>\n",
       "</table>\n",
       "</div>"
      ],
      "text/plain": [
       "           Date    Open    High     Low   Close Volume     Market Cap\n",
       "1754 2013-05-03  106.25  108.13   79.10   97.75      -  1,180,070,000\n",
       "1755 2013-05-02  116.38  125.60   92.28  105.21      -  1,292,190,000\n",
       "1756 2013-05-01  139.00  139.89  107.72  116.99      -  1,542,820,000\n",
       "1757 2013-04-30  144.00  146.93  134.05  139.00      -  1,597,780,000\n",
       "1758 2013-04-29  134.44  147.49  134.00  144.54      -  1,491,160,000\n",
       "1759 2013-04-28  135.30  135.98  132.10  134.21      -  1,500,520,000"
      ]
     },
     "execution_count": 20,
     "metadata": {},
     "output_type": "execute_result"
    }
   ],
   "source": [
    "#bitcoin_price.head(8)\n",
    "bitcoin_price.tail(6)"
   ]
  },
  {
   "cell_type": "markdown",
   "metadata": {},
   "source": [
    "You can use the **describe** function to get various summary statistics that exclude NaN values.It returns the count, mean, standard deviation, minimum and maximum values and the quantiles of the data."
   ]
  },
  {
   "cell_type": "code",
   "execution_count": 22,
   "metadata": {},
   "outputs": [
    {
     "name": "stdout",
     "output_type": "stream",
     "text": [
      "<class 'pandas.core.frame.DataFrame'>\n",
      "RangeIndex: 1760 entries, 0 to 1759\n",
      "Data columns (total 7 columns):\n",
      "Date          1760 non-null datetime64[ns]\n",
      "Open          1760 non-null float64\n",
      "High          1760 non-null float64\n",
      "Low           1760 non-null float64\n",
      "Close         1760 non-null float64\n",
      "Volume        1760 non-null object\n",
      "Market Cap    1760 non-null object\n",
      "dtypes: datetime64[ns](1), float64(4), object(2)\n",
      "memory usage: 96.3+ KB\n"
     ]
    }
   ],
   "source": [
    "#bitcoin_price.describe()\n",
    "bitcoin_price.info()"
   ]
  },
  {
   "cell_type": "markdown",
   "metadata": {},
   "source": [
    "## Checking for missing values"
   ]
  },
  {
   "cell_type": "markdown",
   "metadata": {},
   "source": [
    "Checking this is important because when some of your data is missing, the data set can lose expressiveness, which can lead to weak or biased analyses. Practically, this means that when you’re missing values for certain features, the chances of your classification or predictions for the data being off only increase."
   ]
  },
  {
   "cell_type": "markdown",
   "metadata": {},
   "source": [
    "To identify the rows that contain missing values, you can use the **isnull** method. In the result that you’ll get back, you’ll see **True** or **False** appearing in each cell: **True** will indicate that the value contained within the cell is a missing value, **False** means that the cell contains a ‘normal’ value."
   ]
  },
  {
   "cell_type": "code",
   "execution_count": 35,
   "metadata": {},
   "outputs": [
    {
     "data": {
      "text/html": [
       "<div>\n",
       "<style scoped>\n",
       "    .dataframe tbody tr th:only-of-type {\n",
       "        vertical-align: middle;\n",
       "    }\n",
       "\n",
       "    .dataframe tbody tr th {\n",
       "        vertical-align: top;\n",
       "    }\n",
       "\n",
       "    .dataframe thead th {\n",
       "        text-align: right;\n",
       "    }\n",
       "</style>\n",
       "<table border=\"1\" class=\"dataframe\">\n",
       "  <thead>\n",
       "    <tr style=\"text-align: right;\">\n",
       "      <th></th>\n",
       "      <th>Date</th>\n",
       "      <th>Open</th>\n",
       "      <th>High</th>\n",
       "      <th>Low</th>\n",
       "      <th>Close</th>\n",
       "      <th>Volume</th>\n",
       "      <th>Market Cap</th>\n",
       "    </tr>\n",
       "  </thead>\n",
       "  <tbody>\n",
       "  </tbody>\n",
       "</table>\n",
       "</div>"
      ],
      "text/plain": [
       "Empty DataFrame\n",
       "Columns: [Date, Open, High, Low, Close, Volume, Market Cap]\n",
       "Index: []"
      ]
     },
     "execution_count": 35,
     "metadata": {},
     "output_type": "execute_result"
    }
   ],
   "source": [
    "pd.isnull(bitcoin_price.loc[\"2018-02-17\":\"2018-02-11\",:])"
   ]
  },
  {
   "cell_type": "markdown",
   "metadata": {},
   "source": [
    "Let's take another look at the first rows. What's wrong ?"
   ]
  },
  {
   "cell_type": "code",
   "execution_count": 36,
   "metadata": {},
   "outputs": [
    {
     "data": {
      "text/html": [
       "<div>\n",
       "<style scoped>\n",
       "    .dataframe tbody tr th:only-of-type {\n",
       "        vertical-align: middle;\n",
       "    }\n",
       "\n",
       "    .dataframe tbody tr th {\n",
       "        vertical-align: top;\n",
       "    }\n",
       "\n",
       "    .dataframe thead th {\n",
       "        text-align: right;\n",
       "    }\n",
       "</style>\n",
       "<table border=\"1\" class=\"dataframe\">\n",
       "  <thead>\n",
       "    <tr style=\"text-align: right;\">\n",
       "      <th></th>\n",
       "      <th>Date</th>\n",
       "      <th>Open</th>\n",
       "      <th>High</th>\n",
       "      <th>Low</th>\n",
       "      <th>Close</th>\n",
       "      <th>Volume</th>\n",
       "      <th>Market Cap</th>\n",
       "    </tr>\n",
       "  </thead>\n",
       "  <tbody>\n",
       "    <tr>\n",
       "      <th>1759</th>\n",
       "      <td>2013-04-28</td>\n",
       "      <td>135.30</td>\n",
       "      <td>135.98</td>\n",
       "      <td>132.10</td>\n",
       "      <td>134.21</td>\n",
       "      <td>-</td>\n",
       "      <td>1,500,520,000</td>\n",
       "    </tr>\n",
       "    <tr>\n",
       "      <th>1758</th>\n",
       "      <td>2013-04-29</td>\n",
       "      <td>134.44</td>\n",
       "      <td>147.49</td>\n",
       "      <td>134.00</td>\n",
       "      <td>144.54</td>\n",
       "      <td>-</td>\n",
       "      <td>1,491,160,000</td>\n",
       "    </tr>\n",
       "    <tr>\n",
       "      <th>1757</th>\n",
       "      <td>2013-04-30</td>\n",
       "      <td>144.00</td>\n",
       "      <td>146.93</td>\n",
       "      <td>134.05</td>\n",
       "      <td>139.00</td>\n",
       "      <td>-</td>\n",
       "      <td>1,597,780,000</td>\n",
       "    </tr>\n",
       "    <tr>\n",
       "      <th>1756</th>\n",
       "      <td>2013-05-01</td>\n",
       "      <td>139.00</td>\n",
       "      <td>139.89</td>\n",
       "      <td>107.72</td>\n",
       "      <td>116.99</td>\n",
       "      <td>-</td>\n",
       "      <td>1,542,820,000</td>\n",
       "    </tr>\n",
       "    <tr>\n",
       "      <th>1755</th>\n",
       "      <td>2013-05-02</td>\n",
       "      <td>116.38</td>\n",
       "      <td>125.60</td>\n",
       "      <td>92.28</td>\n",
       "      <td>105.21</td>\n",
       "      <td>-</td>\n",
       "      <td>1,292,190,000</td>\n",
       "    </tr>\n",
       "  </tbody>\n",
       "</table>\n",
       "</div>"
      ],
      "text/plain": [
       "           Date    Open    High     Low   Close Volume     Market Cap\n",
       "1759 2013-04-28  135.30  135.98  132.10  134.21      -  1,500,520,000\n",
       "1758 2013-04-29  134.44  147.49  134.00  144.54      -  1,491,160,000\n",
       "1757 2013-04-30  144.00  146.93  134.05  139.00      -  1,597,780,000\n",
       "1756 2013-05-01  139.00  139.89  107.72  116.99      -  1,542,820,000\n",
       "1755 2013-05-02  116.38  125.60   92.28  105.21      -  1,292,190,000"
      ]
     },
     "execution_count": 36,
     "metadata": {},
     "output_type": "execute_result"
    }
   ],
   "source": [
    "bitcoin_price.head()"
   ]
  },
  {
   "cell_type": "code",
   "execution_count": 41,
   "metadata": {},
   "outputs": [
    {
     "data": {
      "text/html": [
       "<div>\n",
       "<style scoped>\n",
       "    .dataframe tbody tr th:only-of-type {\n",
       "        vertical-align: middle;\n",
       "    }\n",
       "\n",
       "    .dataframe tbody tr th {\n",
       "        vertical-align: top;\n",
       "    }\n",
       "\n",
       "    .dataframe thead th {\n",
       "        text-align: right;\n",
       "    }\n",
       "</style>\n",
       "<table border=\"1\" class=\"dataframe\">\n",
       "  <thead>\n",
       "    <tr style=\"text-align: right;\">\n",
       "      <th></th>\n",
       "      <th>Date</th>\n",
       "      <th>Open</th>\n",
       "      <th>High</th>\n",
       "      <th>Low</th>\n",
       "      <th>Close</th>\n",
       "      <th>Volume</th>\n",
       "      <th>Market Cap</th>\n",
       "    </tr>\n",
       "  </thead>\n",
       "  <tbody>\n",
       "    <tr>\n",
       "      <th>0</th>\n",
       "      <td>2018-02-20</td>\n",
       "      <td>11231.8</td>\n",
       "      <td>11958.5</td>\n",
       "      <td>11231.80</td>\n",
       "      <td>11403.7</td>\n",
       "      <td>9,926,540,000</td>\n",
       "      <td>189,536,000,000</td>\n",
       "    </tr>\n",
       "    <tr>\n",
       "      <th>1</th>\n",
       "      <td>2018-02-19</td>\n",
       "      <td>10552.6</td>\n",
       "      <td>11273.8</td>\n",
       "      <td>10513.20</td>\n",
       "      <td>11225.3</td>\n",
       "      <td>7,652,090,000</td>\n",
       "      <td>178,055,000,000</td>\n",
       "    </tr>\n",
       "    <tr>\n",
       "      <th>2</th>\n",
       "      <td>2018-02-18</td>\n",
       "      <td>11123.4</td>\n",
       "      <td>11349.8</td>\n",
       "      <td>10326.00</td>\n",
       "      <td>10551.8</td>\n",
       "      <td>8,744,010,000</td>\n",
       "      <td>187,663,000,000</td>\n",
       "    </tr>\n",
       "    <tr>\n",
       "      <th>3</th>\n",
       "      <td>2018-02-17</td>\n",
       "      <td>10207.5</td>\n",
       "      <td>11139.5</td>\n",
       "      <td>10149.40</td>\n",
       "      <td>11112.7</td>\n",
       "      <td>8,660,880,000</td>\n",
       "      <td>172,191,000,000</td>\n",
       "    </tr>\n",
       "    <tr>\n",
       "      <th>4</th>\n",
       "      <td>2018-02-16</td>\n",
       "      <td>10135.7</td>\n",
       "      <td>10324.1</td>\n",
       "      <td>9824.82</td>\n",
       "      <td>10233.9</td>\n",
       "      <td>7,296,160,000</td>\n",
       "      <td>170,960,000,000</td>\n",
       "    </tr>\n",
       "  </tbody>\n",
       "</table>\n",
       "</div>"
      ],
      "text/plain": [
       "        Date     Open     High       Low    Close         Volume  \\\n",
       "0 2018-02-20  11231.8  11958.5  11231.80  11403.7  9,926,540,000   \n",
       "1 2018-02-19  10552.6  11273.8  10513.20  11225.3  7,652,090,000   \n",
       "2 2018-02-18  11123.4  11349.8  10326.00  10551.8  8,744,010,000   \n",
       "3 2018-02-17  10207.5  11139.5  10149.40  11112.7  8,660,880,000   \n",
       "4 2018-02-16  10135.7  10324.1   9824.82  10233.9  7,296,160,000   \n",
       "\n",
       "        Market Cap  \n",
       "0  189,536,000,000  \n",
       "1  178,055,000,000  \n",
       "2  187,663,000,000  \n",
       "3  172,191,000,000  \n",
       "4  170,960,000,000  "
      ]
     },
     "execution_count": 41,
     "metadata": {},
     "output_type": "execute_result"
    }
   ],
   "source": [
    "# Sort the dates into proper order\n",
    "bitcoin_price = bitcoin_price[::-1]\n",
    "\n",
    "bitcoin_price.head()"
   ]
  },
  {
   "cell_type": "markdown",
   "metadata": {},
   "source": [
    "So now we've got our samples in chronological order but again something's not right."
   ]
  },
  {
   "cell_type": "code",
   "execution_count": 46,
   "metadata": {},
   "outputs": [
    {
     "data": {
      "text/html": [
       "<div>\n",
       "<style scoped>\n",
       "    .dataframe tbody tr th:only-of-type {\n",
       "        vertical-align: middle;\n",
       "    }\n",
       "\n",
       "    .dataframe tbody tr th {\n",
       "        vertical-align: top;\n",
       "    }\n",
       "\n",
       "    .dataframe thead th {\n",
       "        text-align: right;\n",
       "    }\n",
       "</style>\n",
       "<table border=\"1\" class=\"dataframe\">\n",
       "  <thead>\n",
       "    <tr style=\"text-align: right;\">\n",
       "      <th></th>\n",
       "      <th>Date</th>\n",
       "      <th>Open</th>\n",
       "      <th>High</th>\n",
       "      <th>Low</th>\n",
       "      <th>Close</th>\n",
       "      <th>Volume</th>\n",
       "      <th>Market Cap</th>\n",
       "    </tr>\n",
       "  </thead>\n",
       "  <tbody>\n",
       "    <tr>\n",
       "      <th>0</th>\n",
       "      <td>2018-02-20</td>\n",
       "      <td>11231.8</td>\n",
       "      <td>11958.5</td>\n",
       "      <td>11231.80</td>\n",
       "      <td>11403.7</td>\n",
       "      <td>9,926,540,000</td>\n",
       "      <td>189,536,000,000</td>\n",
       "    </tr>\n",
       "    <tr>\n",
       "      <th>1</th>\n",
       "      <td>2018-02-19</td>\n",
       "      <td>10552.6</td>\n",
       "      <td>11273.8</td>\n",
       "      <td>10513.20</td>\n",
       "      <td>11225.3</td>\n",
       "      <td>7,652,090,000</td>\n",
       "      <td>178,055,000,000</td>\n",
       "    </tr>\n",
       "    <tr>\n",
       "      <th>2</th>\n",
       "      <td>2018-02-18</td>\n",
       "      <td>11123.4</td>\n",
       "      <td>11349.8</td>\n",
       "      <td>10326.00</td>\n",
       "      <td>10551.8</td>\n",
       "      <td>8,744,010,000</td>\n",
       "      <td>187,663,000,000</td>\n",
       "    </tr>\n",
       "    <tr>\n",
       "      <th>3</th>\n",
       "      <td>2018-02-17</td>\n",
       "      <td>10207.5</td>\n",
       "      <td>11139.5</td>\n",
       "      <td>10149.40</td>\n",
       "      <td>11112.7</td>\n",
       "      <td>8,660,880,000</td>\n",
       "      <td>172,191,000,000</td>\n",
       "    </tr>\n",
       "    <tr>\n",
       "      <th>4</th>\n",
       "      <td>2018-02-16</td>\n",
       "      <td>10135.7</td>\n",
       "      <td>10324.1</td>\n",
       "      <td>9824.82</td>\n",
       "      <td>10233.9</td>\n",
       "      <td>7,296,160,000</td>\n",
       "      <td>170,960,000,000</td>\n",
       "    </tr>\n",
       "  </tbody>\n",
       "</table>\n",
       "</div>"
      ],
      "text/plain": [
       "        Date     Open     High       Low    Close         Volume  \\\n",
       "0 2018-02-20  11231.8  11958.5  11231.80  11403.7  9,926,540,000   \n",
       "1 2018-02-19  10552.6  11273.8  10513.20  11225.3  7,652,090,000   \n",
       "2 2018-02-18  11123.4  11349.8  10326.00  10551.8  8,744,010,000   \n",
       "3 2018-02-17  10207.5  11139.5  10149.40  11112.7  8,660,880,000   \n",
       "4 2018-02-16  10135.7  10324.1   9824.82  10233.9  7,296,160,000   \n",
       "\n",
       "        Market Cap  \n",
       "0  189,536,000,000  \n",
       "1  178,055,000,000  \n",
       "2  187,663,000,000  \n",
       "3  172,191,000,000  \n",
       "4  170,960,000,000  "
      ]
     },
     "execution_count": 46,
     "metadata": {},
     "output_type": "execute_result"
    }
   ],
   "source": [
    "# Reset index for bitcoin_price manually \n",
    "bitcoin_price.index = range(len(bitcoin_price))\n",
    "\n",
    "# Reset index for bitcoin_price using the built-in method\n",
    "bitcoin_price.reset_index();\n",
    "\n",
    "bitcoin_price.head()"
   ]
  },
  {
   "cell_type": "markdown",
   "metadata": {},
   "source": [
    "As our first dataset is looking pretty decent now, we're going to go through a similar process for the second file that contains Bitcoin data."
   ]
  },
  {
   "cell_type": "code",
   "execution_count": 47,
   "metadata": {},
   "outputs": [
    {
     "data": {
      "text/html": [
       "<div>\n",
       "<style scoped>\n",
       "    .dataframe tbody tr th:only-of-type {\n",
       "        vertical-align: middle;\n",
       "    }\n",
       "\n",
       "    .dataframe tbody tr th {\n",
       "        vertical-align: top;\n",
       "    }\n",
       "\n",
       "    .dataframe thead th {\n",
       "        text-align: right;\n",
       "    }\n",
       "</style>\n",
       "<table border=\"1\" class=\"dataframe\">\n",
       "  <thead>\n",
       "    <tr style=\"text-align: right;\">\n",
       "      <th></th>\n",
       "      <th>Date</th>\n",
       "      <th>btc_market_price</th>\n",
       "      <th>btc_total_bitcoins</th>\n",
       "      <th>btc_market_cap</th>\n",
       "      <th>btc_trade_volume</th>\n",
       "      <th>btc_blocks_size</th>\n",
       "      <th>btc_avg_block_size</th>\n",
       "      <th>btc_n_orphaned_blocks</th>\n",
       "      <th>btc_n_transactions_per_block</th>\n",
       "      <th>btc_median_confirmation_time</th>\n",
       "      <th>...</th>\n",
       "      <th>btc_cost_per_transaction_percent</th>\n",
       "      <th>btc_cost_per_transaction</th>\n",
       "      <th>btc_n_unique_addresses</th>\n",
       "      <th>btc_n_transactions</th>\n",
       "      <th>btc_n_transactions_total</th>\n",
       "      <th>btc_n_transactions_excluding_popular</th>\n",
       "      <th>btc_n_transactions_excluding_chains_longer_than_100</th>\n",
       "      <th>btc_output_volume</th>\n",
       "      <th>btc_estimated_transaction_volume</th>\n",
       "      <th>btc_estimated_transaction_volume_usd</th>\n",
       "    </tr>\n",
       "  </thead>\n",
       "  <tbody>\n",
       "    <tr>\n",
       "      <th>0</th>\n",
       "      <td>2010-02-23</td>\n",
       "      <td>0.0</td>\n",
       "      <td>2110700.0</td>\n",
       "      <td>0.0</td>\n",
       "      <td>0.0</td>\n",
       "      <td>0.0</td>\n",
       "      <td>0.000216</td>\n",
       "      <td>0.0</td>\n",
       "      <td>1.0</td>\n",
       "      <td>0.0</td>\n",
       "      <td>...</td>\n",
       "      <td>25100.000000</td>\n",
       "      <td>0.0</td>\n",
       "      <td>252.0</td>\n",
       "      <td>252.0</td>\n",
       "      <td>42613.0</td>\n",
       "      <td>252.0</td>\n",
       "      <td>252.0</td>\n",
       "      <td>12600.0</td>\n",
       "      <td>50.0</td>\n",
       "      <td>0.0</td>\n",
       "    </tr>\n",
       "    <tr>\n",
       "      <th>1</th>\n",
       "      <td>2010-02-24</td>\n",
       "      <td>0.0</td>\n",
       "      <td>2120200.0</td>\n",
       "      <td>0.0</td>\n",
       "      <td>0.0</td>\n",
       "      <td>0.0</td>\n",
       "      <td>0.000282</td>\n",
       "      <td>0.0</td>\n",
       "      <td>1.0</td>\n",
       "      <td>0.0</td>\n",
       "      <td>...</td>\n",
       "      <td>179.245283</td>\n",
       "      <td>0.0</td>\n",
       "      <td>195.0</td>\n",
       "      <td>196.0</td>\n",
       "      <td>42809.0</td>\n",
       "      <td>196.0</td>\n",
       "      <td>196.0</td>\n",
       "      <td>14800.0</td>\n",
       "      <td>5300.0</td>\n",
       "      <td>0.0</td>\n",
       "    </tr>\n",
       "    <tr>\n",
       "      <th>2</th>\n",
       "      <td>2010-02-25</td>\n",
       "      <td>0.0</td>\n",
       "      <td>2127600.0</td>\n",
       "      <td>0.0</td>\n",
       "      <td>0.0</td>\n",
       "      <td>0.0</td>\n",
       "      <td>0.000227</td>\n",
       "      <td>0.0</td>\n",
       "      <td>1.0</td>\n",
       "      <td>0.0</td>\n",
       "      <td>...</td>\n",
       "      <td>1057.142857</td>\n",
       "      <td>0.0</td>\n",
       "      <td>150.0</td>\n",
       "      <td>150.0</td>\n",
       "      <td>42959.0</td>\n",
       "      <td>150.0</td>\n",
       "      <td>150.0</td>\n",
       "      <td>8100.0</td>\n",
       "      <td>700.0</td>\n",
       "      <td>0.0</td>\n",
       "    </tr>\n",
       "    <tr>\n",
       "      <th>3</th>\n",
       "      <td>2010-02-26</td>\n",
       "      <td>0.0</td>\n",
       "      <td>2136100.0</td>\n",
       "      <td>0.0</td>\n",
       "      <td>0.0</td>\n",
       "      <td>0.0</td>\n",
       "      <td>0.000319</td>\n",
       "      <td>0.0</td>\n",
       "      <td>1.0</td>\n",
       "      <td>0.0</td>\n",
       "      <td>...</td>\n",
       "      <td>64.582059</td>\n",
       "      <td>0.0</td>\n",
       "      <td>176.0</td>\n",
       "      <td>176.0</td>\n",
       "      <td>43135.0</td>\n",
       "      <td>176.0</td>\n",
       "      <td>176.0</td>\n",
       "      <td>29349.0</td>\n",
       "      <td>13162.0</td>\n",
       "      <td>0.0</td>\n",
       "    </tr>\n",
       "    <tr>\n",
       "      <th>4</th>\n",
       "      <td>2010-02-27</td>\n",
       "      <td>0.0</td>\n",
       "      <td>2144750.0</td>\n",
       "      <td>0.0</td>\n",
       "      <td>0.0</td>\n",
       "      <td>0.0</td>\n",
       "      <td>0.000223</td>\n",
       "      <td>0.0</td>\n",
       "      <td>1.0</td>\n",
       "      <td>0.0</td>\n",
       "      <td>...</td>\n",
       "      <td>1922.222222</td>\n",
       "      <td>0.0</td>\n",
       "      <td>176.0</td>\n",
       "      <td>176.0</td>\n",
       "      <td>43311.0</td>\n",
       "      <td>176.0</td>\n",
       "      <td>176.0</td>\n",
       "      <td>9101.0</td>\n",
       "      <td>450.0</td>\n",
       "      <td>0.0</td>\n",
       "    </tr>\n",
       "  </tbody>\n",
       "</table>\n",
       "<p>5 rows × 24 columns</p>\n",
       "</div>"
      ],
      "text/plain": [
       "        Date  btc_market_price  btc_total_bitcoins  btc_market_cap  \\\n",
       "0 2010-02-23               0.0           2110700.0             0.0   \n",
       "1 2010-02-24               0.0           2120200.0             0.0   \n",
       "2 2010-02-25               0.0           2127600.0             0.0   \n",
       "3 2010-02-26               0.0           2136100.0             0.0   \n",
       "4 2010-02-27               0.0           2144750.0             0.0   \n",
       "\n",
       "   btc_trade_volume  btc_blocks_size  btc_avg_block_size  \\\n",
       "0               0.0              0.0            0.000216   \n",
       "1               0.0              0.0            0.000282   \n",
       "2               0.0              0.0            0.000227   \n",
       "3               0.0              0.0            0.000319   \n",
       "4               0.0              0.0            0.000223   \n",
       "\n",
       "   btc_n_orphaned_blocks  btc_n_transactions_per_block  \\\n",
       "0                    0.0                           1.0   \n",
       "1                    0.0                           1.0   \n",
       "2                    0.0                           1.0   \n",
       "3                    0.0                           1.0   \n",
       "4                    0.0                           1.0   \n",
       "\n",
       "   btc_median_confirmation_time                  ...                   \\\n",
       "0                           0.0                  ...                    \n",
       "1                           0.0                  ...                    \n",
       "2                           0.0                  ...                    \n",
       "3                           0.0                  ...                    \n",
       "4                           0.0                  ...                    \n",
       "\n",
       "   btc_cost_per_transaction_percent  btc_cost_per_transaction  \\\n",
       "0                      25100.000000                       0.0   \n",
       "1                        179.245283                       0.0   \n",
       "2                       1057.142857                       0.0   \n",
       "3                         64.582059                       0.0   \n",
       "4                       1922.222222                       0.0   \n",
       "\n",
       "   btc_n_unique_addresses  btc_n_transactions  btc_n_transactions_total  \\\n",
       "0                   252.0               252.0                   42613.0   \n",
       "1                   195.0               196.0                   42809.0   \n",
       "2                   150.0               150.0                   42959.0   \n",
       "3                   176.0               176.0                   43135.0   \n",
       "4                   176.0               176.0                   43311.0   \n",
       "\n",
       "   btc_n_transactions_excluding_popular  \\\n",
       "0                                 252.0   \n",
       "1                                 196.0   \n",
       "2                                 150.0   \n",
       "3                                 176.0   \n",
       "4                                 176.0   \n",
       "\n",
       "   btc_n_transactions_excluding_chains_longer_than_100  btc_output_volume  \\\n",
       "0                                              252.0              12600.0   \n",
       "1                                              196.0              14800.0   \n",
       "2                                              150.0               8100.0   \n",
       "3                                              176.0              29349.0   \n",
       "4                                              176.0               9101.0   \n",
       "\n",
       "   btc_estimated_transaction_volume  btc_estimated_transaction_volume_usd  \n",
       "0                              50.0                                   0.0  \n",
       "1                            5300.0                                   0.0  \n",
       "2                             700.0                                   0.0  \n",
       "3                           13162.0                                   0.0  \n",
       "4                             450.0                                   0.0  \n",
       "\n",
       "[5 rows x 24 columns]"
      ]
     },
     "execution_count": 47,
     "metadata": {},
     "output_type": "execute_result"
    }
   ],
   "source": [
    "# Read in data from \"bitcoin_dataset\" dataset\n",
    "bitcoin_dataset = pd.read_csv('bitcoin_dataset.csv',parse_dates=['Date'])\n",
    "bitcoin_dataset.head()"
   ]
  },
  {
   "cell_type": "markdown",
   "metadata": {},
   "source": [
    "Now that we've loaded our data and cleaned it up a bit, we're left with 2 dataset (2 DataFrames actually). \n",
    "\n",
    "To take full advantage of the Bitcoin insights that they provide we have the posibility to merge them so the algorithm that we're going to train will benefit from all the features.\n",
    "\n",
    "Merge DataFrame objects is done by performing a database-style join operation by columns or indexes.\n",
    "\n",
    "One thing we need to do before the actual **merge** is to make sure that we will combine DataFrames with the same length (We just cleaned our data so we don't want to get nasty NaN values)."
   ]
  },
  {
   "cell_type": "code",
   "execution_count": 48,
   "metadata": {
    "scrolled": true
   },
   "outputs": [
    {
     "data": {
      "text/html": [
       "<div>\n",
       "<style scoped>\n",
       "    .dataframe tbody tr th:only-of-type {\n",
       "        vertical-align: middle;\n",
       "    }\n",
       "\n",
       "    .dataframe tbody tr th {\n",
       "        vertical-align: top;\n",
       "    }\n",
       "\n",
       "    .dataframe thead th {\n",
       "        text-align: right;\n",
       "    }\n",
       "</style>\n",
       "<table border=\"1\" class=\"dataframe\">\n",
       "  <thead>\n",
       "    <tr style=\"text-align: right;\">\n",
       "      <th></th>\n",
       "      <th>Date</th>\n",
       "      <th>Close</th>\n",
       "      <th>Open</th>\n",
       "      <th>High</th>\n",
       "      <th>Low</th>\n",
       "      <th>btc_estimated_transaction_volume_usd</th>\n",
       "      <th>btc_total_bitcoins</th>\n",
       "      <th>btc_avg_block_size</th>\n",
       "    </tr>\n",
       "  </thead>\n",
       "  <tbody>\n",
       "    <tr>\n",
       "      <th>0</th>\n",
       "      <td>2018-02-20</td>\n",
       "      <td>11403.7</td>\n",
       "      <td>11231.8</td>\n",
       "      <td>11958.5</td>\n",
       "      <td>11231.80</td>\n",
       "      <td>22605050.0</td>\n",
       "      <td>11090225.0</td>\n",
       "      <td>0.126539</td>\n",
       "    </tr>\n",
       "    <tr>\n",
       "      <th>1</th>\n",
       "      <td>2018-02-19</td>\n",
       "      <td>11225.3</td>\n",
       "      <td>10552.6</td>\n",
       "      <td>11273.8</td>\n",
       "      <td>10513.20</td>\n",
       "      <td>41199388.0</td>\n",
       "      <td>11094750.0</td>\n",
       "      <td>0.140126</td>\n",
       "    </tr>\n",
       "    <tr>\n",
       "      <th>2</th>\n",
       "      <td>2018-02-18</td>\n",
       "      <td>10551.8</td>\n",
       "      <td>11123.4</td>\n",
       "      <td>11349.8</td>\n",
       "      <td>10326.00</td>\n",
       "      <td>32294820.0</td>\n",
       "      <td>11098475.0</td>\n",
       "      <td>0.185539</td>\n",
       "    </tr>\n",
       "    <tr>\n",
       "      <th>3</th>\n",
       "      <td>2018-02-17</td>\n",
       "      <td>11112.7</td>\n",
       "      <td>10207.5</td>\n",
       "      <td>11139.5</td>\n",
       "      <td>10149.40</td>\n",
       "      <td>32988744.0</td>\n",
       "      <td>11102000.0</td>\n",
       "      <td>0.167730</td>\n",
       "    </tr>\n",
       "    <tr>\n",
       "      <th>4</th>\n",
       "      <td>2018-02-16</td>\n",
       "      <td>10233.9</td>\n",
       "      <td>10135.7</td>\n",
       "      <td>10324.1</td>\n",
       "      <td>9824.82</td>\n",
       "      <td>33019004.0</td>\n",
       "      <td>11105600.0</td>\n",
       "      <td>0.189949</td>\n",
       "    </tr>\n",
       "  </tbody>\n",
       "</table>\n",
       "</div>"
      ],
      "text/plain": [
       "        Date    Close     Open     High       Low  \\\n",
       "0 2018-02-20  11403.7  11231.8  11958.5  11231.80   \n",
       "1 2018-02-19  11225.3  10552.6  11273.8  10513.20   \n",
       "2 2018-02-18  10551.8  11123.4  11349.8  10326.00   \n",
       "3 2018-02-17  11112.7  10207.5  11139.5  10149.40   \n",
       "4 2018-02-16  10233.9  10135.7  10324.1   9824.82   \n",
       "\n",
       "   btc_estimated_transaction_volume_usd  btc_total_bitcoins  \\\n",
       "0                            22605050.0          11090225.0   \n",
       "1                            41199388.0          11094750.0   \n",
       "2                            32294820.0          11098475.0   \n",
       "3                            32988744.0          11102000.0   \n",
       "4                            33019004.0          11105600.0   \n",
       "\n",
       "   btc_avg_block_size  \n",
       "0            0.126539  \n",
       "1            0.140126  \n",
       "2            0.185539  \n",
       "3            0.167730  \n",
       "4            0.189949  "
      ]
     },
     "execution_count": 48,
     "metadata": {},
     "output_type": "execute_result"
    }
   ],
   "source": [
    "# Make bitcoin_price and bitcoin_dataset the same length\n",
    "equal_length = len(bitcoin_dataset) - len(bitcoin_price)\n",
    "bitcoin_dataset = bitcoin_dataset[['btc_estimated_transaction_volume_usd','btc_total_bitcoins','btc_avg_block_size']][equal_length:]\n",
    "\n",
    "# Reset index for bitcoin_dataset as we did for bitcoin_price\n",
    "bitcoin_dataset.index = range(len(bitcoin_dataset))\n",
    "\n",
    "# 'Volume' and 'Market Cap' don't seem too interesting so will drop those columns\n",
    "bitcoin_price = bitcoin_price[['Date','Close','Open','High','Low']]\n",
    "\n",
    "# Merge bitcoin_price and bitcoin_dataset\n",
    "df = pd.merge(bitcoin_price,bitcoin_dataset, left_index = True, right_index = True)\n",
    "df.head()"
   ]
  },
  {
   "cell_type": "markdown",
   "metadata": {},
   "source": [
    "# Data Visualisation"
   ]
  },
  {
   "cell_type": "markdown",
   "metadata": {},
   "source": [
    "Remember the old joke about the similarity between an engineer and a dog? (They both know a lot, but can't express it well.)"
   ]
  },
  {
   "cell_type": "markdown",
   "metadata": {},
   "source": [
    "The same thing happens with data; you can have the perfect, complete dataset, but if you're not able to tell the story behind the numbers, to uncover patterns and correlations, there's no use."
   ]
  },
  {
   "cell_type": "code",
   "execution_count": 49,
   "metadata": {},
   "outputs": [],
   "source": [
    "# We have here bitcoin's closing price and we want to visualise how it changed over time\n",
    "df_close = df[['Date','Close']]\n",
    "df_close = df_close.set_index('Date')"
   ]
  },
  {
   "cell_type": "markdown",
   "metadata": {},
   "source": [
    "There are a number of libraries out there that can help you get started with visualising data; let's take a look at three of the most used."
   ]
  },
  {
   "cell_type": "markdown",
   "metadata": {},
   "source": [
    "### Matplotlib"
   ]
  },
  {
   "cell_type": "markdown",
   "metadata": {},
   "source": [
    "Easiest, straightforward solution."
   ]
  },
  {
   "cell_type": "code",
   "execution_count": 50,
   "metadata": {},
   "outputs": [
    {
     "data": {
      "text/plain": [
       "Text(0,0.5,'Price in USD')"
      ]
     },
     "execution_count": 50,
     "metadata": {},
     "output_type": "execute_result"
    },
    {
     "data": {
      "image/png": "[encoded data removed]",
      "text/plain": [
       "<Figure size 432x288 with 1 Axes>"
      ]
     },
     "metadata": {},
     "output_type": "display_data"
    }
   ],
   "source": [
    "# Choosing to visualise as a line plot\n",
    "plt.plot(df_close)\n",
    "plt.xlabel('Date')\n",
    "plt.ylabel('Price in USD')"
   ]
  },
  {
   "cell_type": "markdown",
   "metadata": {},
   "source": [
    "### Seaborn"
   ]
  },
  {
   "cell_type": "markdown",
   "metadata": {},
   "source": [
    "Can be used as a styling library on top of matplotlib, but it can also leverage your data science & statistics features."
   ]
  },
  {
   "cell_type": "code",
   "execution_count": 55,
   "metadata": {},
   "outputs": [
    {
     "data": {
      "text/plain": [
       "[<matplotlib.lines.Line2D at 0x7fe0654fac18>]"
      ]
     },
     "execution_count": 55,
     "metadata": {},
     "output_type": "execute_result"
    },
    {
     "data": {
      "image/png": "[encoded data removed]",
      "text/plain": [
       "<Figure size 432x288 with 1 Axes>"
      ]
     },
     "metadata": {},
     "output_type": "display_data"
    }
   ],
   "source": [
    "# Adding styles\n",
    "sns.set(style=\"darkgrid\")\n",
    "plt.plot(df_close)"
   ]
  },
  {
   "cell_type": "markdown",
   "metadata": {},
   "source": [
    "### Bokeh"
   ]
  },
  {
   "cell_type": "markdown",
   "metadata": {},
   "source": [
    "Brings an interactive feature to your visualisation; you can zoom, pan, embed, export static images and many more."
   ]
  },
  {
   "cell_type": "code",
   "execution_count": 56,
   "metadata": {},
   "outputs": [
    {
     "data": {
      "text/html": [
       "\n",
       "    <div class=\"bk-root\">\n",
       "        <a href=\"https://bokeh.pydata.org\" target=\"_blank\" class=\"bk-logo bk-logo-small bk-logo-notebook\"></a>\n",
       "        <span id=\"0fba1234-04c8-4d26-ad88-c431a5736a17\">Loading BokehJS ...</span>\n",
       "    </div>"
      ]
     },
     "metadata": {},
     "output_type": "display_data"
    },
    {
     "data": {
      "application/javascript": [
       "\n",
       "(function(root) {\n",
       "  function now() {\n",
       "    return new Date();\n",
       "  }\n",
       "\n",
       "  var force = true;\n",
       "\n",
       "  if (typeof (root._bokeh_onload_callbacks) === \"undefined\" || force === true) {\n",
       "    root._bokeh_onload_callbacks = [];\n",
       "    root._bokeh_is_loading = undefined;\n",
       "  }\n",
       "\n",
       "  var JS_MIME_TYPE = 'application/javascript';\n",
       "  var HTML_MIME_TYPE = 'text/html';\n",
       "  var EXEC_MIME_TYPE = 'application/vnd.bokehjs_exec.v0+json';\n",
       "  var CLASS_NAME = 'output_bokeh rendered_html';\n",
       "\n",
       "  /**\n",
       "   * Render data to the DOM node\n",
       "   */\n",
       "  function render(props, node) {\n",
       "    var script = document.createElement(\"script\");\n",
       "    node.appendChild(script);\n",
       "  }\n",
       "\n",
       "  /**\n",
       "   * Handle when an output is cleared or removed\n",
       "   */\n",
       "  function handleClearOutput(event, handle) {\n",
       "    var cell = handle.cell;\n",
       "\n",
       "    var id = cell.output_area._bokeh_element_id;\n",
       "    var server_id = cell.output_area._bokeh_server_id;\n",
       "    // Clean up Bokeh references\n",
       "    if (id !== undefined) {\n",
       "      Bokeh.index[id].model.document.clear();\n",
       "      delete Bokeh.index[id];\n",
       "    }\n",
       "\n",
       "    if (server_id !== undefined) {\n",
       "      // Clean up Bokeh references\n",
       "      var cmd = \"from bokeh.io.state import curstate; print(curstate().uuid_to_server['\" + server_id + \"'].get_sessions()[0].document.roots[0]._id)\";\n",
       "      cell.notebook.kernel.execute(cmd, {\n",
       "        iopub: {\n",
       "          output: function(msg) {\n",
       "            var element_id = msg.content.text.trim();\n",
       "            Bokeh.index[element_id].model.document.clear();\n",
       "            delete Bokeh.index[element_id];\n",
       "          }\n",
       "        }\n",
       "      });\n",
       "      // Destroy server and session\n",
       "      var cmd = \"import bokeh.io.notebook as ion; ion.destroy_server('\" + server_id + \"')\";\n",
       "      cell.notebook.kernel.execute(cmd);\n",
       "    }\n",
       "  }\n",
       "\n",
       "  /**\n",
       "   * Handle when a new output is added\n",
       "   */\n",
       "  function handleAddOutput(event, handle) {\n",
       "    var output_area = handle.output_area;\n",
       "    var output = handle.output;\n",
       "\n",
       "    // limit handleAddOutput to display_data with EXEC_MIME_TYPE content only\n",
       "    if ((output.output_type != \"display_data\") || (!output.data.hasOwnProperty(EXEC_MIME_TYPE))) {\n",
       "      return\n",
       "    }\n",
       "\n",
       "    var toinsert = output_area.element.find(\".\" + CLASS_NAME.split(' ')[0]);\n",
       "\n",
       "    if (output.metadata[EXEC_MIME_TYPE][\"id\"] !== undefined) {\n",
       "      toinsert[toinsert.length - 1].firstChild.textContent = output.data[JS_MIME_TYPE];\n",
       "      // store reference to embed id on output_area\n",
       "      output_area._bokeh_element_id = output.metadata[EXEC_MIME_TYPE][\"id\"];\n",
       "    }\n",
       "    if (output.metadata[EXEC_MIME_TYPE][\"server_id\"] !== undefined) {\n",
       "      var bk_div = document.createElement(\"div\");\n",
       "      bk_div.innerHTML = output.data[HTML_MIME_TYPE];\n",
       "      var script_attrs = bk_div.children[0].attributes;\n",
       "      for (var i = 0; i < script_attrs.length; i++) {\n",
       "        toinsert[toinsert.length - 1].firstChild.setAttribute(script_attrs[i].name, script_attrs[i].value);\n",
       "      }\n",
       "      // store reference to server id on output_area\n",
       "      output_area._bokeh_server_id = output.metadata[EXEC_MIME_TYPE][\"server_id\"];\n",
       "    }\n",
       "  }\n",
       "\n",
       "  function register_renderer(events, OutputArea) {\n",
       "\n",
       "    function append_mime(data, metadata, element) {\n",
       "      // create a DOM node to render to\n",
       "      var toinsert = this.create_output_subarea(\n",
       "        metadata,\n",
       "        CLASS_NAME,\n",
       "        EXEC_MIME_TYPE\n",
       "      );\n",
       "      this.keyboard_manager.register_events(toinsert);\n",
       "      // Render to node\n",
       "      var props = {data: data, metadata: metadata[EXEC_MIME_TYPE]};\n",
       "      render(props, toinsert[toinsert.length - 1]);\n",
       "      element.append(toinsert);\n",
       "      return toinsert\n",
       "    }\n",
       "\n",
       "    /* Handle when an output is cleared or removed */\n",
       "    events.on('clear_output.CodeCell', handleClearOutput);\n",
       "    events.on('delete.Cell', handleClearOutput);\n",
       "\n",
       "    /* Handle when a new output is added */\n",
       "    events.on('output_added.OutputArea', handleAddOutput);\n",
       "\n",
       "    /**\n",
       "     * Register the mime type and append_mime function with output_area\n",
       "     */\n",
       "    OutputArea.prototype.register_mime_type(EXEC_MIME_TYPE, append_mime, {\n",
       "      /* Is output safe? */\n",
       "      safe: true,\n",
       "      /* Index of renderer in `output_area.display_order` */\n",
       "      index: 0\n",
       "    });\n",
       "  }\n",
       "\n",
       "  // register the mime type if in Jupyter Notebook environment and previously unregistered\n",
       "  if (root.Jupyter !== undefined) {\n",
       "    var events = require('base/js/events');\n",
       "    var OutputArea = require('notebook/js/outputarea').OutputArea;\n",
       "\n",
       "    if (OutputArea.prototype.mime_types().indexOf(EXEC_MIME_TYPE) == -1) {\n",
       "      register_renderer(events, OutputArea);\n",
       "    }\n",
       "  }\n",
       "\n",
       "  \n",
       "  if (typeof (root._bokeh_timeout) === \"undefined\" || force === true) {\n",
       "    root._bokeh_timeout = Date.now() + 5000;\n",
       "    root._bokeh_failed_load = false;\n",
       "  }\n",
       "\n",
       "  var NB_LOAD_WARNING = {'data': {'text/html':\n",
       "     \"<div style='background-color: #fdd'>\\n\"+\n",
       "     \"<p>\\n\"+\n",
       "     \"BokehJS does not appear to have successfully loaded. If loading BokehJS from CDN, this \\n\"+\n",
       "     \"may be due to a slow or bad network connection. Possible fixes:\\n\"+\n",
       "     \"</p>\\n\"+\n",
       "     \"<ul>\\n\"+\n",
       "     \"<li>re-rerun `output_notebook()` to attempt to load from CDN again, or</li>\\n\"+\n",
       "     \"<li>use INLINE resources instead, as so:</li>\\n\"+\n",
       "     \"</ul>\\n\"+\n",
       "     \"<code>\\n\"+\n",
       "     \"from bokeh.resources import INLINE\\n\"+\n",
       "     \"output_notebook(resources=INLINE)\\n\"+\n",
       "     \"</code>\\n\"+\n",
       "     \"</div>\"}};\n",
       "\n",
       "  function display_loaded() {\n",
       "    var el = document.getElementById(\"0fba1234-04c8-4d26-ad88-c431a5736a17\");\n",
       "    if (el != null) {\n",
       "      el.textContent = \"BokehJS is loading...\";\n",
       "    }\n",
       "    if (root.Bokeh !== undefined) {\n",
       "      if (el != null) {\n",
       "        el.textContent = \"BokehJS \" + root.Bokeh.version + \" successfully loaded.\";\n",
       "      }\n",
       "    } else if (Date.now() < root._bokeh_timeout) {\n",
       "      setTimeout(display_loaded, 100)\n",
       "    }\n",
       "  }\n",
       "\n",
       "\n",
       "  function run_callbacks() {\n",
       "    try {\n",
       "      root._bokeh_onload_callbacks.forEach(function(callback) { callback() });\n",
       "    }\n",
       "    finally {\n",
       "      delete root._bokeh_onload_callbacks\n",
       "    }\n",
       "    console.info(\"Bokeh: all callbacks have finished\");\n",
       "  }\n",
       "\n",
       "  function load_libs(js_urls, callback) {\n",
       "    root._bokeh_onload_callbacks.push(callback);\n",
       "    if (root._bokeh_is_loading > 0) {\n",
       "      console.log(\"Bokeh: BokehJS is being loaded, scheduling callback at\", now());\n",
       "      return null;\n",
       "    }\n",
       "    if (js_urls == null || js_urls.length === 0) {\n",
       "      run_callbacks();\n",
       "      return null;\n",
       "    }\n",
       "    console.log(\"Bokeh: BokehJS not loaded, scheduling load and callback at\", now());\n",
       "    root._bokeh_is_loading = js_urls.length;\n",
       "    for (var i = 0; i < js_urls.length; i++) {\n",
       "      var url = js_urls[i];\n",
       "      var s = document.createElement('script');\n",
       "      s.src = url;\n",
       "      s.async = false;\n",
       "      s.onreadystatechange = s.onload = function() {\n",
       "        root._bokeh_is_loading--;\n",
       "        if (root._bokeh_is_loading === 0) {\n",
       "          console.log(\"Bokeh: all BokehJS libraries loaded\");\n",
       "          run_callbacks()\n",
       "        }\n",
       "      };\n",
       "      s.onerror = function() {\n",
       "        console.warn(\"failed to load library \" + url);\n",
       "      };\n",
       "      console.log(\"Bokeh: injecting script tag for BokehJS library: \", url);\n",
       "      document.getElementsByTagName(\"head\")[0].appendChild(s);\n",
       "    }\n",
       "  };var element = document.getElementById(\"0fba1234-04c8-4d26-ad88-c431a5736a17\");\n",
       "  if (element == null) {\n",
       "    console.log(\"Bokeh: ERROR: autoload.js configured with elementid '0fba1234-04c8-4d26-ad88-c431a5736a17' but no matching script tag was found. \")\n",
       "    return false;\n",
       "  }\n",
       "\n",
       "  var js_urls = [\"https://cdn.pydata.org/bokeh/release/bokeh-0.12.16.min.js\", \"https://cdn.pydata.org/bokeh/release/bokeh-widgets-0.12.16.min.js\", \"https://cdn.pydata.org/bokeh/release/bokeh-tables-0.12.16.min.js\", \"https://cdn.pydata.org/bokeh/release/bokeh-gl-0.12.16.min.js\"];\n",
       "\n",
       "  var inline_js = [\n",
       "    function(Bokeh) {\n",
       "      Bokeh.set_log_level(\"info\");\n",
       "    },\n",
       "    \n",
       "    function(Bokeh) {\n",
       "      \n",
       "    },\n",
       "    function(Bokeh) {\n",
       "      console.log(\"Bokeh: injecting CSS: https://cdn.pydata.org/bokeh/release/bokeh-0.12.16.min.css\");\n",
       "      Bokeh.embed.inject_css(\"https://cdn.pydata.org/bokeh/release/bokeh-0.12.16.min.css\");\n",
       "      console.log(\"Bokeh: injecting CSS: https://cdn.pydata.org/bokeh/release/bokeh-widgets-0.12.16.min.css\");\n",
       "      Bokeh.embed.inject_css(\"https://cdn.pydata.org/bokeh/release/bokeh-widgets-0.12.16.min.css\");\n",
       "      console.log(\"Bokeh: injecting CSS: https://cdn.pydata.org/bokeh/release/bokeh-tables-0.12.16.min.css\");\n",
       "      Bokeh.embed.inject_css(\"https://cdn.pydata.org/bokeh/release/bokeh-tables-0.12.16.min.css\");\n",
       "    }\n",
       "  ];\n",
       "\n",
       "  function run_inline_js() {\n",
       "    \n",
       "    if ((root.Bokeh !== undefined) || (force === true)) {\n",
       "      for (var i = 0; i < inline_js.length; i++) {\n",
       "        inline_js[i].call(root, root.Bokeh);\n",
       "      }if (force === true) {\n",
       "        display_loaded();\n",
       "      }} else if (Date.now() < root._bokeh_timeout) {\n",
       "      setTimeout(run_inline_js, 100);\n",
       "    } else if (!root._bokeh_failed_load) {\n",
       "      console.log(\"Bokeh: BokehJS failed to load within specified timeout.\");\n",
       "      root._bokeh_failed_load = true;\n",
       "    } else if (force !== true) {\n",
       "      var cell = $(document.getElementById(\"0fba1234-04c8-4d26-ad88-c431a5736a17\")).parents('.cell').data().cell;\n",
       "      cell.output_area.append_execute_result(NB_LOAD_WARNING)\n",
       "    }\n",
       "\n",
       "  }\n",
       "\n",
       "  if (root._bokeh_is_loading === 0) {\n",
       "    console.log(\"Bokeh: BokehJS loaded, going straight to plotting\");\n",
       "    run_inline_js();\n",
       "  } else {\n",
       "    load_libs(js_urls, function() {\n",
       "      console.log(\"Bokeh: BokehJS plotting callback run at\", now());\n",
       "      run_inline_js();\n",
       "    });\n",
       "  }\n",
       "}(window));"
      ],
      "application/vnd.bokehjs_load.v0+json": "\n(function(root) {\n  function now() {\n    return new Date();\n  }\n\n  var force = true;\n\n  if (typeof (root._bokeh_onload_callbacks) === \"undefined\" || force === true) {\n    root._bokeh_onload_callbacks = [];\n    root._bokeh_is_loading = undefined;\n  }\n\n  \n\n  \n  if (typeof (root._bokeh_timeout) === \"undefined\" || force === true) {\n    root._bokeh_timeout = Date.now() + 5000;\n    root._bokeh_failed_load = false;\n  }\n\n  var NB_LOAD_WARNING = {'data': {'text/html':\n     \"<div style='background-color: #fdd'>\\n\"+\n     \"<p>\\n\"+\n     \"BokehJS does not appear to have successfully loaded. If loading BokehJS from CDN, this \\n\"+\n     \"may be due to a slow or bad network connection. Possible fixes:\\n\"+\n     \"</p>\\n\"+\n     \"<ul>\\n\"+\n     \"<li>re-rerun `output_notebook()` to attempt to load from CDN again, or</li>\\n\"+\n     \"<li>use INLINE resources instead, as so:</li>\\n\"+\n     \"</ul>\\n\"+\n     \"<code>\\n\"+\n     \"from bokeh.resources import INLINE\\n\"+\n     \"output_notebook(resources=INLINE)\\n\"+\n     \"</code>\\n\"+\n     \"</div>\"}};\n\n  function display_loaded() {\n    var el = document.getElementById(\"0fba1234-04c8-4d26-ad88-c431a5736a17\");\n    if (el != null) {\n      el.textContent = \"BokehJS is loading...\";\n    }\n    if (root.Bokeh !== undefined) {\n      if (el != null) {\n        el.textContent = \"BokehJS \" + root.Bokeh.version + \" successfully loaded.\";\n      }\n    } else if (Date.now() < root._bokeh_timeout) {\n      setTimeout(display_loaded, 100)\n    }\n  }\n\n\n  function run_callbacks() {\n    try {\n      root._bokeh_onload_callbacks.forEach(function(callback) { callback() });\n    }\n    finally {\n      delete root._bokeh_onload_callbacks\n    }\n    console.info(\"Bokeh: all callbacks have finished\");\n  }\n\n  function load_libs(js_urls, callback) {\n    root._bokeh_onload_callbacks.push(callback);\n    if (root._bokeh_is_loading > 0) {\n      console.log(\"Bokeh: BokehJS is being loaded, scheduling callback at\", now());\n      return null;\n    }\n    if (js_urls == null || js_urls.length === 0) {\n      run_callbacks();\n      return null;\n    }\n    console.log(\"Bokeh: BokehJS not loaded, scheduling load and callback at\", now());\n    root._bokeh_is_loading = js_urls.length;\n    for (var i = 0; i < js_urls.length; i++) {\n      var url = js_urls[i];\n      var s = document.createElement('script');\n      s.src = url;\n      s.async = false;\n      s.onreadystatechange = s.onload = function() {\n        root._bokeh_is_loading--;\n        if (root._bokeh_is_loading === 0) {\n          console.log(\"Bokeh: all BokehJS libraries loaded\");\n          run_callbacks()\n        }\n      };\n      s.onerror = function() {\n        console.warn(\"failed to load library \" + url);\n      };\n      console.log(\"Bokeh: injecting script tag for BokehJS library: \", url);\n      document.getElementsByTagName(\"head\")[0].appendChild(s);\n    }\n  };var element = document.getElementById(\"0fba1234-04c8-4d26-ad88-c431a5736a17\");\n  if (element == null) {\n    console.log(\"Bokeh: ERROR: autoload.js configured with elementid '0fba1234-04c8-4d26-ad88-c431a5736a17' but no matching script tag was found. \")\n    return false;\n  }\n\n  var js_urls = [\"https://cdn.pydata.org/bokeh/release/bokeh-0.12.16.min.js\", \"https://cdn.pydata.org/bokeh/release/bokeh-widgets-0.12.16.min.js\", \"https://cdn.pydata.org/bokeh/release/bokeh-tables-0.12.16.min.js\", \"https://cdn.pydata.org/bokeh/release/bokeh-gl-0.12.16.min.js\"];\n\n  var inline_js = [\n    function(Bokeh) {\n      Bokeh.set_log_level(\"info\");\n    },\n    \n    function(Bokeh) {\n      \n    },\n    function(Bokeh) {\n      console.log(\"Bokeh: injecting CSS: https://cdn.pydata.org/bokeh/release/bokeh-0.12.16.min.css\");\n      Bokeh.embed.inject_css(\"https://cdn.pydata.org/bokeh/release/bokeh-0.12.16.min.css\");\n      console.log(\"Bokeh: injecting CSS: https://cdn.pydata.org/bokeh/release/bokeh-widgets-0.12.16.min.css\");\n      Bokeh.embed.inject_css(\"https://cdn.pydata.org/bokeh/release/bokeh-widgets-0.12.16.min.css\");\n      console.log(\"Bokeh: injecting CSS: https://cdn.pydata.org/bokeh/release/bokeh-tables-0.12.16.min.css\");\n      Bokeh.embed.inject_css(\"https://cdn.pydata.org/bokeh/release/bokeh-tables-0.12.16.min.css\");\n    }\n  ];\n\n  function run_inline_js() {\n    \n    if ((root.Bokeh !== undefined) || (force === true)) {\n      for (var i = 0; i < inline_js.length; i++) {\n        inline_js[i].call(root, root.Bokeh);\n      }if (force === true) {\n        display_loaded();\n      }} else if (Date.now() < root._bokeh_timeout) {\n      setTimeout(run_inline_js, 100);\n    } else if (!root._bokeh_failed_load) {\n      console.log(\"Bokeh: BokehJS failed to load within specified timeout.\");\n      root._bokeh_failed_load = true;\n    } else if (force !== true) {\n      var cell = $(document.getElementById(\"0fba1234-04c8-4d26-ad88-c431a5736a17\")).parents('.cell').data().cell;\n      cell.output_area.append_execute_result(NB_LOAD_WARNING)\n    }\n\n  }\n\n  if (root._bokeh_is_loading === 0) {\n    console.log(\"Bokeh: BokehJS loaded, going straight to plotting\");\n    run_inline_js();\n  } else {\n    load_libs(js_urls, function() {\n      console.log(\"Bokeh: BokehJS plotting callback run at\", now());\n      run_inline_js();\n    });\n  }\n}(window));"
     },
     "metadata": {},
     "output_type": "display_data"
    }
   ],
   "source": [
    "from datetime import datetime as dt\n",
    "import time\n",
    "from bokeh.models import Span\n",
    "\n",
    "# Date index is handled by the lib itself\n",
    "df_close_no_index = df[['Date','Close']]\n",
    "\n",
    "# Output plot in html format\n",
    "#output_file(\"bitcoin_price_chart.html\")\n",
    "output_notebook()"
   ]
  },
  {
   "cell_type": "code",
   "execution_count": 53,
   "metadata": {
    "scrolled": true
   },
   "outputs": [
    {
     "data": {
      "text/html": [
       "\n",
       "<div class=\"bk-root\">\n",
       "    <div class=\"bk-plotdiv\" id=\"dc51dc00-d29f-4f18-b9ec-e6451c38040a\"></div>\n",
       "</div>"
      ]
     },
     "metadata": {},
     "output_type": "display_data"
    },
    {
     "data": {
      "application/javascript": [
       "(function(root) {\n",
       "  function embed_document(root) {\n",
       "    \n",
       "  var docs_json = {\"d8e92755-3829-41de-ac36-cc516359cc1e\":{\"roots\":{\"references\":[{\"attributes\":{},\"id\":\"3c48c362-b54c-47b9-a850-3c895077df11\",\"type\":\"BasicTicker\"},{\"attributes\":{\"dimension\":1,\"plot\":{\"id\":\"bb7f2799-abf2-40bd-bdd7-f0e532a268f9\",\"subtype\":\"Figure\",\"type\":\"Plot\"},\"ticker\":{\"id\":\"3c48c362-b54c-47b9-a850-3c895077df11\",\"type\":\"BasicTicker\"}},\"id\":\"0756566d-46b9-4603-b314-773bc12b062f\",\"type\":\"Grid\"},{\"attributes\":{\"bottom_units\":\"screen\",\"fill_alpha\":{\"value\":0.5},\"fill_color\":{\"value\":\"lightgrey\"},\"left_units\":\"screen\",\"level\":\"overlay\",\"line_alpha\":{\"value\":1.0},\"line_color\":{\"value\":\"black\"},\"line_dash\":[4,4],\"line_width\":{\"value\":2},\"plot\":null,\"render_mode\":\"css\",\"right_units\":\"screen\",\"top_units\":\"screen\"},\"id\":\"eb138ef7-3626-4c08-b93b-ab23b7c483b6\",\"type\":\"BoxAnnotation\"},{\"attributes\":{\"callback\":null,\"data\":{\"x\":{\"__ndarray__\":\"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\",\"dtype\":\"float64\",\"shape\":[1760]},\"y\":{\"__ndarray__\":\"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\",\"dtype\":\"float64\",\"shape\":[1760]}},\"selected\":{\"id\":\"fc1378bc-05e5-4fee-a43f-d390c4f3a46d\",\"type\":\"Selection\"},\"selection_policy\":{\"id\":\"8799f428-034c-4369-9591-433decbeee6e\",\"type\":\"UnionRenderers\"}},\"id\":\"9385b62c-2282-4a84-8432-ab9a42b46e9b\",\"type\":\"ColumnDataSource\"},{\"attributes\":{},\"id\":\"36b2f8e3-a3a7-4b2c-b63e-fb49db1d2460\",\"type\":\"LinearScale\"},{\"attributes\":{\"below\":[{\"id\":\"bdfe82e7-e86a-4e25-ae69-fd1bf868ca12\",\"type\":\"DatetimeAxis\"}],\"left\":[{\"id\":\"96c10113-328e-49f5-b81d-c45b16e78897\",\"type\":\"LinearAxis\"}],\"plot_width\":800,\"renderers\":[{\"id\":\"bdfe82e7-e86a-4e25-ae69-fd1bf868ca12\",\"type\":\"DatetimeAxis\"},{\"id\":\"57e36651-bece-466c-a8c6-6390a304dc37\",\"type\":\"Grid\"},{\"id\":\"96c10113-328e-49f5-b81d-c45b16e78897\",\"type\":\"LinearAxis\"},{\"id\":\"0756566d-46b9-4603-b314-773bc12b062f\",\"type\":\"Grid\"},{\"id\":\"eb138ef7-3626-4c08-b93b-ab23b7c483b6\",\"type\":\"BoxAnnotation\"},{\"id\":\"44032359-9124-48b6-a784-e2d92dba9c26\",\"type\":\"GlyphRenderer\"},{\"id\":\"4923fc20-44f3-451a-841f-7506a2fc27a7\",\"type\":\"Span\"}],\"title\":{\"id\":\"96450a53-3e53-4939-94a1-91159c274658\",\"type\":\"Title\"},\"toolbar\":{\"id\":\"2e32582f-5f9a-4995-aa3c-871313b2e3df\",\"type\":\"Toolbar\"},\"x_range\":{\"id\":\"1b0064b7-54ef-4eb4-98ef-65d2f857ae51\",\"type\":\"DataRange1d\"},\"x_scale\":{\"id\":\"36b2f8e3-a3a7-4b2c-b63e-fb49db1d2460\",\"type\":\"LinearScale\"},\"y_range\":{\"id\":\"45df4ccd-d803-465a-a24f-7490e8eaea34\",\"type\":\"DataRange1d\"},\"y_scale\":{\"id\":\"b30ca65f-5525-438b-a6a2-506cec17d278\",\"type\":\"LinearScale\"}},\"id\":\"bb7f2799-abf2-40bd-bdd7-f0e532a268f9\",\"subtype\":\"Figure\",\"type\":\"Plot\"},{\"attributes\":{\"dimension\":\"height\",\"line_color\":{\"value\":\"grey\"},\"line_dash\":[6],\"location\":1490994000000.0,\"plot\":{\"id\":\"bb7f2799-abf2-40bd-bdd7-f0e532a268f9\",\"subtype\":\"Figure\",\"type\":\"Plot\"}},\"id\":\"4923fc20-44f3-451a-841f-7506a2fc27a7\",\"type\":\"Span\"},{\"attributes\":{},\"id\":\"99f122d3-acd1-4b28-99e2-f7e7cb894987\",\"type\":\"PanTool\"},{\"attributes\":{\"source\":{\"id\":\"9385b62c-2282-4a84-8432-ab9a42b46e9b\",\"type\":\"ColumnDataSource\"}},\"id\":\"f0096d1f-4951-4eb6-a041-eed2bd72aa3f\",\"type\":\"CDSView\"},{\"attributes\":{\"plot\":null,\"text\":\"\"},\"id\":\"96450a53-3e53-4939-94a1-91159c274658\",\"type\":\"Title\"},{\"attributes\":{},\"id\":\"833e84f9-6344-4c35-b273-00d21297a58e\",\"type\":\"WheelZoomTool\"},{\"attributes\":{\"callback\":null},\"id\":\"45df4ccd-d803-465a-a24f-7490e8eaea34\",\"type\":\"DataRange1d\"},{\"attributes\":{\"overlay\":{\"id\":\"eb138ef7-3626-4c08-b93b-ab23b7c483b6\",\"type\":\"BoxAnnotation\"}},\"id\":\"946e1f6b-06e9-4a6a-ad72-feff9bc4441a\",\"type\":\"BoxZoomTool\"},{\"attributes\":{},\"id\":\"de35cc3f-12f0-499d-a324-fe2e32f518ee\",\"type\":\"SaveTool\"},{\"attributes\":{\"formatter\":{\"id\":\"84b5e131-a19f-47dc-9be3-8a74b08eef1f\",\"type\":\"DatetimeTickFormatter\"},\"plot\":{\"id\":\"bb7f2799-abf2-40bd-bdd7-f0e532a268f9\",\"subtype\":\"Figure\",\"type\":\"Plot\"},\"ticker\":{\"id\":\"fc2c7fdc-d102-4893-a7ac-3143bd651220\",\"type\":\"DatetimeTicker\"}},\"id\":\"bdfe82e7-e86a-4e25-ae69-fd1bf868ca12\",\"type\":\"DatetimeAxis\"},{\"attributes\":{},\"id\":\"87e2e4fd-921d-470a-9545-7017d2e3a29c\",\"type\":\"ResetTool\"},{\"attributes\":{},\"id\":\"7700e73c-c0bb-4f27-b038-b19440a446c6\",\"type\":\"HelpTool\"},{\"attributes\":{},\"id\":\"b30ca65f-5525-438b-a6a2-506cec17d278\",\"type\":\"LinearScale\"},{\"attributes\":{\"base\":24,\"mantissas\":[1,2,4,6,8,12],\"max_interval\":43200000.0,\"min_interval\":3600000.0,\"num_minor_ticks\":0},\"id\":\"5f3929d2-a935-42f2-a3e2-c9971bcaee38\",\"type\":\"AdaptiveTicker\"},{\"attributes\":{},\"id\":\"ae1fd20e-99f7-4790-a053-216e9e60b752\",\"type\":\"BasicTickFormatter\"},{\"attributes\":{},\"id\":\"84b5e131-a19f-47dc-9be3-8a74b08eef1f\",\"type\":\"DatetimeTickFormatter\"},{\"attributes\":{\"days\":[1,2,3,4,5,6,7,8,9,10,11,12,13,14,15,16,17,18,19,20,21,22,23,24,25,26,27,28,29,30,31]},\"id\":\"f4fbbe33-f913-4a0c-b1f5-dd3e688aa620\",\"type\":\"DaysTicker\"},{\"attributes\":{\"days\":[1,15]},\"id\":\"8cf3a22b-6957-4636-9426-971e7343a4ad\",\"type\":\"DaysTicker\"},{\"attributes\":{},\"id\":\"fc1378bc-05e5-4fee-a43f-d390c4f3a46d\",\"type\":\"Selection\"},{\"attributes\":{\"num_minor_ticks\":5,\"tickers\":[{\"id\":\"b35340cb-90e8-44f6-9c40-66bf9fe17e27\",\"type\":\"AdaptiveTicker\"},{\"id\":\"1e8d3de2-6143-4f46-9faf-f360e606b476\",\"type\":\"AdaptiveTicker\"},{\"id\":\"5f3929d2-a935-42f2-a3e2-c9971bcaee38\",\"type\":\"AdaptiveTicker\"},{\"id\":\"f4fbbe33-f913-4a0c-b1f5-dd3e688aa620\",\"type\":\"DaysTicker\"},{\"id\":\"e2a99d7c-48d0-4ef3-aa6c-744f7985c6eb\",\"type\":\"DaysTicker\"},{\"id\":\"323e9e3e-73da-4202-b145-b8fd0b63b637\",\"type\":\"DaysTicker\"},{\"id\":\"8cf3a22b-6957-4636-9426-971e7343a4ad\",\"type\":\"DaysTicker\"},{\"id\":\"5cec5d41-04c0-4b32-8567-4acf0e781517\",\"type\":\"MonthsTicker\"},{\"id\":\"13b7e019-3ec7-4484-bdda-35d7f5ae3a1b\",\"type\":\"MonthsTicker\"},{\"id\":\"6e504d27-0a08-4e1e-8e66-7cfcae28b297\",\"type\":\"MonthsTicker\"},{\"id\":\"41411048-1182-46cc-9592-4d81fca8d03d\",\"type\":\"MonthsTicker\"},{\"id\":\"5ea9a11d-3a45-4ae2-b182-139d933ae816\",\"type\":\"YearsTicker\"}]},\"id\":\"fc2c7fdc-d102-4893-a7ac-3143bd651220\",\"type\":\"DatetimeTicker\"},{\"attributes\":{\"base\":60,\"mantissas\":[1,2,5,10,15,20,30],\"max_interval\":1800000.0,\"min_interval\":1000.0,\"num_minor_ticks\":0},\"id\":\"1e8d3de2-6143-4f46-9faf-f360e606b476\",\"type\":\"AdaptiveTicker\"},{\"attributes\":{\"plot\":{\"id\":\"bb7f2799-abf2-40bd-bdd7-f0e532a268f9\",\"subtype\":\"Figure\",\"type\":\"Plot\"},\"ticker\":{\"id\":\"fc2c7fdc-d102-4893-a7ac-3143bd651220\",\"type\":\"DatetimeTicker\"}},\"id\":\"57e36651-bece-466c-a8c6-6390a304dc37\",\"type\":\"Grid\"},{\"attributes\":{\"days\":[1,8,15,22]},\"id\":\"323e9e3e-73da-4202-b145-b8fd0b63b637\",\"type\":\"DaysTicker\"},{\"attributes\":{\"formatter\":{\"id\":\"ae1fd20e-99f7-4790-a053-216e9e60b752\",\"type\":\"BasicTickFormatter\"},\"plot\":{\"id\":\"bb7f2799-abf2-40bd-bdd7-f0e532a268f9\",\"subtype\":\"Figure\",\"type\":\"Plot\"},\"ticker\":{\"id\":\"3c48c362-b54c-47b9-a850-3c895077df11\",\"type\":\"BasicTicker\"}},\"id\":\"96c10113-328e-49f5-b81d-c45b16e78897\",\"type\":\"LinearAxis\"},{\"attributes\":{\"days\":[1,4,7,10,13,16,19,22,25,28]},\"id\":\"e2a99d7c-48d0-4ef3-aa6c-744f7985c6eb\",\"type\":\"DaysTicker\"},{\"attributes\":{\"months\":[0,1,2,3,4,5,6,7,8,9,10,11]},\"id\":\"5cec5d41-04c0-4b32-8567-4acf0e781517\",\"type\":\"MonthsTicker\"},{\"attributes\":{\"months\":[0,2,4,6,8,10]},\"id\":\"13b7e019-3ec7-4484-bdda-35d7f5ae3a1b\",\"type\":\"MonthsTicker\"},{\"attributes\":{\"months\":[0,4,8]},\"id\":\"6e504d27-0a08-4e1e-8e66-7cfcae28b297\",\"type\":\"MonthsTicker\"},{\"attributes\":{\"months\":[0,6]},\"id\":\"41411048-1182-46cc-9592-4d81fca8d03d\",\"type\":\"MonthsTicker\"},{\"attributes\":{},\"id\":\"5ea9a11d-3a45-4ae2-b182-139d933ae816\",\"type\":\"YearsTicker\"},{\"attributes\":{},\"id\":\"8799f428-034c-4369-9591-433decbeee6e\",\"type\":\"UnionRenderers\"},{\"attributes\":{\"callback\":null},\"id\":\"1b0064b7-54ef-4eb4-98ef-65d2f857ae51\",\"type\":\"DataRange1d\"},{\"attributes\":{\"line_alpha\":0.1,\"line_color\":\"#1f77b4\",\"line_width\":3,\"x\":{\"field\":\"x\"},\"y\":{\"field\":\"y\"}},\"id\":\"44c95cd9-bb6e-4709-b39d-865556fedc5e\",\"type\":\"Line\"},{\"attributes\":{\"data_source\":{\"id\":\"9385b62c-2282-4a84-8432-ab9a42b46e9b\",\"type\":\"ColumnDataSource\"},\"glyph\":{\"id\":\"ff7bda88-a192-4312-af53-820729829a4c\",\"type\":\"Line\"},\"hover_glyph\":null,\"muted_glyph\":null,\"nonselection_glyph\":{\"id\":\"44c95cd9-bb6e-4709-b39d-865556fedc5e\",\"type\":\"Line\"},\"selection_glyph\":null,\"view\":{\"id\":\"f0096d1f-4951-4eb6-a041-eed2bd72aa3f\",\"type\":\"CDSView\"}},\"id\":\"44032359-9124-48b6-a784-e2d92dba9c26\",\"type\":\"GlyphRenderer\"},{\"attributes\":{\"active_drag\":\"auto\",\"active_inspect\":\"auto\",\"active_scroll\":\"auto\",\"active_tap\":\"auto\",\"tools\":[{\"id\":\"99f122d3-acd1-4b28-99e2-f7e7cb894987\",\"type\":\"PanTool\"},{\"id\":\"833e84f9-6344-4c35-b273-00d21297a58e\",\"type\":\"WheelZoomTool\"},{\"id\":\"946e1f6b-06e9-4a6a-ad72-feff9bc4441a\",\"type\":\"BoxZoomTool\"},{\"id\":\"de35cc3f-12f0-499d-a324-fe2e32f518ee\",\"type\":\"SaveTool\"},{\"id\":\"87e2e4fd-921d-470a-9545-7017d2e3a29c\",\"type\":\"ResetTool\"},{\"id\":\"7700e73c-c0bb-4f27-b038-b19440a446c6\",\"type\":\"HelpTool\"}]},\"id\":\"2e32582f-5f9a-4995-aa3c-871313b2e3df\",\"type\":\"Toolbar\"},{\"attributes\":{\"mantissas\":[1,2,5],\"max_interval\":500.0,\"num_minor_ticks\":0},\"id\":\"b35340cb-90e8-44f6-9c40-66bf9fe17e27\",\"type\":\"AdaptiveTicker\"},{\"attributes\":{\"line_color\":\"cornflowerblue\",\"line_width\":3,\"x\":{\"field\":\"x\"},\"y\":{\"field\":\"y\"}},\"id\":\"ff7bda88-a192-4312-af53-820729829a4c\",\"type\":\"Line\"}],\"root_ids\":[\"bb7f2799-abf2-40bd-bdd7-f0e532a268f9\"]},\"title\":\"Bokeh Application\",\"version\":\"0.12.16\"}};\n",
       "  var render_items = [{\"docid\":\"d8e92755-3829-41de-ac36-cc516359cc1e\",\"elementid\":\"dc51dc00-d29f-4f18-b9ec-e6451c38040a\",\"modelid\":\"bb7f2799-abf2-40bd-bdd7-f0e532a268f9\"}];\n",
       "  root.Bokeh.embed.embed_items_notebook(docs_json, render_items);\n",
       "\n",
       "  }\n",
       "  if (root.Bokeh !== undefined) {\n",
       "    embed_document(root);\n",
       "  } else {\n",
       "    var attempts = 0;\n",
       "    var timer = setInterval(function(root) {\n",
       "      if (root.Bokeh !== undefined) {\n",
       "        embed_document(root);\n",
       "        clearInterval(timer);\n",
       "      }\n",
       "      attempts++;\n",
       "      if (attempts > 100) {\n",
       "        console.log(\"Bokeh: ERROR: Unable to run BokehJS code because BokehJS library is missing\")\n",
       "        clearInterval(timer);\n",
       "      }\n",
       "    }, 10, root)\n",
       "  }\n",
       "})(window);"
      ],
      "application/vnd.bokehjs_exec.v0+json": ""
     },
     "metadata": {
      "application/vnd.bokehjs_exec.v0+json": {
       "id": "bb7f2799-abf2-40bd-bdd7-f0e532a268f9"
      }
     },
     "output_type": "display_data"
    }
   ],
   "source": [
    "# Creating a plot with x-axis as datetime type\n",
    "p = figure(plot_width=800, plot_height=600, x_axis_type=\"datetime\")\n",
    "p.line(df_close_no_index['Date'], df_close_no_index['Close'], color='cornflowerblue', line_width= 3, alpha=1)\n",
    "legal_tender_Japan = Span(location=time.mktime(dt(2017, 4, 1, 0, 0, 0).timetuple())*1000,\n",
    "                              dimension='height', line_color='grey',\n",
    "                              line_dash='dashed', line_width=1)\n",
    "p.add_layout(legal_tender_Japan)\n",
    "show(p)"
   ]
  },
  {
   "cell_type": "markdown",
   "metadata": {},
   "source": [
    "### Is there more?"
   ]
  },
  {
   "cell_type": "markdown",
   "metadata": {},
   "source": [
    "What should you track and which graph type should you choose?\n",
    "* to **compare values**: column, mekko, bar, pie, line, scatter plot, bullet\n",
    "* to show **composition**: pie, stacked bar, mekko, stacked column, area, waterfall\n",
    "* to understand **distribution**: scatter plot, mekko, line, column, bar\n",
    "* to find **trends**: line, dual-axis line, column\n",
    "* to show **relationships** between value sets: scatter plot, bubble, line"
   ]
  },
  {
   "cell_type": "markdown",
   "metadata": {},
   "source": [
    "Looking into our bitcoin price dataset, we have all the info needed to visualise a well-known financial chart called **Candlestick**: combines line and a bar charts, each bar representing important pieces of information for that day: the open, the close, the high and the low."
   ]
  },
  {
   "cell_type": "code",
   "execution_count": 57,
   "metadata": {},
   "outputs": [
    {
     "data": {
      "text/html": [
       "\n",
       "<div class=\"bk-root\">\n",
       "    <div class=\"bk-plotdiv\" id=\"10807ecf-5f34-440a-9880-e584647b61e6\"></div>\n",
       "</div>"
      ]
     },
     "metadata": {},
     "output_type": "display_data"
    },
    {
     "data": {
      "application/javascript": [
       "(function(root) {\n",
       "  function embed_document(root) {\n",
       "    \n",
       "  var docs_json = {\"c03d6fda-451f-4c13-b043-11362de12a3d\":{\"roots\":{\"references\":[{\"attributes\":{\"active_drag\":\"auto\",\"active_inspect\":\"auto\",\"active_scroll\":\"auto\",\"active_tap\":\"auto\",\"tools\":[{\"id\":\"f1cb0c3c-1d8d-4527-9a8d-fb6807fe8995\",\"type\":\"PanTool\"},{\"id\":\"a0b19549-6299-46be-9e1a-c5e77d07eff8\",\"type\":\"WheelZoomTool\"},{\"id\":\"c71cdd0a-530b-445b-bccc-ce23b738bec6\",\"type\":\"BoxZoomTool\"},{\"id\":\"4372c4d3-869a-49f2-9614-1bdb7ecf4f26\",\"type\":\"SaveTool\"},{\"id\":\"5844a885-d40d-4777-8c03-099cc1e4bc69\",\"type\":\"ResetTool\"},{\"id\":\"b9397079-174a-4f02-b702-eb2718d64b66\",\"type\":\"HelpTool\"}]},\"id\":\"635bdb47-c4c6-4f80-b127-b187a3398e4f\",\"type\":\"Toolbar\"},{\"attributes\":{\"callback\":null},\"id\":\"4e5d1ec8-edf0-4c09-b2fa-89e78a6aa028\",\"type\":\"DataRange1d\"},{\"attributes\":{\"data_source\":{\"id\":\"74f95471-b635-4177-af9e-c7ca1ef24144\",\"type\":\"ColumnDataSource\"},\"glyph\":{\"id\":\"3dfe0382-8224-4fd1-998e-035106200e8b\",\"type\":\"Segment\"},\"hover_glyph\":null,\"muted_glyph\":null,\"nonselection_glyph\":{\"id\":\"3a67289d-64f4-4fbf-aa67-e4169bf7d1e8\",\"type\":\"Segment\"},\"selection_glyph\":null,\"view\":{\"id\":\"52a06d71-e8bd-473d-a10e-c8551fc97fff\",\"type\":\"CDSView\"}},\"id\":\"fd6eae43-05c4-432b-b345-9889862adb27\",\"type\":\"GlyphRenderer\"},{\"attributes\":{\"callback\":null},\"id\":\"4649e045-b16f-4cf6-995a-853e0bcaf31e\",\"type\":\"DataRange1d\"},{\"attributes\":{\"callback\":null,\"data\":{\"bottom\":{\"__ndarray__\":\"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\",\"dtype\":\"float64\",\"shape\":[801]},\"top\":{\"__ndarray__\":\"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\",\"dtype\":\"float64\",\"shape\":[801]},\"x\":{\"__ndarray__\":\"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\",\"dtype\":\"float64\",\"shape\":[801]}},\"selected\":{\"id\":\"8100581d-7de5-48fb-a70f-a2cd12c710f0\",\"type\":\"Selection\"},\"selection_policy\":{\"id\":\"1bc31dbb-2cf0-4da7-bfb6-5649e2e4a174\",\"type\":\"UnionRenderers\"}},\"id\":\"cf7f1de0-d843-404c-8c88-d7c0052796a5\",\"type\":\"ColumnDataSource\"},{\"attributes\":{},\"id\":\"8cd3e40e-1008-449b-b7a0-08999df46eef\",\"type\":\"LinearScale\"},{\"attributes\":{\"plot\":null,\"text\":\"\"},\"id\":\"233056eb-2a66-439d-900f-f645cd714b20\",\"type\":\"Title\"},{\"attributes\":{},\"id\":\"e90067e7-8204-4c93-9b36-84f3a3c0e68b\",\"type\":\"LinearScale\"},{\"attributes\":{\"bottom\":{\"field\":\"bottom\"},\"fill_color\":{\"value\":\"#F2583E\"},\"top\":{\"field\":\"top\"},\"width\":{\"value\":43200000},\"x\":{\"field\":\"x\"}},\"id\":\"c26939cb-c30d-40ca-a11f-09f9b05edffc\",\"type\":\"VBar\"},{\"attributes\":{\"plot\":{\"id\":\"c47495f5-c2f4-4dac-95d3-f866a954e8d7\",\"subtype\":\"Figure\",\"type\":\"Plot\"},\"ticker\":{\"id\":\"a9863bb6-8fcf-451f-b740-7efcbf236512\",\"type\":\"DatetimeTicker\"}},\"id\":\"cb60d708-e81d-44b7-96e8-ac5f459b397f\",\"type\":\"Grid\"},{\"attributes\":{\"bottom\":{\"field\":\"bottom\"},\"fill_alpha\":{\"value\":0.1},\"fill_color\":{\"value\":\"#1f77b4\"},\"line_alpha\":{\"value\":0.1},\"line_color\":{\"value\":\"#1f77b4\"},\"top\":{\"field\":\"top\"},\"width\":{\"value\":43200000},\"x\":{\"field\":\"x\"}},\"id\":\"aefe49ff-06c2-4360-b41e-7cec3f132ee9\",\"type\":\"VBar\"},{\"attributes\":{\"formatter\":{\"id\":\"19ea3204-5014-4ec9-970b-ed5ce7463463\",\"type\":\"DatetimeTickFormatter\"},\"plot\":{\"id\":\"c47495f5-c2f4-4dac-95d3-f866a954e8d7\",\"subtype\":\"Figure\",\"type\":\"Plot\"},\"ticker\":{\"id\":\"a9863bb6-8fcf-451f-b740-7efcbf236512\",\"type\":\"DatetimeTicker\"}},\"id\":\"a8738074-b844-4179-b318-301556e95d1c\",\"type\":\"DatetimeAxis\"},{\"attributes\":{\"data_source\":{\"id\":\"cf7f1de0-d843-404c-8c88-d7c0052796a5\",\"type\":\"ColumnDataSource\"},\"glyph\":{\"id\":\"c26939cb-c30d-40ca-a11f-09f9b05edffc\",\"type\":\"VBar\"},\"hover_glyph\":null,\"muted_glyph\":null,\"nonselection_glyph\":{\"id\":\"aefe49ff-06c2-4360-b41e-7cec3f132ee9\",\"type\":\"VBar\"},\"selection_glyph\":null,\"view\":{\"id\":\"5c5dc443-0bc0-48bf-a11c-b06a22242149\",\"type\":\"CDSView\"}},\"id\":\"d5581d2d-2d52-4219-8464-46e00809f2da\",\"type\":\"GlyphRenderer\"},{\"attributes\":{\"num_minor_ticks\":5,\"tickers\":[{\"id\":\"a469e364-5eb5-41b0-8548-82c38bc1857a\",\"type\":\"AdaptiveTicker\"},{\"id\":\"08e228d4-ab24-4446-963a-7128f72e68af\",\"type\":\"AdaptiveTicker\"},{\"id\":\"e37896da-5e4e-4879-80fe-ac4f6384fdcc\",\"type\":\"AdaptiveTicker\"},{\"id\":\"e9084afd-1d93-4d21-8d46-39e8c55cbb2b\",\"type\":\"DaysTicker\"},{\"id\":\"7a55a451-c740-4a4e-8acc-bd9092138cb9\",\"type\":\"DaysTicker\"},{\"id\":\"3dde0489-891c-440b-8bcd-bcaa66d42ecb\",\"type\":\"DaysTicker\"},{\"id\":\"bec00635-5967-4dd2-832c-156918f08386\",\"type\":\"DaysTicker\"},{\"id\":\"c4f3e433-a7b4-4fff-b380-ad6038415a84\",\"type\":\"MonthsTicker\"},{\"id\":\"200b0cd6-8163-41e6-9f49-9cd2e22014ba\",\"type\":\"MonthsTicker\"},{\"id\":\"3c46a3bc-bf58-4fd3-b48c-65ffe31f5e7a\",\"type\":\"MonthsTicker\"},{\"id\":\"96cca165-0255-43a6-8592-ac8528eb66cd\",\"type\":\"MonthsTicker\"},{\"id\":\"36823ce4-29a8-4c42-a340-fcbc06920456\",\"type\":\"YearsTicker\"}]},\"id\":\"a9863bb6-8fcf-451f-b740-7efcbf236512\",\"type\":\"DatetimeTicker\"},{\"attributes\":{\"source\":{\"id\":\"cf7f1de0-d843-404c-8c88-d7c0052796a5\",\"type\":\"ColumnDataSource\"}},\"id\":\"5c5dc443-0bc0-48bf-a11c-b06a22242149\",\"type\":\"CDSView\"},{\"attributes\":{\"formatter\":{\"id\":\"8357c5ba-78a1-4052-962d-8cab23abb1dd\",\"type\":\"BasicTickFormatter\"},\"plot\":{\"id\":\"c47495f5-c2f4-4dac-95d3-f866a954e8d7\",\"subtype\":\"Figure\",\"type\":\"Plot\"},\"ticker\":{\"id\":\"49b77703-a419-4c39-a1f9-d2d0d939d5ab\",\"type\":\"BasicTicker\"}},\"id\":\"87eea970-fd0a-41ec-a5ce-c6666f340987\",\"type\":\"LinearAxis\"},{\"attributes\":{\"days\":[1,4,7,10,13,16,19,22,25,28]},\"id\":\"7a55a451-c740-4a4e-8acc-bd9092138cb9\",\"type\":\"DaysTicker\"},{\"attributes\":{},\"id\":\"49b77703-a419-4c39-a1f9-d2d0d939d5ab\",\"type\":\"BasicTicker\"},{\"attributes\":{\"dimension\":1,\"plot\":{\"id\":\"c47495f5-c2f4-4dac-95d3-f866a954e8d7\",\"subtype\":\"Figure\",\"type\":\"Plot\"},\"ticker\":{\"id\":\"49b77703-a419-4c39-a1f9-d2d0d939d5ab\",\"type\":\"BasicTicker\"}},\"id\":\"ddcf56aa-7a3e-43e4-9441-8467bf9ec13e\",\"type\":\"Grid\"},{\"attributes\":{},\"id\":\"19ea3204-5014-4ec9-970b-ed5ce7463463\",\"type\":\"DatetimeTickFormatter\"},{\"attributes\":{\"line_alpha\":{\"value\":0.1},\"line_color\":{\"value\":\"#1f77b4\"},\"x0\":{\"field\":\"x0\"},\"x1\":{\"field\":\"x1\"},\"y0\":{\"field\":\"y0\"},\"y1\":{\"field\":\"y1\"}},\"id\":\"3a67289d-64f4-4fbf-aa67-e4169bf7d1e8\",\"type\":\"Segment\"},{\"attributes\":{\"base\":60,\"mantissas\":[1,2,5,10,15,20,30],\"max_interval\":1800000.0,\"min_interval\":1000.0,\"num_minor_ticks\":0},\"id\":\"08e228d4-ab24-4446-963a-7128f72e68af\",\"type\":\"AdaptiveTicker\"},{\"attributes\":{\"callback\":null,\"data\":{\"x0\":{\"__ndarray__\":\"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\",\"dtype\":\"float64\",\"shape\":[1760]},\"x1\":{\"__ndarray__\":\"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\",\"dtype\":\"float64\",\"shape\":[1760]},\"y0\":{\"__ndarray__\":\"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\",\"dtype\":\"float64\",\"shape\":[1760]},\"y1\":{\"__ndarray__\":\"ZmZmZubvxUCamZmZmYjEQAAAAAAAK8RAMzMzM7PSw0Bcj8L1aDDDQNejcD3KWcJAKVyPwvXLwECuR+F6tIPAQEjhehRuzb9AmpmZmRn7vkCPwvUovDPAQClcj8K1zL5Aj8L1KNzVvUDXo3A9ykS8QPYoXI9CoLdASOF6FK5kukAfhetROF+/QD0K16PQHcBACtejcH10vkBxPQrXIzbBQClcj8K1GMNAmpmZmRmaw0CamZmZmdXFQGZmZmamacZAmpmZmZl2xUBmZmZmJnPEQDMzMzOzmMVAZmZmZubHxECamZmZ2cjDQJqZmZkZAMRAmpmZmRkMxkCamZmZGcTGQM3MzMwM0sVAAAAAAEBfxUDsUbgeJV3CQDMzMzNz6cNAmpmZmdmkykAAAAAAAOrJQDMzMzMzQMtAzczMzAyzyUAzMzMz85jJQJqZmZmZvcpAAAAAAAAszECamZmZGcDLQJqZmZnZa89AZmZmZiZf0EBmZmZmZrHNQJqZmZkZXcxAAAAAAED+zEDNzMzMzLXJQJqZmZlZsclAzczMzMzpyEDNzMzMDB/IQAAAAACA8ctAZmZmZqY4y0BmZmZmJoXNQDMzMzNzZstAMzMzM3NEykCamZmZ2eXIQGZmZmZmAstAAAAAAIAcx0CamZmZWffNQJqZmZnZZs9AmpmZmdne0ECamZmZ+ezRQGZmZmaGh9JAMzMzM9Ma0UAzMzMzUzbQQDMzMzPznM9AmpmZmdlTz0BmZmZm5i7QQGZmZmZmFs5AzczMzEzVyUAzMzMzc7XKQDMzMzNzAMxAZmZmZqZ0y0AzMzMzs0nHQM3MzMxMqsZAZmZmZuakxUAAAAAAADfFQM3MzMyMTMVAMzMzM1PvwkBmZmZmBvnBQHE9CteDwMJAZmZmZiYEw0CPwvUoXETCQFK4HoXLI8FAZmZmZib/v0BI4XoU7gS/QOxRuB7FZr9AH4XrUXiLv0ApXI/CtVK+QI/C9ShcDb9AmpmZmRkOvkA9CtejcCe9QKRwPQoXib1ArkfhepQIvED2KFyPwuq5QAAAAADAPblA16NwPUrUtkD2KFyPAo+1QB+F61E4PLhAhetRuN4kuUDsUbgehb27QOxRuB4FyrtAmpmZmRlvu0DD9ShcT1+7QD0K16MwpbxA4XoUrkd3u0A9Ctej8Fq7QB+F61G4ZrpAexSuR+HpuECuR+F6VNe3QJqZmZnZmLdArkfhepRctkA9CtejMDm2QLgehevRYLZAH4XrUThZtkB7FK5H4RW1QEjhehQugLVAH4XrUXhktkCkcD0KV6C2QLgehesRTbdAFK5H4Tr7tUDD9ShcD5u1QD0K16NwH7RAH4XrUbhgtUApXI/CNai1QI/C9SicZrVAcT0K16PXtUCamZmZ2Ty1QAAAAAAA1rJAexSuR6GPskCamZmZGZ2yQAAAAABA1LFAcT0K16M1sUDNzMzMDOGwQOF6FK6H4LBAzczMzAxEsEBSuB6Fa3KwQHE9CtfjorBAKVyPwnUZsUDD9Shcz62wQI/C9SjcQLBArkfhepSOr0AzMzMzsw2wQHE9CtejWa5AzczMzMw7rkBcj8L1KMOsQM3MzMzMpaxAXI/C9SgVrEDD9ShcD8OrQPYoXI9CO6xAKVyPwnUjrkAK16NwvTmuQEjhehQuDqxA4XoUrkfrqkCuR+F6lD+rQArXo3A9BadAH4XrUbijqECkcD0K15utQD0K16Nw6q9AZmZmZmYDsECuR+F6FN6uQI/C9SgcErBAj8L1KFzWr0CuR+F6VIuxQKRwPQqXGLFAH4XrUTg8r0BmZmZmZgywQKRwPQqXQbFACtejcD11sUDhehSuh0ayQGZmZmZmxbFAXI/C9Wh3sUB7FK5HIQCxQHE9CtejgLBA16NwPUrdsEDsUbgeha2wQJqZmZlZ07BA9ihcj0IisEC4HoXr0dyvQFyPwvUotaxAMzMzMzMpr0D2KFyPwsuvQJqZmZkZBa9AzczMzMxer0ApXI/CtZOwQKRwPQrXNK9Aj8L1KFyErkC4HoXrUSqvQJqZmZmZI65AZmZmZmY7rEAK16NwPViqQD0K16Pw7qlApHA9CldfqUBcj8L1qCOqQOF6FK7H2ahAMzMzMzOnqEBcj8L1qHWmQD0K16Nwb6VA4XoUrkf6pEBI4XoULtmkQB+F61E4+6RAH4XrUThBpUAzMzMzs6mkQJqZmZmZCaVAKVyPwnXvpEBI4XoUrsKjQJqZmZmZJaNAUrgehetho0B7FK5HYRalQHsUrkfhu6RAUrgehWvDpEAzMzMzs3ukQOF6FK7Hu6FAKVyPwnWooUDXo3A9iumgQBSuR+F6Mp5AhetRuB7MnEBxPQrXoxmfQD0K16NwDqFAXI/C9ahJokDhehSuR8ahQIXrUbie8aFA9ihcj0IiokBI4XoULqujQIXrUbieeKNACtejcL2Fo0B7FK5HYSukQJqZmZkZ1aNAMzMzM7P+o0A9Ctej8GCjQEjhehSutaJAKVyPwnXmokCPwvUo3FyjQClcj8L1nKNApHA9Ctdoo0AUrkfh+jmiQK5H4XqUkKJACtejcD3wo0B7FK5HYS6kQArXo3C9JKVAH4XrUbikpEDNzMzMzMikQHE9CtejO6RAw/UoXA/qo0Bcj8L1qKijQFK4HoXraaNAzczMzEyiokBSuB6F60mhQHsUrkfh2aJA9ihcj8K0pECF61G4Hq2jQMP1KFwPMaZAmpmZmRl1pUAK16NwPdelQGZmZmbm3aRAhetRuB4ZpUBI4XoUrgWlQD0K16NwnKNArkfhehQpo0BxPQrXI++iQHE9CtejiqJAXI/C9ajgoUBxPQrXI8OgQHE9CtcjmaBApHA9Cld2oEBcj8L1KAygQLgehetR/5xAFK5H4fovoECamZmZmdqhQArXo3C9IqJAAAAAAAAFoUAUrkfheoefQAAAAAAA1p9ASOF6FK7bnkAAAAAAAImdQBSuR+F6PJxAcT0K16P3mUBcj8L1KFqaQFyPwvUosppAFK5H4XrCm0C4HoXrUcyZQNejcD0KeJpAZmZmZmZtm0BmZmZmZtyaQDMzMzMz0ZpASOF6FK7zmEDXo3A9Cl+YQAAAAAAAGphACtejcD3pl0B7FK5H4UqXQClcj8L1nZZA9ihcj8IelkAzMzMzMxGVQEjhehSui5RApHA9CteMlEAUrkfhejGUQDMzMzMzBZRAH4XrUbjHk0B7FK5H4YeTQOxRuB6F5pJA9ihcj8LPkkB7FK5H4eGSQArXo3A9/pJAcT0K16PhkkC4HoXrUdSSQK5H4XoUp5JAmpmZmZlSkkA9CtejcFKSQKRwPQrXM5JAXI/C9SgfkkD2KFyPwhGSQNejcD0Ks5JApHA9CteNkkBcj8L1KGySQD0K16NwT5JAuB6F61EqkkDD9Shcjy2SQArXo3A9l5FA7FG4HoVmkUCuR+F6FIKRQM3MzMzMO5FAzczMzMzNkECPwvUoXJSQQMP1KFyPCpBAuB6F61Hgj0DXo3A9Cr+PQFK4HoXrDpBApHA9CtdfjkDsUbgehdGNQEjhehSuPYxAexSuR+EyjUAfhetRuBOQQEjhehSusY9APQrXo3B9kEAfhetRuDKQQKRwPQrXhY5AMzMzMzPtjUDhehSuRy6RQPYoXI/CAZJAAAAAAABfk0B7FK5H4RKTQIXrUbgeBJNAPQrXo3BdkkDhehSuR3GRQAAAAAAA1ZBAUrgehevUkUC4HoXrUfCRQDMzMzMz05JAZmZmZmbCk0AK16NwPViTQNejcD0KOpNApHA9CteKk0AUrkfhev6SQPYoXI/CbpJA4XoUrkdPkkDsUbgehS2SQM3MzMzMqJFAj8L1KFySkUCkcD0K16+RQKRwPQrXc5FAMzMzMzMykUAfhetRuNOQQPYoXI/CRpBApHA9CtdNkECkcD0K11uQQMP1KFyPBpBAMzMzMzN9j0BxPQrXo0yPQPYoXI/C045AAAAAAACAjkCPwvUoXCePQHE9Ctejto5A7FG4HoWVjUAfhetRuMqNQClcj8L1NZBAw/UoXI9AkEBxPQrXoxCQQClcj8L18o9A4XoUrke5j0C4HoXrUYaPQPYoXI/CuY5AUrgehetVjkBI4XoUrseMQPYoXI/Cu4xAMzMzMzO5jEAUrkfher6MQM3MzMzMnoxA9ihcj8IxjEDsUbgehd2LQLgehetR4otAUrgeheuljEAUrkfhegyMQArXo3A9/ItArkfhehS4i0AfhetRuKKLQGZmZmZm0opAZmZmZmb2iUBcj8L1KKKJQClcj8L1ZolASOF6FK5jiUAAAAAAAGCIQK5H4XoUnodArkfhehTWh0AUrkfheiiMQBSuR+F6fotAAAAAAAC6i0AUrkfheryJQOxRuB6Fn4tAj8L1KFxzjECamZmZmVGQQM3MzMzM7I9AmpmZmZklj0CamZmZmfWNQFK4HoXrmY1AcT0K16M2jUAAAAAAANSNQHE9CtejNo1AAAAAAABCjEAzMzMzMweMQI/C9Shc84pAH4XrUbiyi0A9CtejcAWLQDMzMzMzEYpAMzMzMzP7iEAAAAAAALyIQMP1KFyPsohACtejcD2giEB7FK5H4YaIQEjhehSuV4hAZmZmZmZOiEAfhetRuEaIQEjhehSuT4hAuB6F61EQiEDhehSuR+uHQOF6FK5HJ4hAMzMzMzMNiECamZmZme+HQAAAAAAAvodA9ihcj8K1h0BI4XoUrn2HQOF6FK5HAYhAexSuR+Hmh0C4HoXrUayHQGZmZmZmUIdArkfhehQCh0AUrkfhevSGQKRwPQrX44ZAH4XrUbjYhkDXo3A9Cs2GQB+F61G49IZAUrgehevrhkCPwvUoXBeHQArXo3A9BIdArkfhehTUhkDsUbgehW+GQPYoXI/CQ4dAhetRuB4Hh0CuR+F6FByHQLgehetRKIZArkfhehQKhkAUrkfhet6FQMP1KFyPeoVACtejcD0AhkDhehSuR1OGQEjhehSuOYZAexSuR+EkhkCF61G4HvOFQDMzMzMz34VAFK5H4XrchUBSuB6F682FQBSuR+F6bIVA4XoUrkcxhUDNzMzMzJKGQB+F61G46oVAPQrXo3CdhUCkcD0K18OFQGZmZmZmkIVA4XoUrkdhhUC4HoXrUTCFQD0K16NwjYRAmpmZmZlthEDNzMzMzGSEQIXrUbgeb4RAzczMzMzGg0DsUbgehbWDQK5H4XoUooNArkfhehSgg0AAAAAAAOCDQOF6FK5H9YNAMzMzMzP3g0CF61G4HuuDQK5H4XoU6INACtejcD3Yg0D2KFyPwt+DQAAAAAAAVINAmpmZmZlBg0B7FK5H4USDQB+F61G4SoNAw/UoXI8eg0D2KFyPwhuDQClcj8L1DINApHA9CtcLg0BI4XoUrhODQD0K16NwDYNAPQrXo3APg0CF61G4HuGCQM3MzMzM5oJAexSuR+HkgkB7FK5H4eCCQM3MzMzMwoJASOF6FK69gkC4HoXrUdCCQLgehetRnoJASOF6FK6hgkDXo3A9Cp+CQOxRuB6F/4JAXI/C9SgCg0B7FK5H4e6CQOxRuB6F6YJAUrgehev1gkAzMzMzM/mCQOF6FK5HA4NAj8L1KFz3gkDhehSuR+uCQK5H4XoUxIJAhetRuB5zg0CuR+F6FGKDQB+F61G4LoNArkfhehQEg0AfhetRuOiCQFK4HoXr0YJAzczMzMymgkAUrkfhevCBQBSuR+F61oFAFK5H4XregUCF61G4Hu2BQHsUrkfh8IFA9ihcj8LrgUBSuB6F682BQNejcD0KxYFAexSuR+EGgkCPwvUoXPmBQHsUrkfhHoJA16NwPQotgkAfhetRuCSCQPYoXI/CIYJASOF6FK77gUA9CtejcPGBQD0K16Nw64FAPQrXo3DbgUD2KFyPwrWBQFK4HoXrmYFACtejcD2mgUCkcD0K10eCQBSuR+F6PoJAKVyPwvVogkApXI/C9VKCQLgehetRRoJAZmZmZmZggkDD9Shcj1aCQPYoXI/Cy4FApHA9CtfPgUAK16NwPa6BQGZmZmZm7IBAcT0K16OagEDXo3A9Cu+CQClcj8L1goNASOF6FK5xhEC4HoXrUXaEQFK4HoXrc4RAmpmZmZlDhEDXo3A9Ci+EQIXrUbgea4RAuB6F61FmhEBcj8L1KESEQPYoXI/CNYRA4XoUrkejhEB7FK5H4bqEQNejcD0K3YRA16NwPQrlhEBSuB6F66+EQHE9CtejmoRAuB6F61GYhECPwvUoXGeEQPYoXI/Cc4RACtejcD02hECkcD0K1yeEQK5H4XoUCoRAMzMzMzPLg0D2KFyPwuODQHE9CtejHoNAj8L1KFzzhEDD9Shcj8iEQK5H4XoUVIRArkfhehRIhEAzMzMzMyOFQB+F61G47IRAexSuR+Hkg0AK16NwPaKDQFyPwvUo7oNAXI/C9Shkg0A9CtejcEeDQBSuR+F6NIRAXI/C9SiKg0CF61G4HnGBQKRwPQrXW4JAw/UoXI/4g0CkcD0K1+WGQNejcD0KTYdAPQrXo3DvhkAUrkfhemSGQFyPwvUoxIVAFK5H4XoEhUBmZmZmZraEQFK4HoXrw4RAuB6F61H4gkCPwvUoXBWCQHE9Ctej6oFAmpmZmZnXgUDXo3A9CumBQK5H4XoUvIFAzczMzMz0gUA9CtejcMmBQFK4HoXroYFAj8L1KFzHgEBxPQrXo6iAQIXrUbgebYBA4XoUrkdFgEBI4XoUrleAQD0K16NwAYBAMzMzMzOLfUC4HoXrUVh8QGZmZmZm/ntAKVyPwvXge0B7FK5H4b57QIXrUbgebXtAcT0K16Nwe0CPwvUoXJt7QArXo3A9VntAj8L1KFxre0DNzMzMzFR8QPYoXI/CWXxA16NwPQpPfECPwvUoXHd8QHE9CtejbHxAMzMzMzNXfEAAAAAAABR8QPYoXI/CLXxAMzMzMzMPfEAUrkfheoh8QEjhehSuf3xAhetRuB6VfECF61G4HvF7QK5H4XoU3ntArkfhehTae0BSuB6F66l7QBSuR+F6nHtAexSuR+H+e0AzMzMzM/t7QLgehetR4HtAZmZmZmZKe0CuR+F6FMJ7QFK4HoXr2XxAPQrXo3BZfEB7FK5H4Q58QOF6FK5HxXtAZmZmZmbCe0AzMzMzM497QMP1KFyPJntAmpmZmZnBekA9CtejcLF6QOF6FK5HoXpASOF6FK7PekB7FK5H4YZ6QFyPwvUocHpAH4XrUbhuekA9CtejcG16QBSuR+F6SHpAXI/C9Sg0ekBcj8L1KAh6QK5H4XoUOnpAuB6F61FIekBI4XoUrmt6QPYoXI/CSXpAmpmZmZk5ekAzMzMzMzt6QB+F61G4JnpA4XoUrkf9eUBcj8L1KPR5QAAAAAAAyHlAexSuR+HKeUBxPQrXo3R6QI/C9ShcG3pAXI/C9SgEekApXI/C9fh5QKRwPQrX93lA9ihcj8IVekAUrkfhesh5QK5H4XoUpnlAZmZmZmameUBI4XoUrnN5QArXo3A9YnlACtejcD0eekDD9Shcj/55QKRwPQrX73lAMzMzMzPjeUAK16NwPbp5QD0K16NwoXlAXI/C9SgQekAAAAAAANR5QPYoXI/CuXlAPQrXo3CxeUApXI/C9WR5QBSuR+F6vHhAcT0K16OgeEDXo3A9Cq95QMP1KFyPNnpApHA9Ctd/ekCF61G4HgV7QNejcD0K+3pAhetRuB59ekCamZmZmcF6QFK4HoXrWXpAH4XrUbhGekDD9Shcj955QIXrUbgeHXpAH4XrUbgOe0DhehSuR9F6QJqZmZmZWXpAmpmZmZkZekAK16NwPfp5QBSuR+F6bHlAexSuR+EWeUAAAAAAANx4QHsUrkfhjnhACtejcD0KeECamZmZmbl3QGZmZmZmhndAFK5H4Xp8d0BmZmZmZk53QOF6FK5HVXdAZmZmZmZud0AK16NwPUZ3QIXrUbgeGXhApHA9Ctcfd0DNzMzMzAB3QB+F61G4TndAj8L1KFz/dkDhehSuR/12QKRwPQrXh3dAMzMzMzPXdkCkcD0K17t3QBSuR+F6fHhAhetRuB5peEDNzMzMzEh4QFyPwvUoOHhASOF6FK7fd0AUrkfhenR3QM3MzMzMZHlAmpmZmZmJd0DsUbgeha93QB+F61G4indAPQrXo3DBd0DD9Shcjy52QOF6FK5HxXZAmpmZmZm9ekDXo3A9Cod6QNejcD0KO3tA9ihcj8K9e0CamZmZmYV7QArXo3A97ntA16NwPQr/e0DhehSuR9F6QD0K16NwpXpAexSuR+HaekDhehSuR9F6QI/C9Shci3pAUrgehev9ekBcj8L1KLh6QKRwPQrXK3pA4XoUrkdhekCuR+F6FEp6QEjhehSuJ3pArkfhehSOeUBcj8L1KFx5QIXrUbgeQXxA4XoUrkexe0BSuB6F60l7QLgehetROHtAKVyPwvW0ekA9CtejcCV7QFyPwvUojHxA16NwPQpvfED2KFyPwg18QJqZmZmZvXtArkfhehS+e0CPwvUoXOd6QLgehetRpHpApHA9CtereUAUrkfhevR5QM3MzMzMuHlAcT0K16NkeUAzMzMzM194QMP1KFyPFnhAPQrXo3AxeEBI4XoUrrN2QFyPwvUoPHZAw/UoXI9WdkCPwvUoXNd1QClcj8L1SHZArkfhehQmd0AfhetRuDp2QB+F61G4AnZAUrgeheu9dUBI4XoUroN0QLgehetRzHNAUrgehevhc0BxPQrXoxR0QFyPwvUoFHRAmpmZmZn5c0DsUbgehYNzQLgehetRVHRACtejcD2qdED2KFyPwpl0QGZmZmZmvnNApHA9CtfXc0DsUbgehZ90QIXrUbgeYXRA9ihcj8KVc0AAAAAAANByQPYoXI/CkXRACtejcD2udkAzMzMzMwt3QHsUrkfhRndAuB6F61EgdkDhehSuR2l3QM3MzMzMyHdAZmZmZmZadkCPwvUoXDN0QK5H4XoUfnNAAAAAAABUc0DXo3A9Cp9zQIXrUbge3XJAMzMzMzNbckBcj8L1KNBxQFyPwvUoiHFA16NwPQqXcUAAAAAAAEhxQHE9CtejGHFArkfhehSicEA9CtejcH1wQEjhehSuc3BAMzMzMzNPcEAUrkfhekxwQFK4HoXrZXBA9ihcj8K9b0CamZmZmYFvQM3MzMzMHG9AuB6F61F4bkD2KFyPwqVuQM3MzMzMhG5ACtejcD1ibkCkcD0K10NuQPYoXI/CRW5AexSuR+FSbkAUrkfhegRuQClcj8L1oG1ArkfhehS+bUCuR+F6FJ5tQDMzMzMzk21ApHA9CtdzbUBcj8L1KHRtQPYoXI/CfW1A16NwPQoPbUCPwvUoXA9tQOxRuB6FK21A9ihcj8I1bUDhehSuR8lsQHsUrkfhsmxApHA9CtcjbEBxPQrXo1BsQIXrUbge3WxAexSuR+HibECuR+F6FAZtQPYoXI/CnWxAzczMzMxsbEAK16NwPbpsQB+F61G4fmxAw/UoXI+qbEAAAAAAAFhtQMP1KFyPym1A4XoUrkd5bUAK16NwPbptQPYoXI/C9W1A16NwPQrXbUD2KFyPwlVtQK5H4XoUrmxAmpmZmZlhbEA9CtejcFVsQNejcD0KT2xA7FG4HoVbbECF61G4Hj1sQAAAAAAASGxAw/UoXI9qbED2KFyPwp1rQPYoXI/C9WtAZmZmZmaGa0AK16NwPfJoQK5H4XoUTmpAw/UoXI8ybEBmZmZmZtZrQNejcD0K92xAzczMzMxcbEBxPQrXo9hrQMP1KFyPYmpAUrgehesRcEBxPQrXoxBwQM3MzMzMVHBASOF6FK5XcEA9CtejcG1wQOxRuB6Fl3BAPQrXo3CBcECamZmZmWlwQOxRuB6FR3BAj8L1KFxLcEBSuB6F60VxQGZmZmZmZnFApHA9CteXcUBI4XoUrpNxQEjhehSug3FAFK5H4XpYcUD2KFyPwmFxQD0K16NwpXFAhetRuB7pcUAUrkfhegxyQB+F61G4VnJAMzMzMzP3cUCPwvUoXPtxQAAAAAAA4HFAAAAAAAA0cUDsUbgehTtxQK5H4XoUJnFAH4XrUbg2cUCPwvUoXA9xQFyPwvUoCHFAhetRuB4hcUBxPQrXowBxQKRwPQrXM3FAUrgehevVcUAK16NwPepxQFyPwvUokHFAAAAAAABIckAUrkfherhxQM3MzMzMzHBAPQrXo3CxcEAK16NwPYZwQOF6FK5HjXBAmpmZmZm5cEAzMzMzMytwQGZmZmZmxm9AAAAAAACwb0CkcD0K18NvQHE9Ctej+G9AZmZmZmb+b0DD9ShcjxJvQPYoXI/C7W5ApHA9CtdjbkCamZmZmTFuQKRwPQrXC25AuB6F61EQbkBcj8L1KGRuQClcj8L1eG5AXI/C9Sg8bkBcj8L1KBRuQOF6FK5HeW5AXI/C9SiEbkCPwvUoXM9uQKRwPQrXg21APQrXo3AtbUAAAAAAAABtQB+F61G4pmxAUrgeheupbEBxPQrXo5hsQLgehetRgGxA9ihcj8J9bEB7FK5H4dprQM3MzMzM1GtAXI/C9SgMbED2KFyPwuVrQJqZmZmZAWxA9ihcj8L9a0A9CtejcM1rQJqZmZmZqWtA4XoUrkexbECamZmZmQFtQI/C9Shcd21AzczMzMyUbUCuR+F6FJZtQK5H4XoUdm1AFK5H4XqUbUBSuB6F69ltQK5H4XoU1m1AUrgehethbUB7FK5H4TptQHsUrkfh+mxACtejcD36bEAfhetRuA5tQLgehetRgG1A4XoUrkdpbUDhehSuR5ltQFK4HoXrQW1A4XoUrkdhbUAzMzMzMwNuQFyPwvUo7G1AMzMzMzPbbUAUrkfhevRtQHE9CtejiG1ACtejcD2SbECPwvUoXKdsQJqZmZmZAW1AUrgeheu5bUDD9Shcj0JtQHsUrkfhCm1Aw/UoXI8CbUBI4XoUrh9sQPYoXI/C7WtACtejcD3ia0BxPQrXo0BrQKRwPQrX22pAexSuR+FKbED2KFyPwr1sQGZmZmZmJm1Aj8L1KFwvbUCamZmZmQlsQI/C9Shcv2tApHA9CtfLa0Bcj8L1KJxrQK5H4XoUvmtAPQrXo3D9a0DNzMzMzFRrQArXo3A9CmtAAAAAAADAa0AAAAAAADBtQPYoXI/CRW1AcT0K16MYbUDNzMzMzOxtQNejcD0Kh25AH4XrUbiGb0AK16NwPdJvQK5H4XoUfm9AMzMzMzNjb0Bcj8L1KHxvQD0K16NwrW5AhetRuB4lbkBI4XoUrlduQB+F61G45m1AMzMzMzMbbkDXo3A9Ct9uQB+F61G4pm5AhetRuB6dbkC4HoXrUZBtQIXrUbgehW5AAAAAAABccEA9CtejcDlwQM3MzMzM9G9Aw/UoXI8ycEAUrkfhehRvQKRwPQrXO29AUrgehevFcUDXo3A9CttxQAAAAAAAkHFASOF6FK6PcUA9CtejcNVxQMP1KFyPRnJAXI/C9SgockCkcD0K1xtyQArXo3A9HnFAKVyPwvUIcUCuR+F6FOJwQFyPwvUo4HBAuB6F61GMcECuR+F6FMJwQMP1KFyPwnBAKVyPwvUkcED2KFyPwr1uQI/C9ShcL29ArkfhehSObUC4HoXrUUhtQClcj8L1cG1AzczMzMyMbUA9CtejcA1tQDMzMzMzO21A9ihcj8JlbkCamZmZmeltQHsUrkfhcm1AexSuR+EKbUBSuB6F6wltQHE9CtejoGxA9ihcj8J1bEApXI/C9XBtQLgehetRqGtA7FG4HoUza0AK16NwPUJrQMP1KFyP6mpAcT0K16Mga0DD9Shcj6JrQOxRuB6F02tAj8L1KFwHa0DXo3A9CtdqQOxRuB6Fo2tAj8L1KFwPbECF61G4HtVrQLgehetRgGpAUrgehesJa0B7FK5H4TpsQB+F61G4lmtAmpmZmZlhbEDNzMzMzFRvQMP1KFyPwm9AFK5H4Xp8bkBxPQrXo8BsQGZmZmZmJmxA9ihcj8JNbEAfhetRuGZqQM3MzMzMpGlACtejcD3qaUC4HoXrUVBoQFyPwvUoXGhAcT0K16P4aEDNzMzMzBxmQLgehetRcGVAhetRuB59a0AzMzMzM5NwQHE9CtejkHBA7FG4HoUfcUAUrkfheohxQHsUrkfhonFA4XoUrkexcUAzMzMzMwtxQOF6FK5HkXBA9ihcj8IZcEDhehSuR5FxQClcj8L1mHNAAAAAAACgc0CPwvUoXGNzQFK4HoXrVXNAKVyPwvWEc0DhehSuR3FzQK5H4XoUinNArkfhehTKc0CPwvUoXM9zQPYoXI/CFXRAmpmZmZmZdEB7FK5H4QZ0QGZmZmZm7nNAcT0K16PAc0C4HoXrUSxzQEjhehSuA3NAZmZmZmayc0ApXI/C9XB0QHsUrkfhjnVAH4XrUbiWdUA9CtejcKl1QHE9Ctej1HVAXI/C9SgsdUBSuB6F66V1QDMzMzMzj3VACtejcD2edkC4HoXrUVR3QNejcD0KL3dAXI/C9SjcdkBcj8L1KPx2QJqZmZmZZXdA9ihcj8Kdd0AfhetRuIp3QClcj8L1VHdACtejcD1Cd0AzMzMzM2d2QBSuR+F6BHdAhetRuB7ddkAUrkfhemx3QB+F61G46nZAexSuR+ESdkCuR+F6FO51QPYoXI/CgXVAFK5H4XpMdkBmZmZmZl53QFK4HoXrMXdAAAAAAACYd0CamZmZmWl3QFyPwvUoMHdAcT0K16MMeEBSuB6F6xF5QKRwPQrX/3ZApHA9Cte7dkApXI/C9Vh2QAAAAAAAhHVAZmZmZmZidUAUrkfhelx1QB+F61G4JnVAexSuR+GqdEDhehSuR1F0QEjhehSuV3RArkfhehQKdEApXI/C9RB0QArXo3A9EnVAhetRuB7xdEA9CtejcPV0QHsUrkfhCnZAKVyPwvXcdUB7FK5H4X51QK5H4XoUbnVAKVyPwvUUdkAzMzMzM0d2QAAAAAAA5HdA4XoUrkfNd0AAAAAAAKR3QI/C9ShcJ3hA7FG4HoWvd0AK16NwPXZ3QIXrUbgeUXdAuB6F61FMeECF61G4HnV4QGZmZmZmDndACtejcD1CdkAzMzMzMz92QI/C9ShcD3ZA16NwPQq7dUDXo3A9CnN0QEjhehSuB3RAKVyPwvXockDNzMzMzBRyQArXo3A9XnRA9ihcj8JddkAzMzMzM093QBSuR+F6zHdA16NwPQpXd0CkcD0K10N3QOF6FK5HZXdAUrgehevVeEBcj8L1KAB5QOxRuB6Fl3lArkfhehRSekAzMzMzM8N4QK5H4XoU0nhAexSuR+GSeECuR+F6FF54QBSuR+F6CHhAmpmZmZnReUAfhetRuEZ8QK5H4XoUEn1AuB6F61GgfUBSuB6F68F9QJqZmZmZsX1AXI/C9SiQfUD2KFyPwql9QArXo3A9sn1AFK5H4Xo8fUBxPQrXo0x9QBSuR+F6JH5AAAAAAAAwfkD2KFyPwhl+QD0K16Nw0X1Aj8L1KFzDfUCF61G4HoV9QMP1KFyPfn1AKVyPwvWsfUAK16NwPVp/QIXrUbgefX9ArkfhehSuf0AfhetRuO5/QHE9CtejaH9ASOF6FK4zf0CamZmZmRV/QPYoXI/CwX5AuB6F61FUf0AzMzMzM+d/QFyPwvUoOH1AcT0K16N4fECamZmZmb17QK5H4XoUOn5ApHA9Ctd7fkB7FK5H4X5+QEjhehSuK39Aj8L1KFylgEDNzMzMzLSBQGZmZmZm8IFA7FG4HoVfgkDXo3A9Cl2CQLgehetRZoJAZmZmZmZAgkDNzMzMzDiCQM3MzMzMQIJAUrgehes9gkAzMzMzMy2CQDMzMzMzUYJA16NwPQo9gkCuR+F6FKSBQDMzMzMzp4FAmpmZmZktgkA9CtejcPmBQD0K16Nwi4JASOF6FK6PgkCkcD0K16mCQMP1KFyPnIJAuB6F61FSg0BI4XoUrmeDQHsUrkfhWINAXI/C9Sh2g0DNzMzMzISDQPYoXI/CY4NAMzMzMzMDg0BxPQrXozqDQNejcD0KXYNAw/UoXI9Kg0DhehSuR4eDQKRwPQrXl4NAXI/C9Sg+g0DNzMzMzCKDQM3MzMzMdINA4XoUrkdng0CuR+F6FEiDQOF6FK5HuYNAAAAAAACgg0AzMzMzM6uDQGZmZmZmCoRAH4XrUbjyg0B7FK5H4QCEQNejcD0Kv4JA4XoUrkehgkCPwvUoXJ+CQNejcD0KH4JApHA9CtelgUDXo3A9Cq2BQHsUrkfhMoJAH4XrUbhSgkDXo3A9CpWCQFK4HoXrXYJArkfhehRegkBcj8L1KKiCQDMzMzMz44JAMzMzMzNzgkDD9Shcj1iCQIXrUbgeV4FAw/UoXI8ugUCamZmZmU2CQFyPwvUo6oFAZmZmZmbEg0AUrkfhejSEQIXrUbgeI4RA9ihcj8JrhEDhehSuRyeEQGZmZmZmYoRAH4XrUbgAhEAfhetRuICDQArXo3A9VoRAAAAAAABWg0DhehSuR1+DQPYoXI/C44JA4XoUrkfBgUDNzMzMzIyBQB+F61G4oIFAPQrXo3BTgUBxPQrXo6qBQKRwPQrXaYBACtejcD0igEBxPQrXo0CAQNejcD0Ko35ApHA9Ctc3fkBcj8L1KOB7QJqZmZmZsXtAFK5H4XrMe0DNzMzMzPR7QI/C9Shcz3tArkfhehS6e0AAAAAAAIh7QOxRuB6FT3tASOF6FK4je0BmZmZmZhZ7QOxRuB6FB3xACtejcD2Ce0AK16NwPWJ7QDMzMzMzx3pAAAAAAAB0ekBSuB6F67l6QM3MzMzM4HpAexSuR+HqekBmZmZmZrZ7QK5H4XoU+ntAMzMzMzNLe0B7FK5H4TJ7QNejcD0Kb3pACtejcD1Ge0CamZmZmRF8QDMzMzMzr3tAMzMzMzMvfkCF61G4Hl1+QOF6FK5HeX5AMzMzMzPTfkA9CtejcK1+QClcj8L1aH1ApHA9CteLfUBSuB6F601+QBSuR+F6bH9AcT0K16NYfEBSuB6F63V5QAAAAAAAtHhAcT0K16P8eUC4HoXrUfR1QEjhehSua3ZAexSuR+Gee0D2KFyPwuF7QFK4HoXr0XtA7FG4HoVPfEAzMzMzM8N7QD0K16Nw0XpACtejcD3ueUC4HoXrUfR6QAAAAAAAkHxAUrgeheu1e0B7FK5H4cJ7QEjhehSum35ASOF6FK6TfUCkcD0K13N9QEjhehSu14FAexSuR+HkgUBcj8L1KD6BQNejcD0Kh4FAhetRuB5TgUAUrkfheo6BQFK4HoXrW4JAzczMzMwIg0BmZmZmZt6CQHsUrkfhRoNAexSuR+Ggg0BmZmZmZpqDQEjhehSumYNAzczMzMy2g0CuR+F6FKyDQB+F61G4VoNAXI/C9Sg4g0DNzMzMzCKDQEjhehSu44JAzczMzMxCg0C4HoXrUU6EQArXo3A9MoRAPQrXo3B9hEBcj8L1KISBQFyPwvUoSoFAuB6F61HagECPwvUoXAmBQClcj8L1tIFAcT0K16OkgEDD9Shcj0Z6QJqZmZmZ1YBAmpmZmZm9gkBxPQrXo3SBQPYoXI/Ck4BAhetRuB5hgUCamZmZmVWDQLgehetRJINAFK5H4Xr6gkCPwvUoXEGCQB+F61G4xoNAuB6F61HogEDhehSuR8+CQLgehetRGIRA4XoUrkflg0AAAAAAADSBQAAAAAAAeoRAKVyPwvWuhEDNzMzMzHKEQB+F61G4FIhA4XoUrkdfiUDsUbgehaeJQPYoXI/COYlAj8L1KFyliUB7FK5H4diJQM3MzMzMZIlAFK5H4Xr4iEDNzMzMzE6JQKRwPQrX94dAexSuR+Goh0B7FK5H4WaKQEjhehSux4hAcT0K16N8iEDD9Shcj5qJQHsUrkfhKopAPQrXo3C/ikApXI/C9a6KQArXo3A9zIlAw/UoXI+AiUDXo3A9Cu2IQNejcD0KHYpAexSuR+H2iUDhehSuR82JQGZmZmZmMIlAj8L1KFyZikD2KFyPwu2KQM3MzMzMtIlAhetRuB4hiUA9CtejcEGIQAAAAAAAEIlASOF6FK5NjEBcj8L1KLSKQI/C9ShcDYlAKVyPwvWoiEBI4XoUrvmHQPYoXI/Cl4dAj8L1KFwRh0BSuB6F6yGHQOxRuB6FU4ZAzczMzMwKhkDNzMzMzEyGQOxRuB6FX4VApHA9CtdLhEBI4XoUri2EQLgehetRGINAhetRuB5NgkCPwvUoXBmCQHE9CtejmoJACtejcD1uf0Bcj8L1KEh6QNejcD0Kt4NAAAAAAADihEAAAAAAAMiJQHsUrkfh0opAZmZmZmbgikCamZmZmWeKQKRwPQrXEYpAw/UoXI/ii0AzMzMzM2eIQNejcD0K94RA9ihcj8IBhECamZmZmeuJQHsUrkfhCIxAcT0K16O4kEBI4XoUrpmPQOF6FK5HU41Aw/UoXI8OiUA9CtejcEqRQIXrUbgeRY9Aj8L1KFwRjkA9CtejcN2LQGZmZmZmBolAPQrXo3CTh0ApXI/C9ZaGQJqZmZmZHYhA16NwPQrhhEC4HoXrUQqCQDMzMzMzB3xACtejcD2GfEDXo3A9Cu9+QKRwPQrXg3tAhetRuB75eUD2KFyPwsF4QNejcD0Ks3hAzczMzMx8dkDNzMzMzGx1QBSuR+F6fHNApHA9CtdTcUCPwvUoXPtzQHsUrkfhjnJAzczMzMxYcEApXI/C9ZhuQNejcD0KR2xArkfhehS+akBI4XoUrn9pQM3MzMzMNGlAXI/C9ShEaUAzMzMzM9toQNejcD0K/2hAmpmZmZnRaEBSuB6F6wFoQDMzMzMzE2ZAAAAAAAD4ZUAAAAAAABBlQHE9CtejEGVAXI/C9SgMaEDNzMzMzNRmQJqZmZmZ2WVAZmZmZmYeZUBmZmZmZnZjQArXo3A9MmJAhetRuB7NYUD2KFyPws1hQFyPwvUoZGFAzczMzMxcYUCamZmZmdFgQFK4HoXrUWBAFK5H4Xo0YEC4HoXrUShgQIXrUbgeZV9APQrXo3AtX0DXo3A9CpdfQJqZmZmZiV9AKVyPwvUAYEAK16NwPdpeQBSuR+F69FtAAAAAAACQWUCamZmZmXFgQHE9CtejSGBAH4XrUbjWYEBSuB6F65FgQEjhehSuD2BAFK5H4XrUX0CF61G4HtVfQClcj8L1WF9ACtejcD1qX0D2KFyPwqVfQI/C9Shcj19A7FG4HoWrX0BmZmZmZg5gQOF6FK5HUWBAKVyPwvU4X0BxPQrXozhgQLgehetRCGBApHA9CtcbYEBxPQrXo4hgQFK4HoXreWBA4XoUrkfRXkCamZmZmXlfQAAAAAAA8F1Aj8L1KFwfXkA9CtejcJ1dQJqZmZmZyV1AhetRuB51XkDXo3A9CudeQAAAAAAAoGBAFK5H4XrcYEBSuB6F69lgQNejcD0Kl2BAj8L1KFw/XkA9CtejcI1eQEjhehSup15AFK5H4XoEXkDsUbgehftdQHsUrkfhyl1A4XoUrkeBXUBcj8L1KJxdQGZmZmZmJl5A7FG4HoXrXUBxPQrXo2BdQOF6FK5H8VtAAAAAAAAAXECuR+F6FA5bQOF6FK5HIVtAAAAAAABAW0AAAAAAAABbQJqZmZmZKVpAAAAAAADgWUAAAAAAALBZQArXo3A9mllAXI/C9Sh8WUBxPQrXo1BZQAAAAAAAsFpApHA9CtdjWkAAAAAAAEBaQOF6FK5H4VlAAAAAAACAWUA9CtejcE1ZQHE9CtejwFlAuB6F61H4WUCuR+F6FB5ZQM3MzMzMnFhAAAAAAACAV0AAAAAAAEBXQAAAAAAAAFhASOF6FK53V0AAAAAAAEBXQGZmZmZm5lZAhetRuB6FVkAAAAAAAABWQOF6FK5HUVZAMzMzMzPzVUDNzMzMzIxVQOxRuB6FC1hAKVyPwvUIWEDXo3A9CkdXQNejcD0KN1dApHA9CtcDVkB7FK5H4QpWQIXrUbgeRVVAzczMzMwMU0DhehSuRyFSQGZmZmZmJlJASOF6FK6nUEAUrkfherRQQFK4HoXrYVBAAAAAAAAAUkAfhetRuD5TQHE9Ctej4FVAMzMzMzOTVUCuR+F6FI5XQAAAAAAAQFdAhetRuB4VV0BmZmZmZkZZQMP1KFyPsllAcT0K16NAWUAfhetRuD5ZQB+F61G4jlpAcT0K16PgWkBcj8L1KOxaQAAAAAAA4FpAAAAAAABwWkBSuB6F60FZQAAAAAAAwFhAzczMzMy8WEAAAAAAAIBYQAAAAAAAgFhAUrgeheshWUAfhetRuK5aQAAAAAAAAFpAAAAAAADAV0AAAAAAACBWQDMzMzMz01pAexSuR+GaWkAAAAAAAFBdQJqZmZmZ+V1AZmZmZmbGXUAAAAAAAABdQDMzMzMzw1xAzczMzMzMX0CamZmZmZlfQAAAAAAAwF9ACtejcD3qX0BmZmZmZmZfQM3MzMzMLF9ApHA9CtdTYEDNzMzMzBxgQK5H4XoUbl9AZmZmZmbGXkAAAAAAAIBeQD0K16NwTV5ASOF6FK4HXkAUrkfheuRdQDMzMzMzk15AFK5H4XokXUDNzMzMzAxcQAAAAAAA4FlAAAAAAACQW0AAAAAAAKBcQFyPwvUoXFxAcT0K16NAXEAzMzMzM+NbQHE9CtejUFtAZmZmZmZmW0DNzMzMzGxYQClcj8L1qFpAKVyPwvXIWkAAAAAAACBXQGZmZmZmxlNAUrgehesRV0CuR+F6FO5aQJqZmZmZwWBAAAAAAADAYEAzMzMzM4NgQA==\",\"dtype\":\"float64\",\"shape\":[1760]}},\"selected\":{\"id\":\"433f6cf2-5dcd-49ec-ad3b-4aa4c4f02199\",\"type\":\"Selection\"},\"selection_policy\":{\"id\":\"f5b937b7-f663-44d1-a50c-c3e5fe036c75\",\"type\":\"UnionRenderers\"}},\"id\":\"74f95471-b635-4177-af9e-c7ca1ef24144\",\"type\":\"ColumnDataSource\"},{\"attributes\":{\"mantissas\":[1,2,5],\"max_interval\":500.0,\"num_minor_ticks\":0},\"id\":\"a469e364-5eb5-41b0-8548-82c38bc1857a\",\"type\":\"AdaptiveTicker\"},{\"attributes\":{\"bottom_units\":\"screen\",\"fill_alpha\":{\"value\":0.5},\"fill_color\":{\"value\":\"lightgrey\"},\"left_units\":\"screen\",\"level\":\"overlay\",\"line_alpha\":{\"value\":1.0},\"line_color\":{\"value\":\"black\"},\"line_dash\":[4,4],\"line_width\":{\"value\":2},\"plot\":null,\"render_mode\":\"css\",\"right_units\":\"screen\",\"top_units\":\"screen\"},\"id\":\"64959a89-3a16-43a8-93a5-35d800757d51\",\"type\":\"BoxAnnotation\"},{\"attributes\":{\"months\":[0,4,8]},\"id\":\"3c46a3bc-bf58-4fd3-b48c-65ffe31f5e7a\",\"type\":\"MonthsTicker\"},{\"attributes\":{},\"id\":\"f1cb0c3c-1d8d-4527-9a8d-fb6807fe8995\",\"type\":\"PanTool\"},{\"attributes\":{\"days\":[1,2,3,4,5,6,7,8,9,10,11,12,13,14,15,16,17,18,19,20,21,22,23,24,25,26,27,28,29,30,31]},\"id\":\"e9084afd-1d93-4d21-8d46-39e8c55cbb2b\",\"type\":\"DaysTicker\"},{\"attributes\":{\"source\":{\"id\":\"74f95471-b635-4177-af9e-c7ca1ef24144\",\"type\":\"ColumnDataSource\"}},\"id\":\"52a06d71-e8bd-473d-a10e-c8551fc97fff\",\"type\":\"CDSView\"},{\"attributes\":{},\"id\":\"8357c5ba-78a1-4052-962d-8cab23abb1dd\",\"type\":\"BasicTickFormatter\"},{\"attributes\":{},\"id\":\"a0b19549-6299-46be-9e1a-c5e77d07eff8\",\"type\":\"WheelZoomTool\"},{\"attributes\":{\"overlay\":{\"id\":\"64959a89-3a16-43a8-93a5-35d800757d51\",\"type\":\"BoxAnnotation\"}},\"id\":\"c71cdd0a-530b-445b-bccc-ce23b738bec6\",\"type\":\"BoxZoomTool\"},{\"attributes\":{\"base\":24,\"mantissas\":[1,2,4,6,8,12],\"max_interval\":43200000.0,\"min_interval\":3600000.0,\"num_minor_ticks\":0},\"id\":\"e37896da-5e4e-4879-80fe-ac4f6384fdcc\",\"type\":\"AdaptiveTicker\"},{\"attributes\":{},\"id\":\"4372c4d3-869a-49f2-9614-1bdb7ecf4f26\",\"type\":\"SaveTool\"},{\"attributes\":{\"days\":[1,8,15,22]},\"id\":\"3dde0489-891c-440b-8bcd-bcaa66d42ecb\",\"type\":\"DaysTicker\"},{\"attributes\":{},\"id\":\"5844a885-d40d-4777-8c03-099cc1e4bc69\",\"type\":\"ResetTool\"},{\"attributes\":{\"days\":[1,15]},\"id\":\"bec00635-5967-4dd2-832c-156918f08386\",\"type\":\"DaysTicker\"},{\"attributes\":{},\"id\":\"b9397079-174a-4f02-b702-eb2718d64b66\",\"type\":\"HelpTool\"},{\"attributes\":{\"months\":[0,1,2,3,4,5,6,7,8,9,10,11]},\"id\":\"c4f3e433-a7b4-4fff-b380-ad6038415a84\",\"type\":\"MonthsTicker\"},{\"attributes\":{\"months\":[0,2,4,6,8,10]},\"id\":\"200b0cd6-8163-41e6-9f49-9cd2e22014ba\",\"type\":\"MonthsTicker\"},{\"attributes\":{\"months\":[0,6]},\"id\":\"96cca165-0255-43a6-8592-ac8528eb66cd\",\"type\":\"MonthsTicker\"},{\"attributes\":{},\"id\":\"36823ce4-29a8-4c42-a340-fcbc06920456\",\"type\":\"YearsTicker\"},{\"attributes\":{},\"id\":\"f5b937b7-f663-44d1-a50c-c3e5fe036c75\",\"type\":\"UnionRenderers\"},{\"attributes\":{\"bottom\":{\"field\":\"bottom\"},\"fill_color\":{\"value\":\"#D5E1DD\"},\"top\":{\"field\":\"top\"},\"width\":{\"value\":43200000},\"x\":{\"field\":\"x\"}},\"id\":\"56c5fed6-0d24-4517-87d7-c5fde7fd90cc\",\"type\":\"VBar\"},{\"attributes\":{\"below\":[{\"id\":\"a8738074-b844-4179-b318-301556e95d1c\",\"type\":\"DatetimeAxis\"}],\"left\":[{\"id\":\"87eea970-fd0a-41ec-a5ce-c6666f340987\",\"type\":\"LinearAxis\"}],\"plot_width\":800,\"renderers\":[{\"id\":\"a8738074-b844-4179-b318-301556e95d1c\",\"type\":\"DatetimeAxis\"},{\"id\":\"cb60d708-e81d-44b7-96e8-ac5f459b397f\",\"type\":\"Grid\"},{\"id\":\"87eea970-fd0a-41ec-a5ce-c6666f340987\",\"type\":\"LinearAxis\"},{\"id\":\"ddcf56aa-7a3e-43e4-9441-8467bf9ec13e\",\"type\":\"Grid\"},{\"id\":\"64959a89-3a16-43a8-93a5-35d800757d51\",\"type\":\"BoxAnnotation\"},{\"id\":\"fd6eae43-05c4-432b-b345-9889862adb27\",\"type\":\"GlyphRenderer\"},{\"id\":\"41da44a0-45a5-487c-b58e-5371e12f3bde\",\"type\":\"GlyphRenderer\"},{\"id\":\"d5581d2d-2d52-4219-8464-46e00809f2da\",\"type\":\"GlyphRenderer\"}],\"title\":{\"id\":\"233056eb-2a66-439d-900f-f645cd714b20\",\"type\":\"Title\"},\"toolbar\":{\"id\":\"635bdb47-c4c6-4f80-b127-b187a3398e4f\",\"type\":\"Toolbar\"},\"x_range\":{\"id\":\"4e5d1ec8-edf0-4c09-b2fa-89e78a6aa028\",\"type\":\"DataRange1d\"},\"x_scale\":{\"id\":\"8cd3e40e-1008-449b-b7a0-08999df46eef\",\"type\":\"LinearScale\"},\"y_range\":{\"id\":\"4649e045-b16f-4cf6-995a-853e0bcaf31e\",\"type\":\"DataRange1d\"},\"y_scale\":{\"id\":\"e90067e7-8204-4c93-9b36-84f3a3c0e68b\",\"type\":\"LinearScale\"}},\"id\":\"c47495f5-c2f4-4dac-95d3-f866a954e8d7\",\"subtype\":\"Figure\",\"type\":\"Plot\"},{\"attributes\":{},\"id\":\"433f6cf2-5dcd-49ec-ad3b-4aa4c4f02199\",\"type\":\"Selection\"},{\"attributes\":{\"line_color\":{\"value\":\"blue\"},\"x0\":{\"field\":\"x0\"},\"x1\":{\"field\":\"x1\"},\"y0\":{\"field\":\"y0\"},\"y1\":{\"field\":\"y1\"}},\"id\":\"3dfe0382-8224-4fd1-998e-035106200e8b\",\"type\":\"Segment\"},{\"attributes\":{},\"id\":\"8100581d-7de5-48fb-a70f-a2cd12c710f0\",\"type\":\"Selection\"},{\"attributes\":{},\"id\":\"69cafa3c-df67-439a-b895-2a197b43de17\",\"type\":\"UnionRenderers\"},{\"attributes\":{\"callback\":null,\"data\":{\"bottom\":{\"__ndarray__\":\"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\",\"dtype\":\"float64\",\"shape\":[956]},\"top\":{\"__ndarray__\":\"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\",\"dtype\":\"float64\",\"shape\":[956]},\"x\":{\"__ndarray__\":\"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\",\"dtype\":\"float64\",\"shape\":[956]}},\"selected\":{\"id\":\"605c86c2-5300-4832-91df-4d62de79b4c4\",\"type\":\"Selection\"},\"selection_policy\":{\"id\":\"69cafa3c-df67-439a-b895-2a197b43de17\",\"type\":\"UnionRenderers\"}},\"id\":\"e91d41f4-681a-47d4-8691-ce933fe69013\",\"type\":\"ColumnDataSource\"},{\"attributes\":{\"bottom\":{\"field\":\"bottom\"},\"fill_alpha\":{\"value\":0.1},\"fill_color\":{\"value\":\"#1f77b4\"},\"line_alpha\":{\"value\":0.1},\"line_color\":{\"value\":\"#1f77b4\"},\"top\":{\"field\":\"top\"},\"width\":{\"value\":43200000},\"x\":{\"field\":\"x\"}},\"id\":\"ecedeecc-afbb-4409-ab67-6a8fd63ca139\",\"type\":\"VBar\"},{\"attributes\":{},\"id\":\"605c86c2-5300-4832-91df-4d62de79b4c4\",\"type\":\"Selection\"},{\"attributes\":{\"data_source\":{\"id\":\"e91d41f4-681a-47d4-8691-ce933fe69013\",\"type\":\"ColumnDataSource\"},\"glyph\":{\"id\":\"56c5fed6-0d24-4517-87d7-c5fde7fd90cc\",\"type\":\"VBar\"},\"hover_glyph\":null,\"muted_glyph\":null,\"nonselection_glyph\":{\"id\":\"ecedeecc-afbb-4409-ab67-6a8fd63ca139\",\"type\":\"VBar\"},\"selection_glyph\":null,\"view\":{\"id\":\"eacb4af2-6f53-439b-89a8-6e59db3dca2c\",\"type\":\"CDSView\"}},\"id\":\"41da44a0-45a5-487c-b58e-5371e12f3bde\",\"type\":\"GlyphRenderer\"},{\"attributes\":{},\"id\":\"1bc31dbb-2cf0-4da7-bfb6-5649e2e4a174\",\"type\":\"UnionRenderers\"},{\"attributes\":{\"source\":{\"id\":\"e91d41f4-681a-47d4-8691-ce933fe69013\",\"type\":\"ColumnDataSource\"}},\"id\":\"eacb4af2-6f53-439b-89a8-6e59db3dca2c\",\"type\":\"CDSView\"}],\"root_ids\":[\"c47495f5-c2f4-4dac-95d3-f866a954e8d7\"]},\"title\":\"Bokeh Application\",\"version\":\"0.12.16\"}};\n",
       "  var render_items = [{\"docid\":\"c03d6fda-451f-4c13-b043-11362de12a3d\",\"elementid\":\"10807ecf-5f34-440a-9880-e584647b61e6\",\"modelid\":\"c47495f5-c2f4-4dac-95d3-f866a954e8d7\"}];\n",
       "  root.Bokeh.embed.embed_items_notebook(docs_json, render_items);\n",
       "\n",
       "  }\n",
       "  if (root.Bokeh !== undefined) {\n",
       "    embed_document(root);\n",
       "  } else {\n",
       "    var attempts = 0;\n",
       "    var timer = setInterval(function(root) {\n",
       "      if (root.Bokeh !== undefined) {\n",
       "        embed_document(root);\n",
       "        clearInterval(timer);\n",
       "      }\n",
       "      attempts++;\n",
       "      if (attempts > 100) {\n",
       "        console.log(\"Bokeh: ERROR: Unable to run BokehJS code because BokehJS library is missing\")\n",
       "        clearInterval(timer);\n",
       "      }\n",
       "    }, 10, root)\n",
       "  }\n",
       "})(window);"
      ],
      "application/vnd.bokehjs_exec.v0+json": ""
     },
     "metadata": {
      "application/vnd.bokehjs_exec.v0+json": {
       "id": "c47495f5-c2f4-4dac-95d3-f866a954e8d7"
      }
     },
     "output_type": "display_data"
    }
   ],
   "source": [
    "# Output plot in html format\n",
    "#output_file(\"bitcoin_price_candlechart.html\")\n",
    "\n",
    "inc = bitcoin_price['Close'] > bitcoin_price['Open']\n",
    "dec = bitcoin_price['Open'] > bitcoin_price['Close']\n",
    "w = 12*60*60*1000 # half day in ms\n",
    "candle = figure(plot_width=800, plot_height=600, x_axis_type=\"datetime\")\n",
    "# x0, y0, x1, y1\n",
    "candle.segment(bitcoin_price['Date'], bitcoin_price['High'], bitcoin_price['Date'], bitcoin_price['Low'], color=\"blue\")\n",
    "# center, width, top, bottom\n",
    "candle.vbar(bitcoin_price['Date'][inc], w, bitcoin_price['Open'][inc], bitcoin_price['Close'][inc], fill_color=\"#D5E1DD\", line_color=\"black\")\n",
    "candle.vbar(bitcoin_price['Date'][dec], w, bitcoin_price['Open'][dec], bitcoin_price['Close'][dec], fill_color=\"#F2583E\", line_color=\"black\")\n",
    "show(candle)"
   ]
  },
  {
   "cell_type": "markdown",
   "metadata": {},
   "source": [
    "# Data preprocessing"
   ]
  },
  {
   "cell_type": "markdown",
   "metadata": {},
   "source": [
    "Data preprocessing aims at making the raw data at hand more amenable to the algorithms you'll use . This includes scaling, normalization, handling missing values,standardization or enconding."
   ]
  },
  {
   "cell_type": "markdown",
   "metadata": {},
   "source": [
    "### Data scaling"
   ]
  },
  {
   "cell_type": "markdown",
   "metadata": {},
   "source": [
    "* When our data is comprised of attributes with varying scales, many machine learning algorithms can benefit from rescaling the attributes to all have the same scale."
   ]
  },
  {
   "cell_type": "markdown",
   "metadata": {},
   "source": [
    "* It's useful for optimization algorithms in used in the core of machine learning algorithms like gradient descent."
   ]
  },
  {
   "cell_type": "markdown",
   "metadata": {},
   "source": [
    "* It is also useful for algorithms that weight inputs like regression and neural networks and algorithms that use distance measures like K-Nearest Neighbors."
   ]
  },
  {
   "cell_type": "markdown",
   "metadata": {},
   "source": [
    "* There are a bunch of tools available that can help with scaling e.g. MinMaxScale and preprocessing module in Scikit-Learn"
   ]
  },
  {
   "cell_type": "code",
   "execution_count": 62,
   "metadata": {},
   "outputs": [
    {
     "data": {
      "text/html": [
       "<div>\n",
       "<style scoped>\n",
       "    .dataframe tbody tr th:only-of-type {\n",
       "        vertical-align: middle;\n",
       "    }\n",
       "\n",
       "    .dataframe tbody tr th {\n",
       "        vertical-align: top;\n",
       "    }\n",
       "\n",
       "    .dataframe thead th {\n",
       "        text-align: right;\n",
       "    }\n",
       "</style>\n",
       "<table border=\"1\" class=\"dataframe\">\n",
       "  <thead>\n",
       "    <tr style=\"text-align: right;\">\n",
       "      <th></th>\n",
       "      <th>Date</th>\n",
       "      <th>Close</th>\n",
       "      <th>Open</th>\n",
       "      <th>High</th>\n",
       "      <th>Low</th>\n",
       "      <th>btc_estimated_transaction_volume_usd</th>\n",
       "      <th>btc_total_bitcoins</th>\n",
       "      <th>btc_avg_block_size</th>\n",
       "    </tr>\n",
       "  </thead>\n",
       "  <tbody>\n",
       "    <tr>\n",
       "      <th>0</th>\n",
       "      <td>2018-02-20</td>\n",
       "      <td>11403.7</td>\n",
       "      <td>11231.8</td>\n",
       "      <td>11958.5</td>\n",
       "      <td>11231.80</td>\n",
       "      <td>22605050.0</td>\n",
       "      <td>11090225.0</td>\n",
       "      <td>0.126539</td>\n",
       "    </tr>\n",
       "    <tr>\n",
       "      <th>1</th>\n",
       "      <td>2018-02-19</td>\n",
       "      <td>11225.3</td>\n",
       "      <td>10552.6</td>\n",
       "      <td>11273.8</td>\n",
       "      <td>10513.20</td>\n",
       "      <td>41199388.0</td>\n",
       "      <td>11094750.0</td>\n",
       "      <td>0.140126</td>\n",
       "    </tr>\n",
       "    <tr>\n",
       "      <th>2</th>\n",
       "      <td>2018-02-18</td>\n",
       "      <td>10551.8</td>\n",
       "      <td>11123.4</td>\n",
       "      <td>11349.8</td>\n",
       "      <td>10326.00</td>\n",
       "      <td>32294820.0</td>\n",
       "      <td>11098475.0</td>\n",
       "      <td>0.185539</td>\n",
       "    </tr>\n",
       "    <tr>\n",
       "      <th>3</th>\n",
       "      <td>2018-02-17</td>\n",
       "      <td>11112.7</td>\n",
       "      <td>10207.5</td>\n",
       "      <td>11139.5</td>\n",
       "      <td>10149.40</td>\n",
       "      <td>32988744.0</td>\n",
       "      <td>11102000.0</td>\n",
       "      <td>0.167730</td>\n",
       "    </tr>\n",
       "    <tr>\n",
       "      <th>4</th>\n",
       "      <td>2018-02-16</td>\n",
       "      <td>10233.9</td>\n",
       "      <td>10135.7</td>\n",
       "      <td>10324.1</td>\n",
       "      <td>9824.82</td>\n",
       "      <td>33019004.0</td>\n",
       "      <td>11105600.0</td>\n",
       "      <td>0.189949</td>\n",
       "    </tr>\n",
       "  </tbody>\n",
       "</table>\n",
       "</div>"
      ],
      "text/plain": [
       "        Date    Close     Open     High       Low  \\\n",
       "0 2018-02-20  11403.7  11231.8  11958.5  11231.80   \n",
       "1 2018-02-19  11225.3  10552.6  11273.8  10513.20   \n",
       "2 2018-02-18  10551.8  11123.4  11349.8  10326.00   \n",
       "3 2018-02-17  11112.7  10207.5  11139.5  10149.40   \n",
       "4 2018-02-16  10233.9  10135.7  10324.1   9824.82   \n",
       "\n",
       "   btc_estimated_transaction_volume_usd  btc_total_bitcoins  \\\n",
       "0                            22605050.0          11090225.0   \n",
       "1                            41199388.0          11094750.0   \n",
       "2                            32294820.0          11098475.0   \n",
       "3                            32988744.0          11102000.0   \n",
       "4                            33019004.0          11105600.0   \n",
       "\n",
       "   btc_avg_block_size  \n",
       "0            0.126539  \n",
       "1            0.140126  \n",
       "2            0.185539  \n",
       "3            0.167730  \n",
       "4            0.189949  "
      ]
     },
     "execution_count": 62,
     "metadata": {},
     "output_type": "execute_result"
    }
   ],
   "source": [
    "import datetime as dt\n",
    "Y = df['Close']\n",
    "\n",
    "X = df.drop('Close', 1)\n",
    "df_close.head()\n",
    "df.head()\n"
   ]
  },
  {
   "cell_type": "code",
   "execution_count": 63,
   "metadata": {},
   "outputs": [
    {
     "ename": "TypeError",
     "evalue": "float() argument must be a string or a number, not 'Timestamp'",
     "output_type": "error",
     "traceback": [
      "\u001b[0;31m---------------------------------------------------------------------------\u001b[0m",
      "\u001b[0;31mTypeError\u001b[0m                                 Traceback (most recent call last)",
      "\u001b[0;32m<ipython-input-63-8a3f557e20e8>\u001b[0m in \u001b[0;36m<module>\u001b[0;34m()\u001b[0m\n\u001b[1;32m      1\u001b[0m \u001b[0;31m# center the data around 0 by scaling\u001b[0m\u001b[0;34m\u001b[0m\u001b[0;34m\u001b[0m\u001b[0m\n\u001b[1;32m      2\u001b[0m \u001b[0;32mfrom\u001b[0m \u001b[0msklearn\u001b[0m \u001b[0;32mimport\u001b[0m \u001b[0mpreprocessing\u001b[0m\u001b[0;34m\u001b[0m\u001b[0m\n\u001b[0;32m----> 3\u001b[0;31m \u001b[0mX\u001b[0m \u001b[0;34m=\u001b[0m \u001b[0mpreprocessing\u001b[0m\u001b[0;34m.\u001b[0m\u001b[0mscale\u001b[0m\u001b[0;34m(\u001b[0m\u001b[0mX\u001b[0m\u001b[0;34m)\u001b[0m\u001b[0;34m\u001b[0m\u001b[0m\n\u001b[0m",
      "\u001b[0;32m~/anaconda3/envs/acLabsEnv/lib/python3.6/site-packages/sklearn/preprocessing/data.py\u001b[0m in \u001b[0;36mscale\u001b[0;34m(X, axis, with_mean, with_std, copy)\u001b[0m\n\u001b[1;32m    131\u001b[0m     X = check_array(X, accept_sparse='csc', copy=copy, ensure_2d=False,\n\u001b[1;32m    132\u001b[0m                     \u001b[0mwarn_on_dtype\u001b[0m\u001b[0;34m=\u001b[0m\u001b[0;32mTrue\u001b[0m\u001b[0;34m,\u001b[0m \u001b[0mestimator\u001b[0m\u001b[0;34m=\u001b[0m\u001b[0;34m'the scale function'\u001b[0m\u001b[0;34m,\u001b[0m\u001b[0;34m\u001b[0m\u001b[0m\n\u001b[0;32m--> 133\u001b[0;31m                     dtype=FLOAT_DTYPES)\n\u001b[0m\u001b[1;32m    134\u001b[0m     \u001b[0;32mif\u001b[0m \u001b[0msparse\u001b[0m\u001b[0;34m.\u001b[0m\u001b[0missparse\u001b[0m\u001b[0;34m(\u001b[0m\u001b[0mX\u001b[0m\u001b[0;34m)\u001b[0m\u001b[0;34m:\u001b[0m\u001b[0;34m\u001b[0m\u001b[0m\n\u001b[1;32m    135\u001b[0m         \u001b[0;32mif\u001b[0m \u001b[0mwith_mean\u001b[0m\u001b[0;34m:\u001b[0m\u001b[0;34m\u001b[0m\u001b[0m\n",
      "\u001b[0;32m~/anaconda3/envs/acLabsEnv/lib/python3.6/site-packages/sklearn/utils/validation.py\u001b[0m in \u001b[0;36mcheck_array\u001b[0;34m(array, accept_sparse, dtype, order, copy, force_all_finite, ensure_2d, allow_nd, ensure_min_samples, ensure_min_features, warn_on_dtype, estimator)\u001b[0m\n\u001b[1;32m    431\u001b[0m                                       force_all_finite)\n\u001b[1;32m    432\u001b[0m     \u001b[0;32melse\u001b[0m\u001b[0;34m:\u001b[0m\u001b[0;34m\u001b[0m\u001b[0m\n\u001b[0;32m--> 433\u001b[0;31m         \u001b[0marray\u001b[0m \u001b[0;34m=\u001b[0m \u001b[0mnp\u001b[0m\u001b[0;34m.\u001b[0m\u001b[0marray\u001b[0m\u001b[0;34m(\u001b[0m\u001b[0marray\u001b[0m\u001b[0;34m,\u001b[0m \u001b[0mdtype\u001b[0m\u001b[0;34m=\u001b[0m\u001b[0mdtype\u001b[0m\u001b[0;34m,\u001b[0m \u001b[0morder\u001b[0m\u001b[0;34m=\u001b[0m\u001b[0morder\u001b[0m\u001b[0;34m,\u001b[0m \u001b[0mcopy\u001b[0m\u001b[0;34m=\u001b[0m\u001b[0mcopy\u001b[0m\u001b[0;34m)\u001b[0m\u001b[0;34m\u001b[0m\u001b[0m\n\u001b[0m\u001b[1;32m    434\u001b[0m \u001b[0;34m\u001b[0m\u001b[0m\n\u001b[1;32m    435\u001b[0m         \u001b[0;32mif\u001b[0m \u001b[0mensure_2d\u001b[0m\u001b[0;34m:\u001b[0m\u001b[0;34m\u001b[0m\u001b[0m\n",
      "\u001b[0;31mTypeError\u001b[0m: float() argument must be a string or a number, not 'Timestamp'"
     ]
    }
   ],
   "source": [
    "# center the data around 0 by scaling\n",
    "from sklearn import preprocessing\n",
    "X = preprocessing.scale(X)"
   ]
  },
  {
   "cell_type": "markdown",
   "metadata": {},
   "source": [
    "One thing we can do to avoid the above error is to extract individual properties from the date column and add them as features for our dataset"
   ]
  },
  {
   "cell_type": "code",
   "execution_count": 64,
   "metadata": {},
   "outputs": [],
   "source": [
    "X['Date'] = pd.to_datetime(X['Date'])\n",
    "X['year'] = X['Date'].apply(lambda x: x.year)\n",
    "X['month'] = X['Date'].apply(lambda x: x.month)\n",
    "X['day'] = X['Date'].apply(lambda x: x.day)"
   ]
  },
  {
   "cell_type": "code",
   "execution_count": 65,
   "metadata": {},
   "outputs": [
    {
     "data": {
      "text/plain": [
       "['Date',\n",
       " 'Close',\n",
       " 'Open',\n",
       " 'High',\n",
       " 'Low',\n",
       " 'btc_estimated_transaction_volume_usd',\n",
       " 'btc_total_bitcoins',\n",
       " 'btc_avg_block_size']"
      ]
     },
     "execution_count": 65,
     "metadata": {},
     "output_type": "execute_result"
    }
   ],
   "source": [
    "list(df.columns.values)"
   ]
  },
  {
   "cell_type": "code",
   "execution_count": 66,
   "metadata": {
    "scrolled": true
   },
   "outputs": [
    {
     "name": "stderr",
     "output_type": "stream",
     "text": [
      "/home/svusers/anaconda3/envs/acLabsEnv/lib/python3.6/site-packages/ipykernel_launcher.py:1: FutureWarning: '.reindex_axis' is deprecated and will be removed in a future version. Use '.reindex' instead.\n",
      "  \"\"\"Entry point for launching an IPython kernel.\n"
     ]
    },
    {
     "data": {
      "text/html": [
       "<div>\n",
       "<style scoped>\n",
       "    .dataframe tbody tr th:only-of-type {\n",
       "        vertical-align: middle;\n",
       "    }\n",
       "\n",
       "    .dataframe tbody tr th {\n",
       "        vertical-align: top;\n",
       "    }\n",
       "\n",
       "    .dataframe thead th {\n",
       "        text-align: right;\n",
       "    }\n",
       "</style>\n",
       "<table border=\"1\" class=\"dataframe\">\n",
       "  <thead>\n",
       "    <tr style=\"text-align: right;\">\n",
       "      <th></th>\n",
       "      <th>day</th>\n",
       "      <th>month</th>\n",
       "      <th>year</th>\n",
       "      <th>Open</th>\n",
       "      <th>btc_estimated_transaction_volume_usd</th>\n",
       "      <th>btc_total_bitcoins</th>\n",
       "      <th>btc_avg_block_size</th>\n",
       "    </tr>\n",
       "  </thead>\n",
       "  <tbody>\n",
       "    <tr>\n",
       "      <th>0</th>\n",
       "      <td>20</td>\n",
       "      <td>2</td>\n",
       "      <td>2018</td>\n",
       "      <td>11231.8</td>\n",
       "      <td>22605050.0</td>\n",
       "      <td>11090225.0</td>\n",
       "      <td>0.126539</td>\n",
       "    </tr>\n",
       "    <tr>\n",
       "      <th>1</th>\n",
       "      <td>19</td>\n",
       "      <td>2</td>\n",
       "      <td>2018</td>\n",
       "      <td>10552.6</td>\n",
       "      <td>41199388.0</td>\n",
       "      <td>11094750.0</td>\n",
       "      <td>0.140126</td>\n",
       "    </tr>\n",
       "    <tr>\n",
       "      <th>2</th>\n",
       "      <td>18</td>\n",
       "      <td>2</td>\n",
       "      <td>2018</td>\n",
       "      <td>11123.4</td>\n",
       "      <td>32294820.0</td>\n",
       "      <td>11098475.0</td>\n",
       "      <td>0.185539</td>\n",
       "    </tr>\n",
       "    <tr>\n",
       "      <th>3</th>\n",
       "      <td>17</td>\n",
       "      <td>2</td>\n",
       "      <td>2018</td>\n",
       "      <td>10207.5</td>\n",
       "      <td>32988744.0</td>\n",
       "      <td>11102000.0</td>\n",
       "      <td>0.167730</td>\n",
       "    </tr>\n",
       "    <tr>\n",
       "      <th>4</th>\n",
       "      <td>16</td>\n",
       "      <td>2</td>\n",
       "      <td>2018</td>\n",
       "      <td>10135.7</td>\n",
       "      <td>33019004.0</td>\n",
       "      <td>11105600.0</td>\n",
       "      <td>0.189949</td>\n",
       "    </tr>\n",
       "  </tbody>\n",
       "</table>\n",
       "</div>"
      ],
      "text/plain": [
       "   day  month  year     Open  btc_estimated_transaction_volume_usd  \\\n",
       "0   20      2  2018  11231.8                            22605050.0   \n",
       "1   19      2  2018  10552.6                            41199388.0   \n",
       "2   18      2  2018  11123.4                            32294820.0   \n",
       "3   17      2  2018  10207.5                            32988744.0   \n",
       "4   16      2  2018  10135.7                            33019004.0   \n",
       "\n",
       "   btc_total_bitcoins  btc_avg_block_size  \n",
       "0          11090225.0            0.126539  \n",
       "1          11094750.0            0.140126  \n",
       "2          11098475.0            0.185539  \n",
       "3          11102000.0            0.167730  \n",
       "4          11105600.0            0.189949  "
      ]
     },
     "execution_count": 66,
     "metadata": {},
     "output_type": "execute_result"
    }
   ],
   "source": [
    "X = X.reindex_axis(['day','month','year','Open','btc_estimated_transaction_volume_usd','btc_total_bitcoins','btc_avg_block_size'],axis=1)\n",
    "X.head()\n"
   ]
  },
  {
   "cell_type": "code",
   "execution_count": 67,
   "metadata": {},
   "outputs": [
    {
     "data": {
      "text/plain": [
       "day                                       int64\n",
       "month                                     int64\n",
       "year                                      int64\n",
       "Open                                    float64\n",
       "btc_estimated_transaction_volume_usd    float64\n",
       "btc_total_bitcoins                      float64\n",
       "btc_avg_block_size                      float64\n",
       "dtype: object"
      ]
     },
     "execution_count": 67,
     "metadata": {},
     "output_type": "execute_result"
    }
   ],
   "source": [
    "X.dtypes"
   ]
  },
  {
   "cell_type": "code",
   "execution_count": 68,
   "metadata": {},
   "outputs": [
    {
     "data": {
      "text/plain": [
       "0    11403.7\n",
       "1    11225.3\n",
       "2    10551.8\n",
       "Name: Close, dtype: float64"
      ]
     },
     "execution_count": 68,
     "metadata": {},
     "output_type": "execute_result"
    }
   ],
   "source": [
    "Y.head(3)"
   ]
  },
  {
   "cell_type": "code",
   "execution_count": 69,
   "metadata": {},
   "outputs": [
    {
     "name": "stdout",
     "output_type": "stream",
     "text": [
      "[[ 0.48712747 -1.34568065  1.95533389  3.3062664  -0.44951036 -1.95180079\n",
      "  -1.36535377]\n",
      " [ 0.37358697 -1.34568065  1.95533389  3.07599936 -0.42397111 -1.94917096\n",
      "  -1.32274657]\n",
      " [ 0.26004646 -1.34568065  1.95533389  3.26951589 -0.4362015  -1.94700607\n",
      "  -1.18033672]]\n",
      "------------------------------------------------\n",
      "[3.352444   3.29214164 3.06448669]\n"
     ]
    }
   ],
   "source": [
    "X = preprocessing.scale(X)\n",
    "Y = preprocessing.scale(Y)\n",
    "print(X[:3])\n",
    "print('------------------------------------------------')\n",
    "print(Y[:3])"
   ]
  },
  {
   "cell_type": "markdown",
   "metadata": {},
   "source": [
    "# Training, validation and test sets"
   ]
  },
  {
   "cell_type": "markdown",
   "metadata": {},
   "source": [
    "In machine learning the goal is to achieve models that *generalize* i.e that perform well on unseen data and the main issue with this is something called overfiting. You can only control that which you can observe, so it's crucial to be able to measure the generalization power of your model."
   ]
  },
  {
   "cell_type": "markdown",
   "metadata": {},
   "source": [
    "So taking the above in account it's pretty obvious that you need to split your dataset in at least 2 parts:\n",
    "* a **training set** which you'll use to train your model and find optimal parameters\n",
    "* a **test set** which you'll use to test your model and see how it generalises \n",
    "* a **validation set** which you'll to improve your model configuration aka tuning the models **hyperparameters**"
   ]
  },
  {
   "cell_type": "markdown",
   "metadata": {},
   "source": [
    "The general rule is to start with a 80%-20% split (%80 training set - 20% test set) and a second split to create the validation set."
   ]
  },
  {
   "cell_type": "markdown",
   "metadata": {},
   "source": [
    "## Things to keep in mind"
   ]
  },
  {
   "cell_type": "markdown",
   "metadata": {},
   "source": [
    "* You want both your training set and test set to be representative of the data at hand. For instance, if you’re trying to classify images of digits, and you’re starting from an array of samples where the samples are ordered by their class, taking the first 80% of the array as your training set and the remaining 20% as your test set will result in your training set containing only classes 0–7, whereas your test set contains only classes 8–9. This seems like a ridiculous mistake, but it’s surprisingly common. For this reason, you usually should randomly shuffle your data before splitting it into training and test sets."
   ]
  },
  {
   "cell_type": "markdown",
   "metadata": {},
   "source": [
    "* If you’re trying to predict the future given the past (for example, tomorrow’s weather, stock movements, and so on), you should not randomly shuffle your data before splitting it, because doing so will create a temporal leak: your model will effectively be trained on data from the future. In such situations, you should always make sure all data in your test set is posterior to the data in the training set."
   ]
  },
  {
   "cell_type": "markdown",
   "metadata": {},
   "source": [
    "* If some data points in your data appear twice (fairly common with real-world data), then shuffling the data and splitting it into a training set and a validation set will result in redundancy between the training and validation sets. In effect, you’ll be testing on part of your training data, which is the worst thing you can do! Make sure your training set and validation set are disjoint."
   ]
  },
  {
   "cell_type": "markdown",
   "metadata": {},
   "source": [
    "So it's time to do training and testing of dataset.We will import train_test_split method of sklearn to divide the dataset in train and test. Note that the test_size has been set to 30 percent whole dataset. One import thing we need to do, as we work with time series, is to set the shuffling to **False** so we won't lose the order as discussed earlier"
   ]
  },
  {
   "cell_type": "code",
   "execution_count": 70,
   "metadata": {},
   "outputs": [],
   "source": [
    "from sklearn import model_selection\n",
    "X_train, X_validation, y_train, y_validation = model_selection.train_test_split(X,Y,test_size=0.3,shuffle=False)\n",
    "X_train,X_test,y_train,y_test = model_selection.train_test_split(X_train,y_train,test_size=0.1,shuffle=False)"
   ]
  },
  {
   "cell_type": "markdown",
   "metadata": {},
   "source": [
    "# Linear regression\n",
    "**Pros**: fast, no tuning required, highly interpretable, well-understood\n",
    "\n",
    "**Cons**: unlikely to produce the best predictive accuracy (presumes a linear relationship between the features and response)\n",
    "\n",
    "### Form of linear regression\n",
    "$y = \\beta_0 + \\beta_1x_1 + \\beta_2x_2 + ... + \\beta_nx_n$\n",
    "\n",
    "* $y$ is the response\n",
    "* $\\beta_0$ is the intercept\n",
    "* $\\beta_1$ is the coefficient for $x_1$ (the first feature)\n",
    "* $\\beta_n$ is the coefficient for $x_n$ (the nth feature)\n",
    "\n",
    "In this case:\n",
    "\n",
    "$y = \\beta_0 + \\beta_1 \\times TV + \\beta_2 \\times Radio + \\beta_3 \\times Newspaper$\n",
    "\n",
    "The $\\beta$ values are called the **model coefficients**. These values are \"learned\" during the model fitting step using the \"least squares\" criterion. Then, the fitted model can be used to make predictions!"
   ]
  },
  {
   "cell_type": "code",
   "execution_count": 71,
   "metadata": {},
   "outputs": [],
   "source": [
    "clf = LinearRegression()\n",
    "\n",
    "clf.fit(X_train,y_train)\n",
    "\n",
    "y_pred = clf.predict(X_validation)"
   ]
  },
  {
   "cell_type": "markdown",
   "metadata": {},
   "source": [
    "Apart from visually analyzing the model, we can also do some analysis by calculating evaluation matrices. There are three type of evaluation matrices which are: Mean Absolute Error, Mean square Error, and Root Mean squared error. (to deeply get the knowledge of these matrices, you can learn the concepts in freely available statistical books). Note that all of these matrices are loss functions and we always want to minimize them.\n",
    "\n",
    "* **Mean Average Error** : it is the easiest to understand because it is just the average error.\n",
    "* **Mean Squared Error** : is more popular than MAE, because it punishes larger errors, which tends to be useful in the real world.\n",
    "* **Root Mean Squared Error** : it is even more popular because it is interpretable in y-units\n",
    "\n"
   ]
  },
  {
   "cell_type": "code",
   "execution_count": 73,
   "metadata": {},
   "outputs": [
    {
     "name": "stdout",
     "output_type": "stream",
     "text": [
      "Mean Squared Error:  0.04655749951841636\n",
      "Mean Absolute Error:  0.1971572604560255\n",
      "Root Mean Squared Error:  0.2157718691544761\n"
     ]
    }
   ],
   "source": [
    "print('Mean Squared Error: ', metrics.mean_squared_error(y_validation,y_pred))\n",
    "print('Mean Absolute Error: ', metrics.mean_absolute_error(y_validation,y_pred))\n",
    "print('Root Mean Squared Error: ',np.sqrt(metrics.mean_squared_error(y_validation,y_pred)))"
   ]
  },
  {
   "cell_type": "code",
   "execution_count": 74,
   "metadata": {},
   "outputs": [
    {
     "name": "stdout",
     "output_type": "stream",
     "text": [
      "[-0.0140161  -0.12902173 -0.66320438  0.97634706 -0.00955259 -0.5764947\n",
      " -0.00670365]\n"
     ]
    }
   ],
   "source": [
    "print(clf.coef_)"
   ]
  },
  {
   "cell_type": "code",
   "execution_count": 75,
   "metadata": {},
   "outputs": [
    {
     "data": {
      "text/plain": [
       "Text(0.5,1,'Testing Result Scaled')"
      ]
     },
     "execution_count": 75,
     "metadata": {},
     "output_type": "execute_result"
    },
    {
     "data": {
      "image/png": "[encoded data removed]",
      "text/plain": [
       "<Figure size 432x288 with 1 Axes>"
      ]
     },
     "metadata": {},
     "output_type": "display_data"
    }
   ],
   "source": [
    "# Comparison of the expected and tested outputs scaled\n",
    "plt.plot(y_pred,color='blue',label='Validation Result')\n",
    "plt.plot(y_validation,color='red',label='Prediction Target')\n",
    "plt.legend('test prediction', ncol=2, loc='upper left');\n",
    "plt.legend(bbox_to_anchor=(1.05, 1), loc=2, borderaxespad=0.)\n",
    "plt.title('Testing Result Scaled')"
   ]
  },
  {
   "cell_type": "code",
   "execution_count": 78,
   "metadata": {},
   "outputs": [],
   "source": [
    "y_predicted = clf.predict(X_test)"
   ]
  },
  {
   "cell_type": "code",
   "execution_count": 79,
   "metadata": {},
   "outputs": [
    {
     "data": {
      "text/plain": [
       "Text(0.5,1,'Testing Result Scaled')"
      ]
     },
     "execution_count": 79,
     "metadata": {},
     "output_type": "execute_result"
    },
    {
     "data": {
      "image/png": "[encoded data removed]",
      "text/plain": [
       "<Figure size 432x288 with 1 Axes>"
      ]
     },
     "metadata": {},
     "output_type": "display_data"
    }
   ],
   "source": [
    "# Comparison of the expected and tested outputs scaled\n",
    "plt.plot(y_predicted,color='blue',label='Testing Result')\n",
    "plt.plot(y_test,color='red',label='Prediction Target')\n",
    "plt.legend('test,prediction', ncol=2, loc='upper left');\n",
    "plt.legend(bbox_to_anchor=(1.05, 1), loc=2, borderaxespad=0.)\n",
    "plt.title('Testing Result Scaled')"
   ]
  },
  {
   "cell_type": "markdown",
   "metadata": {},
   "source": [
    "## Things to do next"
   ]
  },
  {
   "cell_type": "markdown",
   "metadata": {},
   "source": [
    "* Try to improve the results by adding additional features"
   ]
  },
  {
   "cell_type": "markdown",
   "metadata": {},
   "source": [
    "* Try to tune the model by playing with the parameters from [here](http://scikit-learn.org/stable/modules/generated/sklearn.linear_model.LinearRegression.html)"
   ]
  },
  {
   "cell_type": "markdown",
   "metadata": {},
   "source": [
    "* Try and fetch new data with this [API](https://blog.quandl.com/api-for-bitcoin-data) and go through a similar process"
   ]
  }
 ],
 "metadata": {
  "kernelspec": {
   "display_name": "Python 3",
   "language": "python",
   "name": "python3"
  },
  "language_info": {
   "codemirror_mode": {
    "name": "ipython",
    "version": 3
   },
   "file_extension": ".py",
   "mimetype": "text/x-python",
   "name": "python",
   "nbconvert_exporter": "python",
   "pygments_lexer": "ipython3",
   "version": "3.6.5"
  }
 },
 "nbformat": 4,
 "nbformat_minor": 2
}
