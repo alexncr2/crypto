{
 "cells": [
  {
   "cell_type": "markdown",
   "metadata": {},
   "source": [
    "#  <p style=\"text-align: center;\">    Intro to Machine Learning and a way of forecasting Bitcoin prices </p>"
   ]
  },
  {
   "cell_type": "markdown",
   "metadata": {},
   "source": [
    "# What is machine learning, and how does it work?\n"
   ]
  },
  {
   "cell_type": "markdown",
   "metadata": {},
   "source": [
    "## Agenda\n",
    "\n",
    "- What is machine learning?\n",
    "- What are the two main categories of machine learning?\n",
    "- What are some examples of machine learning?\n",
    "- How does machine learning \"work\"?"
   ]
  },
  {
   "cell_type": "markdown",
   "metadata": {},
   "source": [
    "## What is machine learning?\n",
    "\n",
    "One definition: \"Machine learning is the semi-automated extraction of knowledge from data\"\n",
    "\n",
    "- **Knowledge from data**: Starts with a question that might be answerable using data\n",
    "- **Automated extraction**: A computer provides the insight\n",
    "- **Semi-automated**: Requires many smart decisions by a human"
   ]
  },
  {
   "cell_type": "markdown",
   "metadata": {},
   "source": [
    "## What are the two main categories of machine learning?\n",
    "\n",
    "**Supervised learning**: Making predictions using data\n",
    "    \n",
    "- Example: Is a given email \"spam\" or \"ham\"?\n",
    "- There is an outcome we are trying to predict"
   ]
  },
  {
   "cell_type": "markdown",
   "metadata": {},
   "source": [
    "**Unsupervised learning**: Extracting structure from data\n",
    "\n",
    "- Example: Segment grocery store shoppers into clusters that exhibit similar behaviors\n",
    "- There is no \"right answer\""
   ]
  },
  {
   "cell_type": "markdown",
   "metadata": {},
   "source": [
    "## How does machine learning \"work\"?\n",
    "\n",
    "High-level steps of supervised learning:\n",
    "\n",
    "1. First, train a **machine learning model** using **labeled data**\n",
    "\n",
    "    - \"Labeled data\" has been labeled with the outcome\n",
    "    - \"Machine learning model\" learns the relationship between the attributes of the data and its outcome\n",
    "\n",
    "2. Then, make **predictions** on **new data** for which the label is unknown"
   ]
  },
  {
   "cell_type": "markdown",
   "metadata": {},
   "source": [
    "The primary goal of supervised learning is to build a model that \"generalizes\": It accurately predicts the **future** rather than the **past**!"
   ]
  },
  {
   "cell_type": "markdown",
   "metadata": {},
   "source": [
    "## Questions about machine learning\n",
    "\n",
    "- How do I choose **which attributes** of my data to include in the model?\n",
    "- How do I choose **which model** to use?\n",
    "- How do I **optimize** this model for best performance?\n",
    "- How do I ensure that I'm building a model that will **generalize** to unseen data?\n",
    "- Can I **estimate** how well my model is likely to perform on unseen data?"
   ]
  },
  {
   "cell_type": "markdown",
   "metadata": {},
   "source": [
    "# About ..."
   ]
  },
  {
   "cell_type": "markdown",
   "metadata": {},
   "source": [
    "## ... the dataset"
   ]
  },
  {
   "cell_type": "markdown",
   "metadata": {},
   "source": [
    "CSV files for select bitcoin exchanges for the time period of Apr 2013 to Feb 2018 for the first one and Feb 2010 to Feb 2018, with day to day updates of OHLCVM (Open, High, Low, Close, Volume, Market Cap) for the first one and day to day updates of (*Prepare yourself.It's a long one*):\n",
    "\n",
    "*btc_market_price, btc_total_bitcoins, btc_market_cap,btc_trade_volume, btc_blocks_size, btc_avg_block_size, btc_n_orphaned_blocks, btc_n_transactions_per_block, btc_median_confirmation_time, btc_hash_rate, btc_difficulty, btc_miners_revenue, btc_transaction_fees, btc_cost_per_transaction_percent, btc_cost_per_transaction, btc_n_unique_addresses, btc_n_transactions, btc_n_transactions, btc_n_transactions_excluding_popular, btc_n_transactions_excluding_chains_longer_than_100, btc_output_volume, btc_estimated_transaction_volume, btc_estimated_transaction_volume_usd.*\n",
    "\n",
    "Timestamps are in Unix time. All effort has been made to deduplicate entries and verify the contents are correct and complete to the best of my ability, but obviously trust at your own risk."
   ]
  },
  {
   "cell_type": "markdown",
   "metadata": {},
   "source": [
    "## ...the setup and virtual environments"
   ]
  },
  {
   "cell_type": "code",
   "execution_count": 1,
   "metadata": {},
   "outputs": [
    {
     "ename": "SyntaxError",
     "evalue": "invalid syntax (<ipython-input-1-c1448270ecfd>, line 4)",
     "output_type": "error",
     "traceback": [
      "\u001b[0;36m  File \u001b[0;32m\"<ipython-input-1-c1448270ecfd>\"\u001b[0;36m, line \u001b[0;32m4\u001b[0m\n\u001b[0;31m    set -o xtrace\u001b[0m\n\u001b[0m                ^\u001b[0m\n\u001b[0;31mSyntaxError\u001b[0m\u001b[0;31m:\u001b[0m invalid syntax\n"
     ]
    }
   ],
   "source": [
    "#!/usr/bin/env bash\n",
    "\n",
    "set -e\n",
    "set -o xtrace\n",
    "DEBIAN_FRONTEND=noninteractive\n",
    "sudo apt-get autoclean \n",
    "sudo apt-get clean\n",
    "sudo apt-get update\n",
    "sudo apt install unzip -y\n",
    "sudo apt -y autoremove\n",
    "sudo ufw allow 8888:8898/tcp\n",
    "wget https://repo.continuum.io/archive/Anaconda3-5.1.0-Linux-x86_64.sh\n",
    "bash Anaconda3-5.1.0-Linux-x86_64.sh -b -u\n",
    "\n",
    "cd\n",
    "echo 'export PATH=~/anaconda3/bin:$PATH' >> ~/.bashrc\n",
    "export PATH=~/anaconda3/bin:$PATH\n",
    "source ~/.bashrc\n",
    "DIR=\"$( cd \"$( dirname \"${BASH_SOURCE[0]}\" )\" && pwd )\"\n",
    "conda env create -f ${DIR%%/}/acLabs/environment.yml\n",
    "echo 'source activate aclabsEnv' >> ~/.bashrc\n",
    "source activate acLabsEnv\n",
    "source ~/.bashrc\n",
    "jupyter notebook --generate-config\n",
    "echo \"c.NotebookApp.ip = '*'\" >> ~/.jupyter/jupyter_notebook_config.py\n",
    "echo \"c.NotebookApp.open_browser = False\" >> ~/.jupyter/jupyter_notebook_config.py\n",
    "pip install ipywidgets\n",
    "jupyter nbextension enable --py widgetsnbextension --sys-prefix\n",
    "pip install seaborn python-dateutil dask pytagcloud pyyaml \n",
    "pip install opencv-python numpy scipy scikit-learn\n",
    "conda install h5py\n",
    "echo\n",
    "echo ---\n",
    "echo - YOU NEED TO REBOOT YOUR COMPUTER NOW\n",
    "echo ---"
   ]
  },
  {
   "cell_type": "markdown",
   "metadata": {},
   "source": [
    "## ...pandas"
   ]
  },
  {
   "cell_type": "markdown",
   "metadata": {},
   "source": [
    "Python is a great language for doing data analysis, primarily because of the fantastic ecosystem of data-centric Python packages. Pandas is one of those packages, and makes importing and analyzing data much easier. Pandas builds on packages like NumPy and matplotlib to give you a single, convenient, place to do most of your data analysis and visualization work.\n",
    "\n",
    "Pandas is capable of many tasks including:\n",
    "* Reading/writing many different data formats\n",
    "* Selecting subsets of data\n",
    "* Calculating across rows and down columns\n",
    "* Finding and filling missing data\n",
    "* Applying operations to independent groups within the data\n",
    "* Reshaping data into different forms\n",
    "* Combing multiple datasets together\n",
    "* Advanced time-series functionality\n",
    "* Visualization through matplotlib and seaborn"
   ]
  },
  {
   "cell_type": "markdown",
   "metadata": {},
   "source": [
    "###  <p style=\"text-align: center;\">   Data Science pipeline </p>"
   ]
  },
  {
   "cell_type": "markdown",
   "metadata": {},
   "source": [
    "![Data Science pipeline](data_science_pipeline.png)"
   ]
  },
  {
   "cell_type": "markdown",
   "metadata": {},
   "source": [
    "## ...Scikit-Learn"
   ]
  },
  {
   "cell_type": "markdown",
   "metadata": {
    "slideshow": {
     "slide_type": "subslide"
    }
   },
   "source": [
    "### Outline\n",
    "\n",
    "* Scikit-Learn and the scientific ecosystem in Python\n",
    "* Classification\n",
    "* Model evaluation and selection\n",
    "* Transformers, pipelines and feature unions\n",
    "* Beyond building classifiers\n",
    "* Summary"
   ]
  },
  {
   "cell_type": "markdown",
   "metadata": {
    "slideshow": {
     "slide_type": "subslide"
    }
   },
   "source": [
    "### Overview\n",
    "\n",
    "* Machine learning library written in __Python__\n",
    "* __Simple and efficient__, for both experts and non-experts\n",
    "* Classical, __well-established machine learning algorithms__\n",
    "* Shipped with <a href=\"http://scikit-learn.org/dev/documentation.html\">documentation</a> and <a href=\"http://scikit-learn.org/dev/auto_examples/index.html\">examples</a>\n",
    "* __BSD 3 license__"
   ]
  },
  {
   "cell_type": "markdown",
   "metadata": {
    "slideshow": {
     "slide_type": "subslide"
    }
   },
   "source": [
    "### Community driven development\n",
    "\n",
    "- 20~ core developers (mostly researchers)\n",
    "- 500-1000 occasional contributors\n",
    "- __All working publicly together__ on [GitHub](https://github.com/scikit-learn/scikit-learn)\n",
    "- Emphasis on __keeping the project maintainable__\n",
    "    - Style consistency\n",
    "    - Unit-test coverage\n",
    "    - Documentation and examples\n",
    "    - Code review\n",
    "- Mature and stable"
   ]
  },
  {
   "cell_type": "code",
   "execution_count": 1,
   "metadata": {},
   "outputs": [
    {
     "name": "stderr",
     "output_type": "stream",
     "text": [
      "/home/svusers/anaconda3/envs/acLabsEnv/lib/python3.6/site-packages/matplotlib/font_manager.py:278: UserWarning: Matplotlib is building the font cache using fc-list. This may take a moment.\n",
      "  'Matplotlib is building the font cache using fc-list. '\n"
     ]
    }
   ],
   "source": [
    "# Machine Learning regression\n",
    "from sklearn.linear_model import LinearRegression\n",
    "from sklearn import metrics\n",
    "\n",
    "# For data manipulation\n",
    "import pandas as pd\n",
    "import numpy as np\n",
    "\n",
    "# To plot\n",
    "import matplotlib.pyplot as plt\n",
    "# By including this line you won't need to call plt.show() every time\n",
    "%matplotlib inline\n",
    "import seaborn as sns\n",
    "from bokeh.plotting import figure, output_file, output_notebook, show"
   ]
  },
  {
   "cell_type": "markdown",
   "metadata": {},
   "source": [
    "## Data quality check"
   ]
  },
  {
   "cell_type": "markdown",
   "metadata": {},
   "source": [
    "Before going to the point where we train Machine Learning algorithms, we need to have a very good understanding of the dataset we're using and see if we can find interesting attributes that we can use when training an ML algorithm.\n",
    "\n",
    "We should ask ourselfs questions like:\n",
    "* What does our data look like?\n",
    "* Do we have clean up issues ?\n",
    "* Is our dataset big enough ?"
   ]
  },
  {
   "cell_type": "markdown",
   "metadata": {},
   "source": [
    "## Loading the dataset"
   ]
  },
  {
   "cell_type": "markdown",
   "metadata": {},
   "source": [
    "To start exploring your data, you’ll need to start by actually loading in your data and one posibility to do that is by using the Pandas library mentioned before."
   ]
  },
  {
   "cell_type": "markdown",
   "metadata": {},
   "source": [
    "There are a bunch arguments that you can specify to ensure that your data is read in correctly: you can specify the delimiter to use with the **sep** or **delimiter** arguments, the column names to use with **names** or the column to use as the row labels for the resulting DataFrame with **index_col**.\n",
    "\n",
    "But these are not nearly all the arguments that you can add to the read_csv() function. Read up on this function and its arguments in the [Pandas documentation](http://pandas.pydata.org/pandas-docs/version/0.23/index.html)."
   ]
  },
  {
   "cell_type": "markdown",
   "metadata": {},
   "source": [
    "### Pandas Series"
   ]
  },
  {
   "cell_type": "markdown",
   "metadata": {},
   "source": [
    "Series is a one-dimensional labeled array capable of holding any data type (integers, strings, floating point numbers, Python objects, etc.). The axis labels are collectively referred to as the index. The basic method to create a Series is to call:"
   ]
  },
  {
   "cell_type": "code",
   "execution_count": 2,
   "metadata": {},
   "outputs": [
    {
     "ename": "NameError",
     "evalue": "name 'data' is not defined",
     "output_type": "error",
     "traceback": [
      "\u001b[0;31m---------------------------------------------------------------------------\u001b[0m",
      "\u001b[0;31mNameError\u001b[0m                                 Traceback (most recent call last)",
      "\u001b[0;32m<ipython-input-2-3b342c5f7916>\u001b[0m in \u001b[0;36m<module>\u001b[0;34m()\u001b[0m\n\u001b[0;32m----> 1\u001b[0;31m \u001b[0ms\u001b[0m \u001b[0;34m=\u001b[0m \u001b[0mpd\u001b[0m\u001b[0;34m.\u001b[0m\u001b[0mSeries\u001b[0m\u001b[0;34m(\u001b[0m\u001b[0mdata\u001b[0m\u001b[0;34m,\u001b[0m \u001b[0mindex\u001b[0m\u001b[0;34m=\u001b[0m\u001b[0mindex\u001b[0m\u001b[0;34m)\u001b[0m\u001b[0;34m\u001b[0m\u001b[0m\n\u001b[0m",
      "\u001b[0;31mNameError\u001b[0m: name 'data' is not defined"
     ]
    }
   ],
   "source": [
    "s = pd.Series(data, index=index)"
   ]
  },
  {
   "cell_type": "markdown",
   "metadata": {},
   "source": [
    "### Pandas DataFrames"
   ]
  },
  {
   "cell_type": "markdown",
   "metadata": {},
   "source": [
    "DataFrame is a 2-dimensional labeled data structure with columns of potentially different types. You can think of it like a spreadsheet or SQL table, or a dict of Series objects. It is generally the most commonly used pandas object. Like Series, DataFrame accepts many different kinds of input:\n",
    "\n",
    "* Dict of 1D ndarrays, lists, dicts, or Series\n",
    "* 2-D numpy.ndarray\n",
    "* Structured or record ndarray\n",
    "* A Series\n",
    "* Another DataFrame"
   ]
  },
  {
   "cell_type": "markdown",
   "metadata": {},
   "source": [
    "Along with the data, you can optionally pass index (row labels) and columns (column labels) arguments. If you pass an index and / or columns, you are guaranteeing the index and / or columns of the resulting DataFrame. Thus, a dict of Series plus a specific index will discard all data not matching up to the passed index"
   ]
  },
  {
   "cell_type": "code",
   "execution_count": 3,
   "metadata": {},
   "outputs": [
    {
     "ename": "NameError",
     "evalue": "name 'd' is not defined",
     "output_type": "error",
     "traceback": [
      "\u001b[0;31m---------------------------------------------------------------------------\u001b[0m",
      "\u001b[0;31mNameError\u001b[0m                                 Traceback (most recent call last)",
      "\u001b[0;32m<ipython-input-3-07e0e32b3f39>\u001b[0m in \u001b[0;36m<module>\u001b[0;34m()\u001b[0m\n\u001b[0;32m----> 1\u001b[0;31m \u001b[0mdf\u001b[0m \u001b[0;34m=\u001b[0m \u001b[0mpd\u001b[0m\u001b[0;34m.\u001b[0m\u001b[0mDataFrame\u001b[0m\u001b[0;34m(\u001b[0m\u001b[0md\u001b[0m\u001b[0;34m)\u001b[0m\u001b[0;34m\u001b[0m\u001b[0m\n\u001b[0m",
      "\u001b[0;31mNameError\u001b[0m: name 'd' is not defined"
     ]
    }
   ],
   "source": [
    "df = pd.DataFrame(d)"
   ]
  },
  {
   "cell_type": "markdown",
   "metadata": {},
   "source": [
    "### Back to the dataset"
   ]
  },
  {
   "cell_type": "code",
   "execution_count": 4,
   "metadata": {},
   "outputs": [],
   "source": [
    "# Read in data for \"bitcoin_price\" dataset\n",
    "bitcoin_price = pd.read_csv('bitcoin_price.csv',parse_dates=['Date'])"
   ]
  },
  {
   "cell_type": "markdown",
   "metadata": {},
   "source": [
    "The **head** function returns the first n rows, where you can specify the number of rows to show (by default, n=5). "
   ]
  },
  {
   "cell_type": "code",
   "execution_count": 5,
   "metadata": {},
   "outputs": [
    {
     "data": {
      "text/html": [
       "<div>\n",
       "<style scoped>\n",
       "    .dataframe tbody tr th:only-of-type {\n",
       "        vertical-align: middle;\n",
       "    }\n",
       "\n",
       "    .dataframe tbody tr th {\n",
       "        vertical-align: top;\n",
       "    }\n",
       "\n",
       "    .dataframe thead th {\n",
       "        text-align: right;\n",
       "    }\n",
       "</style>\n",
       "<table border=\"1\" class=\"dataframe\">\n",
       "  <thead>\n",
       "    <tr style=\"text-align: right;\">\n",
       "      <th></th>\n",
       "      <th>Date</th>\n",
       "      <th>Open</th>\n",
       "      <th>High</th>\n",
       "      <th>Low</th>\n",
       "      <th>Close</th>\n",
       "      <th>Volume</th>\n",
       "      <th>Market Cap</th>\n",
       "    </tr>\n",
       "  </thead>\n",
       "  <tbody>\n",
       "    <tr>\n",
       "      <th>0</th>\n",
       "      <td>2018-02-20</td>\n",
       "      <td>11231.8</td>\n",
       "      <td>11958.5</td>\n",
       "      <td>11231.80</td>\n",
       "      <td>11403.7</td>\n",
       "      <td>9,926,540,000</td>\n",
       "      <td>189,536,000,000</td>\n",
       "    </tr>\n",
       "    <tr>\n",
       "      <th>1</th>\n",
       "      <td>2018-02-19</td>\n",
       "      <td>10552.6</td>\n",
       "      <td>11273.8</td>\n",
       "      <td>10513.20</td>\n",
       "      <td>11225.3</td>\n",
       "      <td>7,652,090,000</td>\n",
       "      <td>178,055,000,000</td>\n",
       "    </tr>\n",
       "    <tr>\n",
       "      <th>2</th>\n",
       "      <td>2018-02-18</td>\n",
       "      <td>11123.4</td>\n",
       "      <td>11349.8</td>\n",
       "      <td>10326.00</td>\n",
       "      <td>10551.8</td>\n",
       "      <td>8,744,010,000</td>\n",
       "      <td>187,663,000,000</td>\n",
       "    </tr>\n",
       "    <tr>\n",
       "      <th>3</th>\n",
       "      <td>2018-02-17</td>\n",
       "      <td>10207.5</td>\n",
       "      <td>11139.5</td>\n",
       "      <td>10149.40</td>\n",
       "      <td>11112.7</td>\n",
       "      <td>8,660,880,000</td>\n",
       "      <td>172,191,000,000</td>\n",
       "    </tr>\n",
       "    <tr>\n",
       "      <th>4</th>\n",
       "      <td>2018-02-16</td>\n",
       "      <td>10135.7</td>\n",
       "      <td>10324.1</td>\n",
       "      <td>9824.82</td>\n",
       "      <td>10233.9</td>\n",
       "      <td>7,296,160,000</td>\n",
       "      <td>170,960,000,000</td>\n",
       "    </tr>\n",
       "  </tbody>\n",
       "</table>\n",
       "</div>"
      ],
      "text/plain": [
       "        Date     Open     High       Low    Close         Volume  \\\n",
       "0 2018-02-20  11231.8  11958.5  11231.80  11403.7  9,926,540,000   \n",
       "1 2018-02-19  10552.6  11273.8  10513.20  11225.3  7,652,090,000   \n",
       "2 2018-02-18  11123.4  11349.8  10326.00  10551.8  8,744,010,000   \n",
       "3 2018-02-17  10207.5  11139.5  10149.40  11112.7  8,660,880,000   \n",
       "4 2018-02-16  10135.7  10324.1   9824.82  10233.9  7,296,160,000   \n",
       "\n",
       "        Market Cap  \n",
       "0  189,536,000,000  \n",
       "1  178,055,000,000  \n",
       "2  187,663,000,000  \n",
       "3  172,191,000,000  \n",
       "4  170,960,000,000  "
      ]
     },
     "execution_count": 5,
     "metadata": {},
     "output_type": "execute_result"
    }
   ],
   "source": [
    "bitcoin_price.head()"
   ]
  },
  {
   "cell_type": "markdown",
   "metadata": {},
   "source": [
    "You can use the **describe** function to get various summary statistics that exclude NaN values.It returns the count, mean, standard deviation, minimum and maximum values and the quantiles of the data."
   ]
  },
  {
   "cell_type": "code",
   "execution_count": 6,
   "metadata": {},
   "outputs": [
    {
     "data": {
      "text/html": [
       "<div>\n",
       "<style scoped>\n",
       "    .dataframe tbody tr th:only-of-type {\n",
       "        vertical-align: middle;\n",
       "    }\n",
       "\n",
       "    .dataframe tbody tr th {\n",
       "        vertical-align: top;\n",
       "    }\n",
       "\n",
       "    .dataframe thead th {\n",
       "        text-align: right;\n",
       "    }\n",
       "</style>\n",
       "<table border=\"1\" class=\"dataframe\">\n",
       "  <thead>\n",
       "    <tr style=\"text-align: right;\">\n",
       "      <th></th>\n",
       "      <th>Open</th>\n",
       "      <th>High</th>\n",
       "      <th>Low</th>\n",
       "      <th>Close</th>\n",
       "    </tr>\n",
       "  </thead>\n",
       "  <tbody>\n",
       "    <tr>\n",
       "      <th>count</th>\n",
       "      <td>1760.000000</td>\n",
       "      <td>1760.000000</td>\n",
       "      <td>1760.000000</td>\n",
       "      <td>1760.000000</td>\n",
       "    </tr>\n",
       "    <tr>\n",
       "      <th>mean</th>\n",
       "      <td>1479.574239</td>\n",
       "      <td>1536.991108</td>\n",
       "      <td>1418.251273</td>\n",
       "      <td>1485.747000</td>\n",
       "    </tr>\n",
       "    <tr>\n",
       "      <th>std</th>\n",
       "      <td>2950.457188</td>\n",
       "      <td>3092.950362</td>\n",
       "      <td>2780.859459</td>\n",
       "      <td>2959.265478</td>\n",
       "    </tr>\n",
       "    <tr>\n",
       "      <th>min</th>\n",
       "      <td>68.500000</td>\n",
       "      <td>74.560000</td>\n",
       "      <td>65.530000</td>\n",
       "      <td>68.430000</td>\n",
       "    </tr>\n",
       "    <tr>\n",
       "      <th>25%</th>\n",
       "      <td>274.730000</td>\n",
       "      <td>279.857500</td>\n",
       "      <td>268.640000</td>\n",
       "      <td>274.875000</td>\n",
       "    </tr>\n",
       "    <tr>\n",
       "      <th>50%</th>\n",
       "      <td>480.715000</td>\n",
       "      <td>495.195000</td>\n",
       "      <td>472.510000</td>\n",
       "      <td>482.810000</td>\n",
       "    </tr>\n",
       "    <tr>\n",
       "      <th>75%</th>\n",
       "      <td>870.085000</td>\n",
       "      <td>900.222500</td>\n",
       "      <td>831.682500</td>\n",
       "      <td>871.370000</td>\n",
       "    </tr>\n",
       "    <tr>\n",
       "      <th>max</th>\n",
       "      <td>19475.800000</td>\n",
       "      <td>20089.000000</td>\n",
       "      <td>18974.100000</td>\n",
       "      <td>19497.400000</td>\n",
       "    </tr>\n",
       "  </tbody>\n",
       "</table>\n",
       "</div>"
      ],
      "text/plain": [
       "               Open          High           Low         Close\n",
       "count   1760.000000   1760.000000   1760.000000   1760.000000\n",
       "mean    1479.574239   1536.991108   1418.251273   1485.747000\n",
       "std     2950.457188   3092.950362   2780.859459   2959.265478\n",
       "min       68.500000     74.560000     65.530000     68.430000\n",
       "25%      274.730000    279.857500    268.640000    274.875000\n",
       "50%      480.715000    495.195000    472.510000    482.810000\n",
       "75%      870.085000    900.222500    831.682500    871.370000\n",
       "max    19475.800000  20089.000000  18974.100000  19497.400000"
      ]
     },
     "execution_count": 6,
     "metadata": {},
     "output_type": "execute_result"
    }
   ],
   "source": [
    "bitcoin_price.describe()"
   ]
  },
  {
   "cell_type": "markdown",
   "metadata": {},
   "source": [
    "## Checking for missing values"
   ]
  },
  {
   "cell_type": "markdown",
   "metadata": {},
   "source": [
    "Checking this is important because when some of your data is missing, the data set can lose expressiveness, which can lead to weak or biased analyses. Practically, this means that when you’re missing values for certain features, the chances of your classification or predictions for the data being off only increase."
   ]
  },
  {
   "cell_type": "markdown",
   "metadata": {},
   "source": [
    "To identify the rows that contain missing values, you can use the **isnull** method. In the result that you’ll get back, you’ll see **True** or **False** appearing in each cell: **True** will indicate that the value contained within the cell is a missing value, **False** means that the cell contains a ‘normal’ value."
   ]
  },
  {
   "cell_type": "code",
   "execution_count": 7,
   "metadata": {},
   "outputs": [
    {
     "data": {
      "text/html": [
       "<div>\n",
       "<style scoped>\n",
       "    .dataframe tbody tr th:only-of-type {\n",
       "        vertical-align: middle;\n",
       "    }\n",
       "\n",
       "    .dataframe tbody tr th {\n",
       "        vertical-align: top;\n",
       "    }\n",
       "\n",
       "    .dataframe thead th {\n",
       "        text-align: right;\n",
       "    }\n",
       "</style>\n",
       "<table border=\"1\" class=\"dataframe\">\n",
       "  <thead>\n",
       "    <tr style=\"text-align: right;\">\n",
       "      <th></th>\n",
       "      <th>Date</th>\n",
       "      <th>Open</th>\n",
       "      <th>High</th>\n",
       "      <th>Low</th>\n",
       "      <th>Close</th>\n",
       "      <th>Volume</th>\n",
       "      <th>Market Cap</th>\n",
       "    </tr>\n",
       "  </thead>\n",
       "  <tbody>\n",
       "    <tr>\n",
       "      <th>0</th>\n",
       "      <td>False</td>\n",
       "      <td>False</td>\n",
       "      <td>False</td>\n",
       "      <td>False</td>\n",
       "      <td>False</td>\n",
       "      <td>False</td>\n",
       "      <td>False</td>\n",
       "    </tr>\n",
       "    <tr>\n",
       "      <th>1</th>\n",
       "      <td>False</td>\n",
       "      <td>False</td>\n",
       "      <td>False</td>\n",
       "      <td>False</td>\n",
       "      <td>False</td>\n",
       "      <td>False</td>\n",
       "      <td>False</td>\n",
       "    </tr>\n",
       "    <tr>\n",
       "      <th>2</th>\n",
       "      <td>False</td>\n",
       "      <td>False</td>\n",
       "      <td>False</td>\n",
       "      <td>False</td>\n",
       "      <td>False</td>\n",
       "      <td>False</td>\n",
       "      <td>False</td>\n",
       "    </tr>\n",
       "    <tr>\n",
       "      <th>3</th>\n",
       "      <td>False</td>\n",
       "      <td>False</td>\n",
       "      <td>False</td>\n",
       "      <td>False</td>\n",
       "      <td>False</td>\n",
       "      <td>False</td>\n",
       "      <td>False</td>\n",
       "    </tr>\n",
       "    <tr>\n",
       "      <th>4</th>\n",
       "      <td>False</td>\n",
       "      <td>False</td>\n",
       "      <td>False</td>\n",
       "      <td>False</td>\n",
       "      <td>False</td>\n",
       "      <td>False</td>\n",
       "      <td>False</td>\n",
       "    </tr>\n",
       "  </tbody>\n",
       "</table>\n",
       "</div>"
      ],
      "text/plain": [
       "    Date   Open   High    Low  Close  Volume  Market Cap\n",
       "0  False  False  False  False  False   False       False\n",
       "1  False  False  False  False  False   False       False\n",
       "2  False  False  False  False  False   False       False\n",
       "3  False  False  False  False  False   False       False\n",
       "4  False  False  False  False  False   False       False"
      ]
     },
     "execution_count": 7,
     "metadata": {},
     "output_type": "execute_result"
    }
   ],
   "source": [
    "pd.isnull(bitcoin_price.iloc[:5,:])"
   ]
  },
  {
   "cell_type": "markdown",
   "metadata": {},
   "source": [
    "Let's take another look at the first rows. What's wrong ?"
   ]
  },
  {
   "cell_type": "code",
   "execution_count": 8,
   "metadata": {},
   "outputs": [
    {
     "data": {
      "text/html": [
       "<div>\n",
       "<style scoped>\n",
       "    .dataframe tbody tr th:only-of-type {\n",
       "        vertical-align: middle;\n",
       "    }\n",
       "\n",
       "    .dataframe tbody tr th {\n",
       "        vertical-align: top;\n",
       "    }\n",
       "\n",
       "    .dataframe thead th {\n",
       "        text-align: right;\n",
       "    }\n",
       "</style>\n",
       "<table border=\"1\" class=\"dataframe\">\n",
       "  <thead>\n",
       "    <tr style=\"text-align: right;\">\n",
       "      <th></th>\n",
       "      <th>Date</th>\n",
       "      <th>Open</th>\n",
       "      <th>High</th>\n",
       "      <th>Low</th>\n",
       "      <th>Close</th>\n",
       "      <th>Volume</th>\n",
       "      <th>Market Cap</th>\n",
       "    </tr>\n",
       "  </thead>\n",
       "  <tbody>\n",
       "    <tr>\n",
       "      <th>0</th>\n",
       "      <td>2018-02-20</td>\n",
       "      <td>11231.8</td>\n",
       "      <td>11958.5</td>\n",
       "      <td>11231.80</td>\n",
       "      <td>11403.7</td>\n",
       "      <td>9,926,540,000</td>\n",
       "      <td>189,536,000,000</td>\n",
       "    </tr>\n",
       "    <tr>\n",
       "      <th>1</th>\n",
       "      <td>2018-02-19</td>\n",
       "      <td>10552.6</td>\n",
       "      <td>11273.8</td>\n",
       "      <td>10513.20</td>\n",
       "      <td>11225.3</td>\n",
       "      <td>7,652,090,000</td>\n",
       "      <td>178,055,000,000</td>\n",
       "    </tr>\n",
       "    <tr>\n",
       "      <th>2</th>\n",
       "      <td>2018-02-18</td>\n",
       "      <td>11123.4</td>\n",
       "      <td>11349.8</td>\n",
       "      <td>10326.00</td>\n",
       "      <td>10551.8</td>\n",
       "      <td>8,744,010,000</td>\n",
       "      <td>187,663,000,000</td>\n",
       "    </tr>\n",
       "    <tr>\n",
       "      <th>3</th>\n",
       "      <td>2018-02-17</td>\n",
       "      <td>10207.5</td>\n",
       "      <td>11139.5</td>\n",
       "      <td>10149.40</td>\n",
       "      <td>11112.7</td>\n",
       "      <td>8,660,880,000</td>\n",
       "      <td>172,191,000,000</td>\n",
       "    </tr>\n",
       "    <tr>\n",
       "      <th>4</th>\n",
       "      <td>2018-02-16</td>\n",
       "      <td>10135.7</td>\n",
       "      <td>10324.1</td>\n",
       "      <td>9824.82</td>\n",
       "      <td>10233.9</td>\n",
       "      <td>7,296,160,000</td>\n",
       "      <td>170,960,000,000</td>\n",
       "    </tr>\n",
       "  </tbody>\n",
       "</table>\n",
       "</div>"
      ],
      "text/plain": [
       "        Date     Open     High       Low    Close         Volume  \\\n",
       "0 2018-02-20  11231.8  11958.5  11231.80  11403.7  9,926,540,000   \n",
       "1 2018-02-19  10552.6  11273.8  10513.20  11225.3  7,652,090,000   \n",
       "2 2018-02-18  11123.4  11349.8  10326.00  10551.8  8,744,010,000   \n",
       "3 2018-02-17  10207.5  11139.5  10149.40  11112.7  8,660,880,000   \n",
       "4 2018-02-16  10135.7  10324.1   9824.82  10233.9  7,296,160,000   \n",
       "\n",
       "        Market Cap  \n",
       "0  189,536,000,000  \n",
       "1  178,055,000,000  \n",
       "2  187,663,000,000  \n",
       "3  172,191,000,000  \n",
       "4  170,960,000,000  "
      ]
     },
     "execution_count": 8,
     "metadata": {},
     "output_type": "execute_result"
    }
   ],
   "source": [
    "bitcoin_price.head()"
   ]
  },
  {
   "cell_type": "code",
   "execution_count": 9,
   "metadata": {},
   "outputs": [
    {
     "data": {
      "text/html": [
       "<div>\n",
       "<style scoped>\n",
       "    .dataframe tbody tr th:only-of-type {\n",
       "        vertical-align: middle;\n",
       "    }\n",
       "\n",
       "    .dataframe tbody tr th {\n",
       "        vertical-align: top;\n",
       "    }\n",
       "\n",
       "    .dataframe thead th {\n",
       "        text-align: right;\n",
       "    }\n",
       "</style>\n",
       "<table border=\"1\" class=\"dataframe\">\n",
       "  <thead>\n",
       "    <tr style=\"text-align: right;\">\n",
       "      <th></th>\n",
       "      <th>Date</th>\n",
       "      <th>Open</th>\n",
       "      <th>High</th>\n",
       "      <th>Low</th>\n",
       "      <th>Close</th>\n",
       "      <th>Volume</th>\n",
       "      <th>Market Cap</th>\n",
       "    </tr>\n",
       "  </thead>\n",
       "  <tbody>\n",
       "    <tr>\n",
       "      <th>1759</th>\n",
       "      <td>2013-04-28</td>\n",
       "      <td>135.30</td>\n",
       "      <td>135.98</td>\n",
       "      <td>132.10</td>\n",
       "      <td>134.21</td>\n",
       "      <td>-</td>\n",
       "      <td>1,500,520,000</td>\n",
       "    </tr>\n",
       "    <tr>\n",
       "      <th>1758</th>\n",
       "      <td>2013-04-29</td>\n",
       "      <td>134.44</td>\n",
       "      <td>147.49</td>\n",
       "      <td>134.00</td>\n",
       "      <td>144.54</td>\n",
       "      <td>-</td>\n",
       "      <td>1,491,160,000</td>\n",
       "    </tr>\n",
       "    <tr>\n",
       "      <th>1757</th>\n",
       "      <td>2013-04-30</td>\n",
       "      <td>144.00</td>\n",
       "      <td>146.93</td>\n",
       "      <td>134.05</td>\n",
       "      <td>139.00</td>\n",
       "      <td>-</td>\n",
       "      <td>1,597,780,000</td>\n",
       "    </tr>\n",
       "    <tr>\n",
       "      <th>1756</th>\n",
       "      <td>2013-05-01</td>\n",
       "      <td>139.00</td>\n",
       "      <td>139.89</td>\n",
       "      <td>107.72</td>\n",
       "      <td>116.99</td>\n",
       "      <td>-</td>\n",
       "      <td>1,542,820,000</td>\n",
       "    </tr>\n",
       "    <tr>\n",
       "      <th>1755</th>\n",
       "      <td>2013-05-02</td>\n",
       "      <td>116.38</td>\n",
       "      <td>125.60</td>\n",
       "      <td>92.28</td>\n",
       "      <td>105.21</td>\n",
       "      <td>-</td>\n",
       "      <td>1,292,190,000</td>\n",
       "    </tr>\n",
       "  </tbody>\n",
       "</table>\n",
       "</div>"
      ],
      "text/plain": [
       "           Date    Open    High     Low   Close Volume     Market Cap\n",
       "1759 2013-04-28  135.30  135.98  132.10  134.21      -  1,500,520,000\n",
       "1758 2013-04-29  134.44  147.49  134.00  144.54      -  1,491,160,000\n",
       "1757 2013-04-30  144.00  146.93  134.05  139.00      -  1,597,780,000\n",
       "1756 2013-05-01  139.00  139.89  107.72  116.99      -  1,542,820,000\n",
       "1755 2013-05-02  116.38  125.60   92.28  105.21      -  1,292,190,000"
      ]
     },
     "execution_count": 9,
     "metadata": {},
     "output_type": "execute_result"
    }
   ],
   "source": [
    "# Sort the dates into proper order\n",
    "bitcoin_price = bitcoin_price[::-1]\n",
    "\n",
    "bitcoin_price.head()"
   ]
  },
  {
   "cell_type": "markdown",
   "metadata": {},
   "source": [
    "So now we've got our samples in chronological order but again something's not right."
   ]
  },
  {
   "cell_type": "code",
   "execution_count": 10,
   "metadata": {},
   "outputs": [
    {
     "data": {
      "text/html": [
       "<div>\n",
       "<style scoped>\n",
       "    .dataframe tbody tr th:only-of-type {\n",
       "        vertical-align: middle;\n",
       "    }\n",
       "\n",
       "    .dataframe tbody tr th {\n",
       "        vertical-align: top;\n",
       "    }\n",
       "\n",
       "    .dataframe thead th {\n",
       "        text-align: right;\n",
       "    }\n",
       "</style>\n",
       "<table border=\"1\" class=\"dataframe\">\n",
       "  <thead>\n",
       "    <tr style=\"text-align: right;\">\n",
       "      <th></th>\n",
       "      <th>Date</th>\n",
       "      <th>Open</th>\n",
       "      <th>High</th>\n",
       "      <th>Low</th>\n",
       "      <th>Close</th>\n",
       "      <th>Volume</th>\n",
       "      <th>Market Cap</th>\n",
       "    </tr>\n",
       "  </thead>\n",
       "  <tbody>\n",
       "    <tr>\n",
       "      <th>0</th>\n",
       "      <td>2013-04-28</td>\n",
       "      <td>135.30</td>\n",
       "      <td>135.98</td>\n",
       "      <td>132.10</td>\n",
       "      <td>134.21</td>\n",
       "      <td>-</td>\n",
       "      <td>1,500,520,000</td>\n",
       "    </tr>\n",
       "    <tr>\n",
       "      <th>1</th>\n",
       "      <td>2013-04-29</td>\n",
       "      <td>134.44</td>\n",
       "      <td>147.49</td>\n",
       "      <td>134.00</td>\n",
       "      <td>144.54</td>\n",
       "      <td>-</td>\n",
       "      <td>1,491,160,000</td>\n",
       "    </tr>\n",
       "    <tr>\n",
       "      <th>2</th>\n",
       "      <td>2013-04-30</td>\n",
       "      <td>144.00</td>\n",
       "      <td>146.93</td>\n",
       "      <td>134.05</td>\n",
       "      <td>139.00</td>\n",
       "      <td>-</td>\n",
       "      <td>1,597,780,000</td>\n",
       "    </tr>\n",
       "    <tr>\n",
       "      <th>3</th>\n",
       "      <td>2013-05-01</td>\n",
       "      <td>139.00</td>\n",
       "      <td>139.89</td>\n",
       "      <td>107.72</td>\n",
       "      <td>116.99</td>\n",
       "      <td>-</td>\n",
       "      <td>1,542,820,000</td>\n",
       "    </tr>\n",
       "    <tr>\n",
       "      <th>4</th>\n",
       "      <td>2013-05-02</td>\n",
       "      <td>116.38</td>\n",
       "      <td>125.60</td>\n",
       "      <td>92.28</td>\n",
       "      <td>105.21</td>\n",
       "      <td>-</td>\n",
       "      <td>1,292,190,000</td>\n",
       "    </tr>\n",
       "  </tbody>\n",
       "</table>\n",
       "</div>"
      ],
      "text/plain": [
       "        Date    Open    High     Low   Close Volume     Market Cap\n",
       "0 2013-04-28  135.30  135.98  132.10  134.21      -  1,500,520,000\n",
       "1 2013-04-29  134.44  147.49  134.00  144.54      -  1,491,160,000\n",
       "2 2013-04-30  144.00  146.93  134.05  139.00      -  1,597,780,000\n",
       "3 2013-05-01  139.00  139.89  107.72  116.99      -  1,542,820,000\n",
       "4 2013-05-02  116.38  125.60   92.28  105.21      -  1,292,190,000"
      ]
     },
     "execution_count": 10,
     "metadata": {},
     "output_type": "execute_result"
    }
   ],
   "source": [
    "# Reset index for bitcoin_price manually \n",
    "bitcoin_price.index = range(len(bitcoin_price))\n",
    "\n",
    "# Reset index for bitcoin_price using the built-in method\n",
    "bitcoin_price.reset_index();\n",
    "\n",
    "bitcoin_price.head()"
   ]
  },
  {
   "cell_type": "markdown",
   "metadata": {},
   "source": [
    "As our first dataset is looking pretty decent now, we're going to go through a similar process for the second file that contains Bitcoin data."
   ]
  },
  {
   "cell_type": "code",
   "execution_count": 11,
   "metadata": {},
   "outputs": [
    {
     "data": {
      "text/html": [
       "<div>\n",
       "<style scoped>\n",
       "    .dataframe tbody tr th:only-of-type {\n",
       "        vertical-align: middle;\n",
       "    }\n",
       "\n",
       "    .dataframe tbody tr th {\n",
       "        vertical-align: top;\n",
       "    }\n",
       "\n",
       "    .dataframe thead th {\n",
       "        text-align: right;\n",
       "    }\n",
       "</style>\n",
       "<table border=\"1\" class=\"dataframe\">\n",
       "  <thead>\n",
       "    <tr style=\"text-align: right;\">\n",
       "      <th></th>\n",
       "      <th>Date</th>\n",
       "      <th>btc_market_price</th>\n",
       "      <th>btc_total_bitcoins</th>\n",
       "      <th>btc_market_cap</th>\n",
       "      <th>btc_trade_volume</th>\n",
       "      <th>btc_blocks_size</th>\n",
       "      <th>btc_avg_block_size</th>\n",
       "      <th>btc_n_orphaned_blocks</th>\n",
       "      <th>btc_n_transactions_per_block</th>\n",
       "      <th>btc_median_confirmation_time</th>\n",
       "      <th>...</th>\n",
       "      <th>btc_cost_per_transaction_percent</th>\n",
       "      <th>btc_cost_per_transaction</th>\n",
       "      <th>btc_n_unique_addresses</th>\n",
       "      <th>btc_n_transactions</th>\n",
       "      <th>btc_n_transactions_total</th>\n",
       "      <th>btc_n_transactions_excluding_popular</th>\n",
       "      <th>btc_n_transactions_excluding_chains_longer_than_100</th>\n",
       "      <th>btc_output_volume</th>\n",
       "      <th>btc_estimated_transaction_volume</th>\n",
       "      <th>btc_estimated_transaction_volume_usd</th>\n",
       "    </tr>\n",
       "  </thead>\n",
       "  <tbody>\n",
       "    <tr>\n",
       "      <th>0</th>\n",
       "      <td>2010-02-23</td>\n",
       "      <td>0.0</td>\n",
       "      <td>2110700.0</td>\n",
       "      <td>0.0</td>\n",
       "      <td>0.0</td>\n",
       "      <td>0.0</td>\n",
       "      <td>0.000216</td>\n",
       "      <td>0.0</td>\n",
       "      <td>1.0</td>\n",
       "      <td>0.0</td>\n",
       "      <td>...</td>\n",
       "      <td>25100.000000</td>\n",
       "      <td>0.0</td>\n",
       "      <td>252.0</td>\n",
       "      <td>252.0</td>\n",
       "      <td>42613.0</td>\n",
       "      <td>252.0</td>\n",
       "      <td>252.0</td>\n",
       "      <td>12600.0</td>\n",
       "      <td>50.0</td>\n",
       "      <td>0.0</td>\n",
       "    </tr>\n",
       "    <tr>\n",
       "      <th>1</th>\n",
       "      <td>2010-02-24</td>\n",
       "      <td>0.0</td>\n",
       "      <td>2120200.0</td>\n",
       "      <td>0.0</td>\n",
       "      <td>0.0</td>\n",
       "      <td>0.0</td>\n",
       "      <td>0.000282</td>\n",
       "      <td>0.0</td>\n",
       "      <td>1.0</td>\n",
       "      <td>0.0</td>\n",
       "      <td>...</td>\n",
       "      <td>179.245283</td>\n",
       "      <td>0.0</td>\n",
       "      <td>195.0</td>\n",
       "      <td>196.0</td>\n",
       "      <td>42809.0</td>\n",
       "      <td>196.0</td>\n",
       "      <td>196.0</td>\n",
       "      <td>14800.0</td>\n",
       "      <td>5300.0</td>\n",
       "      <td>0.0</td>\n",
       "    </tr>\n",
       "    <tr>\n",
       "      <th>2</th>\n",
       "      <td>2010-02-25</td>\n",
       "      <td>0.0</td>\n",
       "      <td>2127600.0</td>\n",
       "      <td>0.0</td>\n",
       "      <td>0.0</td>\n",
       "      <td>0.0</td>\n",
       "      <td>0.000227</td>\n",
       "      <td>0.0</td>\n",
       "      <td>1.0</td>\n",
       "      <td>0.0</td>\n",
       "      <td>...</td>\n",
       "      <td>1057.142857</td>\n",
       "      <td>0.0</td>\n",
       "      <td>150.0</td>\n",
       "      <td>150.0</td>\n",
       "      <td>42959.0</td>\n",
       "      <td>150.0</td>\n",
       "      <td>150.0</td>\n",
       "      <td>8100.0</td>\n",
       "      <td>700.0</td>\n",
       "      <td>0.0</td>\n",
       "    </tr>\n",
       "    <tr>\n",
       "      <th>3</th>\n",
       "      <td>2010-02-26</td>\n",
       "      <td>0.0</td>\n",
       "      <td>2136100.0</td>\n",
       "      <td>0.0</td>\n",
       "      <td>0.0</td>\n",
       "      <td>0.0</td>\n",
       "      <td>0.000319</td>\n",
       "      <td>0.0</td>\n",
       "      <td>1.0</td>\n",
       "      <td>0.0</td>\n",
       "      <td>...</td>\n",
       "      <td>64.582059</td>\n",
       "      <td>0.0</td>\n",
       "      <td>176.0</td>\n",
       "      <td>176.0</td>\n",
       "      <td>43135.0</td>\n",
       "      <td>176.0</td>\n",
       "      <td>176.0</td>\n",
       "      <td>29349.0</td>\n",
       "      <td>13162.0</td>\n",
       "      <td>0.0</td>\n",
       "    </tr>\n",
       "    <tr>\n",
       "      <th>4</th>\n",
       "      <td>2010-02-27</td>\n",
       "      <td>0.0</td>\n",
       "      <td>2144750.0</td>\n",
       "      <td>0.0</td>\n",
       "      <td>0.0</td>\n",
       "      <td>0.0</td>\n",
       "      <td>0.000223</td>\n",
       "      <td>0.0</td>\n",
       "      <td>1.0</td>\n",
       "      <td>0.0</td>\n",
       "      <td>...</td>\n",
       "      <td>1922.222222</td>\n",
       "      <td>0.0</td>\n",
       "      <td>176.0</td>\n",
       "      <td>176.0</td>\n",
       "      <td>43311.0</td>\n",
       "      <td>176.0</td>\n",
       "      <td>176.0</td>\n",
       "      <td>9101.0</td>\n",
       "      <td>450.0</td>\n",
       "      <td>0.0</td>\n",
       "    </tr>\n",
       "  </tbody>\n",
       "</table>\n",
       "<p>5 rows × 24 columns</p>\n",
       "</div>"
      ],
      "text/plain": [
       "        Date  btc_market_price  btc_total_bitcoins  btc_market_cap  \\\n",
       "0 2010-02-23               0.0           2110700.0             0.0   \n",
       "1 2010-02-24               0.0           2120200.0             0.0   \n",
       "2 2010-02-25               0.0           2127600.0             0.0   \n",
       "3 2010-02-26               0.0           2136100.0             0.0   \n",
       "4 2010-02-27               0.0           2144750.0             0.0   \n",
       "\n",
       "   btc_trade_volume  btc_blocks_size  btc_avg_block_size  \\\n",
       "0               0.0              0.0            0.000216   \n",
       "1               0.0              0.0            0.000282   \n",
       "2               0.0              0.0            0.000227   \n",
       "3               0.0              0.0            0.000319   \n",
       "4               0.0              0.0            0.000223   \n",
       "\n",
       "   btc_n_orphaned_blocks  btc_n_transactions_per_block  \\\n",
       "0                    0.0                           1.0   \n",
       "1                    0.0                           1.0   \n",
       "2                    0.0                           1.0   \n",
       "3                    0.0                           1.0   \n",
       "4                    0.0                           1.0   \n",
       "\n",
       "   btc_median_confirmation_time                  ...                   \\\n",
       "0                           0.0                  ...                    \n",
       "1                           0.0                  ...                    \n",
       "2                           0.0                  ...                    \n",
       "3                           0.0                  ...                    \n",
       "4                           0.0                  ...                    \n",
       "\n",
       "   btc_cost_per_transaction_percent  btc_cost_per_transaction  \\\n",
       "0                      25100.000000                       0.0   \n",
       "1                        179.245283                       0.0   \n",
       "2                       1057.142857                       0.0   \n",
       "3                         64.582059                       0.0   \n",
       "4                       1922.222222                       0.0   \n",
       "\n",
       "   btc_n_unique_addresses  btc_n_transactions  btc_n_transactions_total  \\\n",
       "0                   252.0               252.0                   42613.0   \n",
       "1                   195.0               196.0                   42809.0   \n",
       "2                   150.0               150.0                   42959.0   \n",
       "3                   176.0               176.0                   43135.0   \n",
       "4                   176.0               176.0                   43311.0   \n",
       "\n",
       "   btc_n_transactions_excluding_popular  \\\n",
       "0                                 252.0   \n",
       "1                                 196.0   \n",
       "2                                 150.0   \n",
       "3                                 176.0   \n",
       "4                                 176.0   \n",
       "\n",
       "   btc_n_transactions_excluding_chains_longer_than_100  btc_output_volume  \\\n",
       "0                                              252.0              12600.0   \n",
       "1                                              196.0              14800.0   \n",
       "2                                              150.0               8100.0   \n",
       "3                                              176.0              29349.0   \n",
       "4                                              176.0               9101.0   \n",
       "\n",
       "   btc_estimated_transaction_volume  btc_estimated_transaction_volume_usd  \n",
       "0                              50.0                                   0.0  \n",
       "1                            5300.0                                   0.0  \n",
       "2                             700.0                                   0.0  \n",
       "3                           13162.0                                   0.0  \n",
       "4                             450.0                                   0.0  \n",
       "\n",
       "[5 rows x 24 columns]"
      ]
     },
     "execution_count": 11,
     "metadata": {},
     "output_type": "execute_result"
    }
   ],
   "source": [
    "# Read in data from \"bitcoin_dataset\" dataset\n",
    "bitcoin_dataset = pd.read_csv('bitcoin_dataset.csv',parse_dates=['Date'])\n",
    "bitcoin_dataset.head()"
   ]
  },
  {
   "cell_type": "markdown",
   "metadata": {},
   "source": [
    "Now that we've loaded our data and cleaned it up a bit, we're left with 2 dataset (2 DataFrames actually). \n",
    "\n",
    "To take full advantage of the Bitcoin insights that they provide we have the posibility to merge them so the algorithm that we're going to train will benefit from all the features.\n",
    "\n",
    "Merge DataFrame objects is done by performing a database-style join operation by columns or indexes.\n",
    "\n",
    "One thing we need to do before the actual **merge** is to make sure that we will combine DataFrames with the same length (We just cleaned our data so we don't want to get nasty NaN values)."
   ]
  },
  {
   "cell_type": "code",
   "execution_count": 12,
   "metadata": {
    "scrolled": true
   },
   "outputs": [
    {
     "data": {
      "text/html": [
       "<div>\n",
       "<style scoped>\n",
       "    .dataframe tbody tr th:only-of-type {\n",
       "        vertical-align: middle;\n",
       "    }\n",
       "\n",
       "    .dataframe tbody tr th {\n",
       "        vertical-align: top;\n",
       "    }\n",
       "\n",
       "    .dataframe thead th {\n",
       "        text-align: right;\n",
       "    }\n",
       "</style>\n",
       "<table border=\"1\" class=\"dataframe\">\n",
       "  <thead>\n",
       "    <tr style=\"text-align: right;\">\n",
       "      <th></th>\n",
       "      <th>Date</th>\n",
       "      <th>Close</th>\n",
       "      <th>Open</th>\n",
       "      <th>High</th>\n",
       "      <th>Low</th>\n",
       "      <th>btc_estimated_transaction_volume_usd</th>\n",
       "      <th>btc_total_bitcoins</th>\n",
       "      <th>btc_avg_block_size</th>\n",
       "    </tr>\n",
       "  </thead>\n",
       "  <tbody>\n",
       "    <tr>\n",
       "      <th>0</th>\n",
       "      <td>2013-04-28</td>\n",
       "      <td>134.21</td>\n",
       "      <td>135.30</td>\n",
       "      <td>135.98</td>\n",
       "      <td>132.10</td>\n",
       "      <td>22605050.0</td>\n",
       "      <td>11090225.0</td>\n",
       "      <td>0.126539</td>\n",
       "    </tr>\n",
       "    <tr>\n",
       "      <th>1</th>\n",
       "      <td>2013-04-29</td>\n",
       "      <td>144.54</td>\n",
       "      <td>134.44</td>\n",
       "      <td>147.49</td>\n",
       "      <td>134.00</td>\n",
       "      <td>41199388.0</td>\n",
       "      <td>11094750.0</td>\n",
       "      <td>0.140126</td>\n",
       "    </tr>\n",
       "    <tr>\n",
       "      <th>2</th>\n",
       "      <td>2013-04-30</td>\n",
       "      <td>139.00</td>\n",
       "      <td>144.00</td>\n",
       "      <td>146.93</td>\n",
       "      <td>134.05</td>\n",
       "      <td>32294820.0</td>\n",
       "      <td>11098475.0</td>\n",
       "      <td>0.185539</td>\n",
       "    </tr>\n",
       "    <tr>\n",
       "      <th>3</th>\n",
       "      <td>2013-05-01</td>\n",
       "      <td>116.99</td>\n",
       "      <td>139.00</td>\n",
       "      <td>139.89</td>\n",
       "      <td>107.72</td>\n",
       "      <td>32988744.0</td>\n",
       "      <td>11102000.0</td>\n",
       "      <td>0.167730</td>\n",
       "    </tr>\n",
       "    <tr>\n",
       "      <th>4</th>\n",
       "      <td>2013-05-02</td>\n",
       "      <td>105.21</td>\n",
       "      <td>116.38</td>\n",
       "      <td>125.60</td>\n",
       "      <td>92.28</td>\n",
       "      <td>33019004.0</td>\n",
       "      <td>11105600.0</td>\n",
       "      <td>0.189949</td>\n",
       "    </tr>\n",
       "  </tbody>\n",
       "</table>\n",
       "</div>"
      ],
      "text/plain": [
       "        Date   Close    Open    High     Low  \\\n",
       "0 2013-04-28  134.21  135.30  135.98  132.10   \n",
       "1 2013-04-29  144.54  134.44  147.49  134.00   \n",
       "2 2013-04-30  139.00  144.00  146.93  134.05   \n",
       "3 2013-05-01  116.99  139.00  139.89  107.72   \n",
       "4 2013-05-02  105.21  116.38  125.60   92.28   \n",
       "\n",
       "   btc_estimated_transaction_volume_usd  btc_total_bitcoins  \\\n",
       "0                            22605050.0          11090225.0   \n",
       "1                            41199388.0          11094750.0   \n",
       "2                            32294820.0          11098475.0   \n",
       "3                            32988744.0          11102000.0   \n",
       "4                            33019004.0          11105600.0   \n",
       "\n",
       "   btc_avg_block_size  \n",
       "0            0.126539  \n",
       "1            0.140126  \n",
       "2            0.185539  \n",
       "3            0.167730  \n",
       "4            0.189949  "
      ]
     },
     "execution_count": 12,
     "metadata": {},
     "output_type": "execute_result"
    }
   ],
   "source": [
    "# Make bitcoin_price and bitcoin_dataset the same length\n",
    "equal_length = len(bitcoin_dataset) - len(bitcoin_price)\n",
    "bitcoin_dataset = bitcoin_dataset[['btc_estimated_transaction_volume_usd','btc_total_bitcoins','btc_avg_block_size']][equal_length:]\n",
    "\n",
    "# Reset index for bitcoin_dataset as we did for bitcoin_price\n",
    "bitcoin_dataset.index = range(len(bitcoin_dataset))\n",
    "\n",
    "# 'Volume' and 'Market Cap' don't seem too interesting so will drop those columns\n",
    "bitcoin_price = bitcoin_price[['Date','Close','Open','High','Low']]\n",
    "\n",
    "# Merge bitcoin_price and bitcoin_dataset\n",
    "df = pd.merge(bitcoin_price,bitcoin_dataset, left_index = True, right_index = True)\n",
    "df.head()"
   ]
  },
  {
   "cell_type": "markdown",
   "metadata": {},
   "source": [
    "# Data Visualisation"
   ]
  },
  {
   "cell_type": "markdown",
   "metadata": {},
   "source": [
    "Remember the old joke about the similarity between an engineer and a dog? (They both know a lot, but can't express it well.)"
   ]
  },
  {
   "cell_type": "markdown",
   "metadata": {},
   "source": [
    "The same thing happens with data; you can have the perfect, complete dataset, but if you're not able to tell the story behind the numbers, to uncover patterns and correlations, there's no use."
   ]
  },
  {
   "cell_type": "code",
   "execution_count": 13,
   "metadata": {},
   "outputs": [],
   "source": [
    "# We have here bitcoin's closing price and we want to visualise how it changed over time\n",
    "df_close = df[['Date','Close']]\n",
    "df_close = df_close.set_index('Date')"
   ]
  },
  {
   "cell_type": "markdown",
   "metadata": {},
   "source": [
    "There are a number of libraries out there that can help you get started with visualising data; let's take a look at three of the most used."
   ]
  },
  {
   "cell_type": "markdown",
   "metadata": {},
   "source": [
    "### Matplotlib"
   ]
  },
  {
   "cell_type": "markdown",
   "metadata": {},
   "source": [
    "Easiest, straightforward solution."
   ]
  },
  {
   "cell_type": "code",
   "execution_count": 14,
   "metadata": {},
   "outputs": [
    {
     "data": {
      "text/plain": [
       "Text(0,0.5,'Price in USD')"
      ]
     },
     "execution_count": 14,
     "metadata": {},
     "output_type": "execute_result"
    },
    {
     "data": {
      "image/png": "[encoded data removed]",
      "text/plain": [
       "<Figure size 432x288 with 1 Axes>"
      ]
     },
     "metadata": {},
     "output_type": "display_data"
    }
   ],
   "source": [
    "# Choosing to visualise as a line plot\n",
    "plt.plot(df_close)\n",
    "plt.xlabel('Date')\n",
    "plt.ylabel('Price in USD')"
   ]
  },
  {
   "cell_type": "markdown",
   "metadata": {},
   "source": [
    "### Seaborn"
   ]
  },
  {
   "cell_type": "markdown",
   "metadata": {},
   "source": [
    "Can be used as a styling library on top of matplotlib, but it can also leverage your data science & statistics features."
   ]
  },
  {
   "cell_type": "code",
   "execution_count": 15,
   "metadata": {},
   "outputs": [
    {
     "data": {
      "text/plain": [
       "[<matplotlib.lines.Line2D at 0x7ff34b1b6a90>]"
      ]
     },
     "execution_count": 15,
     "metadata": {},
     "output_type": "execute_result"
    },
    {
     "data": {
      "image/png": "[encoded data removed]",
      "text/plain": [
       "<Figure size 432x288 with 1 Axes>"
      ]
     },
     "metadata": {},
     "output_type": "display_data"
    }
   ],
   "source": [
    "# Adding styles\n",
    "sns.set(style=\"darkgrid\")\n",
    "plt.plot(df_close)"
   ]
  },
  {
   "cell_type": "markdown",
   "metadata": {},
   "source": [
    "### Bokeh"
   ]
  },
  {
   "cell_type": "markdown",
   "metadata": {},
   "source": [
    "Brings an interactive feature to your visualisation; you can zoom, pan, embed, export static images and many more."
   ]
  },
  {
   "cell_type": "code",
   "execution_count": 16,
   "metadata": {},
   "outputs": [
    {
     "data": {
      "text/html": [
       "\n",
       "    <div class=\"bk-root\">\n",
       "        <a href=\"https://bokeh.pydata.org\" target=\"_blank\" class=\"bk-logo bk-logo-small bk-logo-notebook\"></a>\n",
       "        <span id=\"96ba1777-db0d-4ca7-b8c9-5a3dd38ab01b\">Loading BokehJS ...</span>\n",
       "    </div>"
      ]
     },
     "metadata": {},
     "output_type": "display_data"
    },
    {
     "data": {
      "application/javascript": [
       "\n",
       "(function(root) {\n",
       "  function now() {\n",
       "    return new Date();\n",
       "  }\n",
       "\n",
       "  var force = true;\n",
       "\n",
       "  if (typeof (root._bokeh_onload_callbacks) === \"undefined\" || force === true) {\n",
       "    root._bokeh_onload_callbacks = [];\n",
       "    root._bokeh_is_loading = undefined;\n",
       "  }\n",
       "\n",
       "  var JS_MIME_TYPE = 'application/javascript';\n",
       "  var HTML_MIME_TYPE = 'text/html';\n",
       "  var EXEC_MIME_TYPE = 'application/vnd.bokehjs_exec.v0+json';\n",
       "  var CLASS_NAME = 'output_bokeh rendered_html';\n",
       "\n",
       "  /**\n",
       "   * Render data to the DOM node\n",
       "   */\n",
       "  function render(props, node) {\n",
       "    var script = document.createElement(\"script\");\n",
       "    node.appendChild(script);\n",
       "  }\n",
       "\n",
       "  /**\n",
       "   * Handle when an output is cleared or removed\n",
       "   */\n",
       "  function handleClearOutput(event, handle) {\n",
       "    var cell = handle.cell;\n",
       "\n",
       "    var id = cell.output_area._bokeh_element_id;\n",
       "    var server_id = cell.output_area._bokeh_server_id;\n",
       "    // Clean up Bokeh references\n",
       "    if (id !== undefined) {\n",
       "      Bokeh.index[id].model.document.clear();\n",
       "      delete Bokeh.index[id];\n",
       "    }\n",
       "\n",
       "    if (server_id !== undefined) {\n",
       "      // Clean up Bokeh references\n",
       "      var cmd = \"from bokeh.io.state import curstate; print(curstate().uuid_to_server['\" + server_id + \"'].get_sessions()[0].document.roots[0]._id)\";\n",
       "      cell.notebook.kernel.execute(cmd, {\n",
       "        iopub: {\n",
       "          output: function(msg) {\n",
       "            var element_id = msg.content.text.trim();\n",
       "            Bokeh.index[element_id].model.document.clear();\n",
       "            delete Bokeh.index[element_id];\n",
       "          }\n",
       "        }\n",
       "      });\n",
       "      // Destroy server and session\n",
       "      var cmd = \"import bokeh.io.notebook as ion; ion.destroy_server('\" + server_id + \"')\";\n",
       "      cell.notebook.kernel.execute(cmd);\n",
       "    }\n",
       "  }\n",
       "\n",
       "  /**\n",
       "   * Handle when a new output is added\n",
       "   */\n",
       "  function handleAddOutput(event, handle) {\n",
       "    var output_area = handle.output_area;\n",
       "    var output = handle.output;\n",
       "\n",
       "    // limit handleAddOutput to display_data with EXEC_MIME_TYPE content only\n",
       "    if ((output.output_type != \"display_data\") || (!output.data.hasOwnProperty(EXEC_MIME_TYPE))) {\n",
       "      return\n",
       "    }\n",
       "\n",
       "    var toinsert = output_area.element.find(\".\" + CLASS_NAME.split(' ')[0]);\n",
       "\n",
       "    if (output.metadata[EXEC_MIME_TYPE][\"id\"] !== undefined) {\n",
       "      toinsert[toinsert.length - 1].firstChild.textContent = output.data[JS_MIME_TYPE];\n",
       "      // store reference to embed id on output_area\n",
       "      output_area._bokeh_element_id = output.metadata[EXEC_MIME_TYPE][\"id\"];\n",
       "    }\n",
       "    if (output.metadata[EXEC_MIME_TYPE][\"server_id\"] !== undefined) {\n",
       "      var bk_div = document.createElement(\"div\");\n",
       "      bk_div.innerHTML = output.data[HTML_MIME_TYPE];\n",
       "      var script_attrs = bk_div.children[0].attributes;\n",
       "      for (var i = 0; i < script_attrs.length; i++) {\n",
       "        toinsert[toinsert.length - 1].firstChild.setAttribute(script_attrs[i].name, script_attrs[i].value);\n",
       "      }\n",
       "      // store reference to server id on output_area\n",
       "      output_area._bokeh_server_id = output.metadata[EXEC_MIME_TYPE][\"server_id\"];\n",
       "    }\n",
       "  }\n",
       "\n",
       "  function register_renderer(events, OutputArea) {\n",
       "\n",
       "    function append_mime(data, metadata, element) {\n",
       "      // create a DOM node to render to\n",
       "      var toinsert = this.create_output_subarea(\n",
       "        metadata,\n",
       "        CLASS_NAME,\n",
       "        EXEC_MIME_TYPE\n",
       "      );\n",
       "      this.keyboard_manager.register_events(toinsert);\n",
       "      // Render to node\n",
       "      var props = {data: data, metadata: metadata[EXEC_MIME_TYPE]};\n",
       "      render(props, toinsert[toinsert.length - 1]);\n",
       "      element.append(toinsert);\n",
       "      return toinsert\n",
       "    }\n",
       "\n",
       "    /* Handle when an output is cleared or removed */\n",
       "    events.on('clear_output.CodeCell', handleClearOutput);\n",
       "    events.on('delete.Cell', handleClearOutput);\n",
       "\n",
       "    /* Handle when a new output is added */\n",
       "    events.on('output_added.OutputArea', handleAddOutput);\n",
       "\n",
       "    /**\n",
       "     * Register the mime type and append_mime function with output_area\n",
       "     */\n",
       "    OutputArea.prototype.register_mime_type(EXEC_MIME_TYPE, append_mime, {\n",
       "      /* Is output safe? */\n",
       "      safe: true,\n",
       "      /* Index of renderer in `output_area.display_order` */\n",
       "      index: 0\n",
       "    });\n",
       "  }\n",
       "\n",
       "  // register the mime type if in Jupyter Notebook environment and previously unregistered\n",
       "  if (root.Jupyter !== undefined) {\n",
       "    var events = require('base/js/events');\n",
       "    var OutputArea = require('notebook/js/outputarea').OutputArea;\n",
       "\n",
       "    if (OutputArea.prototype.mime_types().indexOf(EXEC_MIME_TYPE) == -1) {\n",
       "      register_renderer(events, OutputArea);\n",
       "    }\n",
       "  }\n",
       "\n",
       "  \n",
       "  if (typeof (root._bokeh_timeout) === \"undefined\" || force === true) {\n",
       "    root._bokeh_timeout = Date.now() + 5000;\n",
       "    root._bokeh_failed_load = false;\n",
       "  }\n",
       "\n",
       "  var NB_LOAD_WARNING = {'data': {'text/html':\n",
       "     \"<div style='background-color: #fdd'>\\n\"+\n",
       "     \"<p>\\n\"+\n",
       "     \"BokehJS does not appear to have successfully loaded. If loading BokehJS from CDN, this \\n\"+\n",
       "     \"may be due to a slow or bad network connection. Possible fixes:\\n\"+\n",
       "     \"</p>\\n\"+\n",
       "     \"<ul>\\n\"+\n",
       "     \"<li>re-rerun `output_notebook()` to attempt to load from CDN again, or</li>\\n\"+\n",
       "     \"<li>use INLINE resources instead, as so:</li>\\n\"+\n",
       "     \"</ul>\\n\"+\n",
       "     \"<code>\\n\"+\n",
       "     \"from bokeh.resources import INLINE\\n\"+\n",
       "     \"output_notebook(resources=INLINE)\\n\"+\n",
       "     \"</code>\\n\"+\n",
       "     \"</div>\"}};\n",
       "\n",
       "  function display_loaded() {\n",
       "    var el = document.getElementById(\"96ba1777-db0d-4ca7-b8c9-5a3dd38ab01b\");\n",
       "    if (el != null) {\n",
       "      el.textContent = \"BokehJS is loading...\";\n",
       "    }\n",
       "    if (root.Bokeh !== undefined) {\n",
       "      if (el != null) {\n",
       "        el.textContent = \"BokehJS \" + root.Bokeh.version + \" successfully loaded.\";\n",
       "      }\n",
       "    } else if (Date.now() < root._bokeh_timeout) {\n",
       "      setTimeout(display_loaded, 100)\n",
       "    }\n",
       "  }\n",
       "\n",
       "\n",
       "  function run_callbacks() {\n",
       "    try {\n",
       "      root._bokeh_onload_callbacks.forEach(function(callback) { callback() });\n",
       "    }\n",
       "    finally {\n",
       "      delete root._bokeh_onload_callbacks\n",
       "    }\n",
       "    console.info(\"Bokeh: all callbacks have finished\");\n",
       "  }\n",
       "\n",
       "  function load_libs(js_urls, callback) {\n",
       "    root._bokeh_onload_callbacks.push(callback);\n",
       "    if (root._bokeh_is_loading > 0) {\n",
       "      console.log(\"Bokeh: BokehJS is being loaded, scheduling callback at\", now());\n",
       "      return null;\n",
       "    }\n",
       "    if (js_urls == null || js_urls.length === 0) {\n",
       "      run_callbacks();\n",
       "      return null;\n",
       "    }\n",
       "    console.log(\"Bokeh: BokehJS not loaded, scheduling load and callback at\", now());\n",
       "    root._bokeh_is_loading = js_urls.length;\n",
       "    for (var i = 0; i < js_urls.length; i++) {\n",
       "      var url = js_urls[i];\n",
       "      var s = document.createElement('script');\n",
       "      s.src = url;\n",
       "      s.async = false;\n",
       "      s.onreadystatechange = s.onload = function() {\n",
       "        root._bokeh_is_loading--;\n",
       "        if (root._bokeh_is_loading === 0) {\n",
       "          console.log(\"Bokeh: all BokehJS libraries loaded\");\n",
       "          run_callbacks()\n",
       "        }\n",
       "      };\n",
       "      s.onerror = function() {\n",
       "        console.warn(\"failed to load library \" + url);\n",
       "      };\n",
       "      console.log(\"Bokeh: injecting script tag for BokehJS library: \", url);\n",
       "      document.getElementsByTagName(\"head\")[0].appendChild(s);\n",
       "    }\n",
       "  };var element = document.getElementById(\"96ba1777-db0d-4ca7-b8c9-5a3dd38ab01b\");\n",
       "  if (element == null) {\n",
       "    console.log(\"Bokeh: ERROR: autoload.js configured with elementid '96ba1777-db0d-4ca7-b8c9-5a3dd38ab01b' but no matching script tag was found. \")\n",
       "    return false;\n",
       "  }\n",
       "\n",
       "  var js_urls = [\"https://cdn.pydata.org/bokeh/release/bokeh-0.12.16.min.js\", \"https://cdn.pydata.org/bokeh/release/bokeh-widgets-0.12.16.min.js\", \"https://cdn.pydata.org/bokeh/release/bokeh-tables-0.12.16.min.js\", \"https://cdn.pydata.org/bokeh/release/bokeh-gl-0.12.16.min.js\"];\n",
       "\n",
       "  var inline_js = [\n",
       "    function(Bokeh) {\n",
       "      Bokeh.set_log_level(\"info\");\n",
       "    },\n",
       "    \n",
       "    function(Bokeh) {\n",
       "      \n",
       "    },\n",
       "    function(Bokeh) {\n",
       "      console.log(\"Bokeh: injecting CSS: https://cdn.pydata.org/bokeh/release/bokeh-0.12.16.min.css\");\n",
       "      Bokeh.embed.inject_css(\"https://cdn.pydata.org/bokeh/release/bokeh-0.12.16.min.css\");\n",
       "      console.log(\"Bokeh: injecting CSS: https://cdn.pydata.org/bokeh/release/bokeh-widgets-0.12.16.min.css\");\n",
       "      Bokeh.embed.inject_css(\"https://cdn.pydata.org/bokeh/release/bokeh-widgets-0.12.16.min.css\");\n",
       "      console.log(\"Bokeh: injecting CSS: https://cdn.pydata.org/bokeh/release/bokeh-tables-0.12.16.min.css\");\n",
       "      Bokeh.embed.inject_css(\"https://cdn.pydata.org/bokeh/release/bokeh-tables-0.12.16.min.css\");\n",
       "    }\n",
       "  ];\n",
       "\n",
       "  function run_inline_js() {\n",
       "    \n",
       "    if ((root.Bokeh !== undefined) || (force === true)) {\n",
       "      for (var i = 0; i < inline_js.length; i++) {\n",
       "        inline_js[i].call(root, root.Bokeh);\n",
       "      }if (force === true) {\n",
       "        display_loaded();\n",
       "      }} else if (Date.now() < root._bokeh_timeout) {\n",
       "      setTimeout(run_inline_js, 100);\n",
       "    } else if (!root._bokeh_failed_load) {\n",
       "      console.log(\"Bokeh: BokehJS failed to load within specified timeout.\");\n",
       "      root._bokeh_failed_load = true;\n",
       "    } else if (force !== true) {\n",
       "      var cell = $(document.getElementById(\"96ba1777-db0d-4ca7-b8c9-5a3dd38ab01b\")).parents('.cell').data().cell;\n",
       "      cell.output_area.append_execute_result(NB_LOAD_WARNING)\n",
       "    }\n",
       "\n",
       "  }\n",
       "\n",
       "  if (root._bokeh_is_loading === 0) {\n",
       "    console.log(\"Bokeh: BokehJS loaded, going straight to plotting\");\n",
       "    run_inline_js();\n",
       "  } else {\n",
       "    load_libs(js_urls, function() {\n",
       "      console.log(\"Bokeh: BokehJS plotting callback run at\", now());\n",
       "      run_inline_js();\n",
       "    });\n",
       "  }\n",
       "}(window));"
      ],
      "application/vnd.bokehjs_load.v0+json": "\n(function(root) {\n  function now() {\n    return new Date();\n  }\n\n  var force = true;\n\n  if (typeof (root._bokeh_onload_callbacks) === \"undefined\" || force === true) {\n    root._bokeh_onload_callbacks = [];\n    root._bokeh_is_loading = undefined;\n  }\n\n  \n\n  \n  if (typeof (root._bokeh_timeout) === \"undefined\" || force === true) {\n    root._bokeh_timeout = Date.now() + 5000;\n    root._bokeh_failed_load = false;\n  }\n\n  var NB_LOAD_WARNING = {'data': {'text/html':\n     \"<div style='background-color: #fdd'>\\n\"+\n     \"<p>\\n\"+\n     \"BokehJS does not appear to have successfully loaded. If loading BokehJS from CDN, this \\n\"+\n     \"may be due to a slow or bad network connection. Possible fixes:\\n\"+\n     \"</p>\\n\"+\n     \"<ul>\\n\"+\n     \"<li>re-rerun `output_notebook()` to attempt to load from CDN again, or</li>\\n\"+\n     \"<li>use INLINE resources instead, as so:</li>\\n\"+\n     \"</ul>\\n\"+\n     \"<code>\\n\"+\n     \"from bokeh.resources import INLINE\\n\"+\n     \"output_notebook(resources=INLINE)\\n\"+\n     \"</code>\\n\"+\n     \"</div>\"}};\n\n  function display_loaded() {\n    var el = document.getElementById(\"96ba1777-db0d-4ca7-b8c9-5a3dd38ab01b\");\n    if (el != null) {\n      el.textContent = \"BokehJS is loading...\";\n    }\n    if (root.Bokeh !== undefined) {\n      if (el != null) {\n        el.textContent = \"BokehJS \" + root.Bokeh.version + \" successfully loaded.\";\n      }\n    } else if (Date.now() < root._bokeh_timeout) {\n      setTimeout(display_loaded, 100)\n    }\n  }\n\n\n  function run_callbacks() {\n    try {\n      root._bokeh_onload_callbacks.forEach(function(callback) { callback() });\n    }\n    finally {\n      delete root._bokeh_onload_callbacks\n    }\n    console.info(\"Bokeh: all callbacks have finished\");\n  }\n\n  function load_libs(js_urls, callback) {\n    root._bokeh_onload_callbacks.push(callback);\n    if (root._bokeh_is_loading > 0) {\n      console.log(\"Bokeh: BokehJS is being loaded, scheduling callback at\", now());\n      return null;\n    }\n    if (js_urls == null || js_urls.length === 0) {\n      run_callbacks();\n      return null;\n    }\n    console.log(\"Bokeh: BokehJS not loaded, scheduling load and callback at\", now());\n    root._bokeh_is_loading = js_urls.length;\n    for (var i = 0; i < js_urls.length; i++) {\n      var url = js_urls[i];\n      var s = document.createElement('script');\n      s.src = url;\n      s.async = false;\n      s.onreadystatechange = s.onload = function() {\n        root._bokeh_is_loading--;\n        if (root._bokeh_is_loading === 0) {\n          console.log(\"Bokeh: all BokehJS libraries loaded\");\n          run_callbacks()\n        }\n      };\n      s.onerror = function() {\n        console.warn(\"failed to load library \" + url);\n      };\n      console.log(\"Bokeh: injecting script tag for BokehJS library: \", url);\n      document.getElementsByTagName(\"head\")[0].appendChild(s);\n    }\n  };var element = document.getElementById(\"96ba1777-db0d-4ca7-b8c9-5a3dd38ab01b\");\n  if (element == null) {\n    console.log(\"Bokeh: ERROR: autoload.js configured with elementid '96ba1777-db0d-4ca7-b8c9-5a3dd38ab01b' but no matching script tag was found. \")\n    return false;\n  }\n\n  var js_urls = [\"https://cdn.pydata.org/bokeh/release/bokeh-0.12.16.min.js\", \"https://cdn.pydata.org/bokeh/release/bokeh-widgets-0.12.16.min.js\", \"https://cdn.pydata.org/bokeh/release/bokeh-tables-0.12.16.min.js\", \"https://cdn.pydata.org/bokeh/release/bokeh-gl-0.12.16.min.js\"];\n\n  var inline_js = [\n    function(Bokeh) {\n      Bokeh.set_log_level(\"info\");\n    },\n    \n    function(Bokeh) {\n      \n    },\n    function(Bokeh) {\n      console.log(\"Bokeh: injecting CSS: https://cdn.pydata.org/bokeh/release/bokeh-0.12.16.min.css\");\n      Bokeh.embed.inject_css(\"https://cdn.pydata.org/bokeh/release/bokeh-0.12.16.min.css\");\n      console.log(\"Bokeh: injecting CSS: https://cdn.pydata.org/bokeh/release/bokeh-widgets-0.12.16.min.css\");\n      Bokeh.embed.inject_css(\"https://cdn.pydata.org/bokeh/release/bokeh-widgets-0.12.16.min.css\");\n      console.log(\"Bokeh: injecting CSS: https://cdn.pydata.org/bokeh/release/bokeh-tables-0.12.16.min.css\");\n      Bokeh.embed.inject_css(\"https://cdn.pydata.org/bokeh/release/bokeh-tables-0.12.16.min.css\");\n    }\n  ];\n\n  function run_inline_js() {\n    \n    if ((root.Bokeh !== undefined) || (force === true)) {\n      for (var i = 0; i < inline_js.length; i++) {\n        inline_js[i].call(root, root.Bokeh);\n      }if (force === true) {\n        display_loaded();\n      }} else if (Date.now() < root._bokeh_timeout) {\n      setTimeout(run_inline_js, 100);\n    } else if (!root._bokeh_failed_load) {\n      console.log(\"Bokeh: BokehJS failed to load within specified timeout.\");\n      root._bokeh_failed_load = true;\n    } else if (force !== true) {\n      var cell = $(document.getElementById(\"96ba1777-db0d-4ca7-b8c9-5a3dd38ab01b\")).parents('.cell').data().cell;\n      cell.output_area.append_execute_result(NB_LOAD_WARNING)\n    }\n\n  }\n\n  if (root._bokeh_is_loading === 0) {\n    console.log(\"Bokeh: BokehJS loaded, going straight to plotting\");\n    run_inline_js();\n  } else {\n    load_libs(js_urls, function() {\n      console.log(\"Bokeh: BokehJS plotting callback run at\", now());\n      run_inline_js();\n    });\n  }\n}(window));"
     },
     "metadata": {},
     "output_type": "display_data"
    }
   ],
   "source": [
    "from datetime import datetime as dt\n",
    "import time\n",
    "from bokeh.models import Span\n",
    "\n",
    "# Date index is handled by the lib itself\n",
    "df_close_no_index = df[['Date','Close']]\n",
    "\n",
    "# Output plot in html format\n",
    "#output_file(\"bitcoin_price_chart.html\")\n",
    "output_notebook()"
   ]
  },
  {
   "cell_type": "code",
   "execution_count": 18,
   "metadata": {
    "scrolled": true
   },
   "outputs": [
    {
     "data": {
      "text/html": [
       "\n",
       "<div class=\"bk-root\">\n",
       "    <div class=\"bk-plotdiv\" id=\"5877a3df-6cec-4e90-ab0d-1cffaa822b73\"></div>\n",
       "</div>"
      ]
     },
     "metadata": {},
     "output_type": "display_data"
    },
    {
     "data": {
      "application/javascript": [
       "(function(root) {\n",
       "  function embed_document(root) {\n",
       "    \n",
       "  var docs_json = {\"e86fe791-cae6-4c38-ae53-1f958e7e7e6c\":{\"roots\":{\"references\":[{\"attributes\":{\"months\":[0,1,2,3,4,5,6,7,8,9,10,11]},\"id\":\"9ea29964-201b-42a3-bc6d-d643b366f4eb\",\"type\":\"MonthsTicker\"},{\"attributes\":{\"base\":24,\"mantissas\":[1,2,4,6,8,12],\"max_interval\":43200000.0,\"min_interval\":3600000.0,\"num_minor_ticks\":0},\"id\":\"cf600c95-1fa2-4ea1-aff4-88488711e431\",\"type\":\"AdaptiveTicker\"},{\"attributes\":{\"callback\":null},\"id\":\"1ba7d1f5-7149-43b5-a954-05963bab49c8\",\"type\":\"DataRange1d\"},{\"attributes\":{\"days\":[1,8,15,22]},\"id\":\"414cb61e-c6dd-4e50-b7c5-b4dd039f15c2\",\"type\":\"DaysTicker\"},{\"attributes\":{},\"id\":\"edf0118d-1741-4ca8-b0bd-60beb50b86f3\",\"type\":\"Selection\"},{\"attributes\":{\"days\":[1,15]},\"id\":\"7815ad70-854a-48a5-860f-9e202232c395\",\"type\":\"DaysTicker\"},{\"attributes\":{\"days\":[1,4,7,10,13,16,19,22,25,28]},\"id\":\"9390eee7-b262-4c18-b5b4-7b2036acc8a8\",\"type\":\"DaysTicker\"},{\"attributes\":{},\"id\":\"1bed25d4-0639-47b4-997f-905d631a9477\",\"type\":\"DatetimeTickFormatter\"},{\"attributes\":{\"active_drag\":\"auto\",\"active_inspect\":\"auto\",\"active_scroll\":\"auto\",\"active_tap\":\"auto\",\"tools\":[{\"id\":\"b75d9045-3d35-420e-bde4-97f0dffa437e\",\"type\":\"PanTool\"},{\"id\":\"5d804555-fe76-4c05-a3e3-7a54eefeb97f\",\"type\":\"WheelZoomTool\"},{\"id\":\"f138fbe1-203b-44d3-aeeb-bc6c8d3b7360\",\"type\":\"BoxZoomTool\"},{\"id\":\"c2cc93b9-02e4-46ff-b0ed-1c69da32548c\",\"type\":\"SaveTool\"},{\"id\":\"b579c3df-3860-4559-8597-bddb64615c31\",\"type\":\"ResetTool\"},{\"id\":\"be0dbe8c-d002-4206-bf50-c663163fc9a4\",\"type\":\"HelpTool\"}]},\"id\":\"84b79e75-92fa-4b72-9ce9-19bcfdae9c73\",\"type\":\"Toolbar\"},{\"attributes\":{\"callback\":null,\"data\":{\"x\":{\"__ndarray__\":\"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\",\"dtype\":\"float64\",\"shape\":[1760]},\"y\":{\"__ndarray__\":\"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\",\"dtype\":\"float64\",\"shape\":[1760]}},\"selected\":{\"id\":\"edf0118d-1741-4ca8-b0bd-60beb50b86f3\",\"type\":\"Selection\"},\"selection_policy\":{\"id\":\"e1ebe3cc-5022-445a-8e0d-5e0f5944e43a\",\"type\":\"UnionRenderers\"}},\"id\":\"01ea13bb-001c-4539-b0f2-c3eeafe586ed\",\"type\":\"ColumnDataSource\"},{\"attributes\":{},\"id\":\"b9fea2e1-d424-4806-b688-c1f98f248daf\",\"type\":\"BasicTickFormatter\"},{\"attributes\":{},\"id\":\"e1ebe3cc-5022-445a-8e0d-5e0f5944e43a\",\"type\":\"UnionRenderers\"},{\"attributes\":{\"formatter\":{\"id\":\"b9fea2e1-d424-4806-b688-c1f98f248daf\",\"type\":\"BasicTickFormatter\"},\"plot\":{\"id\":\"5dcceff9-403e-4a3a-bee0-68f1886cb288\",\"subtype\":\"Figure\",\"type\":\"Plot\"},\"ticker\":{\"id\":\"ad839636-77f3-4751-bb46-1d9bc5a9395f\",\"type\":\"BasicTicker\"}},\"id\":\"0ac09ee7-7ee6-4f56-b75b-5c70fc77a28c\",\"type\":\"LinearAxis\"},{\"attributes\":{\"source\":{\"id\":\"01ea13bb-001c-4539-b0f2-c3eeafe586ed\",\"type\":\"ColumnDataSource\"}},\"id\":\"8f38bb56-32b1-4802-83f2-41075eb0d204\",\"type\":\"CDSView\"},{\"attributes\":{},\"id\":\"ad839636-77f3-4751-bb46-1d9bc5a9395f\",\"type\":\"BasicTicker\"},{\"attributes\":{\"dimension\":1,\"plot\":{\"id\":\"5dcceff9-403e-4a3a-bee0-68f1886cb288\",\"subtype\":\"Figure\",\"type\":\"Plot\"},\"ticker\":{\"id\":\"ad839636-77f3-4751-bb46-1d9bc5a9395f\",\"type\":\"BasicTicker\"}},\"id\":\"0968c9b2-9a0c-4b7c-8ab1-8307102875d0\",\"type\":\"Grid\"},{\"attributes\":{\"num_minor_ticks\":5,\"tickers\":[{\"id\":\"b899e600-7381-4c60-b782-4fb2c1114035\",\"type\":\"AdaptiveTicker\"},{\"id\":\"7e3e5654-3339-45df-9850-4966f4faefdb\",\"type\":\"AdaptiveTicker\"},{\"id\":\"cf600c95-1fa2-4ea1-aff4-88488711e431\",\"type\":\"AdaptiveTicker\"},{\"id\":\"06b7176e-afa0-45c6-a9cc-b199215e29f9\",\"type\":\"DaysTicker\"},{\"id\":\"9390eee7-b262-4c18-b5b4-7b2036acc8a8\",\"type\":\"DaysTicker\"},{\"id\":\"414cb61e-c6dd-4e50-b7c5-b4dd039f15c2\",\"type\":\"DaysTicker\"},{\"id\":\"7815ad70-854a-48a5-860f-9e202232c395\",\"type\":\"DaysTicker\"},{\"id\":\"9ea29964-201b-42a3-bc6d-d643b366f4eb\",\"type\":\"MonthsTicker\"},{\"id\":\"ca12a876-784b-4cae-9d1f-704eedc0ed79\",\"type\":\"MonthsTicker\"},{\"id\":\"ffa7cd2a-f884-4e75-842c-a08920dca323\",\"type\":\"MonthsTicker\"},{\"id\":\"be9c11a8-0e7b-44da-965a-b9777f311109\",\"type\":\"MonthsTicker\"},{\"id\":\"855e4781-e855-4e5e-af08-c8791f21b375\",\"type\":\"YearsTicker\"}]},\"id\":\"78e55308-6524-40d3-bb8e-589442f3e054\",\"type\":\"DatetimeTicker\"},{\"attributes\":{\"formatter\":{\"id\":\"1bed25d4-0639-47b4-997f-905d631a9477\",\"type\":\"DatetimeTickFormatter\"},\"plot\":{\"id\":\"5dcceff9-403e-4a3a-bee0-68f1886cb288\",\"subtype\":\"Figure\",\"type\":\"Plot\"},\"ticker\":{\"id\":\"78e55308-6524-40d3-bb8e-589442f3e054\",\"type\":\"DatetimeTicker\"}},\"id\":\"d9bf0d9b-86c8-48d2-8367-7c9005d962ba\",\"type\":\"DatetimeAxis\"},{\"attributes\":{\"plot\":{\"id\":\"5dcceff9-403e-4a3a-bee0-68f1886cb288\",\"subtype\":\"Figure\",\"type\":\"Plot\"},\"ticker\":{\"id\":\"78e55308-6524-40d3-bb8e-589442f3e054\",\"type\":\"DatetimeTicker\"}},\"id\":\"9443a0ff-105b-4586-b776-9f119d1b3004\",\"type\":\"Grid\"},{\"attributes\":{},\"id\":\"c87231eb-c48f-4b56-9e72-7745f0ee9d44\",\"type\":\"LinearScale\"},{\"attributes\":{},\"id\":\"bf54e266-f276-4744-9b8e-5b7bd45824f1\",\"type\":\"LinearScale\"},{\"attributes\":{\"callback\":null},\"id\":\"e682bc23-0487-4d23-9198-fadf2f93a16f\",\"type\":\"DataRange1d\"},{\"attributes\":{\"line_color\":\"cornflowerblue\",\"line_width\":3,\"x\":{\"field\":\"x\"},\"y\":{\"field\":\"y\"}},\"id\":\"abf848c0-15e9-44ab-9598-d1effb13dab3\",\"type\":\"Line\"},{\"attributes\":{\"data_source\":{\"id\":\"01ea13bb-001c-4539-b0f2-c3eeafe586ed\",\"type\":\"ColumnDataSource\"},\"glyph\":{\"id\":\"abf848c0-15e9-44ab-9598-d1effb13dab3\",\"type\":\"Line\"},\"hover_glyph\":null,\"muted_glyph\":null,\"nonselection_glyph\":{\"id\":\"47bca4e8-c82d-44b4-9ba9-ccd952dff9e5\",\"type\":\"Line\"},\"selection_glyph\":null,\"view\":{\"id\":\"8f38bb56-32b1-4802-83f2-41075eb0d204\",\"type\":\"CDSView\"}},\"id\":\"47137ec0-90ac-4e14-94b7-7180378b98dd\",\"type\":\"GlyphRenderer\"},{\"attributes\":{},\"id\":\"855e4781-e855-4e5e-af08-c8791f21b375\",\"type\":\"YearsTicker\"},{\"attributes\":{\"bottom_units\":\"screen\",\"fill_alpha\":{\"value\":0.5},\"fill_color\":{\"value\":\"lightgrey\"},\"left_units\":\"screen\",\"level\":\"overlay\",\"line_alpha\":{\"value\":1.0},\"line_color\":{\"value\":\"black\"},\"line_dash\":[4,4],\"line_width\":{\"value\":2},\"plot\":null,\"render_mode\":\"css\",\"right_units\":\"screen\",\"top_units\":\"screen\"},\"id\":\"771ed639-9980-4ff0-97b8-09c5d770011a\",\"type\":\"BoxAnnotation\"},{\"attributes\":{},\"id\":\"be0dbe8c-d002-4206-bf50-c663163fc9a4\",\"type\":\"HelpTool\"},{\"attributes\":{\"months\":[0,6]},\"id\":\"be9c11a8-0e7b-44da-965a-b9777f311109\",\"type\":\"MonthsTicker\"},{\"attributes\":{\"line_alpha\":0.1,\"line_color\":\"#1f77b4\",\"line_width\":3,\"x\":{\"field\":\"x\"},\"y\":{\"field\":\"y\"}},\"id\":\"47bca4e8-c82d-44b4-9ba9-ccd952dff9e5\",\"type\":\"Line\"},{\"attributes\":{\"below\":[{\"id\":\"d9bf0d9b-86c8-48d2-8367-7c9005d962ba\",\"type\":\"DatetimeAxis\"}],\"left\":[{\"id\":\"0ac09ee7-7ee6-4f56-b75b-5c70fc77a28c\",\"type\":\"LinearAxis\"}],\"plot_width\":800,\"renderers\":[{\"id\":\"d9bf0d9b-86c8-48d2-8367-7c9005d962ba\",\"type\":\"DatetimeAxis\"},{\"id\":\"9443a0ff-105b-4586-b776-9f119d1b3004\",\"type\":\"Grid\"},{\"id\":\"0ac09ee7-7ee6-4f56-b75b-5c70fc77a28c\",\"type\":\"LinearAxis\"},{\"id\":\"0968c9b2-9a0c-4b7c-8ab1-8307102875d0\",\"type\":\"Grid\"},{\"id\":\"771ed639-9980-4ff0-97b8-09c5d770011a\",\"type\":\"BoxAnnotation\"},{\"id\":\"47137ec0-90ac-4e14-94b7-7180378b98dd\",\"type\":\"GlyphRenderer\"},{\"id\":\"0fceb732-c4c7-44d3-b804-c4473f37fbfb\",\"type\":\"Span\"}],\"title\":{\"id\":\"9485999c-8f80-4fe0-9925-3677e3b3a18d\",\"type\":\"Title\"},\"toolbar\":{\"id\":\"84b79e75-92fa-4b72-9ce9-19bcfdae9c73\",\"type\":\"Toolbar\"},\"x_range\":{\"id\":\"1ba7d1f5-7149-43b5-a954-05963bab49c8\",\"type\":\"DataRange1d\"},\"x_scale\":{\"id\":\"bf54e266-f276-4744-9b8e-5b7bd45824f1\",\"type\":\"LinearScale\"},\"y_range\":{\"id\":\"e682bc23-0487-4d23-9198-fadf2f93a16f\",\"type\":\"DataRange1d\"},\"y_scale\":{\"id\":\"c87231eb-c48f-4b56-9e72-7745f0ee9d44\",\"type\":\"LinearScale\"}},\"id\":\"5dcceff9-403e-4a3a-bee0-68f1886cb288\",\"subtype\":\"Figure\",\"type\":\"Plot\"},{\"attributes\":{\"plot\":null,\"text\":\"\"},\"id\":\"9485999c-8f80-4fe0-9925-3677e3b3a18d\",\"type\":\"Title\"},{\"attributes\":{},\"id\":\"c2cc93b9-02e4-46ff-b0ed-1c69da32548c\",\"type\":\"SaveTool\"},{\"attributes\":{\"mantissas\":[1,2,5],\"max_interval\":500.0,\"num_minor_ticks\":0},\"id\":\"b899e600-7381-4c60-b782-4fb2c1114035\",\"type\":\"AdaptiveTicker\"},{\"attributes\":{\"days\":[1,2,3,4,5,6,7,8,9,10,11,12,13,14,15,16,17,18,19,20,21,22,23,24,25,26,27,28,29,30,31]},\"id\":\"06b7176e-afa0-45c6-a9cc-b199215e29f9\",\"type\":\"DaysTicker\"},{\"attributes\":{\"dimension\":\"height\",\"line_color\":{\"value\":\"grey\"},\"line_dash\":[6],\"location\":1490994000000.0,\"plot\":{\"id\":\"5dcceff9-403e-4a3a-bee0-68f1886cb288\",\"subtype\":\"Figure\",\"type\":\"Plot\"}},\"id\":\"0fceb732-c4c7-44d3-b804-c4473f37fbfb\",\"type\":\"Span\"},{\"attributes\":{\"overlay\":{\"id\":\"771ed639-9980-4ff0-97b8-09c5d770011a\",\"type\":\"BoxAnnotation\"}},\"id\":\"f138fbe1-203b-44d3-aeeb-bc6c8d3b7360\",\"type\":\"BoxZoomTool\"},{\"attributes\":{},\"id\":\"b579c3df-3860-4559-8597-bddb64615c31\",\"type\":\"ResetTool\"},{\"attributes\":{\"months\":[0,2,4,6,8,10]},\"id\":\"ca12a876-784b-4cae-9d1f-704eedc0ed79\",\"type\":\"MonthsTicker\"},{\"attributes\":{},\"id\":\"5d804555-fe76-4c05-a3e3-7a54eefeb97f\",\"type\":\"WheelZoomTool\"},{\"attributes\":{\"base\":60,\"mantissas\":[1,2,5,10,15,20,30],\"max_interval\":1800000.0,\"min_interval\":1000.0,\"num_minor_ticks\":0},\"id\":\"7e3e5654-3339-45df-9850-4966f4faefdb\",\"type\":\"AdaptiveTicker\"},{\"attributes\":{\"months\":[0,4,8]},\"id\":\"ffa7cd2a-f884-4e75-842c-a08920dca323\",\"type\":\"MonthsTicker\"},{\"attributes\":{},\"id\":\"b75d9045-3d35-420e-bde4-97f0dffa437e\",\"type\":\"PanTool\"}],\"root_ids\":[\"5dcceff9-403e-4a3a-bee0-68f1886cb288\"]},\"title\":\"Bokeh Application\",\"version\":\"0.12.16\"}};\n",
       "  var render_items = [{\"docid\":\"e86fe791-cae6-4c38-ae53-1f958e7e7e6c\",\"elementid\":\"5877a3df-6cec-4e90-ab0d-1cffaa822b73\",\"modelid\":\"5dcceff9-403e-4a3a-bee0-68f1886cb288\"}];\n",
       "  root.Bokeh.embed.embed_items_notebook(docs_json, render_items);\n",
       "\n",
       "  }\n",
       "  if (root.Bokeh !== undefined) {\n",
       "    embed_document(root);\n",
       "  } else {\n",
       "    var attempts = 0;\n",
       "    var timer = setInterval(function(root) {\n",
       "      if (root.Bokeh !== undefined) {\n",
       "        embed_document(root);\n",
       "        clearInterval(timer);\n",
       "      }\n",
       "      attempts++;\n",
       "      if (attempts > 100) {\n",
       "        console.log(\"Bokeh: ERROR: Unable to run BokehJS code because BokehJS library is missing\")\n",
       "        clearInterval(timer);\n",
       "      }\n",
       "    }, 10, root)\n",
       "  }\n",
       "})(window);"
      ],
      "application/vnd.bokehjs_exec.v0+json": ""
     },
     "metadata": {
      "application/vnd.bokehjs_exec.v0+json": {
       "id": "5dcceff9-403e-4a3a-bee0-68f1886cb288"
      }
     },
     "output_type": "display_data"
    }
   ],
   "source": [
    "# Creating a plot with x-axis as datetime type\n",
    "p = figure(plot_width=800, plot_height=600, x_axis_type=\"datetime\")\n",
    "p.line(df_close_no_index['Date'], df_close_no_index['Close'], color='cornflowerblue', line_width= 3, alpha=1)\n",
    "legal_tender_Japan = Span(location=time.mktime(dt(2017, 4, 1, 0, 0, 0).timetuple())*1000,\n",
    "                              dimension='height', line_color='grey',\n",
    "                              line_dash='dashed', line_width=1)\n",
    "p.add_layout(legal_tender_Japan)\n",
    "show(p)"
   ]
  },
  {
   "cell_type": "markdown",
   "metadata": {},
   "source": [
    "### Is there more?"
   ]
  },
  {
   "cell_type": "markdown",
   "metadata": {},
   "source": [
    "What should you track and which graph type should you choose?\n",
    "* to **compare values**: column, mekko, bar, pie, line, scatter plot, bullet\n",
    "* to show **composition**: pie, stacked bar, mekko, stacked column, area, waterfall\n",
    "* to understand **distribution**: scatter plot, mekko, line, column, bar\n",
    "* to find **trends**: line, dual-axis line, column\n",
    "* to show **relationships** between value sets: scatter plot, bubble, line"
   ]
  },
  {
   "cell_type": "markdown",
   "metadata": {},
   "source": [
    "Looking into our bitcoin price dataset, we have all the info needed to visualise a well-known financial chart called **Candlestick**: combines line and a bar charts, each bar representing important pieces of information for that day: the open, the close, the high and the low."
   ]
  },
  {
   "cell_type": "code",
   "execution_count": 19,
   "metadata": {},
   "outputs": [
    {
     "data": {
      "text/html": [
       "\n",
       "<div class=\"bk-root\">\n",
       "    <div class=\"bk-plotdiv\" id=\"1df5c6e7-8818-4cf3-be6e-0c07a6bcc989\"></div>\n",
       "</div>"
      ]
     },
     "metadata": {},
     "output_type": "display_data"
    },
    {
     "data": {
      "application/javascript": [
       "(function(root) {\n",
       "  function embed_document(root) {\n",
       "    \n",
       "  var docs_json = {\"ddaad3a5-ddb2-4d1e-86f1-d405cff47a0a\":{\"roots\":{\"references\":[{\"attributes\":{\"source\":{\"id\":\"b9a8208c-7a1c-4cd5-ae8c-c845512bdbc7\",\"type\":\"ColumnDataSource\"}},\"id\":\"04b58193-2977-462a-9c84-b6b2e7fb1f98\",\"type\":\"CDSView\"},{\"attributes\":{\"months\":[0,6]},\"id\":\"9165058e-be0e-44b4-b63d-e63111f0af10\",\"type\":\"MonthsTicker\"},{\"attributes\":{},\"id\":\"039e0514-e9cb-4cac-9cca-5328d4799b03\",\"type\":\"Selection\"},{\"attributes\":{\"callback\":null,\"data\":{\"bottom\":{\"__ndarray__\":\"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\",\"dtype\":\"float64\",\"shape\":[956]},\"top\":{\"__ndarray__\":\"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\",\"dtype\":\"float64\",\"shape\":[956]},\"x\":{\"__ndarray__\":\"AAAAbDHlc0IAAMBozeZzQgAAgM4f53NCAADA/xboc0IAAEDLu+hzQgAAgPyy6XNCAAAAyFfqc0IAAMAtqupzQgAAgJP86nNCAACAKkbsc0IAAECQmOxzQgAAAPbq7HNCAADAWz3tc0IAAEAn4u1zQgAAgFjZ7nNCAAAAJH7vc0IAAMCJ0O9zQgAAALvH8HNCAADAIBrxc0IAAIAdtvJzQgAAQIMI83NCAADA5fb0c0IAAIBLSfVzQgAAQLGb9XNCAAAAF+71c0IAAMATivdzQgAAgHnc93NCAADAqtP4c0IAAIAQJvlzQgAAANzK+XNCAACAp2/6c0IAAABzFPtzQgAAwNhm+3NCAACAPrn7c0IAAECkC/xzQgAAAApe/HNCAADAb7D8c0IAAIDVAv1zQgAAQDtV/XNCAADABvr9c0IAAEDSnv5zQgAAwJ1D/3NCAABAaej/c0IAAMA0jQB0QgAAQAAyAXRCAACAMSkCdEIAAECXewJ0QgAAAP3NAnRCAADA+WkEdEIAAIBfvAR0QgAAQMUOBXRCAABAXFgGdEIAAADCqgZ0QgAAwCf9BnRCAACAjU8HdEIAAEDzoQd0QgAAgCSZCHRCAABAiusIdEIAAADwPQl0QgAAwFWQCXRCAACAu+IJdEIAAMDs2Qp0QgAAgFIsC3RCAAAAHtELdEIAAEBPyAx0QgAAALUaDXRCAADAGm0NdEIAAEDmEQ50QgAAQH1bD3RCAADASAAQdEIAAEAUpRB0QgAAwN9JEXRCAABAq+4RdEIAAAARQRJ0QgAAwHaTEnRCAADADd0TdEIAAIBzLxR0QgAAAD/UFHRCAADApCYVdEIAAIAKeRV0QgAAQHDLFXRCAAAA1h0WdEIAAMA7cBZ0QgAAwNK5F3RCAACAOAwYdEIAAAAEsRh0QgAAQDWoGXRCAADAAE0adEIAAIBmnxp0QgAAQMzxGnRCAAAAMkQbdEIAAMCXlht0QgAAQGM7HHRCAAAAyY0cdEIAAMAu4Bx0QgAAgJQyHXRCAABA+oQddEIAAABg1x10QgAAwMUpHnRCAADAXHMfdEIAAIDCxR90QgAAQCgYIHRCAADA87wgdEIAAIBZDyF0QgAAQL9hIXRCAAAAJbQhdEIAAMCKBiJ0QgAAgPBYInRCAABAVqsidEIAAAC8/SJ0QgAAwCFQI3RCAACAh6IjdEIAAABTRyR0QgAAwLiZJHRCAACAHuwkdEIAAECEPiV0QgAAwE/jJXRCAACAtTUmdEIAAEAbiCZ0QgAAwOYsJ3RCAACATH8ndEIAAECy0Sd0QgAAABgkKHRCAACA48godEIAAEBJGyl0QgAAAK9tKXRCAADAFMApdEIAAIB6Eip0QgAAQOBkKnRCAADAqwkrdEIAAIARXCt0QgAAQHeuK3RCAABADvgsdEIAAAB0Si10QgAAwNmcLXRCAAAAC5QudEIAAIDWOC90QgAAgG2CMHRCAADAnnkxdEIAAIAEzDF0QgAAANBwMnRCAADANcMydEIAAABnujN0QgAAwMwMNHRCAABAmLE0dEIAAAD+AzV0QgAAwGNWNXRCAACAyag1dEIAAEAv+zV0QgAAAJVNNnRCAACAYPI2dEIAAEDGRDd0QgAAACyXN3RCAADAkek3dEIAAMAoMzl0QgAAAFoqOnRCAADAv3w6dEIAAEAiazx0QgAAAIi9PHRCAACAU2I9dEIAAEC5tD10QgAAwIRZPnRCAACA6qs+dEIAAMAboz90QgAAgBg/QXRCAABAFdtCdEIAAIBG0kN0QgAAgN0bRXRCAABAQ25FdEIAAEDat0Z0QgAAgAuvR3RCAAAA11NIdEIAAIA5Qkp0QgAAAAXnSnRCAADAajlLdEIAAIDQi0t0QgAAAJwwTHRCAADALxZPdEIAAMDGX1B0QgAAwF2pUXRCAABAKU5SdEIAAACPoFJ0QgAAwPTyUnRCAAAAJupTdEIAAEBX4VR0QgAAAL0zVXRCAACAiNhVdEIAAEDuKlZ0QgAAAFR9VnRCAABAhXRXdEIAAEAcvlh0QgAAAIIQWXRCAAAAGVpadEIAAMB+rFp0QgAAgOT+WnRCAABASlFbdEIAAMCsP110QgAAgBKSXXRCAABAeORddEIAAADeNl50QgAAgKnbXnRCAAAAdYBfdEIAAMDa0l90QgAAgEAlYHRCAABApndgdEIAAMBxHGF0QgAAgNduYXRCAABAPcFhdEIAAACjE2J0QgAAgG64YnRCAABA1ApjdEIAAAA6XWN0QgAAgAUCZHRCAAAA0aZkdEIAAMA2+WR0QgAAgJxLZXRCAABAAp5ldEIAAABo8GV0QgAAgDOVZnRCAAAA/zlndEIAAMBkjGd0QgAAQDAxaHRCAACAYShpdEIAAAAtzWl0QgAAgPhxanRCAACAj7trdEIAAED1DWx0QgAAQIxXbXRCAAAA8qltdEIAAIC9Tm50QgAAQCOhbnRCAADA7kVvdEIAAAAgPXB0QgAAwIWPcHRCAABAUTRxdEIAAICCK3J0QgAAQOh9cnRCAACAGXVzdEIAAADlGXR0QgAAwEpsdHRCAACAdZt4dEIAAEDb7Xh0QgAAgAzleXRCAADAPdx6dEIAAICjLnt0QgAAAG/Te3RCAACA0cF9dEIAAMACuX50QgAAgGgLf3RCAABAzl1/dEIAAID/VIB0QgAAAMv5gHRCAABA/PCBdEIAAECTOoN0QgAAAPmMg3RCAADAXt+DdEIAAEAqhIR0QgAAgFt7hXRCAABAwc2FdEIAAAAnIIZ0QgAAgPLEhnRCAADAugWJdEIAAECGqol0QgAAAOz8iXRCAABAtD2MdEIAAMAWLI50QgAAgHx+jnRCAABA4tCOdEIAAABII490QgAAgBPIj3RCAABAeRqQdEIAAADfbJB0QgAAwES/kHRCAAAAdraRdEIAAMDbCJJ0QgAAAA0Ak3RCAADACZyUdEIAAEDVQJV0QgAAwKDllXRCAADANy+XdEIAAICdgZd0QgAAQAPUl3RCAAAAaSaYdEIAAIA0y5h0QgAAQJodmXRCAAAAAHCZdEIAAMBlwpl0QgAAgMsUmnRCAACAYl6bdEIAAMCTVZx0QgAAAMVMnXRCAADAKp+ddEIAAICQ8Z10QgAAgCc7n3RCAAAA89+fdEIAAMBYMqB0QgAAgL6EoHRCAADA73uhdEIAAEC7IKJ0QgAAQFJqo3RCAAAAuLyjdEIAAICDYaR0QgAAQID9pXRCAAAA5k+mdEIAAICx9KZ0QgAAQBdHp3RCAACASD6odEIAAAAU46h0QgAAQEXaqXRCAADAEH+qdEIAAABCdqt0QgAAwKfIq3RCAACADRusdEIAAADZv6x0QgAAQAq3rXRCAACAO66udEIAAMBspa90QgAAgNL3r3RCAAAAnpywdEIAAMAD77B0QgAAQM+TsXRCAAAANeaxdEIAAMCaOLJ0QgAAAMwvs3RCAABA/Sa0dEIAAABjebR0QgAAAPrCtXRCAADAXxW2dEIAAIBcsbd0QgAAQMIDuHRCAAAAKFa4dEIAAEBZTbl0QgAAwCTyuXRCAACAikS6dEIAAEDwlrp0QgAAwLs7u3RCAADAUoW8dEIAAIC417x0QgAAQB4qvXRCAAAAhHy9dEIAAMDpzr10QgAAQLVzvnRCAADAgBi/dEIAAEBMvb90QgAAALIPwHRCAADAF2LAdEIAAMCuq8F0QgAAgBT+wXRCAADARfXCdEIAAICrR8N0QgAAAHfsw3RCAAAADjbFdEIAAIDZ2sV0QgAAAKV/xnRCAACAcCTHdEIAAEDWdsd0QgAAADzJx3RCAACAB27IdEIAAABqXMp0QgAAAAGmy3RCAADAZvjLdEIAAEAyncx0QgAAwP1BzXRCAACAY5TNdEIAAAAvOc50QgAAAMaCz3RCAACAkSfQdEIAAED3edB0QgAAwMIe0XRCAACAKHHRdEIAAIC/utJ0QgAAQCUN03RCAACAVgTUdEIAAMCH+9R0QgAAgO1N1XRCAAAAufLVdEIAAEDq6dZ0QgAAAFA813RCAADAtY7XdEIAAECBM9h0QgAAwEzY2HRCAACAsirZdEIAAEAYfdl0QgAAABUZ23RCAADAemvbdEIAAEBGENx0QgAAAKxi3HRCAACAdwfddEIAAEDdWd10QgAAwKj+3XRCAACADlHedEIAAEB0o950QgAAANr13nRCAADAP0jfdEIAAIClmt90QgAAgDzk4HRCAAAACInhdEIAAEA5gOJ0QgAAAJ/S4nRCAADABCXjdEIAAEDQyeN0QgAAADYc5HRCAABAZxPldEIAAADNZeV0QgAAwDK45XRCAAAAZK/mdEIAAIAvVOd0QgAAQJWm53RCAAAA+/jndEIAAMD3lOl0QgAAACmM6nRCAACA9DDrdEIAAADA1et0QgAAwCUo7HRCAACAi3rsdEIAAEDxzOx0QgAAAFcf7XRCAADAU7vudEIAAEAfYO90QgAAgFBX8HRCAAAAHPzwdEIAAIDnoPF0QgAAwBiY8nRCAACAFTT0dEIAAEB7hvR0QgAAAHgi9nRCAADA3XT2dEIAAECpGfd0QgAAgNoQ+HRCAAAAprX4dEIAAIBxWvl0QgAAQNes+XRCAAAAPf/5dEIAAIAIpPp0QgAAANRI+3RCAADAOZv7dEIAAABrkvx0QgAAQJyJ/XRCAAAAmSX/dEIAAIBkyv90QgAAQMocAHVCAACA+xMBdUIAAMAsCwJ1QgAAgJJdAnVCAABA+K8CdUIAAMDDVAN1QgAAgCmnA3VCAADAWp4EdUIAAIDA8AR1QgAAQCZDBXVCAADA8ecFdUIAAIBXOgZ1QgAAQL2MBnVCAAAAI98GdUIAAMCIMQd1QgAAQFTWB3VCAAAAuigIdUIAAICFzQh1QgAAQOsfCXVCAAAAUXIJdUIAAMC2xAl1QgAAgBwXCnVCAABAgmkKdUIAAADouwp1QgAAwE0OC3VCAACAs2ALdUIAAAB/BQx1QgAAwORXDHVCAACASqoMdUIAAECw/Ax1QgAAgOHzDXVCAAAArZgOdUIAAEDejw91QgAAQHXZEHVCAAAA2ysRdUIAAABydRJ1QgAAAAm/E3VCAADAbhEUdUIAAIDUYxR1QgAAQDq2FHVCAAAAoAgVdUIAAMAFWxV1QgAAADdSFnVCAADAnKQWdUIAAIAC9xZ1QgAAAM6bF3VCAADAM+4XdUIAAICZQBh1QgAAAGXlGHVCAACAMIoZdUIAAECW3Bl1QgAAAPwuGnVCAACAx9MadUIAAEAtJht1QgAAACrCHHVCAADAjxQddUIAAID1Zh11QgAAAMELHnVCAACAjLAedUIAAABYVR91QgAAwL2nH3VCAAAA754gdUIAAEAgliF1QgAAALR7JHVCAACAfyAldUIAAABLxSV1QgAAQHy8JnVCAAAA4g4ndUIAAICtsyd1QgAAQBMGKHVCAAAAEKIpdUIAAMB19Cl1QgAAQEGZKnVCAACAcpArdUIAAAA+NSx1QgAAwKOHLHVCAABAbywtdUIAAADVfi11QgAAwDrRLXVCAABABnYudUIAAABsyC51QgAAwNEaL3VCAABAnb8vdUIAAAADEjB1QgAAQDQJMXVCAADA/60xdUIAAEDLUjJ1QgAAADGlMnVCAACAk5M0dUIAAED55TR1QgAAwMSKNXVCAACAKt01dUIAAECQLzZ1QgAAwFvUNnVCAACAwSY3dUIAAEAneTd1QgAAAI3LN3VCAADA8h04dUIAAEC+wjh1QgAAACQVOXVCAACA77k5dUIAAMAgsTp1QgAAgIYDO3VCAABA7FU7dUIAAECDnzx1QgAAAOnxPHVCAADATkQ9dUIAAEAa6T11QgAAAIA7PnVCAADAfNc/dUIAAIDiKUB1QgAAQEh8QHVCAADAEyFBdUIAAIB5c0F1QgAAQN/FQXVCAADAqmpCdUIAAIAQvUJ1QgAAQHYPQ3VCAAAA3GFDdUIAAICnBkR1QgAAQA1ZRHVCAAAAc6tEdUIAAMDY/UR1QgAAQKSiRXVCAAAACvVFdUIAAIDVmUZ1QgAAAKE+R3VCAACAbONHdUIAAEDSNUh1QgAAwJ3aSHVCAACAAy1JdUIAAADP0Ul1QgAAwDQkSnVCAACAmnZKdUIAAABmG0t1QgAAQJcSTHVCAADAYrdMdUIAAIDICU11QgAAAJSuTXVCAADA+QBOdUIAAIBfU051QgAAQMWlTnVCAAAAK/hOdUIAAMCQSk91QgAAQFzvT3VCAADAJ5RQdUIAAICN5lB1QgAAQPM4UXVCAAAAWYtRdUIAAMC+3VF1QgAAgCQwUnVCAAAA8NRSdUIAAIC7eVN1QgAAQCHMU3VCAAAAhx5UdUIAAMDscFR1QgAAQLgVVXVCAAAAHmhVdUIAAIDpDFZ1QgAAQE9fVnVCAABA5qhXdUIAAABM+1d1QgAAQH3yWHVCAACArulZdUIAAEAUPFp1QgAAAHqOWnVCAACARTNbdUIAAAAR2Ft1QgAAgNx8XHVCAACAc8ZddUIAAAA/a151QgAAwKS9XnVCAABAcGJfdUIAAMA7B2B1QgAAwNJQYXVCAACAOKNhdUIAAMBpmmJ1QgAAgM/sYnVCAABANT9jdUIAAAAy22R1QgAAwJctZXVCAABAY9JldUIAAADJJGZ1QgAAQPobZ3VCAADAXAppdUIAAEAor2l1QgAAAI4BanVCAADA81NqdUIAAEC/+Gp1QgAAQFZCbHVCAADAIedsdUIAAICHOW11QgAAQO2LbXVCAACAHoNudUIAAECE1W51QgAAAOonb3VCAACAtcxvdUIAAEAbH3B1QgAAAIFxcHVCAACATBZxdUIAAAAYu3F1QgAAwH0NcnVCAACA419ydUIAAIB6qXN1QgAAQHdFdXVCAACAqDx2dUIAAMDZM3d1QgAAgD+Gd3VCAABApdh3dUIAAMBwfXh1QgAAQDwieXVCAAAAonR5dUIAAMAHx3l1QgAAgG0ZenVCAAAAOb56dUIAAMCeEHt1QgAAQGq1e3VCAAAA0Ad8dUIAAICbrHx1QgAAgDL2fXVCAABAmEh+dUIAAAD+mn51QgAAQC+Sf3VCAAAAleR/dUIAAMD6NoB1QgAAgGCJgHVCAABAxtuAdUIAAID30oF1QgAAQF0lgnVCAADAKMqCdUIAAED0boN1QgAAwL8ThHVCAACAJWaEdUIAAADxCoV1QgAAQCIChnVCAAAAiFSGdUIAAMDtpoZ1QgAAQLlLh3VCAACA6kKIdUIAAEBQlYh1QgAAgIGMiXVCAADAsoOKdUIAAEB+KIt1QgAAAOR6i3VCAADASc2LdUIAAEAVcox1QgAAwOAWjXVCAACARmmNdUIAAECsu411QgAAABIOjnVCAADAd2COdUIAAEBDBY91QgAAwA6qj3VCAABA2k6QdUIAAABAoZB1QgAAgAtGkXVCAABAcZiRdUIAAADX6pF1QgAAwDw9knVCAACAoo+SdUIAAMDThpN1QgAAgDnZk3VCAABAnyuUdUIAAIDQIpV1QgAAQDZ1lXVCAAAAnMeVdUIAAMABGpZ1QgAAgGdslnVCAADAmGOXdUIAAID+tZd1QgAAAMpamHVCAACAlf+YdUIAAED7UZl1QgAAwMb2mXVCAACALEmadUIAAECSm5p1QgAAwF1Am3VCAABAKeWbdUIAAACPN5x1QgAAQMAunXVCAAAAJoGddUIAAMCL0511QgAAgPElnnVCAAAAvcqedUIAAMAiHZ91QgAAgIhvn3VCAABA7sGfdUIAAABUFKB1QgAAwLlmoHVCAABAhQuhdUIAAADrXaF1QgAAwFCwoXVCAAAAgqeidUIAAECznqN1QgAAABnxo3VCAADAfkOkdUIAAIDklaR1QgAAQEropHVCAADAFY2ldUIAAIB736V1QgAAQOExpnVCAAAAR4SmdUIAAMCs1qZ1QgAAQHh7p3VCAAAA3s2ndUIAAICpcqh1QgAAQA/FqHVCAAAAdRepdUIAAIBAvKl1QgAAQKYOqnVCAACA1wWrdUIAAACjqqt1QgAAwAj9q3VCAACAbk+sdUIAAEDUoax1QgAAADr0rHVCAAAA0T2udUIAAMA2kK51QgAAgJzirnVCAACAMyywdUIAAAD/0LB1QgAAwGQjsXVCAAAAlhqydUIAAMD7bLJ1QgAAgGG/snVCAABAxxGzdUIAAID4CLR1QgAAAMSttHVCAADAKQC1dUIAAED1pLV1QgAAQIzutnVCAAAA8kC3dUIAAMBXk7d1QgAAgL3lt3VCAAAAiYq4dUIAAIBUL7l1QgAAACDUuXVCAADAhSa6dUIAAIDreLp1QgAAQFHLunVCAADAHHC7dUIAAICCwrt1QgAAQOgUvHVCAAAATme8dUIAAMCzubx1QgAAgBkMvXVCAABAf169dUIAAADlsL11QgAAwEoDvnVCAACAsFW+dUIAAEAWqL51QgAAAHz6vnVCAADA4Uy/dUIAAECt8b91QgAAABNEwHVCAABARDvBdUIAAACqjcF1QgAAwA/gwXVCAACAdTLCdUIAAABB18J1QgAAwKYpw3VCAACADHzDdUIAAICjxcR1QgAAQAkYxXVCAADA1LzFdUIAAIA6D8Z1QgAAQKBhxnVCAAAABrTGdUIAAIDRWMd1QgAAQDerx3VCAADAAlDIdUIAAIBoosh1QgAAQM70yHVCAAAANEfJdUIAAID/68l1QgAAwDDjynVCAACAljXLdUIAAABi2st1QgAAwMcszHVCAABAk9HMdUIAAAD5I811QgAAAJBtznVCAADA9b/OdUIAAMCMCdB1QgAAgPJb0HVCAABAWK7QdUIAAMAjU9F1QgAAQO/30XVCAABAhkHTdUIAAACD3dR1QgAAwOgv1XVCAABAtNTVdUIAAMB/edZ1QgAAQEse13VCAACAfBXYdUIAAEDiZ9h1QgAAwK0M2XVCAACAE1/ZdUIAAMBEVtp1QgAAgKqo2nVCAABAEPvadUIAAMDbn9t1QgAAgEHy23VCAAAADZfcdUIAAMBy6dx1QgAAgNg73XVCAABAPo7ddUIAAACk4N11QgAAgG+F3nVCAADAoHzfdUIAAADSc+B1QgAAwDfG4HVCAACAnRjhdUIAAEADa+F1QgAAwM4P4nVCAABAmrTidUIAAMBlWeN1QgAAgMur43VCAACAYvXkdUIAAEDIR+V1QgAAAC6a5XVCAAAAxePmdUIAAABcLeh1QgAAQI0k6XVCAABAJG7qdUIAAACKwOp1QgAAgFVl63VCAAAAIQrsdUIAAEBSAe11QgAAALhT7XVCAADAHabtdUIAAABPne51QgAAwLTv7nVCAACAGkLvdUIAAECAlO91QgAAAObm73VCAADASznwdUIAAICxi/B1QgAAQBfe8HVCAAAAfTDxdUIAAMDigvF1QgAAQK4n8nVCAACA3x7zdUIAAEBFcfN1QgAAAKvD83VCAAAAQg31dUIAAMCnX/V1QgAAANlW9nVCAADAPqn2dUIAAICk+/Z1QgAAQApO93VCAAAAcKD3dUIAAMDV8vd1QgAAgDtF+HVCAABAoZf4dUIAAMBsPPl1QgAAgNKO+XVCAABAzyr7dUIAAAA1fft1QgAAwJrP+3VCAACAACL8dUIAAADMxvx1QgAAwDEZ/XVCAACAl2v9dUIAAABjEP51QgAAgC61/nVCAABAlAf/dUIAAAD6Wf91QgAAwF+s/3VCAACAxf7/dUIAAACRowB2QgAAwPb1AHZCAACAXEgBdkIAAEDCmgF2QgAAACjtAXZCAADAjT8CdkIAAIDzkQJ2QgAAQFnkAnZCAACAitsDdkIAAEDwLQR2QgAAAFaABHZCAACAISUFdkIAAECHdwV2QgAAAO3JBXZCAACAuG4GdkIAAEC1Cgh2QgAAwICvCHZCAACA5gEJdkIAAEDjnQp2QgAAwK5CC3ZCAACAFJULdkIAAEB65wt2QgAAAOA5DHZCAADARYwMdkIAAMDc1Q12QgAAQKh6DnZCAAAADs0OdkIAAIDZcQ92QgAAwAppEHZCAACAcLsQdkIAAEDWDRF2QgAAQG1XEnZCAACAnk4TdkIAAEAEoRN2QgAAgDWYFHZCAADAZo8VdkIAAACYhhZ2QgAAgGMrF3ZCAABAyX0XdkIAAID6dBh2QgAAAMYZGXZCAADAK2wZdkIAAICRvhl2QgAAQPcQGnZCAADAwrUadkIAAIAoCBt2Qg==\",\"dtype\":\"float64\",\"shape\":[956]}},\"selected\":{\"id\":\"71cd8d57-49b0-4d68-8df9-c61d06f9ff7b\",\"type\":\"Selection\"},\"selection_policy\":{\"id\":\"c073a18e-08a1-48df-a830-f54e9f09b007\",\"type\":\"UnionRenderers\"}},\"id\":\"0ab1d0d3-2435-42e2-96a3-dc0f366f90af\",\"type\":\"ColumnDataSource\"},{\"attributes\":{},\"id\":\"4b086b62-671f-45cd-b1a2-45a422ae9e13\",\"type\":\"YearsTicker\"},{\"attributes\":{},\"id\":\"b170f50a-ce8c-49e8-b9a8-a4c3a35c8625\",\"type\":\"UnionRenderers\"},{\"attributes\":{},\"id\":\"71cd8d57-49b0-4d68-8df9-c61d06f9ff7b\",\"type\":\"Selection\"},{\"attributes\":{\"below\":[{\"id\":\"a443aab9-1081-400e-aa95-fb207d4ad7d1\",\"type\":\"DatetimeAxis\"}],\"left\":[{\"id\":\"115c5fad-6c9c-4115-a34f-588a226b02b9\",\"type\":\"LinearAxis\"}],\"plot_width\":800,\"renderers\":[{\"id\":\"a443aab9-1081-400e-aa95-fb207d4ad7d1\",\"type\":\"DatetimeAxis\"},{\"id\":\"081737c1-5a33-4184-8a7e-9ec48d8750be\",\"type\":\"Grid\"},{\"id\":\"115c5fad-6c9c-4115-a34f-588a226b02b9\",\"type\":\"LinearAxis\"},{\"id\":\"ba6b5f7b-dd54-422a-b322-aea88be520e5\",\"type\":\"Grid\"},{\"id\":\"809febee-9933-4e4b-83a4-17c018de70a5\",\"type\":\"BoxAnnotation\"},{\"id\":\"a280b523-7bdd-4be4-bdbe-7c2d040ed485\",\"type\":\"GlyphRenderer\"},{\"id\":\"17b39d25-aeec-4a18-a7bf-77aa0192c04d\",\"type\":\"GlyphRenderer\"},{\"id\":\"e084bb85-0a4c-48d9-bcd4-4d4fd60caf2b\",\"type\":\"GlyphRenderer\"}],\"title\":{\"id\":\"3cd8cff1-1163-4f47-a883-89d00fc58445\",\"type\":\"Title\"},\"toolbar\":{\"id\":\"1f91adbd-192e-42dd-b790-de1de4d61ada\",\"type\":\"Toolbar\"},\"x_range\":{\"id\":\"a092859d-f35a-4dbc-9847-3c07e38bcbfd\",\"type\":\"DataRange1d\"},\"x_scale\":{\"id\":\"231d0c29-de0b-41af-9694-81a8a9a9c555\",\"type\":\"LinearScale\"},\"y_range\":{\"id\":\"11eb1521-470a-45da-a33c-9b5fb852c7ad\",\"type\":\"DataRange1d\"},\"y_scale\":{\"id\":\"1158e5ee-377a-4d40-98ce-9f73ce22ee35\",\"type\":\"LinearScale\"}},\"id\":\"487f9fa1-2e1f-4cf0-9f6d-d8e961b8132c\",\"subtype\":\"Figure\",\"type\":\"Plot\"},{\"attributes\":{\"bottom\":{\"field\":\"bottom\"},\"fill_color\":{\"value\":\"#D5E1DD\"},\"top\":{\"field\":\"top\"},\"width\":{\"value\":43200000},\"x\":{\"field\":\"x\"}},\"id\":\"45e2622b-e765-429c-a5d3-c5898968550e\",\"type\":\"VBar\"},{\"attributes\":{},\"id\":\"1323cdc3-e2fb-41c6-9492-ea9a7641e5cf\",\"type\":\"UnionRenderers\"},{\"attributes\":{},\"id\":\"c073a18e-08a1-48df-a830-f54e9f09b007\",\"type\":\"UnionRenderers\"},{\"attributes\":{\"bottom\":{\"field\":\"bottom\"},\"fill_alpha\":{\"value\":0.1},\"fill_color\":{\"value\":\"#1f77b4\"},\"line_alpha\":{\"value\":0.1},\"line_color\":{\"value\":\"#1f77b4\"},\"top\":{\"field\":\"top\"},\"width\":{\"value\":43200000},\"x\":{\"field\":\"x\"}},\"id\":\"bebf0cdd-7c03-4928-b6cd-a75a44949538\",\"type\":\"VBar\"},{\"attributes\":{\"formatter\":{\"id\":\"a8c5a651-45e3-4d1c-a6a0-8ca4dbefe048\",\"type\":\"DatetimeTickFormatter\"},\"plot\":{\"id\":\"487f9fa1-2e1f-4cf0-9f6d-d8e961b8132c\",\"subtype\":\"Figure\",\"type\":\"Plot\"},\"ticker\":{\"id\":\"b2e87cbc-b739-4491-b5ec-09d7f5e4820f\",\"type\":\"DatetimeTicker\"}},\"id\":\"a443aab9-1081-400e-aa95-fb207d4ad7d1\",\"type\":\"DatetimeAxis\"},{\"attributes\":{\"data_source\":{\"id\":\"0ab1d0d3-2435-42e2-96a3-dc0f366f90af\",\"type\":\"ColumnDataSource\"},\"glyph\":{\"id\":\"45e2622b-e765-429c-a5d3-c5898968550e\",\"type\":\"VBar\"},\"hover_glyph\":null,\"muted_glyph\":null,\"nonselection_glyph\":{\"id\":\"bebf0cdd-7c03-4928-b6cd-a75a44949538\",\"type\":\"VBar\"},\"selection_glyph\":null,\"view\":{\"id\":\"390e8d35-c878-487a-acae-c16f5bb871ce\",\"type\":\"CDSView\"}},\"id\":\"17b39d25-aeec-4a18-a7bf-77aa0192c04d\",\"type\":\"GlyphRenderer\"},{\"attributes\":{},\"id\":\"79724193-835d-4a35-bef0-c3bdd5f32f32\",\"type\":\"Selection\"},{\"attributes\":{},\"id\":\"de44e92b-3291-4f63-b012-c79813d9cb85\",\"type\":\"PanTool\"},{\"attributes\":{\"source\":{\"id\":\"0ab1d0d3-2435-42e2-96a3-dc0f366f90af\",\"type\":\"ColumnDataSource\"}},\"id\":\"390e8d35-c878-487a-acae-c16f5bb871ce\",\"type\":\"CDSView\"},{\"attributes\":{\"callback\":null,\"data\":{\"x0\":{\"__ndarray__\":\"AABABt/kc0IAAABsMeVzQgAAwNGD5XNCAACAN9blc0IAAECdKOZzQgAAAAN75nNCAADAaM3mc0IAAIDOH+dzQgAAQDRy53NCAAAAmsTnc0IAAMD/FuhzQgAAgGVp6HNCAABAy7voc0IAAAAxDulzQgAAwJZg6XNCAACA/LLpc0IAAEBiBepzQgAAAMhX6nNCAADALarqc0IAAICT/OpzQgAAQPlO63NCAAAAX6Hrc0IAAMDE8+tzQgAAgCpG7HNCAABAkJjsc0IAAAD26uxzQgAAwFs97XNCAACAwY/tc0IAAEAn4u1zQgAAAI007nNCAADA8obuc0IAAIBY2e5zQgAAQL4r73NCAAAAJH7vc0IAAMCJ0O9zQgAAgO8i8HNCAABAVXXwc0IAAAC7x/BzQgAAwCAa8XNCAACAhmzxc0IAAEDsvvFzQgAAAFIR8nNCAADAt2Pyc0IAAIAdtvJzQgAAQIMI83NCAAAA6Vrzc0IAAMBOrfNzQgAAgLT/83NCAABAGlL0c0IAAACApPRzQgAAwOX29HNCAACAS0n1c0IAAECxm/VzQgAAABfu9XNCAADAfED2c0IAAIDikvZzQgAAQEjl9nNCAAAArjf3c0IAAMATivdzQgAAgHnc93NCAABA3y74c0IAAABFgfhzQgAAwKrT+HNCAACAECb5c0IAAEB2ePlzQgAAANzK+XNCAADAQR36c0IAAICnb/pzQgAAQA3C+nNCAAAAcxT7c0IAAMDYZvtzQgAAgD65+3NCAABApAv8c0IAAAAKXvxzQgAAwG+w/HNCAACA1QL9c0IAAEA7Vf1zQgAAAKGn/XNCAADABvr9c0IAAIBsTP5zQgAAQNKe/nNCAAAAOPH+c0IAAMCdQ/9zQgAAgAOW/3NCAABAaej/c0IAAADPOgB0QgAAwDSNAHRCAACAmt8AdEIAAEAAMgF0QgAAAGaEAXRCAADAy9YBdEIAAIAxKQJ0QgAAQJd7AnRCAAAA/c0CdEIAAMBiIAN0QgAAgMhyA3RCAABALsUDdEIAAACUFwR0QgAAwPlpBHRCAACAX7wEdEIAAEDFDgV0QgAAACthBXRCAADAkLMFdEIAAID2BQZ0QgAAQFxYBnRCAAAAwqoGdEIAAMAn/QZ0QgAAgI1PB3RCAABA86EHdEIAAABZ9Ad0QgAAwL5GCHRCAACAJJkIdEIAAECK6wh0QgAAAPA9CXRCAADAVZAJdEIAAIC74gl0QgAAQCE1CnRCAAAAh4cKdEIAAMDs2Qp0QgAAgFIsC3RCAABAuH4LdEIAAAAe0Qt0QgAAwIMjDHRCAACA6XUMdEIAAEBPyAx0QgAAALUaDXRCAADAGm0NdEIAAICAvw10QgAAQOYRDnRCAAAATGQOdEIAAMCxtg50QgAAgBcJD3RCAABAfVsPdEIAAADjrQ90QgAAwEgAEHRCAACArlIQdEIAAEAUpRB0QgAAAHr3EHRCAADA30kRdEIAAIBFnBF0QgAAQKvuEXRCAAAAEUESdEIAAMB2kxJ0QgAAgNzlEnRCAABAQjgTdEIAAACoihN0QgAAwA3dE3RCAACAcy8UdEIAAEDZgRR0QgAAAD/UFHRCAADApCYVdEIAAIAKeRV0QgAAQHDLFXRCAAAA1h0WdEIAAMA7cBZ0QgAAgKHCFnRCAABABxUXdEIAAABtZxd0QgAAwNK5F3RCAACAOAwYdEIAAECeXhh0QgAAAASxGHRCAADAaQMZdEIAAIDPVRl0QgAAQDWoGXRCAAAAm/oZdEIAAMAATRp0QgAAgGafGnRCAABAzPEadEIAAAAyRBt0QgAAwJeWG3RCAACA/egbdEIAAEBjOxx0QgAAAMmNHHRCAADALuAcdEIAAICUMh10QgAAQPqEHXRCAAAAYNcddEIAAMDFKR50QgAAgCt8HnRCAABAkc4edEIAAAD3IB90QgAAwFxzH3RCAACAwsUfdEIAAEAoGCB0QgAAAI5qIHRCAADA87wgdEIAAIBZDyF0QgAAQL9hIXRCAAAAJbQhdEIAAMCKBiJ0QgAAgPBYInRCAABAVqsidEIAAAC8/SJ0QgAAwCFQI3RCAACAh6IjdEIAAEDt9CN0QgAAAFNHJHRCAADAuJkkdEIAAIAe7CR0QgAAQIQ+JXRCAAAA6pAldEIAAMBP4yV0QgAAgLU1JnRCAABAG4gmdEIAAACB2iZ0QgAAwOYsJ3RCAACATH8ndEIAAECy0Sd0QgAAABgkKHRCAADAfXYodEIAAIDjyCh0QgAAQEkbKXRCAAAAr20pdEIAAMAUwCl0QgAAgHoSKnRCAABA4GQqdEIAAABGtyp0QgAAwKsJK3RCAACAEVwrdEIAAEB3rit0QgAAAN0ALHRCAADAQlMsdEIAAICopSx0QgAAQA74LHRCAAAAdEotdEIAAMDZnC10QgAAgD/vLXRCAABApUEudEIAAAALlC50QgAAwHDmLnRCAACA1jgvdEIAAEA8iy90QgAAAKLdL3RCAADABzAwdEIAAIBtgjB0QgAAQNPUMHRCAAAAOScxdEIAAMCeeTF0QgAAgATMMXRCAABAah4ydEIAAADQcDJ0QgAAwDXDMnRCAACAmxUzdEIAAEABaDN0QgAAAGe6M3RCAADAzAw0dEIAAIAyXzR0QgAAQJixNHRCAAAA/gM1dEIAAMBjVjV0QgAAgMmoNXRCAABAL/s1dEIAAACVTTZ0QgAAwPqfNnRCAACAYPI2dEIAAEDGRDd0QgAAACyXN3RCAADAkek3dEIAAID3Ozh0QgAAQF2OOHRCAAAAw+A4dEIAAMAoMzl0QgAAgI6FOXRCAABA9Nc5dEIAAABaKjp0QgAAwL98OnRCAACAJc86dEIAAECLITt0QgAAAPFzO3RCAADAVsY7dEIAAIC8GDx0QgAAQCJrPHRCAAAAiL08dEIAAMDtDz10QgAAgFNiPXRCAABAubQ9dEIAAAAfBz50QgAAwIRZPnRCAACA6qs+dEIAAEBQ/j50QgAAALZQP3RCAADAG6M/dEIAAICB9T90QgAAQOdHQHRCAAAATZpAdEIAAMCy7EB0QgAAgBg/QXRCAABAfpFBdEIAAADk40F0QgAAwEk2QnRCAACAr4hCdEIAAEAV20J0QgAAAHstQ3RCAADA4H9DdEIAAIBG0kN0QgAAQKwkRHRCAAAAEndEdEIAAMB3yUR0QgAAgN0bRXRCAABAQ25FdEIAAACpwEV0QgAAwA4TRnRCAACAdGVGdEIAAEDat0Z0QgAAAEAKR3RCAADApVxHdEIAAIALr0d0QgAAQHEBSHRCAAAA11NIdEIAAMA8pkh0QgAAgKL4SHRCAABACEtJdEIAAABunUl0QgAAwNPvSXRCAACAOUJKdEIAAECflEp0QgAAAAXnSnRCAADAajlLdEIAAIDQi0t0QgAAQDbeS3RCAAAAnDBMdEIAAMABg0x0QgAAgGfVTHRCAABAzSdNdEIAAAAzek10QgAAwJjMTXRCAACA/h5OdEIAAEBkcU50QgAAAMrDTnRCAADALxZPdEIAAICVaE90QgAAQPu6T3RCAAAAYQ1QdEIAAMDGX1B0QgAAgCyyUHRCAABAkgRRdEIAAAD4VlF0QgAAwF2pUXRCAACAw/tRdEIAAEApTlJ0QgAAAI+gUnRCAADA9PJSdEIAAIBaRVN0QgAAQMCXU3RCAAAAJupTdEIAAMCLPFR0QgAAgPGOVHRCAABAV+FUdEIAAAC9M1V0QgAAwCKGVXRCAACAiNhVdEIAAEDuKlZ0QgAAAFR9VnRCAADAuc9WdEIAAIAfIld0QgAAQIV0V3RCAAAA68ZXdEIAAMBQGVh0QgAAgLZrWHRCAABAHL5YdEIAAACCEFl0QgAAwOdiWXRCAACATbVZdEIAAECzB1p0QgAAABlaWnRCAADAfqxadEIAAIDk/lp0QgAAQEpRW3RCAAAAsKNbdEIAAMAV9lt0QgAAgHtIXHRCAABA4ZpcdEIAAABH7Vx0QgAAwKw/XXRCAACAEpJddEIAAEB45F10QgAAAN42XnRCAADAQ4ledEIAAICp2150QgAAQA8uX3RCAAAAdYBfdEIAAMDa0l90QgAAgEAlYHRCAABApndgdEIAAAAMymB0QgAAwHEcYXRCAACA125hdEIAAEA9wWF0QgAAAKMTYnRCAADACGZidEIAAIBuuGJ0QgAAQNQKY3RCAAAAOl1jdEIAAMCfr2N0QgAAgAUCZHRCAABAa1RkdEIAAADRpmR0QgAAwDb5ZHRCAACAnEtldEIAAEACnmV0QgAAAGjwZXRCAADAzUJmdEIAAIAzlWZ0QgAAQJnnZnRCAAAA/zlndEIAAMBkjGd0QgAAgMreZ3RCAABAMDFodEIAAACWg2h0QgAAwPvVaHRCAACAYShpdEIAAEDHeml0QgAAAC3NaXRCAADAkh9qdEIAAID4cWp0QgAAQF7EanRCAAAAxBZrdEIAAMApaWt0QgAAgI+7a3RCAABA9Q1sdEIAAABbYGx0QgAAwMCybHRCAACAJgVtdEIAAECMV210QgAAAPKpbXRCAADAV/xtdEIAAIC9Tm50QgAAQCOhbnRCAAAAifNudEIAAMDuRW90QgAAgFSYb3RCAABAuupvdEIAAAAgPXB0QgAAwIWPcHRCAACA6+FwdEIAAEBRNHF0QgAAALeGcXRCAADAHNlxdEIAAICCK3J0QgAAQOh9cnRCAAAATtBydEIAAMCzInN0QgAAgBl1c3RCAABAf8dzdEIAAADlGXR0QgAAwEpsdHRCAACAsL50dEIAAEAWEXV0QgAAAHxjdXRCAADA4bV1dEIAAIBHCHZ0QgAAQK1adnRCAAAAE612dEIAAMB4/3Z0QgAAgN5Rd3RCAABARKR3dEIAAACq9nd0QgAAwA9JeHRCAACAdZt4dEIAAEDb7Xh0QgAAAEFAeXRCAADAppJ5dEIAAIAM5Xl0QgAAQHI3enRCAAAA2Il6dEIAAMA93Hp0QgAAgKMue3RCAABACYF7dEIAAABv03t0QgAAwNQlfHRCAACAOnh8dEIAAECgynx0QgAAAAYdfXRCAADAa299dEIAAIDRwX10QgAAQDcUfnRCAAAAnWZ+dEIAAMACuX50QgAAgGgLf3RCAABAzl1/dEIAAAA0sH90QgAAwJkCgHRCAACA/1SAdEIAAEBlp4B0QgAAAMv5gHRCAADAMEyBdEIAAICWnoF0QgAAQPzwgXRCAAAAYkOCdEIAAMDHlYJ0QgAAgC3ognRCAABAkzqDdEIAAAD5jIN0QgAAwF7fg3RCAACAxDGEdEIAAEAqhIR0QgAAAJDWhHRCAADA9SiFdEIAAIBbe4V0QgAAQMHNhXRCAAAAJyCGdEIAAMCMcoZ0QgAAgPLEhnRCAABAWBeHdEIAAAC+aYd0QgAAwCO8h3RCAACAiQ6IdEIAAEDvYIh0QgAAAFWziHRCAADAugWJdEIAAIAgWIl0QgAAQIaqiXRCAAAA7PyJdEIAAMBRT4p0QgAAgLehinRCAABAHfSKdEIAAACDRot0QgAAwOiYi3RCAACATuuLdEIAAEC0PYx0QgAAABqQjHRCAADAf+KMdEIAAIDlNI10QgAAQEuHjXRCAAAAsdmNdEIAAMAWLI50QgAAgHx+jnRCAABA4tCOdEIAAABII490QgAAwK11j3RCAACAE8iPdEIAAEB5GpB0QgAAAN9skHRCAADARL+QdEIAAICqEZF0QgAAQBBkkXRCAAAAdraRdEIAAMDbCJJ0QgAAgEFbknRCAABAp62SdEIAAAANAJN0QgAAwHJSk3RCAACA2KSTdEIAAEA+95N0QgAAAKRJlHRCAADACZyUdEIAAIBv7pR0QgAAQNVAlXRCAAAAO5OVdEIAAMCg5ZV0QgAAgAY4lnRCAABAbIqWdEIAAADS3JZ0QgAAwDcvl3RCAACAnYGXdEIAAEAD1Jd0QgAAAGkmmHRCAADAzniYdEIAAIA0y5h0QgAAQJodmXRCAAAAAHCZdEIAAMBlwpl0QgAAgMsUmnRCAABAMWeadEIAAACXuZp0QgAAwPwLm3RCAACAYl6bdEIAAEDIsJt0QgAAAC4DnHRCAADAk1WcdEIAAID5p5x0QgAAQF/6nHRCAAAAxUyddEIAAMAqn510QgAAgJDxnXRCAABA9kOedEIAAABclp50QgAAwMHonnRCAACAJzufdEIAAECNjZ90QgAAAPPfn3RCAADAWDKgdEIAAIC+hKB0QgAAQCTXoHRCAAAAiimhdEIAAMDve6F0QgAAgFXOoXRCAABAuyCidEIAAAAhc6J0QgAAwIbFonRCAACA7BejdEIAAEBSaqN0QgAAALi8o3RCAADAHQ+kdEIAAICDYaR0QgAAQOmzpHRCAAAATwaldEIAAMC0WKV0QgAAgBqrpXRCAABAgP2ldEIAAADmT6Z0QgAAwEuipnRCAACAsfSmdEIAAEAXR6d0QgAAAH2Zp3RCAADA4uundEIAAIBIPqh0QgAAQK6QqHRCAAAAFOOodEIAAMB5Nal0QgAAgN+HqXRCAABARdqpdEIAAACrLKp0QgAAwBB/qnRCAACAdtGqdEIAAEDcI6t0QgAAAEJ2q3RCAADAp8irdEIAAIANG6x0QgAAQHNtrHRCAAAA2b+sdEIAAMA+Eq10QgAAgKRkrXRCAABACretdEIAAABwCa50QgAAwNVbrnRCAACAO66udEIAAEChAK90QgAAAAdTr3RCAADAbKWvdEIAAIDS9690QgAAQDhKsHRCAAAAnpywdEIAAMAD77B0QgAAgGlBsXRCAABAz5OxdEIAAAA15rF0QgAAwJo4snRCAACAAIuydEIAAEBm3bJ0QgAAAMwvs3RCAADAMYKzdEIAAICX1LN0QgAAQP0mtHRCAAAAY3m0dEIAAMDIy7R0QgAAgC4etXRCAABAlHC1dEIAAAD6wrV0QgAAwF8VtnRCAACAxWe2dEIAAEArurZ0QgAAAJEMt3RCAADA9l63dEIAAIBcsbd0QgAAQMIDuHRCAAAAKFa4dEIAAMCNqLh0QgAAgPP6uHRCAABAWU25dEIAAAC/n7l0QgAAwCTyuXRCAACAikS6dEIAAEDwlrp0QgAAAFbpunRCAADAuzu7dEIAAIAhjrt0QgAAQIfgu3RCAAAA7TK8dEIAAMBShbx0QgAAgLjXvHRCAABAHiq9dEIAAACEfL10QgAAwOnOvXRCAACATyG+dEIAAEC1c750QgAAABvGvnRCAADAgBi/dEIAAIDmar90QgAAQEy9v3RCAAAAsg/AdEIAAMAXYsB0QgAAgH20wHRCAABA4wbBdEIAAABJWcF0QgAAwK6rwXRCAACAFP7BdEIAAEB6UMJ0QgAAAOCiwnRCAADARfXCdEIAAICrR8N0QgAAQBGaw3RCAAAAd+zDdEIAAMDcPsR0QgAAgEKRxHRCAABAqOPEdEIAAAAONsV0QgAAwHOIxXRCAACA2drFdEIAAEA/LcZ0QgAAAKV/xnRCAADACtLGdEIAAIBwJMd0QgAAQNZ2x3RCAAAAPMnHdEIAAMChG8h0QgAAgAduyHRCAABAbcDIdEIAAADTEsl0QgAAwDhlyXRCAACAnrfJdEIAAEAECsp0QgAAAGpcynRCAADAz67KdEIAAIA1Act0QgAAQJtTy3RCAAAAAabLdEIAAMBm+Mt0QgAAgMxKzHRCAABAMp3MdEIAAACY78x0QgAAwP1BzXRCAACAY5TNdEIAAEDJ5s10QgAAAC85znRCAADAlIvOdEIAAID63c50QgAAQGAwz3RCAAAAxoLPdEIAAMAr1c90QgAAgJEn0HRCAABA93nQdEIAAABdzNB0QgAAwMIe0XRCAACAKHHRdEIAAECOw9F0QgAAAPQV0nRCAADAWWjSdEIAAIC/utJ0QgAAQCUN03RCAAAAi1/TdEIAAMDwsdN0QgAAgFYE1HRCAABAvFbUdEIAAAAiqdR0QgAAwIf71HRCAACA7U3VdEIAAEBToNV0QgAAALny1XRCAADAHkXWdEIAAICEl9Z0QgAAQOrp1nRCAAAAUDzXdEIAAMC1jtd0QgAAgBvh13RCAABAgTPYdEIAAADnhdh0QgAAwEzY2HRCAACAsirZdEIAAEAYfdl0QgAAAH7P2XRCAADA4yHadEIAAIBJdNp0QgAAQK/G2nRCAAAAFRnbdEIAAMB6a9t0QgAAgOC923RCAABARhDcdEIAAACsYtx0QgAAwBG13HRCAACAdwfddEIAAEDdWd10QgAAAEOs3XRCAADAqP7ddEIAAIAOUd50QgAAQHSj3nRCAAAA2vXedEIAAMA/SN90QgAAgKWa33RCAABAC+3fdEIAAABxP+B0QgAAwNaR4HRCAACAPOTgdEIAAECiNuF0QgAAAAiJ4XRCAADAbdvhdEIAAIDTLeJ0QgAAQDmA4nRCAAAAn9LidEIAAMAEJeN0QgAAgGp343RCAABA0MnjdEIAAAA2HOR0QgAAwJtu5HRCAACAAcHkdEIAAEBnE+V0QgAAAM1l5XRCAADAMrjldEIAAICYCuZ0QgAAQP5c5nRCAAAAZK/mdEIAAMDJAed0QgAAgC9U53RCAABAlabndEIAAAD7+Od0QgAAwGBL6HRCAACAxp3odEIAAEAs8Oh0QgAAAJJC6XRCAADA95TpdEIAAIBd5+l0QgAAQMM56nRCAAAAKYzqdEIAAMCO3up0QgAAgPQw63RCAABAWoPrdEIAAADA1et0QgAAwCUo7HRCAACAi3rsdEIAAEDxzOx0QgAAAFcf7XRCAADAvHHtdEIAAIAixO10QgAAQIgW7nRCAAAA7mjudEIAAMBTu+50QgAAgLkN73RCAABAH2DvdEIAAACFsu90QgAAwOoE8HRCAACAUFfwdEIAAEC2qfB0QgAAABz88HRCAADAgU7xdEIAAIDnoPF0QgAAQE3z8XRCAAAAs0XydEIAAMAYmPJ0QgAAgH7q8nRCAABA5DzzdEIAAABKj/N0QgAAwK/h83RCAACAFTT0dEIAAEB7hvR0QgAAAOHY9HRCAADARiv1dEIAAICsffV0QgAAQBLQ9XRCAAAAeCL2dEIAAMDddPZ0QgAAgEPH9nRCAABAqRn3dEIAAAAPbPd0QgAAwHS+93RCAACA2hD4dEIAAEBAY/h0QgAAAKa1+HRCAADACwj5dEIAAIBxWvl0QgAAQNes+XRCAAAAPf/5dEIAAMCiUfp0QgAAgAik+nRCAABAbvb6dEIAAADUSPt0QgAAwDmb+3RCAACAn+37dEIAAEAFQPx0QgAAAGuS/HRCAADA0OT8dEIAAIA2N/10QgAAQJyJ/XRCAAAAAtz9dEIAAMBnLv50QgAAgM2A/nRCAABAM9P+dEIAAACZJf90QgAAwP53/3RCAACAZMr/dEIAAEDKHAB1QgAAADBvAHVCAADAlcEAdUIAAID7EwF1QgAAQGFmAXVCAAAAx7gBdUIAAMAsCwJ1QgAAgJJdAnVCAABA+K8CdUIAAABeAgN1QgAAwMNUA3VCAACAKacDdUIAAECP+QN1QgAAAPVLBHVCAADAWp4EdUIAAIDA8AR1QgAAQCZDBXVCAAAAjJUFdUIAAMDx5wV1QgAAgFc6BnVCAABAvYwGdUIAAAAj3wZ1QgAAwIgxB3VCAACA7oMHdUIAAEBU1gd1QgAAALooCHVCAADAH3sIdUIAAICFzQh1QgAAQOsfCXVCAAAAUXIJdUIAAMC2xAl1QgAAgBwXCnVCAABAgmkKdUIAAADouwp1QgAAwE0OC3VCAACAs2ALdUIAAEAZswt1QgAAAH8FDHVCAADA5FcMdUIAAIBKqgx1QgAAQLD8DHVCAAAAFk8NdUIAAMB7oQ11QgAAgOHzDXVCAABAR0YOdUIAAACtmA51QgAAwBLrDnVCAACAeD0PdUIAAEDejw91QgAAAETiD3VCAADAqTQQdUIAAIAPhxB1QgAAQHXZEHVCAAAA2ysRdUIAAMBAfhF1QgAAgKbQEXVCAABADCMSdUIAAABydRJ1QgAAwNfHEnVCAACAPRoTdUIAAECjbBN1QgAAAAm/E3VCAADAbhEUdUIAAIDUYxR1QgAAQDq2FHVCAAAAoAgVdUIAAMAFWxV1QgAAgGutFXVCAABA0f8VdUIAAAA3UhZ1QgAAwJykFnVCAACAAvcWdUIAAEBoSRd1QgAAAM6bF3VCAADAM+4XdUIAAICZQBh1QgAAQP+SGHVCAAAAZeUYdUIAAMDKNxl1QgAAgDCKGXVCAABAltwZdUIAAAD8Lhp1QgAAwGGBGnVCAACAx9MadUIAAEAtJht1QgAAAJN4G3VCAADA+MobdUIAAIBeHRx1QgAAQMRvHHVCAAAAKsIcdUIAAMCPFB11QgAAgPVmHXVCAABAW7kddUIAAADBCx51QgAAwCZeHnVCAACAjLAedUIAAEDyAh91QgAAAFhVH3VCAADAvacfdUIAAIAj+h91QgAAQIlMIHVCAAAA754gdUIAAMBU8SB1QgAAgLpDIXVCAABAIJYhdUIAAACG6CF1QgAAwOs6InVCAACAUY0idUIAAEC33yJ1QgAAAB0yI3VCAADAgoQjdUIAAIDo1iN1QgAAQE4pJHVCAAAAtHskdUIAAMAZziR1QgAAgH8gJXVCAABA5XIldUIAAABLxSV1QgAAwLAXJnVCAACAFmomdUIAAEB8vCZ1QgAAAOIOJ3VCAADAR2EndUIAAICtsyd1QgAAQBMGKHVCAAAAeVgodUIAAMDeqih1QgAAgET9KHVCAABAqk8pdUIAAAAQoil1QgAAwHX0KXVCAACA20YqdUIAAEBBmSp1QgAAAKfrKnVCAADADD4rdUIAAIBykCt1QgAAQNjiK3VCAAAAPjUsdUIAAMCjhyx1QgAAgAnaLHVCAABAbywtdUIAAADVfi11QgAAwDrRLXVCAACAoCMudUIAAEAGdi51QgAAAGzILnVCAADA0RovdUIAAIA3bS91QgAAQJ2/L3VCAAAAAxIwdUIAAMBoZDB1QgAAgM62MHVCAABANAkxdUIAAACaWzF1QgAAwP+tMXVCAACAZQAydUIAAEDLUjJ1QgAAADGlMnVCAADAlvcydUIAAID8STN1QgAAQGKcM3VCAAAAyO4zdUIAAMAtQTR1QgAAgJOTNHVCAABA+eU0dUIAAABfODV1QgAAwMSKNXVCAACAKt01dUIAAECQLzZ1QgAAAPaBNnVCAADAW9Q2dUIAAIDBJjd1QgAAQCd5N3VCAAAAjcs3dUIAAMDyHTh1QgAAgFhwOHVCAABAvsI4dUIAAAAkFTl1QgAAwIlnOXVCAACA77k5dUIAAEBVDDp1QgAAALteOnVCAADAILE6dUIAAICGAzt1QgAAQOxVO3VCAAAAUqg7dUIAAMC3+jt1QgAAgB1NPHVCAABAg588dUIAAADp8Tx1QgAAwE5EPXVCAACAtJY9dUIAAEAa6T11QgAAAIA7PnVCAADA5Y0+dUIAAIBL4D51QgAAQLEyP3VCAAAAF4U/dUIAAMB81z91QgAAgOIpQHVCAABASHxAdUIAAACuzkB1QgAAwBMhQXVCAACAeXNBdUIAAEDfxUF1QgAAAEUYQnVCAADAqmpCdUIAAIAQvUJ1QgAAQHYPQ3VCAAAA3GFDdUIAAMBBtEN1QgAAgKcGRHVCAABADVlEdUIAAABzq0R1QgAAwNj9RHVCAACAPlBFdUIAAECkokV1QgAAAAr1RXVCAADAb0dGdUIAAIDVmUZ1QgAAQDvsRnVCAAAAoT5HdUIAAMAGkUd1QgAAgGzjR3VCAABA0jVIdUIAAAA4iEh1QgAAwJ3aSHVCAACAAy1JdUIAAEBpf0l1QgAAAM/RSXVCAADANCRKdUIAAICadkp1QgAAQADJSnVCAAAAZhtLdUIAAMDLbUt1QgAAgDHAS3VCAABAlxJMdUIAAAD9ZEx1QgAAwGK3THVCAACAyAlNdUIAAEAuXE11QgAAAJSuTXVCAADA+QBOdUIAAIBfU051QgAAQMWlTnVCAAAAK/hOdUIAAMCQSk91QgAAgPacT3VCAABAXO9PdUIAAADCQVB1QgAAwCeUUHVCAACAjeZQdUIAAEDzOFF1QgAAAFmLUXVCAADAvt1RdUIAAIAkMFJ1QgAAQIqCUnVCAAAA8NRSdUIAAMBVJ1N1QgAAgLt5U3VCAABAIcxTdUIAAACHHlR1QgAAwOxwVHVCAACAUsNUdUIAAEC4FVV1QgAAAB5oVXVCAADAg7pVdUIAAIDpDFZ1QgAAQE9fVnVCAAAAtbFWdUIAAMAaBFd1QgAAgIBWV3VCAABA5qhXdUIAAABM+1d1QgAAwLFNWHVCAACAF6BYdUIAAEB98lh1QgAAAONEWXVCAADASJdZdUIAAICu6Vl1QgAAQBQ8WnVCAAAAeo5adUIAAMDf4Fp1QgAAgEUzW3VCAABAq4VbdUIAAAAR2Ft1QgAAwHYqXHVCAACA3HxcdUIAAEBCz1x1QgAAAKghXXVCAADADXRddUIAAIBzxl11QgAAQNkYXnVCAAAAP2tedUIAAMCkvV51QgAAgAoQX3VCAABAcGJfdUIAAADWtF91QgAAwDsHYHVCAACAoVlgdUIAAEAHrGB1QgAAAG3+YHVCAADA0lBhdUIAAIA4o2F1QgAAQJ71YXVCAAAABEhidUIAAMBpmmJ1QgAAgM/sYnVCAABANT9jdUIAAACbkWN1QgAAwADkY3VCAACAZjZkdUIAAEDMiGR1QgAAADLbZHVCAADAly1ldUIAAID9f2V1QgAAQGPSZXVCAAAAySRmdUIAAMAud2Z1QgAAgJTJZnVCAABA+htndUIAAABgbmd1QgAAwMXAZ3VCAACAKxNodUIAAECRZWh1QgAAAPe3aHVCAADAXAppdUIAAIDCXGl1QgAAQCivaXVCAAAAjgFqdUIAAMDzU2p1QgAAgFmmanVCAABAv/hqdUIAAAAlS2t1QgAAwIqda3VCAACA8O9rdUIAAEBWQmx1QgAAALyUbHVCAADAIedsdUIAAICHOW11QgAAQO2LbXVCAAAAU95tdUIAAMC4MG51QgAAgB6DbnVCAABAhNVudUIAAADqJ291QgAAwE96b3VCAACAtcxvdUIAAEAbH3B1QgAAAIFxcHVCAADA5sNwdUIAAIBMFnF1QgAAQLJocXVCAAAAGLtxdUIAAMB9DXJ1QgAAgONfcnVCAABASbJydUIAAACvBHN1QgAAwBRXc3VCAACAeqlzdUIAAEDg+3N1QgAAAEZOdHVCAADAq6B0dUIAAIAR83R1QgAAQHdFdXVCAAAA3Zd1dUIAAMBC6nV1QgAAgKg8dnVCAABADo92dUIAAAB04XZ1QgAAwNkzd3VCAACAP4Z3dUIAAECl2Hd1QgAAAAsreHVCAADAcH14dUIAAIDWz3h1QgAAQDwieXVCAAAAonR5dUIAAMAHx3l1QgAAgG0ZenVCAABA02t6dUIAAAA5vnp1QgAAwJ4Qe3VCAACABGN7dUIAAEBqtXt1QgAAANAHfHVCAADANVp8dUIAAICbrHx1QgAAQAH/fHVCAAAAZ1F9dUIAAMDMo311QgAAgDL2fXVCAABAmEh+dUIAAAD+mn51QgAAwGPtfnVCAACAyT9/dUIAAEAvkn91QgAAAJXkf3VCAADA+jaAdUIAAIBgiYB1QgAAQMbbgHVCAAAALC6BdUIAAMCRgIF1QgAAgPfSgXVCAABAXSWCdUIAAADDd4J1QgAAwCjKgnVCAACAjhyDdUIAAED0boN1QgAAAFrBg3VCAADAvxOEdUIAAIAlZoR1QgAAQIu4hHVCAAAA8QqFdUIAAMBWXYV1QgAAgLyvhXVCAABAIgKGdUIAAACIVIZ1QgAAwO2mhnVCAACAU/mGdUIAAEC5S4d1QgAAAB+eh3VCAADAhPCHdUIAAIDqQoh1QgAAQFCViHVCAAAAtueIdUIAAMAbOol1QgAAgIGMiXVCAABA596JdUIAAABNMYp1QgAAwLKDinVCAACAGNaKdUIAAEB+KIt1QgAAAOR6i3VCAADASc2LdUIAAICvH4x1QgAAQBVyjHVCAAAAe8SMdUIAAMDgFo11QgAAgEZpjXVCAABArLuNdUIAAAASDo51QgAAwHdgjnVCAACA3bKOdUIAAEBDBY91QgAAAKlXj3VCAADADqqPdUIAAIB0/I91QgAAQNpOkHVCAAAAQKGQdUIAAMCl85B1QgAAgAtGkXVCAABAcZiRdUIAAADX6pF1QgAAwDw9knVCAACAoo+SdUIAAEAI4pJ1QgAAAG40k3VCAADA04aTdUIAAIA52ZN1QgAAQJ8rlHVCAAAABX6UdUIAAMBq0JR1QgAAgNAilXVCAABANnWVdUIAAACcx5V1QgAAwAEalnVCAACAZ2yWdUIAAEDNvpZ1QgAAADMRl3VCAADAmGOXdUIAAID+tZd1QgAAQGQImHVCAAAAylqYdUIAAMAvrZh1QgAAgJX/mHVCAABA+1GZdUIAAABhpJl1QgAAwMb2mXVCAACALEmadUIAAECSm5p1QgAAAPjtmnVCAADAXUCbdUIAAIDDkpt1QgAAQCnlm3VCAAAAjzecdUIAAMD0iZx1QgAAgFrcnHVCAABAwC6ddUIAAAAmgZ11QgAAwIvTnXVCAACA8SWedUIAAEBXeJ51QgAAAL3KnnVCAADAIh2fdUIAAICIb591QgAAQO7Bn3VCAAAAVBSgdUIAAMC5ZqB1QgAAgB+5oHVCAABAhQuhdUIAAADrXaF1QgAAwFCwoXVCAACAtgKidUIAAEAcVaJ1QgAAAIKnonVCAADA5/midUIAAIBNTKN1QgAAQLOeo3VCAAAAGfGjdUIAAMB+Q6R1QgAAgOSVpHVCAABASuikdUIAAACwOqV1QgAAwBWNpXVCAACAe9+ldUIAAEDhMaZ1QgAAAEeEpnVCAADArNamdUIAAIASKad1QgAAQHh7p3VCAAAA3s2ndUIAAMBDIKh1QgAAgKlyqHVCAABAD8WodUIAAAB1F6l1QgAAwNppqXVCAACAQLypdUIAAECmDqp1QgAAAAxhqnVCAADAcbOqdUIAAIDXBat1QgAAQD1Yq3VCAAAAo6qrdUIAAMAI/at1QgAAgG5PrHVCAABA1KGsdUIAAAA69Kx1QgAAwJ9GrXVCAACABZmtdUIAAEBr6611QgAAANE9rnVCAADANpCudUIAAICc4q51QgAAQAI1r3VCAAAAaIevdUIAAMDN2a91QgAAgDMssHVCAABAmX6wdUIAAAD/0LB1QgAAwGQjsXVCAACAynWxdUIAAEAwyLF1QgAAAJYasnVCAADA+2yydUIAAIBhv7J1QgAAQMcRs3VCAAAALWSzdUIAAMCStrN1QgAAgPgItHVCAABAXlu0dUIAAADErbR1QgAAwCkAtXVCAACAj1K1dUIAAED1pLV1QgAAAFv3tXVCAADAwEm2dUIAAIAmnLZ1QgAAQIzutnVCAAAA8kC3dUIAAMBXk7d1QgAAgL3lt3VCAABAIzi4dUIAAACJirh1QgAAwO7cuHVCAACAVC+5dUIAAEC6gbl1QgAAACDUuXVCAADAhSa6dUIAAIDreLp1QgAAQFHLunVCAAAAtx27dUIAAMAccLt1QgAAgILCu3VCAABA6BS8dUIAAABOZ7x1QgAAwLO5vHVCAACAGQy9dUIAAEB/Xr11QgAAAOWwvXVCAADASgO+dUIAAICwVb51QgAAQBaovnVCAAAAfPq+dUIAAMDhTL91QgAAgEefv3VCAABArfG/dUIAAAATRMB1QgAAwHiWwHVCAACA3ujAdUIAAEBEO8F1QgAAAKqNwXVCAADAD+DBdUIAAIB1MsJ1QgAAQNuEwnVCAAAAQdfCdUIAAMCmKcN1QgAAgAx8w3VCAABAcs7DdUIAAADYIMR1QgAAwD1zxHVCAACAo8XEdUIAAEAJGMV1QgAAAG9qxXVCAADA1LzFdUIAAIA6D8Z1QgAAQKBhxnVCAAAABrTGdUIAAMBrBsd1QgAAgNFYx3VCAABAN6vHdUIAAACd/cd1QgAAwAJQyHVCAACAaKLIdUIAAEDO9Mh1QgAAADRHyXVCAADAmZnJdUIAAID/68l1QgAAQGU+ynVCAAAAy5DKdUIAAMAw48p1QgAAgJY1y3VCAABA/IfLdUIAAABi2st1QgAAwMcszHVCAACALX/MdUIAAECT0cx1QgAAAPkjzXVCAADAXnbNdUIAAIDEyM11QgAAQCobznVCAAAAkG3OdUIAAMD1v851QgAAgFsSz3VCAABAwWTPdUIAAAAnt891QgAAwIwJ0HVCAACA8lvQdUIAAEBYrtB1QgAAAL4A0XVCAADAI1PRdUIAAICJpdF1QgAAQO/30XVCAAAAVUrSdUIAAMC6nNJ1QgAAgCDv0nVCAABAhkHTdUIAAADsk9N1QgAAwFHm03VCAACAtzjUdUIAAEAdi9R1QgAAAIPd1HVCAADA6C/VdUIAAIBOgtV1QgAAQLTU1XVCAAAAGifWdUIAAMB/edZ1QgAAgOXL1nVCAABASx7XdUIAAACxcNd1QgAAwBbD13VCAACAfBXYdUIAAEDiZ9h1QgAAAEi62HVCAADArQzZdUIAAIATX9l1QgAAQHmx2XVCAAAA3wPadUIAAMBEVtp1QgAAgKqo2nVCAABAEPvadUIAAAB2Tdt1QgAAwNuf23VCAACAQfLbdUIAAECnRNx1QgAAAA2X3HVCAADAcuncdUIAAIDYO911QgAAQD6O3XVCAAAApODddUIAAMAJM951QgAAgG+F3nVCAABA1dfedUIAAAA7Kt91QgAAwKB833VCAACABs/fdUIAAEBsIeB1QgAAANJz4HVCAADAN8bgdUIAAICdGOF1QgAAQANr4XVCAAAAab3hdUIAAMDOD+J1QgAAgDRi4nVCAABAmrTidUIAAAAAB+N1QgAAwGVZ43VCAACAy6vjdUIAAEAx/uN1QgAAAJdQ5HVCAADA/KLkdUIAAIBi9eR1QgAAQMhH5XVCAAAALprldUIAAMCT7OV1QgAAgPk+5nVCAABAX5HmdUIAAADF4+Z1QgAAwCo253VCAACAkIjndUIAAED22ud1QgAAAFwt6HVCAADAwX/odUIAAIAn0uh1QgAAQI0k6XVCAAAA83bpdUIAAMBYyel1QgAAgL4b6nVCAABAJG7qdUIAAACKwOp1QgAAwO8S63VCAACAVWXrdUIAAEC7t+t1QgAAACEK7HVCAADAhlzsdUIAAIDsrux1QgAAQFIB7XVCAAAAuFPtdUIAAMAdpu11QgAAgIP47XVCAABA6UrudUIAAABPne51QgAAwLTv7nVCAACAGkLvdUIAAECAlO91QgAAAObm73VCAADASznwdUIAAICxi/B1QgAAQBfe8HVCAAAAfTDxdUIAAMDigvF1QgAAgEjV8XVCAABArifydUIAAAAUevJ1QgAAwHnM8nVCAACA3x7zdUIAAEBFcfN1QgAAAKvD83VCAADAEBb0dUIAAIB2aPR1QgAAQNy69HVCAAAAQg31dUIAAMCnX/V1QgAAgA2y9XVCAABAcwT2dUIAAADZVvZ1QgAAwD6p9nVCAACApPv2dUIAAEAKTvd1QgAAAHCg93VCAADA1fL3dUIAAIA7Rfh1QgAAQKGX+HVCAAAAB+r4dUIAAMBsPPl1QgAAgNKO+XVCAABAOOH5dUIAAACeM/p1QgAAwAOG+nVCAACAadj6dUIAAEDPKvt1QgAAADV9+3VCAADAms/7dUIAAIAAIvx1QgAAQGZ0/HVCAAAAzMb8dUIAAMAxGf11QgAAgJdr/XVCAABA/b39dUIAAABjEP51QgAAwMhi/nVCAACALrX+dUIAAECUB/91QgAAAPpZ/3VCAADAX6z/dUIAAIDF/v91QgAAQCtRAHZCAAAAkaMAdkIAAMD29QB2QgAAgFxIAXZCAABAwpoBdkIAAAAo7QF2QgAAwI0/AnZCAACA85ECdkIAAEBZ5AJ2QgAAAL82A3ZCAADAJIkDdkIAAICK2wN2QgAAQPAtBHZCAAAAVoAEdkIAAMC70gR2QgAAgCElBXZCAABAh3cFdkIAAADtyQV2QgAAwFIcBnZCAACAuG4GdkIAAEAewQZ2QgAAAIQTB3ZCAADA6WUHdkIAAIBPuAd2QgAAQLUKCHZCAAAAG10IdkIAAMCArwh2QgAAgOYBCXZCAABATFQJdkIAAACypgl2QgAAwBf5CXZCAACAfUsKdkIAAEDjnQp2QgAAAEnwCnZCAADArkILdkIAAIAUlQt2QgAAQHrnC3ZCAAAA4DkMdkIAAMBFjAx2QgAAgKveDHZCAABAETENdkIAAAB3gw12QgAAwNzVDXZCAACAQigOdkIAAECoeg52QgAAAA7NDnZCAADAcx8PdkIAAIDZcQ92QgAAQD/ED3ZCAAAApRYQdkIAAMAKaRB2QgAAgHC7EHZCAABA1g0RdkIAAAA8YBF2QgAAwKGyEXZCAACABwUSdkIAAEBtVxJ2QgAAANOpEnZCAADAOPwSdkIAAICeThN2QgAAQAShE3ZCAAAAavMTdkIAAMDPRRR2QgAAgDWYFHZCAABAm+oUdkIAAAABPRV2QgAAwGaPFXZCAACAzOEVdkIAAEAyNBZ2QgAAAJiGFnZCAADA/dgWdkIAAIBjKxd2QgAAQMl9F3ZCAAAAL9AXdkIAAMCUIhh2QgAAgPp0GHZCAABAYMcYdkIAAADGGRl2QgAAwCtsGXZCAACAkb4ZdkIAAED3EBp2QgAAAF1jGnZCAADAwrUadkIAAIAoCBt2Qg==\",\"dtype\":\"float64\",\"shape\":[1760]},\"x1\":{\"__ndarray__\":\"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\",\"dtype\":\"float64\",\"shape\":[1760]},\"y0\":{\"__ndarray__\":\"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\",\"dtype\":\"float64\",\"shape\":[1760]},\"y1\":{\"__ndarray__\":\"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\",\"dtype\":\"float64\",\"shape\":[1760]}},\"selected\":{\"id\":\"039e0514-e9cb-4cac-9cca-5328d4799b03\",\"type\":\"Selection\"},\"selection_policy\":{\"id\":\"b170f50a-ce8c-49e8-b9a8-a4c3a35c8625\",\"type\":\"UnionRenderers\"}},\"id\":\"b9a8208c-7a1c-4cd5-ae8c-c845512bdbc7\",\"type\":\"ColumnDataSource\"},{\"attributes\":{\"line_color\":{\"value\":\"blue\"},\"x0\":{\"field\":\"x0\"},\"x1\":{\"field\":\"x1\"},\"y0\":{\"field\":\"y0\"},\"y1\":{\"field\":\"y1\"}},\"id\":\"aa760125-422b-4645-9127-adb8a64ae9d0\",\"type\":\"Segment\"},{\"attributes\":{\"callback\":null,\"data\":{\"bottom\":{\"__ndarray__\":\"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\",\"dtype\":\"float64\",\"shape\":[801]},\"top\":{\"__ndarray__\":\"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\",\"dtype\":\"float64\",\"shape\":[801]},\"x\":{\"__ndarray__\":\"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\",\"dtype\":\"float64\",\"shape\":[801]}},\"selected\":{\"id\":\"79724193-835d-4a35-bef0-c3bdd5f32f32\",\"type\":\"Selection\"},\"selection_policy\":{\"id\":\"1323cdc3-e2fb-41c6-9492-ea9a7641e5cf\",\"type\":\"UnionRenderers\"}},\"id\":\"af4a99ac-06c5-4ec1-aecf-ba66da6e840c\",\"type\":\"ColumnDataSource\"},{\"attributes\":{\"active_drag\":\"auto\",\"active_inspect\":\"auto\",\"active_scroll\":\"auto\",\"active_tap\":\"auto\",\"tools\":[{\"id\":\"de44e92b-3291-4f63-b012-c79813d9cb85\",\"type\":\"PanTool\"},{\"id\":\"cc003cca-4be0-41de-b5f3-3c3e6b9989ac\",\"type\":\"WheelZoomTool\"},{\"id\":\"69219113-62b9-44ce-bfcc-bf956c87d552\",\"type\":\"BoxZoomTool\"},{\"id\":\"e574e352-a32b-4289-859c-fcd06aab13ed\",\"type\":\"SaveTool\"},{\"id\":\"743e6126-51a4-4087-a248-3ff9c64ca9fc\",\"type\":\"ResetTool\"},{\"id\":\"fb15c6de-3be7-4fb3-85cf-a15284dd240e\",\"type\":\"HelpTool\"}]},\"id\":\"1f91adbd-192e-42dd-b790-de1de4d61ada\",\"type\":\"Toolbar\"},{\"attributes\":{},\"id\":\"a8c5a651-45e3-4d1c-a6a0-8ca4dbefe048\",\"type\":\"DatetimeTickFormatter\"},{\"attributes\":{\"callback\":null},\"id\":\"a092859d-f35a-4dbc-9847-3c07e38bcbfd\",\"type\":\"DataRange1d\"},{\"attributes\":{\"bottom\":{\"field\":\"bottom\"},\"fill_color\":{\"value\":\"#F2583E\"},\"top\":{\"field\":\"top\"},\"width\":{\"value\":43200000},\"x\":{\"field\":\"x\"}},\"id\":\"56bf8f37-b1f3-4dac-8107-c08b5b5b0fd6\",\"type\":\"VBar\"},{\"attributes\":{},\"id\":\"1158e5ee-377a-4d40-98ce-9f73ce22ee35\",\"type\":\"LinearScale\"},{\"attributes\":{\"bottom\":{\"field\":\"bottom\"},\"fill_alpha\":{\"value\":0.1},\"fill_color\":{\"value\":\"#1f77b4\"},\"line_alpha\":{\"value\":0.1},\"line_color\":{\"value\":\"#1f77b4\"},\"top\":{\"field\":\"top\"},\"width\":{\"value\":43200000},\"x\":{\"field\":\"x\"}},\"id\":\"1587c464-417d-4514-9f87-15b88dec92a5\",\"type\":\"VBar\"},{\"attributes\":{\"plot\":{\"id\":\"487f9fa1-2e1f-4cf0-9f6d-d8e961b8132c\",\"subtype\":\"Figure\",\"type\":\"Plot\"},\"ticker\":{\"id\":\"b2e87cbc-b739-4491-b5ec-09d7f5e4820f\",\"type\":\"DatetimeTicker\"}},\"id\":\"081737c1-5a33-4184-8a7e-9ec48d8750be\",\"type\":\"Grid\"},{\"attributes\":{\"data_source\":{\"id\":\"af4a99ac-06c5-4ec1-aecf-ba66da6e840c\",\"type\":\"ColumnDataSource\"},\"glyph\":{\"id\":\"56bf8f37-b1f3-4dac-8107-c08b5b5b0fd6\",\"type\":\"VBar\"},\"hover_glyph\":null,\"muted_glyph\":null,\"nonselection_glyph\":{\"id\":\"1587c464-417d-4514-9f87-15b88dec92a5\",\"type\":\"VBar\"},\"selection_glyph\":null,\"view\":{\"id\":\"c8882e41-c9e5-47c6-95e8-05f39031d9c9\",\"type\":\"CDSView\"}},\"id\":\"e084bb85-0a4c-48d9-bcd4-4d4fd60caf2b\",\"type\":\"GlyphRenderer\"},{\"attributes\":{\"callback\":null},\"id\":\"11eb1521-470a-45da-a33c-9b5fb852c7ad\",\"type\":\"DataRange1d\"},{\"attributes\":{\"source\":{\"id\":\"af4a99ac-06c5-4ec1-aecf-ba66da6e840c\",\"type\":\"ColumnDataSource\"}},\"id\":\"c8882e41-c9e5-47c6-95e8-05f39031d9c9\",\"type\":\"CDSView\"},{\"attributes\":{},\"id\":\"231d0c29-de0b-41af-9694-81a8a9a9c555\",\"type\":\"LinearScale\"},{\"attributes\":{\"months\":[0,2,4,6,8,10]},\"id\":\"92b9bbd9-bda3-4cf2-8c16-b3d4565726b2\",\"type\":\"MonthsTicker\"},{\"attributes\":{\"num_minor_ticks\":5,\"tickers\":[{\"id\":\"f8ea9b3d-3ef9-4f5f-ab60-6578c3468e58\",\"type\":\"AdaptiveTicker\"},{\"id\":\"b15dd6d3-d16a-4064-acf9-f224a0ba5836\",\"type\":\"AdaptiveTicker\"},{\"id\":\"919ea4f1-73ba-42ee-9eea-f80fc10de225\",\"type\":\"AdaptiveTicker\"},{\"id\":\"2071b9be-3eec-4d95-b617-3dceb95f80b7\",\"type\":\"DaysTicker\"},{\"id\":\"013ef3bf-4be6-41c6-8ddd-b9d5b8ca3827\",\"type\":\"DaysTicker\"},{\"id\":\"c50ad92d-cabf-4518-8773-8c9209fc5b91\",\"type\":\"DaysTicker\"},{\"id\":\"684d2e6a-dcdb-457b-87a8-913ff715bea2\",\"type\":\"DaysTicker\"},{\"id\":\"f46efd8b-abd7-4330-836b-4630252cc1f0\",\"type\":\"MonthsTicker\"},{\"id\":\"92b9bbd9-bda3-4cf2-8c16-b3d4565726b2\",\"type\":\"MonthsTicker\"},{\"id\":\"75e3203b-6b04-49c0-9215-617cc52c9993\",\"type\":\"MonthsTicker\"},{\"id\":\"9165058e-be0e-44b4-b63d-e63111f0af10\",\"type\":\"MonthsTicker\"},{\"id\":\"4b086b62-671f-45cd-b1a2-45a422ae9e13\",\"type\":\"YearsTicker\"}]},\"id\":\"b2e87cbc-b739-4491-b5ec-09d7f5e4820f\",\"type\":\"DatetimeTicker\"},{\"attributes\":{\"formatter\":{\"id\":\"89e92af8-749e-4777-9b43-b53815334b9e\",\"type\":\"BasicTickFormatter\"},\"plot\":{\"id\":\"487f9fa1-2e1f-4cf0-9f6d-d8e961b8132c\",\"subtype\":\"Figure\",\"type\":\"Plot\"},\"ticker\":{\"id\":\"1bbb2602-91ab-4783-96c6-54ff39771a44\",\"type\":\"BasicTicker\"}},\"id\":\"115c5fad-6c9c-4115-a34f-588a226b02b9\",\"type\":\"LinearAxis\"},{\"attributes\":{\"mantissas\":[1,2,5],\"max_interval\":500.0,\"num_minor_ticks\":0},\"id\":\"f8ea9b3d-3ef9-4f5f-ab60-6578c3468e58\",\"type\":\"AdaptiveTicker\"},{\"attributes\":{},\"id\":\"1bbb2602-91ab-4783-96c6-54ff39771a44\",\"type\":\"BasicTicker\"},{\"attributes\":{\"days\":[1,2,3,4,5,6,7,8,9,10,11,12,13,14,15,16,17,18,19,20,21,22,23,24,25,26,27,28,29,30,31]},\"id\":\"2071b9be-3eec-4d95-b617-3dceb95f80b7\",\"type\":\"DaysTicker\"},{\"attributes\":{\"dimension\":1,\"plot\":{\"id\":\"487f9fa1-2e1f-4cf0-9f6d-d8e961b8132c\",\"subtype\":\"Figure\",\"type\":\"Plot\"},\"ticker\":{\"id\":\"1bbb2602-91ab-4783-96c6-54ff39771a44\",\"type\":\"BasicTicker\"}},\"id\":\"ba6b5f7b-dd54-422a-b322-aea88be520e5\",\"type\":\"Grid\"},{\"attributes\":{\"plot\":null,\"text\":\"\"},\"id\":\"3cd8cff1-1163-4f47-a883-89d00fc58445\",\"type\":\"Title\"},{\"attributes\":{\"bottom_units\":\"screen\",\"fill_alpha\":{\"value\":0.5},\"fill_color\":{\"value\":\"lightgrey\"},\"left_units\":\"screen\",\"level\":\"overlay\",\"line_alpha\":{\"value\":1.0},\"line_color\":{\"value\":\"black\"},\"line_dash\":[4,4],\"line_width\":{\"value\":2},\"plot\":null,\"render_mode\":\"css\",\"right_units\":\"screen\",\"top_units\":\"screen\"},\"id\":\"809febee-9933-4e4b-83a4-17c018de70a5\",\"type\":\"BoxAnnotation\"},{\"attributes\":{},\"id\":\"89e92af8-749e-4777-9b43-b53815334b9e\",\"type\":\"BasicTickFormatter\"},{\"attributes\":{\"months\":[0,1,2,3,4,5,6,7,8,9,10,11]},\"id\":\"f46efd8b-abd7-4330-836b-4630252cc1f0\",\"type\":\"MonthsTicker\"},{\"attributes\":{\"line_alpha\":{\"value\":0.1},\"line_color\":{\"value\":\"#1f77b4\"},\"x0\":{\"field\":\"x0\"},\"x1\":{\"field\":\"x1\"},\"y0\":{\"field\":\"y0\"},\"y1\":{\"field\":\"y1\"}},\"id\":\"4299d905-e72f-4058-8fb0-595485d7bdb3\",\"type\":\"Segment\"},{\"attributes\":{},\"id\":\"cc003cca-4be0-41de-b5f3-3c3e6b9989ac\",\"type\":\"WheelZoomTool\"},{\"attributes\":{\"days\":[1,4,7,10,13,16,19,22,25,28]},\"id\":\"013ef3bf-4be6-41c6-8ddd-b9d5b8ca3827\",\"type\":\"DaysTicker\"},{\"attributes\":{\"overlay\":{\"id\":\"809febee-9933-4e4b-83a4-17c018de70a5\",\"type\":\"BoxAnnotation\"}},\"id\":\"69219113-62b9-44ce-bfcc-bf956c87d552\",\"type\":\"BoxZoomTool\"},{\"attributes\":{\"base\":60,\"mantissas\":[1,2,5,10,15,20,30],\"max_interval\":1800000.0,\"min_interval\":1000.0,\"num_minor_ticks\":0},\"id\":\"b15dd6d3-d16a-4064-acf9-f224a0ba5836\",\"type\":\"AdaptiveTicker\"},{\"attributes\":{},\"id\":\"e574e352-a32b-4289-859c-fcd06aab13ed\",\"type\":\"SaveTool\"},{\"attributes\":{\"months\":[0,4,8]},\"id\":\"75e3203b-6b04-49c0-9215-617cc52c9993\",\"type\":\"MonthsTicker\"},{\"attributes\":{},\"id\":\"743e6126-51a4-4087-a248-3ff9c64ca9fc\",\"type\":\"ResetTool\"},{\"attributes\":{\"base\":24,\"mantissas\":[1,2,4,6,8,12],\"max_interval\":43200000.0,\"min_interval\":3600000.0,\"num_minor_ticks\":0},\"id\":\"919ea4f1-73ba-42ee-9eea-f80fc10de225\",\"type\":\"AdaptiveTicker\"},{\"attributes\":{},\"id\":\"fb15c6de-3be7-4fb3-85cf-a15284dd240e\",\"type\":\"HelpTool\"},{\"attributes\":{\"days\":[1,8,15,22]},\"id\":\"c50ad92d-cabf-4518-8773-8c9209fc5b91\",\"type\":\"DaysTicker\"},{\"attributes\":{\"days\":[1,15]},\"id\":\"684d2e6a-dcdb-457b-87a8-913ff715bea2\",\"type\":\"DaysTicker\"},{\"attributes\":{\"data_source\":{\"id\":\"b9a8208c-7a1c-4cd5-ae8c-c845512bdbc7\",\"type\":\"ColumnDataSource\"},\"glyph\":{\"id\":\"aa760125-422b-4645-9127-adb8a64ae9d0\",\"type\":\"Segment\"},\"hover_glyph\":null,\"muted_glyph\":null,\"nonselection_glyph\":{\"id\":\"4299d905-e72f-4058-8fb0-595485d7bdb3\",\"type\":\"Segment\"},\"selection_glyph\":null,\"view\":{\"id\":\"04b58193-2977-462a-9c84-b6b2e7fb1f98\",\"type\":\"CDSView\"}},\"id\":\"a280b523-7bdd-4be4-bdbe-7c2d040ed485\",\"type\":\"GlyphRenderer\"}],\"root_ids\":[\"487f9fa1-2e1f-4cf0-9f6d-d8e961b8132c\"]},\"title\":\"Bokeh Application\",\"version\":\"0.12.16\"}};\n",
       "  var render_items = [{\"docid\":\"ddaad3a5-ddb2-4d1e-86f1-d405cff47a0a\",\"elementid\":\"1df5c6e7-8818-4cf3-be6e-0c07a6bcc989\",\"modelid\":\"487f9fa1-2e1f-4cf0-9f6d-d8e961b8132c\"}];\n",
       "  root.Bokeh.embed.embed_items_notebook(docs_json, render_items);\n",
       "\n",
       "  }\n",
       "  if (root.Bokeh !== undefined) {\n",
       "    embed_document(root);\n",
       "  } else {\n",
       "    var attempts = 0;\n",
       "    var timer = setInterval(function(root) {\n",
       "      if (root.Bokeh !== undefined) {\n",
       "        embed_document(root);\n",
       "        clearInterval(timer);\n",
       "      }\n",
       "      attempts++;\n",
       "      if (attempts > 100) {\n",
       "        console.log(\"Bokeh: ERROR: Unable to run BokehJS code because BokehJS library is missing\")\n",
       "        clearInterval(timer);\n",
       "      }\n",
       "    }, 10, root)\n",
       "  }\n",
       "})(window);"
      ],
      "application/vnd.bokehjs_exec.v0+json": ""
     },
     "metadata": {
      "application/vnd.bokehjs_exec.v0+json": {
       "id": "487f9fa1-2e1f-4cf0-9f6d-d8e961b8132c"
      }
     },
     "output_type": "display_data"
    }
   ],
   "source": [
    "# Output plot in html format\n",
    "#output_file(\"bitcoin_price_candlechart.html\")\n",
    "\n",
    "inc = bitcoin_price['Close'] > bitcoin_price['Open']\n",
    "dec = bitcoin_price['Open'] > bitcoin_price['Close']\n",
    "w = 12*60*60*1000 # half day in ms\n",
    "candle = figure(plot_width=800, plot_height=600, x_axis_type=\"datetime\")\n",
    "# x0, y0, x1, y1\n",
    "candle.segment(bitcoin_price['Date'], bitcoin_price['High'], bitcoin_price['Date'], bitcoin_price['Low'], color=\"blue\")\n",
    "# center, width, top, bottom\n",
    "candle.vbar(bitcoin_price['Date'][inc], w, bitcoin_price['Open'][inc], bitcoin_price['Close'][inc], fill_color=\"#D5E1DD\", line_color=\"black\")\n",
    "candle.vbar(bitcoin_price['Date'][dec], w, bitcoin_price['Open'][dec], bitcoin_price['Close'][dec], fill_color=\"#F2583E\", line_color=\"black\")\n",
    "show(candle)"
   ]
  },
  {
   "cell_type": "markdown",
   "metadata": {},
   "source": [
    "# Data preprocessing"
   ]
  },
  {
   "cell_type": "markdown",
   "metadata": {},
   "source": [
    "Data preprocessing aims at making the raw data at hand more amenable to the algorithms you'll use . This includes scaling, normalization, handling missing values,standardization or enconding."
   ]
  },
  {
   "cell_type": "markdown",
   "metadata": {},
   "source": [
    "### Data scaling"
   ]
  },
  {
   "cell_type": "markdown",
   "metadata": {},
   "source": [
    "* When our data is comprised of attributes with varying scales, many machine learning algorithms can benefit from rescaling the attributes to all have the same scale."
   ]
  },
  {
   "cell_type": "markdown",
   "metadata": {},
   "source": [
    "* It's useful for optimization algorithms in used in the core of machine learning algorithms like gradient descent."
   ]
  },
  {
   "cell_type": "markdown",
   "metadata": {},
   "source": [
    "* It is also useful for algorithms that weight inputs like regression and neural networks and algorithms that use distance measures like K-Nearest Neighbors."
   ]
  },
  {
   "cell_type": "markdown",
   "metadata": {},
   "source": [
    "* There are a bunch of tools available that can help with scaling e.g. MinMaxScale and preprocessing module in Scikit-Learn"
   ]
  },
  {
   "cell_type": "code",
   "execution_count": 20,
   "metadata": {},
   "outputs": [
    {
     "data": {
      "text/html": [
       "<div>\n",
       "<style scoped>\n",
       "    .dataframe tbody tr th:only-of-type {\n",
       "        vertical-align: middle;\n",
       "    }\n",
       "\n",
       "    .dataframe tbody tr th {\n",
       "        vertical-align: top;\n",
       "    }\n",
       "\n",
       "    .dataframe thead th {\n",
       "        text-align: right;\n",
       "    }\n",
       "</style>\n",
       "<table border=\"1\" class=\"dataframe\">\n",
       "  <thead>\n",
       "    <tr style=\"text-align: right;\">\n",
       "      <th></th>\n",
       "      <th>Date</th>\n",
       "      <th>Close</th>\n",
       "      <th>Open</th>\n",
       "      <th>High</th>\n",
       "      <th>Low</th>\n",
       "      <th>btc_estimated_transaction_volume_usd</th>\n",
       "      <th>btc_total_bitcoins</th>\n",
       "      <th>btc_avg_block_size</th>\n",
       "    </tr>\n",
       "  </thead>\n",
       "  <tbody>\n",
       "    <tr>\n",
       "      <th>0</th>\n",
       "      <td>2013-04-28</td>\n",
       "      <td>134.21</td>\n",
       "      <td>135.30</td>\n",
       "      <td>135.98</td>\n",
       "      <td>132.10</td>\n",
       "      <td>22605050.0</td>\n",
       "      <td>11090225.0</td>\n",
       "      <td>0.126539</td>\n",
       "    </tr>\n",
       "    <tr>\n",
       "      <th>1</th>\n",
       "      <td>2013-04-29</td>\n",
       "      <td>144.54</td>\n",
       "      <td>134.44</td>\n",
       "      <td>147.49</td>\n",
       "      <td>134.00</td>\n",
       "      <td>41199388.0</td>\n",
       "      <td>11094750.0</td>\n",
       "      <td>0.140126</td>\n",
       "    </tr>\n",
       "    <tr>\n",
       "      <th>2</th>\n",
       "      <td>2013-04-30</td>\n",
       "      <td>139.00</td>\n",
       "      <td>144.00</td>\n",
       "      <td>146.93</td>\n",
       "      <td>134.05</td>\n",
       "      <td>32294820.0</td>\n",
       "      <td>11098475.0</td>\n",
       "      <td>0.185539</td>\n",
       "    </tr>\n",
       "    <tr>\n",
       "      <th>3</th>\n",
       "      <td>2013-05-01</td>\n",
       "      <td>116.99</td>\n",
       "      <td>139.00</td>\n",
       "      <td>139.89</td>\n",
       "      <td>107.72</td>\n",
       "      <td>32988744.0</td>\n",
       "      <td>11102000.0</td>\n",
       "      <td>0.167730</td>\n",
       "    </tr>\n",
       "    <tr>\n",
       "      <th>4</th>\n",
       "      <td>2013-05-02</td>\n",
       "      <td>105.21</td>\n",
       "      <td>116.38</td>\n",
       "      <td>125.60</td>\n",
       "      <td>92.28</td>\n",
       "      <td>33019004.0</td>\n",
       "      <td>11105600.0</td>\n",
       "      <td>0.189949</td>\n",
       "    </tr>\n",
       "  </tbody>\n",
       "</table>\n",
       "</div>"
      ],
      "text/plain": [
       "        Date   Close    Open    High     Low  \\\n",
       "0 2013-04-28  134.21  135.30  135.98  132.10   \n",
       "1 2013-04-29  144.54  134.44  147.49  134.00   \n",
       "2 2013-04-30  139.00  144.00  146.93  134.05   \n",
       "3 2013-05-01  116.99  139.00  139.89  107.72   \n",
       "4 2013-05-02  105.21  116.38  125.60   92.28   \n",
       "\n",
       "   btc_estimated_transaction_volume_usd  btc_total_bitcoins  \\\n",
       "0                            22605050.0          11090225.0   \n",
       "1                            41199388.0          11094750.0   \n",
       "2                            32294820.0          11098475.0   \n",
       "3                            32988744.0          11102000.0   \n",
       "4                            33019004.0          11105600.0   \n",
       "\n",
       "   btc_avg_block_size  \n",
       "0            0.126539  \n",
       "1            0.140126  \n",
       "2            0.185539  \n",
       "3            0.167730  \n",
       "4            0.189949  "
      ]
     },
     "execution_count": 20,
     "metadata": {},
     "output_type": "execute_result"
    }
   ],
   "source": [
    "import datetime as dt\n",
    "Y = df['Close']\n",
    "\n",
    "X = df.drop('Close', 1)\n",
    "df_close.head()\n",
    "df.head()\n"
   ]
  },
  {
   "cell_type": "code",
   "execution_count": 21,
   "metadata": {},
   "outputs": [
    {
     "ename": "TypeError",
     "evalue": "float() argument must be a string or a number, not 'Timestamp'",
     "output_type": "error",
     "traceback": [
      "\u001b[0;31m---------------------------------------------------------------------------\u001b[0m",
      "\u001b[0;31mTypeError\u001b[0m                                 Traceback (most recent call last)",
      "\u001b[0;32m<ipython-input-21-8a3f557e20e8>\u001b[0m in \u001b[0;36m<module>\u001b[0;34m()\u001b[0m\n\u001b[1;32m      1\u001b[0m \u001b[0;31m# center the data around 0 by scaling\u001b[0m\u001b[0;34m\u001b[0m\u001b[0;34m\u001b[0m\u001b[0m\n\u001b[1;32m      2\u001b[0m \u001b[0;32mfrom\u001b[0m \u001b[0msklearn\u001b[0m \u001b[0;32mimport\u001b[0m \u001b[0mpreprocessing\u001b[0m\u001b[0;34m\u001b[0m\u001b[0m\n\u001b[0;32m----> 3\u001b[0;31m \u001b[0mX\u001b[0m \u001b[0;34m=\u001b[0m \u001b[0mpreprocessing\u001b[0m\u001b[0;34m.\u001b[0m\u001b[0mscale\u001b[0m\u001b[0;34m(\u001b[0m\u001b[0mX\u001b[0m\u001b[0;34m)\u001b[0m\u001b[0;34m\u001b[0m\u001b[0m\n\u001b[0m",
      "\u001b[0;32m~/anaconda3/envs/acLabsEnv/lib/python3.6/site-packages/sklearn/preprocessing/data.py\u001b[0m in \u001b[0;36mscale\u001b[0;34m(X, axis, with_mean, with_std, copy)\u001b[0m\n\u001b[1;32m    131\u001b[0m     X = check_array(X, accept_sparse='csc', copy=copy, ensure_2d=False,\n\u001b[1;32m    132\u001b[0m                     \u001b[0mwarn_on_dtype\u001b[0m\u001b[0;34m=\u001b[0m\u001b[0;32mTrue\u001b[0m\u001b[0;34m,\u001b[0m \u001b[0mestimator\u001b[0m\u001b[0;34m=\u001b[0m\u001b[0;34m'the scale function'\u001b[0m\u001b[0;34m,\u001b[0m\u001b[0;34m\u001b[0m\u001b[0m\n\u001b[0;32m--> 133\u001b[0;31m                     dtype=FLOAT_DTYPES)\n\u001b[0m\u001b[1;32m    134\u001b[0m     \u001b[0;32mif\u001b[0m \u001b[0msparse\u001b[0m\u001b[0;34m.\u001b[0m\u001b[0missparse\u001b[0m\u001b[0;34m(\u001b[0m\u001b[0mX\u001b[0m\u001b[0;34m)\u001b[0m\u001b[0;34m:\u001b[0m\u001b[0;34m\u001b[0m\u001b[0m\n\u001b[1;32m    135\u001b[0m         \u001b[0;32mif\u001b[0m \u001b[0mwith_mean\u001b[0m\u001b[0;34m:\u001b[0m\u001b[0;34m\u001b[0m\u001b[0m\n",
      "\u001b[0;32m~/anaconda3/envs/acLabsEnv/lib/python3.6/site-packages/sklearn/utils/validation.py\u001b[0m in \u001b[0;36mcheck_array\u001b[0;34m(array, accept_sparse, dtype, order, copy, force_all_finite, ensure_2d, allow_nd, ensure_min_samples, ensure_min_features, warn_on_dtype, estimator)\u001b[0m\n\u001b[1;32m    431\u001b[0m                                       force_all_finite)\n\u001b[1;32m    432\u001b[0m     \u001b[0;32melse\u001b[0m\u001b[0;34m:\u001b[0m\u001b[0;34m\u001b[0m\u001b[0m\n\u001b[0;32m--> 433\u001b[0;31m         \u001b[0marray\u001b[0m \u001b[0;34m=\u001b[0m \u001b[0mnp\u001b[0m\u001b[0;34m.\u001b[0m\u001b[0marray\u001b[0m\u001b[0;34m(\u001b[0m\u001b[0marray\u001b[0m\u001b[0;34m,\u001b[0m \u001b[0mdtype\u001b[0m\u001b[0;34m=\u001b[0m\u001b[0mdtype\u001b[0m\u001b[0;34m,\u001b[0m \u001b[0morder\u001b[0m\u001b[0;34m=\u001b[0m\u001b[0morder\u001b[0m\u001b[0;34m,\u001b[0m \u001b[0mcopy\u001b[0m\u001b[0;34m=\u001b[0m\u001b[0mcopy\u001b[0m\u001b[0;34m)\u001b[0m\u001b[0;34m\u001b[0m\u001b[0m\n\u001b[0m\u001b[1;32m    434\u001b[0m \u001b[0;34m\u001b[0m\u001b[0m\n\u001b[1;32m    435\u001b[0m         \u001b[0;32mif\u001b[0m \u001b[0mensure_2d\u001b[0m\u001b[0;34m:\u001b[0m\u001b[0;34m\u001b[0m\u001b[0m\n",
      "\u001b[0;31mTypeError\u001b[0m: float() argument must be a string or a number, not 'Timestamp'"
     ]
    }
   ],
   "source": [
    "# center the data around 0 by scaling\n",
    "from sklearn import preprocessing\n",
    "X = preprocessing.scale(X)"
   ]
  },
  {
   "cell_type": "markdown",
   "metadata": {},
   "source": [
    "One thing we can do to avoid the above error is to extract individual properties from the date column and add them as features for our dataset"
   ]
  },
  {
   "cell_type": "code",
   "execution_count": 22,
   "metadata": {},
   "outputs": [],
   "source": [
    "X['Date'] = pd.to_datetime(X['Date'])\n",
    "X['year'] = X['Date'].apply(lambda x: x.year)\n",
    "X['month'] = X['Date'].apply(lambda x: x.month)\n",
    "X['day'] = X['Date'].apply(lambda x: x.day)"
   ]
  },
  {
   "cell_type": "code",
   "execution_count": 23,
   "metadata": {},
   "outputs": [
    {
     "data": {
      "text/plain": [
       "['Date',\n",
       " 'Close',\n",
       " 'Open',\n",
       " 'High',\n",
       " 'Low',\n",
       " 'btc_estimated_transaction_volume_usd',\n",
       " 'btc_total_bitcoins',\n",
       " 'btc_avg_block_size']"
      ]
     },
     "execution_count": 23,
     "metadata": {},
     "output_type": "execute_result"
    }
   ],
   "source": [
    "list(df.columns.values)"
   ]
  },
  {
   "cell_type": "code",
   "execution_count": 24,
   "metadata": {
    "scrolled": true
   },
   "outputs": [
    {
     "name": "stderr",
     "output_type": "stream",
     "text": [
      "/home/svusers/anaconda3/envs/acLabsEnv/lib/python3.6/site-packages/ipykernel_launcher.py:1: FutureWarning: '.reindex_axis' is deprecated and will be removed in a future version. Use '.reindex' instead.\n",
      "  \"\"\"Entry point for launching an IPython kernel.\n"
     ]
    },
    {
     "data": {
      "text/html": [
       "<div>\n",
       "<style scoped>\n",
       "    .dataframe tbody tr th:only-of-type {\n",
       "        vertical-align: middle;\n",
       "    }\n",
       "\n",
       "    .dataframe tbody tr th {\n",
       "        vertical-align: top;\n",
       "    }\n",
       "\n",
       "    .dataframe thead th {\n",
       "        text-align: right;\n",
       "    }\n",
       "</style>\n",
       "<table border=\"1\" class=\"dataframe\">\n",
       "  <thead>\n",
       "    <tr style=\"text-align: right;\">\n",
       "      <th></th>\n",
       "      <th>day</th>\n",
       "      <th>month</th>\n",
       "      <th>year</th>\n",
       "      <th>Open</th>\n",
       "      <th>btc_estimated_transaction_volume_usd</th>\n",
       "      <th>btc_total_bitcoins</th>\n",
       "      <th>btc_avg_block_size</th>\n",
       "    </tr>\n",
       "  </thead>\n",
       "  <tbody>\n",
       "    <tr>\n",
       "      <th>0</th>\n",
       "      <td>28</td>\n",
       "      <td>4</td>\n",
       "      <td>2013</td>\n",
       "      <td>135.30</td>\n",
       "      <td>22605050.0</td>\n",
       "      <td>11090225.0</td>\n",
       "      <td>0.126539</td>\n",
       "    </tr>\n",
       "    <tr>\n",
       "      <th>1</th>\n",
       "      <td>29</td>\n",
       "      <td>4</td>\n",
       "      <td>2013</td>\n",
       "      <td>134.44</td>\n",
       "      <td>41199388.0</td>\n",
       "      <td>11094750.0</td>\n",
       "      <td>0.140126</td>\n",
       "    </tr>\n",
       "    <tr>\n",
       "      <th>2</th>\n",
       "      <td>30</td>\n",
       "      <td>4</td>\n",
       "      <td>2013</td>\n",
       "      <td>144.00</td>\n",
       "      <td>32294820.0</td>\n",
       "      <td>11098475.0</td>\n",
       "      <td>0.185539</td>\n",
       "    </tr>\n",
       "    <tr>\n",
       "      <th>3</th>\n",
       "      <td>1</td>\n",
       "      <td>5</td>\n",
       "      <td>2013</td>\n",
       "      <td>139.00</td>\n",
       "      <td>32988744.0</td>\n",
       "      <td>11102000.0</td>\n",
       "      <td>0.167730</td>\n",
       "    </tr>\n",
       "    <tr>\n",
       "      <th>4</th>\n",
       "      <td>2</td>\n",
       "      <td>5</td>\n",
       "      <td>2013</td>\n",
       "      <td>116.38</td>\n",
       "      <td>33019004.0</td>\n",
       "      <td>11105600.0</td>\n",
       "      <td>0.189949</td>\n",
       "    </tr>\n",
       "  </tbody>\n",
       "</table>\n",
       "</div>"
      ],
      "text/plain": [
       "   day  month  year    Open  btc_estimated_transaction_volume_usd  \\\n",
       "0   28      4  2013  135.30                            22605050.0   \n",
       "1   29      4  2013  134.44                            41199388.0   \n",
       "2   30      4  2013  144.00                            32294820.0   \n",
       "3    1      5  2013  139.00                            32988744.0   \n",
       "4    2      5  2013  116.38                            33019004.0   \n",
       "\n",
       "   btc_total_bitcoins  btc_avg_block_size  \n",
       "0          11090225.0            0.126539  \n",
       "1          11094750.0            0.140126  \n",
       "2          11098475.0            0.185539  \n",
       "3          11102000.0            0.167730  \n",
       "4          11105600.0            0.189949  "
      ]
     },
     "execution_count": 24,
     "metadata": {},
     "output_type": "execute_result"
    }
   ],
   "source": [
    "X = X.reindex_axis(['day','month','year','Open','btc_estimated_transaction_volume_usd','btc_total_bitcoins','btc_avg_block_size'],axis=1)\n",
    "X.head()\n"
   ]
  },
  {
   "cell_type": "code",
   "execution_count": 25,
   "metadata": {},
   "outputs": [
    {
     "data": {
      "text/plain": [
       "day                                       int64\n",
       "month                                     int64\n",
       "year                                      int64\n",
       "Open                                    float64\n",
       "btc_estimated_transaction_volume_usd    float64\n",
       "btc_total_bitcoins                      float64\n",
       "btc_avg_block_size                      float64\n",
       "dtype: object"
      ]
     },
     "execution_count": 25,
     "metadata": {},
     "output_type": "execute_result"
    }
   ],
   "source": [
    "X.dtypes"
   ]
  },
  {
   "cell_type": "code",
   "execution_count": 26,
   "metadata": {},
   "outputs": [
    {
     "data": {
      "text/plain": [
       "0    134.21\n",
       "1    144.54\n",
       "2    139.00\n",
       "Name: Close, dtype: float64"
      ]
     },
     "execution_count": 26,
     "metadata": {},
     "output_type": "execute_result"
    }
   ],
   "source": [
    "Y.head(3)"
   ]
  },
  {
   "cell_type": "code",
   "execution_count": 27,
   "metadata": {},
   "outputs": [
    {
     "name": "stdout",
     "output_type": "stream",
     "text": [
      "[[ 1.39545151 -0.76625608 -1.56202879 -0.45574506 -0.44951036 -1.95180079\n",
      "  -1.36535377]\n",
      " [ 1.50899202 -0.76625608 -1.56202879 -0.45603663 -0.42397111 -1.94917096\n",
      "  -1.32274657]\n",
      " [ 1.62253252 -0.76625608 -1.56202879 -0.45279553 -0.4362015  -1.94700607\n",
      "  -1.18033672]]\n",
      "------------------------------------------------\n",
      "[-0.45684347 -0.45335175 -0.45522437]\n"
     ]
    }
   ],
   "source": [
    "X = preprocessing.scale(X)\n",
    "Y = preprocessing.scale(Y)\n",
    "print(X[:3])\n",
    "print('------------------------------------------------')\n",
    "print(Y[:3])"
   ]
  },
  {
   "cell_type": "markdown",
   "metadata": {},
   "source": [
    "# Training, validation and test sets"
   ]
  },
  {
   "cell_type": "markdown",
   "metadata": {},
   "source": [
    "In machine learning the goal is to achieve models that *generalize* i.e that perform well on unseen data and the main issue with this is something called overfiting. You can only control that which you can observe, so it's crucial to be able to measure the generalization power of your model."
   ]
  },
  {
   "cell_type": "markdown",
   "metadata": {},
   "source": [
    "So taking the above in account it's pretty obvious that you need to split your dataset in at least 2 parts:\n",
    "* a **training set** which you'll use to train your model and find optimal parameters\n",
    "* a **test set** which you'll use to test your model and see how it generalises \n",
    "* a **validation set** which you'll to improve your model configuration aka tuning the models **hyperparameters**"
   ]
  },
  {
   "cell_type": "markdown",
   "metadata": {},
   "source": [
    "The general rule is to start with a 80%-20% split (%80 training set - 20% test set) and a second split to create the validation set."
   ]
  },
  {
   "cell_type": "markdown",
   "metadata": {},
   "source": [
    "## Things to keep in mind"
   ]
  },
  {
   "cell_type": "markdown",
   "metadata": {},
   "source": [
    "* You want both your training set and test set to be representative of the data at hand. For instance, if you’re trying to classify images of digits, and you’re starting from an array of samples where the samples are ordered by their class, taking the first 80% of the array as your training set and the remaining 20% as your test set will result in your training set containing only classes 0–7, whereas your test set contains only classes 8–9. This seems like a ridiculous mistake, but it’s surprisingly common. For this reason, you usually should randomly shuffle your data before splitting it into training and test sets."
   ]
  },
  {
   "cell_type": "markdown",
   "metadata": {},
   "source": [
    "* If you’re trying to predict the future given the past (for example, tomorrow’s weather, stock movements, and so on), you should not randomly shuffle your data before splitting it, because doing so will create a temporal leak: your model will effectively be trained on data from the future. In such situations, you should always make sure all data in your test set is posterior to the data in the training set."
   ]
  },
  {
   "cell_type": "markdown",
   "metadata": {},
   "source": [
    "* If some data points in your data appear twice (fairly common with real-world data), then shuffling the data and splitting it into a training set and a validation set will result in redundancy between the training and validation sets. In effect, you’ll be testing on part of your training data, which is the worst thing you can do! Make sure your training set and validation set are disjoint."
   ]
  },
  {
   "cell_type": "markdown",
   "metadata": {},
   "source": [
    "So it's time to do training and testing of dataset.We will import train_test_split method of sklearn to divide the dataset in train and test. Note that the test_size has been set to 30 percent whole dataset. One import thing we need to do, as we work with time series, is to set the shuffling to **False** so we won't lose the order as discussed earlier"
   ]
  },
  {
   "cell_type": "code",
   "execution_count": 28,
   "metadata": {},
   "outputs": [],
   "source": [
    "from sklearn import model_selection\n",
    "X_train, X_validation, y_train, y_validation = model_selection.train_test_split(X,Y,test_size=0.3,shuffle=False)\n",
    "X_train,X_test,y_train,y_test = model_selection.train_test_split(X_train,y_train,test_size=0.1,shuffle=False)"
   ]
  },
  {
   "cell_type": "markdown",
   "metadata": {},
   "source": [
    "# Linear regression\n",
    "**Pros**: fast, no tuning required, highly interpretable, well-understood\n",
    "\n",
    "**Cons**: unlikely to produce the best predictive accuracy (presumes a linear relationship between the features and response)\n",
    "\n",
    "### Form of linear regression\n",
    "$y = \\beta_0 + \\beta_1x_1 + \\beta_2x_2 + ... + \\beta_nx_n$\n",
    "\n",
    "* $y$ is the response\n",
    "* $\\beta_0$ is the intercept\n",
    "* $\\beta_1$ is the coefficient for $x_1$ (the first feature)\n",
    "* $\\beta_n$ is the coefficient for $x_n$ (the nth feature)\n",
    "\n",
    "In this case:\n",
    "\n",
    "$y = \\beta_0 + \\beta_1 \\times TV + \\beta_2 \\times Radio + \\beta_3 \\times Newspaper$\n",
    "\n",
    "The $\\beta$ values are called the **model coefficients**. These values are \"learned\" during the model fitting step using the \"least squares\" criterion. Then, the fitted model can be used to make predictions!"
   ]
  },
  {
   "cell_type": "code",
   "execution_count": 29,
   "metadata": {},
   "outputs": [],
   "source": [
    "clf = LinearRegression()\n",
    "\n",
    "clf.fit(X_train,y_train)\n",
    "\n",
    "y_pred = clf.predict(X_validation)"
   ]
  },
  {
   "cell_type": "markdown",
   "metadata": {},
   "source": [
    "Apart from visually analyzing the model, we can also do some analysis by calculating evaluation matrices. There are three type of evaluation matrices which are: Mean Absolute Error, Mean square Error, and Root Mean squared error. (to deeply get the knowledge of these matrices, you can learn the concepts in freely available statistical books). Note that all of these matrices are loss functions and we always want to minimize them.\n",
    "\n",
    "* **Mean Average Error** : it is the easiest to understand because it is just the average error.\n",
    "* **Mean Squared Error** : is more popular than MAE, because it punishes larger errors, which tends to be useful in the real world.\n",
    "* **Root Mean Squared Error** : it is even more popular because it is interpretable in y-units\n",
    "\n"
   ]
  },
  {
   "cell_type": "code",
   "execution_count": 30,
   "metadata": {},
   "outputs": [
    {
     "name": "stdout",
     "output_type": "stream",
     "text": [
      "Mean Squared Error:  0.020276710458602264\n",
      "Mean Absolute Error:  0.06613507907203442\n",
      "Root Mean Squared Error:  0.142396314764822\n"
     ]
    }
   ],
   "source": [
    "print('Mean Squared Error: ', metrics.mean_squared_error(y_validation,y_pred))\n",
    "print('Mean Absolute Error: ', metrics.mean_absolute_error(y_validation,y_pred))\n",
    "print('Root Mean Squared Error: ',np.sqrt(metrics.mean_squared_error(y_validation,y_pred)))"
   ]
  },
  {
   "cell_type": "code",
   "execution_count": 31,
   "metadata": {},
   "outputs": [
    {
     "name": "stdout",
     "output_type": "stream",
     "text": [
      "[-7.56441014e-05 -3.68624104e-03 -1.87992043e-02  9.79696015e-01\n",
      "  1.10050195e-02  1.51482283e-02  9.31774445e-05]\n"
     ]
    }
   ],
   "source": [
    "print(clf.coef_)"
   ]
  },
  {
   "cell_type": "code",
   "execution_count": 32,
   "metadata": {},
   "outputs": [
    {
     "data": {
      "text/plain": [
       "Text(0.5,1,'Testing Result Scaled')"
      ]
     },
     "execution_count": 32,
     "metadata": {},
     "output_type": "execute_result"
    },
    {
     "data": {
      "image/png": "[encoded data removed]",
      "text/plain": [
       "<Figure size 432x288 with 1 Axes>"
      ]
     },
     "metadata": {},
     "output_type": "display_data"
    }
   ],
   "source": [
    "# Comparison of the expected and tested outputs scaled\n",
    "plt.plot(y_pred,color='blue',label='Validation Result')\n",
    "plt.plot(y_validation,color='red',label='Prediction Target')\n",
    "plt.legend('test prediction', ncol=2, loc='upper left');\n",
    "plt.legend(bbox_to_anchor=(1.05, 1), loc=2, borderaxespad=0.)\n",
    "plt.title('Testing Result Scaled')"
   ]
  },
  {
   "cell_type": "code",
   "execution_count": 33,
   "metadata": {},
   "outputs": [],
   "source": [
    "y_predicted = clf.predict(X_test)"
   ]
  },
  {
   "cell_type": "code",
   "execution_count": 34,
   "metadata": {},
   "outputs": [
    {
     "data": {
      "text/plain": [
       "Text(0.5,1,'Testing Result Scaled')"
      ]
     },
     "execution_count": 34,
     "metadata": {},
     "output_type": "execute_result"
    },
    {
     "data": {
      "image/png": "[encoded data removed]",
      "text/plain": [
       "<Figure size 432x288 with 1 Axes>"
      ]
     },
     "metadata": {},
     "output_type": "display_data"
    }
   ],
   "source": [
    "# Comparison of the expected and tested outputs scaled\n",
    "plt.plot(y_predicted,color='blue',label='Testing Result')\n",
    "plt.plot(y_test,color='red',label='Prediction Target')\n",
    "plt.legend('test,prediction', ncol=2, loc='upper left');\n",
    "plt.legend(bbox_to_anchor=(1.05, 1), loc=2, borderaxespad=0.)\n",
    "plt.title('Testing Result Scaled')"
   ]
  },
  {
   "cell_type": "markdown",
   "metadata": {},
   "source": [
    "## Things to do next"
   ]
  },
  {
   "cell_type": "markdown",
   "metadata": {},
   "source": [
    "* Try to improve the results by adding additional features"
   ]
  },
  {
   "cell_type": "markdown",
   "metadata": {},
   "source": [
    "* Try to tune the model by playing with the parameters from [here](http://scikit-learn.org/stable/modules/generated/sklearn.linear_model.LinearRegression.html)"
   ]
  },
  {
   "cell_type": "markdown",
   "metadata": {},
   "source": [
    "* Try and fetch new data with this [API](https://blog.quandl.com/api-for-bitcoin-data) and go through a similar process"
   ]
  }
 ],
 "metadata": {
  "kernelspec": {
   "display_name": "Python 3",
   "language": "python",
   "name": "python3"
  },
  "language_info": {
   "codemirror_mode": {
    "name": "ipython",
    "version": 3
   },
   "file_extension": ".py",
   "mimetype": "text/x-python",
   "name": "python",
   "nbconvert_exporter": "python",
   "pygments_lexer": "ipython3",
   "version": "3.6.5"
  }
 },
 "nbformat": 4,
 "nbformat_minor": 2
}
